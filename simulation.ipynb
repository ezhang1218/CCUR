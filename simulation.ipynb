{
 "cells": [
  {
   "cell_type": "code",
   "execution_count": 3,
   "id": "19119aca-4570-491d-b0fb-6b4c43fb5105",
   "metadata": {},
   "outputs": [],
   "source": [
    "import os\n",
    "import numpy as np\n",
    "import pytorch_lightning as pl\n",
    "import torch.nn as nn\n",
    "import torch\n",
    "from data import LabeledDataset\n",
    "from torch.utils.data import DataLoader\n",
    "from CFS_SG import CFS_SG"
   ]
  },
  {
   "cell_type": "code",
   "execution_count": 4,
   "id": "787e8670-0748-48bf-a7f5-a4344102e769",
   "metadata": {},
   "outputs": [],
   "source": [
    "def deterministic_cur(A, k, top_selected):\n",
    "    U, S, Vt = svd(A, full_matrices=False)\n",
    "    column_scores = compute_leverage_scores(Vt, k)\n",
    "    row_scores = compute_leverage_scores(U.T, k)\n",
    "    \n",
    "    top_col_indices = np.argsort(-column_scores)[:top_selected]\n",
    "    top_row_indices = np.argsort(-row_scores)[:top_selected]\n",
    "\n",
    "    C = A[:, top_col_indices]\n",
    "    R = A[top_row_indices, :]\n",
    "    C_pinv = pinv(C)\n",
    "    R_pinv = pinv(R)\n",
    "    U = C_pinv @ A @ R_pinv\n",
    "    \n",
    "    return C, column_scores[top_col_indices], R, top_col_indices, top_row_indices\n"
   ]
  },
  {
   "cell_type": "code",
   "execution_count": 6,
   "id": "41d2bafb-06ae-47c9-8bf4-59480cb88129",
   "metadata": {},
   "outputs": [],
   "source": [
    "import numpy as np\n",
    "from numpy.linalg import svd, pinv\n",
    "\n",
    "def compute_leverage_scores(V, k):\n",
    "    \"\"\"Compute the normalized statistical leverage scores.\"\"\"\n",
    "    leverage_scores = np.sum(V[:k, :]**2, axis=0)\n",
    "    return leverage_scores\n",
    "\n",
    "def scores(A, k):\n",
    "    U, S, Vt = svd(A, full_matrices=False)\n",
    "    column_scores = compute_leverage_scores(Vt, k)\n",
    "    row_scores = compute_leverage_scores(U.T, k)\n",
    "    \n",
    "    return column_scores, row_scores\n",
    "\n",
    "def relative_importance(X, Y, k, top_selected,delta = 1e-6, epsilon = 1e-6, alpha = 2):\n",
    "    \"\"\"\n",
    "    Select columns from X that are relatively more important compared to Y.\n",
    "    \"\"\"\n",
    "    leverage_scores_X, _ = scores(X, k)\n",
    "    leverage_scores_Y, _ = scores(Y, k)\n",
    "    \n",
    "\n",
    "    ratios =(leverage_scores_X) / (leverage_scores_Y)\n",
    "    \n",
    "    top_k_indices = np.argsort(-ratios)[:top_selected]\n",
    "    \n",
    "    return top_k_indices, ratios[top_k_indices], ratios\n"
   ]
  },
  {
   "cell_type": "code",
   "execution_count": 7,
   "id": "1ef06486-84c0-4615-af76-67ace23a5931",
   "metadata": {},
   "outputs": [],
   "source": [
    "def generate_data(n, p, k):\n",
    "    # Factors\n",
    "    V = np.random.normal(size=(n, k))\n",
    "    V[np.abs(V) < 1.8] = 0\n",
    "\n",
    "    W = np.random.normal(size=(n, k))\n",
    "    # Optional sparsity for W\n",
    "    W[np.abs(W) < 1.8] = 0\n",
    "\n",
    "    alpha = np.random.normal(size=(k, p))\n",
    "    alpha[np.abs(alpha) < 1.8] = 0\n",
    "    beta = np.random.normal(size=(k, p))\n",
    "    beta[np.abs(beta) < 1.8] = 0  # Sparsify beta\n",
    "\n",
    "    # Identify genes where beta is 0 (not disease-specific)\n",
    "    disease_indices0 = np.where(beta[0, :] != 0)[0]\n",
    "    disease_indices1 = np.where(beta[1, :] != 0)[0]\n",
    "    disease_indices2 = np.where(beta[2, :] != 0)[0]\n",
    "    control_indices0 = np.where(beta[0, :] == 0)[0]\n",
    "    control_indices1 = np.where(beta[1, :] == 0)[0]\n",
    "    control_indices2 = np.where(beta[2, :] == 0)[0]\n",
    "\n",
    "    # Shrink alpha factors for non-disease-specific genes\n",
    "    alpha[0, disease_indices0] *= 0.1\n",
    "    alpha[0, control_indices0] *= 10\n",
    "    \n",
    "    #alpha[1, control_indices1] *= 5\n",
    "    alpha[1, disease_indices1] *= 2\n",
    "    \n",
    "    #alpha[2, control_indices2] *= 5\n",
    "    alpha[2, disease_indices2] *= 2\n",
    "    \n",
    "    # Generate data\n",
    "    background = V @ alpha + np.random.normal(size=(n, p)) # Control group\n",
    "    foreground = V @ alpha + W @ beta + np.random.normal(size=(n, p))# Disease group\n",
    "\n",
    "    return background, foreground, beta, alpha, W, V\n",
    "\n",
    "\n"
   ]
  },
  {
   "cell_type": "code",
   "execution_count": 8,
   "id": "5045cd65-963a-4c9e-b2c5-63124947fdb9",
   "metadata": {},
   "outputs": [
    {
     "name": "stderr",
     "output_type": "stream",
     "text": [
      "GPU available: True (cuda), used: True\n",
      "TPU available: False, using: 0 TPU cores\n",
      "HPU available: False, using: 0 HPUs\n",
      "/nas/longleaf/home/eyzhang/.local/lib/python3.10/site-packages/pytorch_lightning/trainer/connectors/logger_connector/logger_connector.py:76: Starting from v1.9.0, `tensorboardX` has been removed as a dependency of the `pytorch_lightning` package, due to potential conflicts with other packages in the ML ecosystem. For this reason, `logger=True` will use `CSVLogger` as the default logger, unless the `tensorboard` or `tensorboardX` packages are found. Please `pip install lightning[extra]` or one of them to enable TensorBoard support by default\n",
      "You are using a CUDA device ('NVIDIA A100-PCIE-40GB MIG 2g.10gb') that has Tensor Cores. To properly utilize them, you should set `torch.set_float32_matmul_precision('medium' | 'high')` which will trade-off precision for performance. For more details, read https://pytorch.org/docs/stable/generated/torch.set_float32_matmul_precision.html#torch.set_float32_matmul_precision\n",
      "LOCAL_RANK: 0 - CUDA_VISIBLE_DEVICES: [MIG-a78a595d-726f-52d3-9ad4-538866ef7a4f]\n",
      "\n",
      "  | Name                   | Type       | Params | Mode \n",
      "--------------------------------------------------------------\n",
      "0 | background_input_layer | Sequential | 130 K  | train\n",
      "1 | fc                     | Sequential | 1.3 M  | train\n",
      "2 | loss_fn                | MSELoss    | 0      | train\n",
      "  | other params           | n/a        | 1.0 K  | n/a  \n",
      "--------------------------------------------------------------\n",
      "1.4 M     Trainable params\n",
      "0         Non-trainable params\n",
      "1.4 M     Total params\n",
      "5.720     Total estimated model params size (MB)\n",
      "11        Modules in train mode\n",
      "0         Modules in eval mode\n",
      "SLURM auto-requeueing enabled. Setting signal handlers.\n",
      "/nas/longleaf/home/eyzhang/.local/lib/python3.10/site-packages/pytorch_lightning/loops/fit_loop.py:310: The number of training batches (8) is smaller than the logging interval Trainer(log_every_n_steps=50). Set a lower value for log_every_n_steps if you want to see logs for the training epoch.\n"
     ]
    },
    {
     "data": {
      "application/vnd.jupyter.widget-view+json": {
       "model_id": "34b4683b98a4468c93dd85b3f1924d88",
       "version_major": 2,
       "version_minor": 0
      },
      "text/plain": [
       "Training: |          | 0/? [00:00<?, ?it/s]"
      ]
     },
     "metadata": {},
     "output_type": "display_data"
    },
    {
     "name": "stderr",
     "output_type": "stream",
     "text": [
      "/nas/longleaf/home/eyzhang/.local/lib/python3.10/site-packages/pytorch_lightning/trainer/connectors/logger_connector/result.py:213: You called `self.log('num_selected_gates', ...)` in your `training_step` but the value needs to be floating to be reduced. Converting it to torch.float32. You can silence this warning by converting the value to floating point yourself. If you don't intend to reduce the value (for instance when logging the global step or epoch) then you can use `self.logger.log_metrics({'num_selected_gates': ...})` instead.\n",
      "`Trainer.fit` stopped: `max_epochs=10` reached.\n",
      "GPU available: True (cuda), used: True\n",
      "TPU available: False, using: 0 TPU cores\n",
      "HPU available: False, using: 0 HPUs\n",
      "LOCAL_RANK: 0 - CUDA_VISIBLE_DEVICES: [MIG-a78a595d-726f-52d3-9ad4-538866ef7a4f]\n",
      "\n",
      "  | Name                   | Type       | Params | Mode \n",
      "--------------------------------------------------------------\n",
      "0 | background_input_layer | Sequential | 130 K  | train\n",
      "1 | fc                     | Sequential | 1.3 M  | train\n",
      "2 | loss_fn                | MSELoss    | 0      | train\n",
      "  | other params           | n/a        | 1.0 K  | n/a  \n",
      "--------------------------------------------------------------\n",
      "1.4 M     Trainable params\n",
      "0         Non-trainable params\n",
      "1.4 M     Total params\n",
      "5.720     Total estimated model params size (MB)\n",
      "11        Modules in train mode\n",
      "0         Modules in eval mode\n",
      "SLURM auto-requeueing enabled. Setting signal handlers.\n"
     ]
    },
    {
     "data": {
      "application/vnd.jupyter.widget-view+json": {
       "model_id": "9a99e7b4399c40ebb877a73fd52188c7",
       "version_major": 2,
       "version_minor": 0
      },
      "text/plain": [
       "Training: |          | 0/? [00:00<?, ?it/s]"
      ]
     },
     "metadata": {},
     "output_type": "display_data"
    },
    {
     "name": "stderr",
     "output_type": "stream",
     "text": [
      "`Trainer.fit` stopped: `max_epochs=10` reached.\n",
      "GPU available: True (cuda), used: True\n",
      "TPU available: False, using: 0 TPU cores\n",
      "HPU available: False, using: 0 HPUs\n",
      "LOCAL_RANK: 0 - CUDA_VISIBLE_DEVICES: [MIG-a78a595d-726f-52d3-9ad4-538866ef7a4f]\n",
      "\n",
      "  | Name                   | Type       | Params | Mode \n",
      "--------------------------------------------------------------\n",
      "0 | background_input_layer | Sequential | 130 K  | train\n",
      "1 | fc                     | Sequential | 1.3 M  | train\n",
      "2 | loss_fn                | MSELoss    | 0      | train\n",
      "  | other params           | n/a        | 1.0 K  | n/a  \n",
      "--------------------------------------------------------------\n",
      "1.4 M     Trainable params\n",
      "0         Non-trainable params\n",
      "1.4 M     Total params\n",
      "5.720     Total estimated model params size (MB)\n",
      "11        Modules in train mode\n",
      "0         Modules in eval mode\n",
      "SLURM auto-requeueing enabled. Setting signal handlers.\n"
     ]
    },
    {
     "data": {
      "application/vnd.jupyter.widget-view+json": {
       "model_id": "dcbc4631d67942b8bdda7f67f96c29fb",
       "version_major": 2,
       "version_minor": 0
      },
      "text/plain": [
       "Training: |          | 0/? [00:00<?, ?it/s]"
      ]
     },
     "metadata": {},
     "output_type": "display_data"
    },
    {
     "name": "stderr",
     "output_type": "stream",
     "text": [
      "`Trainer.fit` stopped: `max_epochs=10` reached.\n",
      "GPU available: True (cuda), used: True\n",
      "TPU available: False, using: 0 TPU cores\n",
      "HPU available: False, using: 0 HPUs\n",
      "LOCAL_RANK: 0 - CUDA_VISIBLE_DEVICES: [MIG-a78a595d-726f-52d3-9ad4-538866ef7a4f]\n",
      "\n",
      "  | Name                   | Type       | Params | Mode \n",
      "--------------------------------------------------------------\n",
      "0 | background_input_layer | Sequential | 130 K  | train\n",
      "1 | fc                     | Sequential | 1.3 M  | train\n",
      "2 | loss_fn                | MSELoss    | 0      | train\n",
      "  | other params           | n/a        | 1.0 K  | n/a  \n",
      "--------------------------------------------------------------\n",
      "1.4 M     Trainable params\n",
      "0         Non-trainable params\n",
      "1.4 M     Total params\n",
      "5.720     Total estimated model params size (MB)\n",
      "11        Modules in train mode\n",
      "0         Modules in eval mode\n",
      "SLURM auto-requeueing enabled. Setting signal handlers.\n"
     ]
    },
    {
     "data": {
      "application/vnd.jupyter.widget-view+json": {
       "model_id": "a28e459c64a7482ca3e4a8719dc6b2b7",
       "version_major": 2,
       "version_minor": 0
      },
      "text/plain": [
       "Training: |          | 0/? [00:00<?, ?it/s]"
      ]
     },
     "metadata": {},
     "output_type": "display_data"
    },
    {
     "name": "stderr",
     "output_type": "stream",
     "text": [
      "`Trainer.fit` stopped: `max_epochs=10` reached.\n",
      "GPU available: True (cuda), used: True\n",
      "TPU available: False, using: 0 TPU cores\n",
      "HPU available: False, using: 0 HPUs\n",
      "LOCAL_RANK: 0 - CUDA_VISIBLE_DEVICES: [MIG-a78a595d-726f-52d3-9ad4-538866ef7a4f]\n",
      "\n",
      "  | Name                   | Type       | Params | Mode \n",
      "--------------------------------------------------------------\n",
      "0 | background_input_layer | Sequential | 130 K  | train\n",
      "1 | fc                     | Sequential | 1.3 M  | train\n",
      "2 | loss_fn                | MSELoss    | 0      | train\n",
      "  | other params           | n/a        | 1.0 K  | n/a  \n",
      "--------------------------------------------------------------\n",
      "1.4 M     Trainable params\n",
      "0         Non-trainable params\n",
      "1.4 M     Total params\n",
      "5.720     Total estimated model params size (MB)\n",
      "11        Modules in train mode\n",
      "0         Modules in eval mode\n",
      "SLURM auto-requeueing enabled. Setting signal handlers.\n"
     ]
    },
    {
     "data": {
      "application/vnd.jupyter.widget-view+json": {
       "model_id": "ead5ba2a68c14439ab6323c211e87f41",
       "version_major": 2,
       "version_minor": 0
      },
      "text/plain": [
       "Training: |          | 0/? [00:00<?, ?it/s]"
      ]
     },
     "metadata": {},
     "output_type": "display_data"
    },
    {
     "name": "stderr",
     "output_type": "stream",
     "text": [
      "`Trainer.fit` stopped: `max_epochs=10` reached.\n",
      "GPU available: True (cuda), used: True\n",
      "TPU available: False, using: 0 TPU cores\n",
      "HPU available: False, using: 0 HPUs\n",
      "LOCAL_RANK: 0 - CUDA_VISIBLE_DEVICES: [MIG-a78a595d-726f-52d3-9ad4-538866ef7a4f]\n",
      "\n",
      "  | Name                   | Type       | Params | Mode \n",
      "--------------------------------------------------------------\n",
      "0 | background_input_layer | Sequential | 130 K  | train\n",
      "1 | fc                     | Sequential | 1.3 M  | train\n",
      "2 | loss_fn                | MSELoss    | 0      | train\n",
      "  | other params           | n/a        | 1.0 K  | n/a  \n",
      "--------------------------------------------------------------\n",
      "1.4 M     Trainable params\n",
      "0         Non-trainable params\n",
      "1.4 M     Total params\n",
      "5.720     Total estimated model params size (MB)\n",
      "11        Modules in train mode\n",
      "0         Modules in eval mode\n",
      "SLURM auto-requeueing enabled. Setting signal handlers.\n"
     ]
    },
    {
     "data": {
      "application/vnd.jupyter.widget-view+json": {
       "model_id": "f19091bd380547dcb63039d20129a654",
       "version_major": 2,
       "version_minor": 0
      },
      "text/plain": [
       "Training: |          | 0/? [00:00<?, ?it/s]"
      ]
     },
     "metadata": {},
     "output_type": "display_data"
    },
    {
     "name": "stderr",
     "output_type": "stream",
     "text": [
      "`Trainer.fit` stopped: `max_epochs=10` reached.\n",
      "GPU available: True (cuda), used: True\n",
      "TPU available: False, using: 0 TPU cores\n",
      "HPU available: False, using: 0 HPUs\n",
      "LOCAL_RANK: 0 - CUDA_VISIBLE_DEVICES: [MIG-a78a595d-726f-52d3-9ad4-538866ef7a4f]\n",
      "\n",
      "  | Name                   | Type       | Params | Mode \n",
      "--------------------------------------------------------------\n",
      "0 | background_input_layer | Sequential | 130 K  | train\n",
      "1 | fc                     | Sequential | 1.3 M  | train\n",
      "2 | loss_fn                | MSELoss    | 0      | train\n",
      "  | other params           | n/a        | 1.0 K  | n/a  \n",
      "--------------------------------------------------------------\n",
      "1.4 M     Trainable params\n",
      "0         Non-trainable params\n",
      "1.4 M     Total params\n",
      "5.720     Total estimated model params size (MB)\n",
      "11        Modules in train mode\n",
      "0         Modules in eval mode\n",
      "SLURM auto-requeueing enabled. Setting signal handlers.\n"
     ]
    },
    {
     "data": {
      "application/vnd.jupyter.widget-view+json": {
       "model_id": "eddde9623e9740edb3b226d1f8aacfcf",
       "version_major": 2,
       "version_minor": 0
      },
      "text/plain": [
       "Training: |          | 0/? [00:00<?, ?it/s]"
      ]
     },
     "metadata": {},
     "output_type": "display_data"
    },
    {
     "name": "stderr",
     "output_type": "stream",
     "text": [
      "`Trainer.fit` stopped: `max_epochs=10` reached.\n",
      "GPU available: True (cuda), used: True\n",
      "TPU available: False, using: 0 TPU cores\n",
      "HPU available: False, using: 0 HPUs\n",
      "LOCAL_RANK: 0 - CUDA_VISIBLE_DEVICES: [MIG-a78a595d-726f-52d3-9ad4-538866ef7a4f]\n",
      "\n",
      "  | Name                   | Type       | Params | Mode \n",
      "--------------------------------------------------------------\n",
      "0 | background_input_layer | Sequential | 130 K  | train\n",
      "1 | fc                     | Sequential | 1.3 M  | train\n",
      "2 | loss_fn                | MSELoss    | 0      | train\n",
      "  | other params           | n/a        | 1.0 K  | n/a  \n",
      "--------------------------------------------------------------\n",
      "1.4 M     Trainable params\n",
      "0         Non-trainable params\n",
      "1.4 M     Total params\n",
      "5.720     Total estimated model params size (MB)\n",
      "11        Modules in train mode\n",
      "0         Modules in eval mode\n",
      "SLURM auto-requeueing enabled. Setting signal handlers.\n"
     ]
    },
    {
     "data": {
      "application/vnd.jupyter.widget-view+json": {
       "model_id": "b20debebab304fa8b5419349a83c9289",
       "version_major": 2,
       "version_minor": 0
      },
      "text/plain": [
       "Training: |          | 0/? [00:00<?, ?it/s]"
      ]
     },
     "metadata": {},
     "output_type": "display_data"
    },
    {
     "name": "stderr",
     "output_type": "stream",
     "text": [
      "`Trainer.fit` stopped: `max_epochs=10` reached.\n",
      "GPU available: True (cuda), used: True\n",
      "TPU available: False, using: 0 TPU cores\n",
      "HPU available: False, using: 0 HPUs\n",
      "LOCAL_RANK: 0 - CUDA_VISIBLE_DEVICES: [MIG-a78a595d-726f-52d3-9ad4-538866ef7a4f]\n",
      "\n",
      "  | Name                   | Type       | Params | Mode \n",
      "--------------------------------------------------------------\n",
      "0 | background_input_layer | Sequential | 130 K  | train\n",
      "1 | fc                     | Sequential | 1.3 M  | train\n",
      "2 | loss_fn                | MSELoss    | 0      | train\n",
      "  | other params           | n/a        | 1.0 K  | n/a  \n",
      "--------------------------------------------------------------\n",
      "1.4 M     Trainable params\n",
      "0         Non-trainable params\n",
      "1.4 M     Total params\n",
      "5.720     Total estimated model params size (MB)\n",
      "11        Modules in train mode\n",
      "0         Modules in eval mode\n",
      "SLURM auto-requeueing enabled. Setting signal handlers.\n"
     ]
    },
    {
     "data": {
      "application/vnd.jupyter.widget-view+json": {
       "model_id": "8cd1359735bd4ff8a0c95aa27afe8556",
       "version_major": 2,
       "version_minor": 0
      },
      "text/plain": [
       "Training: |          | 0/? [00:00<?, ?it/s]"
      ]
     },
     "metadata": {},
     "output_type": "display_data"
    },
    {
     "name": "stderr",
     "output_type": "stream",
     "text": [
      "`Trainer.fit` stopped: `max_epochs=10` reached.\n",
      "GPU available: True (cuda), used: True\n",
      "TPU available: False, using: 0 TPU cores\n",
      "HPU available: False, using: 0 HPUs\n",
      "LOCAL_RANK: 0 - CUDA_VISIBLE_DEVICES: [MIG-a78a595d-726f-52d3-9ad4-538866ef7a4f]\n",
      "\n",
      "  | Name                   | Type       | Params | Mode \n",
      "--------------------------------------------------------------\n",
      "0 | background_input_layer | Sequential | 130 K  | train\n",
      "1 | fc                     | Sequential | 1.3 M  | train\n",
      "2 | loss_fn                | MSELoss    | 0      | train\n",
      "  | other params           | n/a        | 1.0 K  | n/a  \n",
      "--------------------------------------------------------------\n",
      "1.4 M     Trainable params\n",
      "0         Non-trainable params\n",
      "1.4 M     Total params\n",
      "5.720     Total estimated model params size (MB)\n",
      "11        Modules in train mode\n",
      "0         Modules in eval mode\n",
      "SLURM auto-requeueing enabled. Setting signal handlers.\n"
     ]
    },
    {
     "data": {
      "application/vnd.jupyter.widget-view+json": {
       "model_id": "acd6f66959874bcf9751f5471ea26e71",
       "version_major": 2,
       "version_minor": 0
      },
      "text/plain": [
       "Training: |          | 0/? [00:00<?, ?it/s]"
      ]
     },
     "metadata": {},
     "output_type": "display_data"
    },
    {
     "name": "stderr",
     "output_type": "stream",
     "text": [
      "`Trainer.fit` stopped: `max_epochs=10` reached.\n",
      "GPU available: True (cuda), used: True\n",
      "TPU available: False, using: 0 TPU cores\n",
      "HPU available: False, using: 0 HPUs\n",
      "LOCAL_RANK: 0 - CUDA_VISIBLE_DEVICES: [MIG-a78a595d-726f-52d3-9ad4-538866ef7a4f]\n",
      "\n",
      "  | Name                   | Type       | Params | Mode \n",
      "--------------------------------------------------------------\n",
      "0 | background_input_layer | Sequential | 130 K  | train\n",
      "1 | fc                     | Sequential | 1.3 M  | train\n",
      "2 | loss_fn                | MSELoss    | 0      | train\n",
      "  | other params           | n/a        | 1.0 K  | n/a  \n",
      "--------------------------------------------------------------\n",
      "1.4 M     Trainable params\n",
      "0         Non-trainable params\n",
      "1.4 M     Total params\n",
      "5.720     Total estimated model params size (MB)\n",
      "11        Modules in train mode\n",
      "0         Modules in eval mode\n",
      "SLURM auto-requeueing enabled. Setting signal handlers.\n"
     ]
    },
    {
     "data": {
      "application/vnd.jupyter.widget-view+json": {
       "model_id": "e45b62aafe874b09a050c844434e22d3",
       "version_major": 2,
       "version_minor": 0
      },
      "text/plain": [
       "Training: |          | 0/? [00:00<?, ?it/s]"
      ]
     },
     "metadata": {},
     "output_type": "display_data"
    },
    {
     "name": "stderr",
     "output_type": "stream",
     "text": [
      "`Trainer.fit` stopped: `max_epochs=10` reached.\n",
      "GPU available: True (cuda), used: True\n",
      "TPU available: False, using: 0 TPU cores\n",
      "HPU available: False, using: 0 HPUs\n",
      "LOCAL_RANK: 0 - CUDA_VISIBLE_DEVICES: [MIG-a78a595d-726f-52d3-9ad4-538866ef7a4f]\n",
      "\n",
      "  | Name                   | Type       | Params | Mode \n",
      "--------------------------------------------------------------\n",
      "0 | background_input_layer | Sequential | 130 K  | train\n",
      "1 | fc                     | Sequential | 1.3 M  | train\n",
      "2 | loss_fn                | MSELoss    | 0      | train\n",
      "  | other params           | n/a        | 1.0 K  | n/a  \n",
      "--------------------------------------------------------------\n",
      "1.4 M     Trainable params\n",
      "0         Non-trainable params\n",
      "1.4 M     Total params\n",
      "5.720     Total estimated model params size (MB)\n",
      "11        Modules in train mode\n",
      "0         Modules in eval mode\n",
      "SLURM auto-requeueing enabled. Setting signal handlers.\n"
     ]
    },
    {
     "data": {
      "application/vnd.jupyter.widget-view+json": {
       "model_id": "a6e5c21b21474aba987680e619a613cb",
       "version_major": 2,
       "version_minor": 0
      },
      "text/plain": [
       "Training: |          | 0/? [00:00<?, ?it/s]"
      ]
     },
     "metadata": {},
     "output_type": "display_data"
    },
    {
     "name": "stderr",
     "output_type": "stream",
     "text": [
      "`Trainer.fit` stopped: `max_epochs=10` reached.\n",
      "GPU available: True (cuda), used: True\n",
      "TPU available: False, using: 0 TPU cores\n",
      "HPU available: False, using: 0 HPUs\n",
      "LOCAL_RANK: 0 - CUDA_VISIBLE_DEVICES: [MIG-a78a595d-726f-52d3-9ad4-538866ef7a4f]\n",
      "\n",
      "  | Name                   | Type       | Params | Mode \n",
      "--------------------------------------------------------------\n",
      "0 | background_input_layer | Sequential | 130 K  | train\n",
      "1 | fc                     | Sequential | 1.3 M  | train\n",
      "2 | loss_fn                | MSELoss    | 0      | train\n",
      "  | other params           | n/a        | 1.0 K  | n/a  \n",
      "--------------------------------------------------------------\n",
      "1.4 M     Trainable params\n",
      "0         Non-trainable params\n",
      "1.4 M     Total params\n",
      "5.720     Total estimated model params size (MB)\n",
      "11        Modules in train mode\n",
      "0         Modules in eval mode\n",
      "SLURM auto-requeueing enabled. Setting signal handlers.\n"
     ]
    },
    {
     "data": {
      "application/vnd.jupyter.widget-view+json": {
       "model_id": "b6d2f16bf83c42729fdcc3b29c2551c6",
       "version_major": 2,
       "version_minor": 0
      },
      "text/plain": [
       "Training: |          | 0/? [00:00<?, ?it/s]"
      ]
     },
     "metadata": {},
     "output_type": "display_data"
    },
    {
     "name": "stderr",
     "output_type": "stream",
     "text": [
      "`Trainer.fit` stopped: `max_epochs=10` reached.\n",
      "GPU available: True (cuda), used: True\n",
      "TPU available: False, using: 0 TPU cores\n",
      "HPU available: False, using: 0 HPUs\n",
      "LOCAL_RANK: 0 - CUDA_VISIBLE_DEVICES: [MIG-a78a595d-726f-52d3-9ad4-538866ef7a4f]\n",
      "\n",
      "  | Name                   | Type       | Params | Mode \n",
      "--------------------------------------------------------------\n",
      "0 | background_input_layer | Sequential | 130 K  | train\n",
      "1 | fc                     | Sequential | 1.3 M  | train\n",
      "2 | loss_fn                | MSELoss    | 0      | train\n",
      "  | other params           | n/a        | 1.0 K  | n/a  \n",
      "--------------------------------------------------------------\n",
      "1.4 M     Trainable params\n",
      "0         Non-trainable params\n",
      "1.4 M     Total params\n",
      "5.720     Total estimated model params size (MB)\n",
      "11        Modules in train mode\n",
      "0         Modules in eval mode\n",
      "SLURM auto-requeueing enabled. Setting signal handlers.\n"
     ]
    },
    {
     "data": {
      "application/vnd.jupyter.widget-view+json": {
       "model_id": "7d7db0b1552c4fcda531ec43df8e35bb",
       "version_major": 2,
       "version_minor": 0
      },
      "text/plain": [
       "Training: |          | 0/? [00:00<?, ?it/s]"
      ]
     },
     "metadata": {},
     "output_type": "display_data"
    },
    {
     "name": "stderr",
     "output_type": "stream",
     "text": [
      "`Trainer.fit` stopped: `max_epochs=10` reached.\n",
      "GPU available: True (cuda), used: True\n",
      "TPU available: False, using: 0 TPU cores\n",
      "HPU available: False, using: 0 HPUs\n",
      "LOCAL_RANK: 0 - CUDA_VISIBLE_DEVICES: [MIG-a78a595d-726f-52d3-9ad4-538866ef7a4f]\n",
      "\n",
      "  | Name                   | Type       | Params | Mode \n",
      "--------------------------------------------------------------\n",
      "0 | background_input_layer | Sequential | 130 K  | train\n",
      "1 | fc                     | Sequential | 1.3 M  | train\n",
      "2 | loss_fn                | MSELoss    | 0      | train\n",
      "  | other params           | n/a        | 1.0 K  | n/a  \n",
      "--------------------------------------------------------------\n",
      "1.4 M     Trainable params\n",
      "0         Non-trainable params\n",
      "1.4 M     Total params\n",
      "5.720     Total estimated model params size (MB)\n",
      "11        Modules in train mode\n",
      "0         Modules in eval mode\n",
      "SLURM auto-requeueing enabled. Setting signal handlers.\n"
     ]
    },
    {
     "data": {
      "application/vnd.jupyter.widget-view+json": {
       "model_id": "e782f973207f4037be052f3e308389a9",
       "version_major": 2,
       "version_minor": 0
      },
      "text/plain": [
       "Training: |          | 0/? [00:00<?, ?it/s]"
      ]
     },
     "metadata": {},
     "output_type": "display_data"
    },
    {
     "name": "stderr",
     "output_type": "stream",
     "text": [
      "`Trainer.fit` stopped: `max_epochs=10` reached.\n",
      "GPU available: True (cuda), used: True\n",
      "TPU available: False, using: 0 TPU cores\n",
      "HPU available: False, using: 0 HPUs\n",
      "LOCAL_RANK: 0 - CUDA_VISIBLE_DEVICES: [MIG-a78a595d-726f-52d3-9ad4-538866ef7a4f]\n",
      "\n",
      "  | Name                   | Type       | Params | Mode \n",
      "--------------------------------------------------------------\n",
      "0 | background_input_layer | Sequential | 130 K  | train\n",
      "1 | fc                     | Sequential | 1.3 M  | train\n",
      "2 | loss_fn                | MSELoss    | 0      | train\n",
      "  | other params           | n/a        | 1.0 K  | n/a  \n",
      "--------------------------------------------------------------\n",
      "1.4 M     Trainable params\n",
      "0         Non-trainable params\n",
      "1.4 M     Total params\n",
      "5.720     Total estimated model params size (MB)\n",
      "11        Modules in train mode\n",
      "0         Modules in eval mode\n",
      "SLURM auto-requeueing enabled. Setting signal handlers.\n"
     ]
    },
    {
     "data": {
      "application/vnd.jupyter.widget-view+json": {
       "model_id": "881f84dab1584057a9e4462f0c6dc850",
       "version_major": 2,
       "version_minor": 0
      },
      "text/plain": [
       "Training: |          | 0/? [00:00<?, ?it/s]"
      ]
     },
     "metadata": {},
     "output_type": "display_data"
    },
    {
     "name": "stderr",
     "output_type": "stream",
     "text": [
      "`Trainer.fit` stopped: `max_epochs=10` reached.\n",
      "GPU available: True (cuda), used: True\n",
      "TPU available: False, using: 0 TPU cores\n",
      "HPU available: False, using: 0 HPUs\n",
      "LOCAL_RANK: 0 - CUDA_VISIBLE_DEVICES: [MIG-a78a595d-726f-52d3-9ad4-538866ef7a4f]\n",
      "\n",
      "  | Name                   | Type       | Params | Mode \n",
      "--------------------------------------------------------------\n",
      "0 | background_input_layer | Sequential | 130 K  | train\n",
      "1 | fc                     | Sequential | 1.3 M  | train\n",
      "2 | loss_fn                | MSELoss    | 0      | train\n",
      "  | other params           | n/a        | 1.0 K  | n/a  \n",
      "--------------------------------------------------------------\n",
      "1.4 M     Trainable params\n",
      "0         Non-trainable params\n",
      "1.4 M     Total params\n",
      "5.720     Total estimated model params size (MB)\n",
      "11        Modules in train mode\n",
      "0         Modules in eval mode\n",
      "SLURM auto-requeueing enabled. Setting signal handlers.\n"
     ]
    },
    {
     "data": {
      "application/vnd.jupyter.widget-view+json": {
       "model_id": "3c0517ecb87746cd87e659a900687adc",
       "version_major": 2,
       "version_minor": 0
      },
      "text/plain": [
       "Training: |          | 0/? [00:00<?, ?it/s]"
      ]
     },
     "metadata": {},
     "output_type": "display_data"
    },
    {
     "name": "stderr",
     "output_type": "stream",
     "text": [
      "`Trainer.fit` stopped: `max_epochs=10` reached.\n",
      "GPU available: True (cuda), used: True\n",
      "TPU available: False, using: 0 TPU cores\n",
      "HPU available: False, using: 0 HPUs\n",
      "LOCAL_RANK: 0 - CUDA_VISIBLE_DEVICES: [MIG-a78a595d-726f-52d3-9ad4-538866ef7a4f]\n",
      "\n",
      "  | Name                   | Type       | Params | Mode \n",
      "--------------------------------------------------------------\n",
      "0 | background_input_layer | Sequential | 130 K  | train\n",
      "1 | fc                     | Sequential | 1.3 M  | train\n",
      "2 | loss_fn                | MSELoss    | 0      | train\n",
      "  | other params           | n/a        | 1.0 K  | n/a  \n",
      "--------------------------------------------------------------\n",
      "1.4 M     Trainable params\n",
      "0         Non-trainable params\n",
      "1.4 M     Total params\n",
      "5.720     Total estimated model params size (MB)\n",
      "11        Modules in train mode\n",
      "0         Modules in eval mode\n",
      "SLURM auto-requeueing enabled. Setting signal handlers.\n"
     ]
    },
    {
     "data": {
      "application/vnd.jupyter.widget-view+json": {
       "model_id": "cca01cffa4f84800999a3cd72cc3b018",
       "version_major": 2,
       "version_minor": 0
      },
      "text/plain": [
       "Training: |          | 0/? [00:00<?, ?it/s]"
      ]
     },
     "metadata": {},
     "output_type": "display_data"
    },
    {
     "name": "stderr",
     "output_type": "stream",
     "text": [
      "`Trainer.fit` stopped: `max_epochs=10` reached.\n",
      "GPU available: True (cuda), used: True\n",
      "TPU available: False, using: 0 TPU cores\n",
      "HPU available: False, using: 0 HPUs\n",
      "LOCAL_RANK: 0 - CUDA_VISIBLE_DEVICES: [MIG-a78a595d-726f-52d3-9ad4-538866ef7a4f]\n",
      "\n",
      "  | Name                   | Type       | Params | Mode \n",
      "--------------------------------------------------------------\n",
      "0 | background_input_layer | Sequential | 130 K  | train\n",
      "1 | fc                     | Sequential | 1.3 M  | train\n",
      "2 | loss_fn                | MSELoss    | 0      | train\n",
      "  | other params           | n/a        | 1.0 K  | n/a  \n",
      "--------------------------------------------------------------\n",
      "1.4 M     Trainable params\n",
      "0         Non-trainable params\n",
      "1.4 M     Total params\n",
      "5.720     Total estimated model params size (MB)\n",
      "11        Modules in train mode\n",
      "0         Modules in eval mode\n",
      "SLURM auto-requeueing enabled. Setting signal handlers.\n"
     ]
    },
    {
     "data": {
      "application/vnd.jupyter.widget-view+json": {
       "model_id": "90034aa458db4954bd9823b16f44e5a4",
       "version_major": 2,
       "version_minor": 0
      },
      "text/plain": [
       "Training: |          | 0/? [00:00<?, ?it/s]"
      ]
     },
     "metadata": {},
     "output_type": "display_data"
    },
    {
     "name": "stderr",
     "output_type": "stream",
     "text": [
      "`Trainer.fit` stopped: `max_epochs=10` reached.\n",
      "GPU available: True (cuda), used: True\n",
      "TPU available: False, using: 0 TPU cores\n",
      "HPU available: False, using: 0 HPUs\n",
      "LOCAL_RANK: 0 - CUDA_VISIBLE_DEVICES: [MIG-a78a595d-726f-52d3-9ad4-538866ef7a4f]\n",
      "\n",
      "  | Name                   | Type       | Params | Mode \n",
      "--------------------------------------------------------------\n",
      "0 | background_input_layer | Sequential | 130 K  | train\n",
      "1 | fc                     | Sequential | 1.3 M  | train\n",
      "2 | loss_fn                | MSELoss    | 0      | train\n",
      "  | other params           | n/a        | 1.0 K  | n/a  \n",
      "--------------------------------------------------------------\n",
      "1.4 M     Trainable params\n",
      "0         Non-trainable params\n",
      "1.4 M     Total params\n",
      "5.720     Total estimated model params size (MB)\n",
      "11        Modules in train mode\n",
      "0         Modules in eval mode\n",
      "SLURM auto-requeueing enabled. Setting signal handlers.\n"
     ]
    },
    {
     "data": {
      "application/vnd.jupyter.widget-view+json": {
       "model_id": "3803e55718c14908875a8eb468febaf5",
       "version_major": 2,
       "version_minor": 0
      },
      "text/plain": [
       "Training: |          | 0/? [00:00<?, ?it/s]"
      ]
     },
     "metadata": {},
     "output_type": "display_data"
    },
    {
     "name": "stderr",
     "output_type": "stream",
     "text": [
      "`Trainer.fit` stopped: `max_epochs=10` reached.\n",
      "GPU available: True (cuda), used: True\n",
      "TPU available: False, using: 0 TPU cores\n",
      "HPU available: False, using: 0 HPUs\n",
      "LOCAL_RANK: 0 - CUDA_VISIBLE_DEVICES: [MIG-a78a595d-726f-52d3-9ad4-538866ef7a4f]\n",
      "\n",
      "  | Name                   | Type       | Params | Mode \n",
      "--------------------------------------------------------------\n",
      "0 | background_input_layer | Sequential | 130 K  | train\n",
      "1 | fc                     | Sequential | 1.3 M  | train\n",
      "2 | loss_fn                | MSELoss    | 0      | train\n",
      "  | other params           | n/a        | 1.0 K  | n/a  \n",
      "--------------------------------------------------------------\n",
      "1.4 M     Trainable params\n",
      "0         Non-trainable params\n",
      "1.4 M     Total params\n",
      "5.720     Total estimated model params size (MB)\n",
      "11        Modules in train mode\n",
      "0         Modules in eval mode\n",
      "SLURM auto-requeueing enabled. Setting signal handlers.\n"
     ]
    },
    {
     "data": {
      "application/vnd.jupyter.widget-view+json": {
       "model_id": "43663bf594844ef4a7987488ca0c5e28",
       "version_major": 2,
       "version_minor": 0
      },
      "text/plain": [
       "Training: |          | 0/? [00:00<?, ?it/s]"
      ]
     },
     "metadata": {},
     "output_type": "display_data"
    },
    {
     "name": "stderr",
     "output_type": "stream",
     "text": [
      "`Trainer.fit` stopped: `max_epochs=10` reached.\n",
      "GPU available: True (cuda), used: True\n",
      "TPU available: False, using: 0 TPU cores\n",
      "HPU available: False, using: 0 HPUs\n",
      "LOCAL_RANK: 0 - CUDA_VISIBLE_DEVICES: [MIG-a78a595d-726f-52d3-9ad4-538866ef7a4f]\n",
      "\n",
      "  | Name                   | Type       | Params | Mode \n",
      "--------------------------------------------------------------\n",
      "0 | background_input_layer | Sequential | 130 K  | train\n",
      "1 | fc                     | Sequential | 1.3 M  | train\n",
      "2 | loss_fn                | MSELoss    | 0      | train\n",
      "  | other params           | n/a        | 1.0 K  | n/a  \n",
      "--------------------------------------------------------------\n",
      "1.4 M     Trainable params\n",
      "0         Non-trainable params\n",
      "1.4 M     Total params\n",
      "5.720     Total estimated model params size (MB)\n",
      "11        Modules in train mode\n",
      "0         Modules in eval mode\n",
      "SLURM auto-requeueing enabled. Setting signal handlers.\n"
     ]
    },
    {
     "data": {
      "application/vnd.jupyter.widget-view+json": {
       "model_id": "b4cdf9f2cb6c48448926f3ee10f133f4",
       "version_major": 2,
       "version_minor": 0
      },
      "text/plain": [
       "Training: |          | 0/? [00:00<?, ?it/s]"
      ]
     },
     "metadata": {},
     "output_type": "display_data"
    },
    {
     "name": "stderr",
     "output_type": "stream",
     "text": [
      "`Trainer.fit` stopped: `max_epochs=10` reached.\n",
      "GPU available: True (cuda), used: True\n",
      "TPU available: False, using: 0 TPU cores\n",
      "HPU available: False, using: 0 HPUs\n",
      "LOCAL_RANK: 0 - CUDA_VISIBLE_DEVICES: [MIG-a78a595d-726f-52d3-9ad4-538866ef7a4f]\n",
      "\n",
      "  | Name                   | Type       | Params | Mode \n",
      "--------------------------------------------------------------\n",
      "0 | background_input_layer | Sequential | 130 K  | train\n",
      "1 | fc                     | Sequential | 1.3 M  | train\n",
      "2 | loss_fn                | MSELoss    | 0      | train\n",
      "  | other params           | n/a        | 1.0 K  | n/a  \n",
      "--------------------------------------------------------------\n",
      "1.4 M     Trainable params\n",
      "0         Non-trainable params\n",
      "1.4 M     Total params\n",
      "5.720     Total estimated model params size (MB)\n",
      "11        Modules in train mode\n",
      "0         Modules in eval mode\n",
      "SLURM auto-requeueing enabled. Setting signal handlers.\n"
     ]
    },
    {
     "data": {
      "application/vnd.jupyter.widget-view+json": {
       "model_id": "4ec425d20e294a71b2810912cac27280",
       "version_major": 2,
       "version_minor": 0
      },
      "text/plain": [
       "Training: |          | 0/? [00:00<?, ?it/s]"
      ]
     },
     "metadata": {},
     "output_type": "display_data"
    },
    {
     "name": "stderr",
     "output_type": "stream",
     "text": [
      "`Trainer.fit` stopped: `max_epochs=10` reached.\n",
      "GPU available: True (cuda), used: True\n",
      "TPU available: False, using: 0 TPU cores\n",
      "HPU available: False, using: 0 HPUs\n",
      "LOCAL_RANK: 0 - CUDA_VISIBLE_DEVICES: [MIG-a78a595d-726f-52d3-9ad4-538866ef7a4f]\n",
      "\n",
      "  | Name                   | Type       | Params | Mode \n",
      "--------------------------------------------------------------\n",
      "0 | background_input_layer | Sequential | 130 K  | train\n",
      "1 | fc                     | Sequential | 1.3 M  | train\n",
      "2 | loss_fn                | MSELoss    | 0      | train\n",
      "  | other params           | n/a        | 1.0 K  | n/a  \n",
      "--------------------------------------------------------------\n",
      "1.4 M     Trainable params\n",
      "0         Non-trainable params\n",
      "1.4 M     Total params\n",
      "5.720     Total estimated model params size (MB)\n",
      "11        Modules in train mode\n",
      "0         Modules in eval mode\n",
      "SLURM auto-requeueing enabled. Setting signal handlers.\n"
     ]
    },
    {
     "data": {
      "application/vnd.jupyter.widget-view+json": {
       "model_id": "197cec707f424b2599c62e4a74ecaee8",
       "version_major": 2,
       "version_minor": 0
      },
      "text/plain": [
       "Training: |          | 0/? [00:00<?, ?it/s]"
      ]
     },
     "metadata": {},
     "output_type": "display_data"
    },
    {
     "name": "stderr",
     "output_type": "stream",
     "text": [
      "`Trainer.fit` stopped: `max_epochs=10` reached.\n",
      "GPU available: True (cuda), used: True\n",
      "TPU available: False, using: 0 TPU cores\n",
      "HPU available: False, using: 0 HPUs\n",
      "LOCAL_RANK: 0 - CUDA_VISIBLE_DEVICES: [MIG-a78a595d-726f-52d3-9ad4-538866ef7a4f]\n",
      "\n",
      "  | Name                   | Type       | Params | Mode \n",
      "--------------------------------------------------------------\n",
      "0 | background_input_layer | Sequential | 130 K  | train\n",
      "1 | fc                     | Sequential | 1.3 M  | train\n",
      "2 | loss_fn                | MSELoss    | 0      | train\n",
      "  | other params           | n/a        | 1.0 K  | n/a  \n",
      "--------------------------------------------------------------\n",
      "1.4 M     Trainable params\n",
      "0         Non-trainable params\n",
      "1.4 M     Total params\n",
      "5.720     Total estimated model params size (MB)\n",
      "11        Modules in train mode\n",
      "0         Modules in eval mode\n",
      "SLURM auto-requeueing enabled. Setting signal handlers.\n"
     ]
    },
    {
     "data": {
      "application/vnd.jupyter.widget-view+json": {
       "model_id": "6e1ca099d5b64059b36ca3e75646eca3",
       "version_major": 2,
       "version_minor": 0
      },
      "text/plain": [
       "Training: |          | 0/? [00:00<?, ?it/s]"
      ]
     },
     "metadata": {},
     "output_type": "display_data"
    },
    {
     "name": "stderr",
     "output_type": "stream",
     "text": [
      "`Trainer.fit` stopped: `max_epochs=10` reached.\n",
      "GPU available: True (cuda), used: True\n",
      "TPU available: False, using: 0 TPU cores\n",
      "HPU available: False, using: 0 HPUs\n",
      "LOCAL_RANK: 0 - CUDA_VISIBLE_DEVICES: [MIG-a78a595d-726f-52d3-9ad4-538866ef7a4f]\n",
      "\n",
      "  | Name                   | Type       | Params | Mode \n",
      "--------------------------------------------------------------\n",
      "0 | background_input_layer | Sequential | 130 K  | train\n",
      "1 | fc                     | Sequential | 1.3 M  | train\n",
      "2 | loss_fn                | MSELoss    | 0      | train\n",
      "  | other params           | n/a        | 1.0 K  | n/a  \n",
      "--------------------------------------------------------------\n",
      "1.4 M     Trainable params\n",
      "0         Non-trainable params\n",
      "1.4 M     Total params\n",
      "5.720     Total estimated model params size (MB)\n",
      "11        Modules in train mode\n",
      "0         Modules in eval mode\n",
      "SLURM auto-requeueing enabled. Setting signal handlers.\n"
     ]
    },
    {
     "data": {
      "application/vnd.jupyter.widget-view+json": {
       "model_id": "f377e9fabf194d14ba097934eda89a4e",
       "version_major": 2,
       "version_minor": 0
      },
      "text/plain": [
       "Training: |          | 0/? [00:00<?, ?it/s]"
      ]
     },
     "metadata": {},
     "output_type": "display_data"
    },
    {
     "name": "stderr",
     "output_type": "stream",
     "text": [
      "`Trainer.fit` stopped: `max_epochs=10` reached.\n",
      "GPU available: True (cuda), used: True\n",
      "TPU available: False, using: 0 TPU cores\n",
      "HPU available: False, using: 0 HPUs\n",
      "LOCAL_RANK: 0 - CUDA_VISIBLE_DEVICES: [MIG-a78a595d-726f-52d3-9ad4-538866ef7a4f]\n",
      "\n",
      "  | Name                   | Type       | Params | Mode \n",
      "--------------------------------------------------------------\n",
      "0 | background_input_layer | Sequential | 130 K  | train\n",
      "1 | fc                     | Sequential | 1.3 M  | train\n",
      "2 | loss_fn                | MSELoss    | 0      | train\n",
      "  | other params           | n/a        | 1.0 K  | n/a  \n",
      "--------------------------------------------------------------\n",
      "1.4 M     Trainable params\n",
      "0         Non-trainable params\n",
      "1.4 M     Total params\n",
      "5.720     Total estimated model params size (MB)\n",
      "11        Modules in train mode\n",
      "0         Modules in eval mode\n",
      "SLURM auto-requeueing enabled. Setting signal handlers.\n"
     ]
    },
    {
     "data": {
      "application/vnd.jupyter.widget-view+json": {
       "model_id": "ec3a3def51c849babb8cd88ffb7cf991",
       "version_major": 2,
       "version_minor": 0
      },
      "text/plain": [
       "Training: |          | 0/? [00:00<?, ?it/s]"
      ]
     },
     "metadata": {},
     "output_type": "display_data"
    },
    {
     "name": "stderr",
     "output_type": "stream",
     "text": [
      "`Trainer.fit` stopped: `max_epochs=10` reached.\n",
      "GPU available: True (cuda), used: True\n",
      "TPU available: False, using: 0 TPU cores\n",
      "HPU available: False, using: 0 HPUs\n",
      "LOCAL_RANK: 0 - CUDA_VISIBLE_DEVICES: [MIG-a78a595d-726f-52d3-9ad4-538866ef7a4f]\n",
      "\n",
      "  | Name                   | Type       | Params | Mode \n",
      "--------------------------------------------------------------\n",
      "0 | background_input_layer | Sequential | 130 K  | train\n",
      "1 | fc                     | Sequential | 1.3 M  | train\n",
      "2 | loss_fn                | MSELoss    | 0      | train\n",
      "  | other params           | n/a        | 1.0 K  | n/a  \n",
      "--------------------------------------------------------------\n",
      "1.4 M     Trainable params\n",
      "0         Non-trainable params\n",
      "1.4 M     Total params\n",
      "5.720     Total estimated model params size (MB)\n",
      "11        Modules in train mode\n",
      "0         Modules in eval mode\n",
      "SLURM auto-requeueing enabled. Setting signal handlers.\n"
     ]
    },
    {
     "data": {
      "application/vnd.jupyter.widget-view+json": {
       "model_id": "12a4b8a51fae4b87a6d6fa224a591e07",
       "version_major": 2,
       "version_minor": 0
      },
      "text/plain": [
       "Training: |          | 0/? [00:00<?, ?it/s]"
      ]
     },
     "metadata": {},
     "output_type": "display_data"
    },
    {
     "name": "stderr",
     "output_type": "stream",
     "text": [
      "`Trainer.fit` stopped: `max_epochs=10` reached.\n",
      "GPU available: True (cuda), used: True\n",
      "TPU available: False, using: 0 TPU cores\n",
      "HPU available: False, using: 0 HPUs\n",
      "LOCAL_RANK: 0 - CUDA_VISIBLE_DEVICES: [MIG-a78a595d-726f-52d3-9ad4-538866ef7a4f]\n",
      "\n",
      "  | Name                   | Type       | Params | Mode \n",
      "--------------------------------------------------------------\n",
      "0 | background_input_layer | Sequential | 130 K  | train\n",
      "1 | fc                     | Sequential | 1.3 M  | train\n",
      "2 | loss_fn                | MSELoss    | 0      | train\n",
      "  | other params           | n/a        | 1.0 K  | n/a  \n",
      "--------------------------------------------------------------\n",
      "1.4 M     Trainable params\n",
      "0         Non-trainable params\n",
      "1.4 M     Total params\n",
      "5.720     Total estimated model params size (MB)\n",
      "11        Modules in train mode\n",
      "0         Modules in eval mode\n",
      "SLURM auto-requeueing enabled. Setting signal handlers.\n"
     ]
    },
    {
     "data": {
      "application/vnd.jupyter.widget-view+json": {
       "model_id": "8a4fd02294b743f5b9f2b86621a07c76",
       "version_major": 2,
       "version_minor": 0
      },
      "text/plain": [
       "Training: |          | 0/? [00:00<?, ?it/s]"
      ]
     },
     "metadata": {},
     "output_type": "display_data"
    },
    {
     "name": "stderr",
     "output_type": "stream",
     "text": [
      "`Trainer.fit` stopped: `max_epochs=10` reached.\n",
      "GPU available: True (cuda), used: True\n",
      "TPU available: False, using: 0 TPU cores\n",
      "HPU available: False, using: 0 HPUs\n",
      "LOCAL_RANK: 0 - CUDA_VISIBLE_DEVICES: [MIG-a78a595d-726f-52d3-9ad4-538866ef7a4f]\n",
      "\n",
      "  | Name                   | Type       | Params | Mode \n",
      "--------------------------------------------------------------\n",
      "0 | background_input_layer | Sequential | 130 K  | train\n",
      "1 | fc                     | Sequential | 1.3 M  | train\n",
      "2 | loss_fn                | MSELoss    | 0      | train\n",
      "  | other params           | n/a        | 1.0 K  | n/a  \n",
      "--------------------------------------------------------------\n",
      "1.4 M     Trainable params\n",
      "0         Non-trainable params\n",
      "1.4 M     Total params\n",
      "5.720     Total estimated model params size (MB)\n",
      "11        Modules in train mode\n",
      "0         Modules in eval mode\n",
      "SLURM auto-requeueing enabled. Setting signal handlers.\n"
     ]
    },
    {
     "data": {
      "application/vnd.jupyter.widget-view+json": {
       "model_id": "978b163af1dc46b58770f5151cd9ce2a",
       "version_major": 2,
       "version_minor": 0
      },
      "text/plain": [
       "Training: |          | 0/? [00:00<?, ?it/s]"
      ]
     },
     "metadata": {},
     "output_type": "display_data"
    },
    {
     "name": "stderr",
     "output_type": "stream",
     "text": [
      "`Trainer.fit` stopped: `max_epochs=10` reached.\n",
      "GPU available: True (cuda), used: True\n",
      "TPU available: False, using: 0 TPU cores\n",
      "HPU available: False, using: 0 HPUs\n",
      "LOCAL_RANK: 0 - CUDA_VISIBLE_DEVICES: [MIG-a78a595d-726f-52d3-9ad4-538866ef7a4f]\n",
      "\n",
      "  | Name                   | Type       | Params | Mode \n",
      "--------------------------------------------------------------\n",
      "0 | background_input_layer | Sequential | 130 K  | train\n",
      "1 | fc                     | Sequential | 1.3 M  | train\n",
      "2 | loss_fn                | MSELoss    | 0      | train\n",
      "  | other params           | n/a        | 1.0 K  | n/a  \n",
      "--------------------------------------------------------------\n",
      "1.4 M     Trainable params\n",
      "0         Non-trainable params\n",
      "1.4 M     Total params\n",
      "5.720     Total estimated model params size (MB)\n",
      "11        Modules in train mode\n",
      "0         Modules in eval mode\n",
      "SLURM auto-requeueing enabled. Setting signal handlers.\n"
     ]
    },
    {
     "data": {
      "application/vnd.jupyter.widget-view+json": {
       "model_id": "a1c1207bbe0b4c1eae6ec3ec39f6d035",
       "version_major": 2,
       "version_minor": 0
      },
      "text/plain": [
       "Training: |          | 0/? [00:00<?, ?it/s]"
      ]
     },
     "metadata": {},
     "output_type": "display_data"
    },
    {
     "name": "stderr",
     "output_type": "stream",
     "text": [
      "`Trainer.fit` stopped: `max_epochs=10` reached.\n",
      "GPU available: True (cuda), used: True\n",
      "TPU available: False, using: 0 TPU cores\n",
      "HPU available: False, using: 0 HPUs\n",
      "LOCAL_RANK: 0 - CUDA_VISIBLE_DEVICES: [MIG-a78a595d-726f-52d3-9ad4-538866ef7a4f]\n",
      "\n",
      "  | Name                   | Type       | Params | Mode \n",
      "--------------------------------------------------------------\n",
      "0 | background_input_layer | Sequential | 130 K  | train\n",
      "1 | fc                     | Sequential | 1.3 M  | train\n",
      "2 | loss_fn                | MSELoss    | 0      | train\n",
      "  | other params           | n/a        | 1.0 K  | n/a  \n",
      "--------------------------------------------------------------\n",
      "1.4 M     Trainable params\n",
      "0         Non-trainable params\n",
      "1.4 M     Total params\n",
      "5.720     Total estimated model params size (MB)\n",
      "11        Modules in train mode\n",
      "0         Modules in eval mode\n",
      "SLURM auto-requeueing enabled. Setting signal handlers.\n"
     ]
    },
    {
     "data": {
      "application/vnd.jupyter.widget-view+json": {
       "model_id": "25f7248eb1fa419db45d27cc3c9c8fe8",
       "version_major": 2,
       "version_minor": 0
      },
      "text/plain": [
       "Training: |          | 0/? [00:00<?, ?it/s]"
      ]
     },
     "metadata": {},
     "output_type": "display_data"
    },
    {
     "name": "stderr",
     "output_type": "stream",
     "text": [
      "`Trainer.fit` stopped: `max_epochs=10` reached.\n",
      "GPU available: True (cuda), used: True\n",
      "TPU available: False, using: 0 TPU cores\n",
      "HPU available: False, using: 0 HPUs\n",
      "LOCAL_RANK: 0 - CUDA_VISIBLE_DEVICES: [MIG-a78a595d-726f-52d3-9ad4-538866ef7a4f]\n",
      "\n",
      "  | Name                   | Type       | Params | Mode \n",
      "--------------------------------------------------------------\n",
      "0 | background_input_layer | Sequential | 130 K  | train\n",
      "1 | fc                     | Sequential | 1.3 M  | train\n",
      "2 | loss_fn                | MSELoss    | 0      | train\n",
      "  | other params           | n/a        | 1.0 K  | n/a  \n",
      "--------------------------------------------------------------\n",
      "1.4 M     Trainable params\n",
      "0         Non-trainable params\n",
      "1.4 M     Total params\n",
      "5.720     Total estimated model params size (MB)\n",
      "11        Modules in train mode\n",
      "0         Modules in eval mode\n",
      "SLURM auto-requeueing enabled. Setting signal handlers.\n"
     ]
    },
    {
     "data": {
      "application/vnd.jupyter.widget-view+json": {
       "model_id": "b0d2e04c4e364ad1bb2c197ce951806c",
       "version_major": 2,
       "version_minor": 0
      },
      "text/plain": [
       "Training: |          | 0/? [00:00<?, ?it/s]"
      ]
     },
     "metadata": {},
     "output_type": "display_data"
    },
    {
     "name": "stderr",
     "output_type": "stream",
     "text": [
      "`Trainer.fit` stopped: `max_epochs=10` reached.\n",
      "GPU available: True (cuda), used: True\n",
      "TPU available: False, using: 0 TPU cores\n",
      "HPU available: False, using: 0 HPUs\n",
      "LOCAL_RANK: 0 - CUDA_VISIBLE_DEVICES: [MIG-a78a595d-726f-52d3-9ad4-538866ef7a4f]\n",
      "\n",
      "  | Name                   | Type       | Params | Mode \n",
      "--------------------------------------------------------------\n",
      "0 | background_input_layer | Sequential | 130 K  | train\n",
      "1 | fc                     | Sequential | 1.3 M  | train\n",
      "2 | loss_fn                | MSELoss    | 0      | train\n",
      "  | other params           | n/a        | 1.0 K  | n/a  \n",
      "--------------------------------------------------------------\n",
      "1.4 M     Trainable params\n",
      "0         Non-trainable params\n",
      "1.4 M     Total params\n",
      "5.720     Total estimated model params size (MB)\n",
      "11        Modules in train mode\n",
      "0         Modules in eval mode\n",
      "SLURM auto-requeueing enabled. Setting signal handlers.\n"
     ]
    },
    {
     "data": {
      "application/vnd.jupyter.widget-view+json": {
       "model_id": "4d7729c22aac4a1487ac83770ee4a350",
       "version_major": 2,
       "version_minor": 0
      },
      "text/plain": [
       "Training: |          | 0/? [00:00<?, ?it/s]"
      ]
     },
     "metadata": {},
     "output_type": "display_data"
    },
    {
     "name": "stderr",
     "output_type": "stream",
     "text": [
      "`Trainer.fit` stopped: `max_epochs=10` reached.\n",
      "GPU available: True (cuda), used: True\n",
      "TPU available: False, using: 0 TPU cores\n",
      "HPU available: False, using: 0 HPUs\n",
      "LOCAL_RANK: 0 - CUDA_VISIBLE_DEVICES: [MIG-a78a595d-726f-52d3-9ad4-538866ef7a4f]\n",
      "\n",
      "  | Name                   | Type       | Params | Mode \n",
      "--------------------------------------------------------------\n",
      "0 | background_input_layer | Sequential | 130 K  | train\n",
      "1 | fc                     | Sequential | 1.3 M  | train\n",
      "2 | loss_fn                | MSELoss    | 0      | train\n",
      "  | other params           | n/a        | 1.0 K  | n/a  \n",
      "--------------------------------------------------------------\n",
      "1.4 M     Trainable params\n",
      "0         Non-trainable params\n",
      "1.4 M     Total params\n",
      "5.720     Total estimated model params size (MB)\n",
      "11        Modules in train mode\n",
      "0         Modules in eval mode\n",
      "SLURM auto-requeueing enabled. Setting signal handlers.\n"
     ]
    },
    {
     "data": {
      "application/vnd.jupyter.widget-view+json": {
       "model_id": "28c06672d97045f7b4f2ba19864a81fa",
       "version_major": 2,
       "version_minor": 0
      },
      "text/plain": [
       "Training: |          | 0/? [00:00<?, ?it/s]"
      ]
     },
     "metadata": {},
     "output_type": "display_data"
    },
    {
     "name": "stderr",
     "output_type": "stream",
     "text": [
      "`Trainer.fit` stopped: `max_epochs=10` reached.\n",
      "GPU available: True (cuda), used: True\n",
      "TPU available: False, using: 0 TPU cores\n",
      "HPU available: False, using: 0 HPUs\n",
      "LOCAL_RANK: 0 - CUDA_VISIBLE_DEVICES: [MIG-a78a595d-726f-52d3-9ad4-538866ef7a4f]\n",
      "\n",
      "  | Name                   | Type       | Params | Mode \n",
      "--------------------------------------------------------------\n",
      "0 | background_input_layer | Sequential | 130 K  | train\n",
      "1 | fc                     | Sequential | 1.3 M  | train\n",
      "2 | loss_fn                | MSELoss    | 0      | train\n",
      "  | other params           | n/a        | 1.0 K  | n/a  \n",
      "--------------------------------------------------------------\n",
      "1.4 M     Trainable params\n",
      "0         Non-trainable params\n",
      "1.4 M     Total params\n",
      "5.720     Total estimated model params size (MB)\n",
      "11        Modules in train mode\n",
      "0         Modules in eval mode\n",
      "SLURM auto-requeueing enabled. Setting signal handlers.\n"
     ]
    },
    {
     "data": {
      "application/vnd.jupyter.widget-view+json": {
       "model_id": "ec723f04b1da417caa1e91b6f060dfc4",
       "version_major": 2,
       "version_minor": 0
      },
      "text/plain": [
       "Training: |          | 0/? [00:00<?, ?it/s]"
      ]
     },
     "metadata": {},
     "output_type": "display_data"
    },
    {
     "name": "stderr",
     "output_type": "stream",
     "text": [
      "`Trainer.fit` stopped: `max_epochs=10` reached.\n",
      "GPU available: True (cuda), used: True\n",
      "TPU available: False, using: 0 TPU cores\n",
      "HPU available: False, using: 0 HPUs\n",
      "LOCAL_RANK: 0 - CUDA_VISIBLE_DEVICES: [MIG-a78a595d-726f-52d3-9ad4-538866ef7a4f]\n",
      "\n",
      "  | Name                   | Type       | Params | Mode \n",
      "--------------------------------------------------------------\n",
      "0 | background_input_layer | Sequential | 130 K  | train\n",
      "1 | fc                     | Sequential | 1.3 M  | train\n",
      "2 | loss_fn                | MSELoss    | 0      | train\n",
      "  | other params           | n/a        | 1.0 K  | n/a  \n",
      "--------------------------------------------------------------\n",
      "1.4 M     Trainable params\n",
      "0         Non-trainable params\n",
      "1.4 M     Total params\n",
      "5.720     Total estimated model params size (MB)\n",
      "11        Modules in train mode\n",
      "0         Modules in eval mode\n",
      "SLURM auto-requeueing enabled. Setting signal handlers.\n"
     ]
    },
    {
     "data": {
      "application/vnd.jupyter.widget-view+json": {
       "model_id": "0c085874ac1740e6a3a761d71e4a40e8",
       "version_major": 2,
       "version_minor": 0
      },
      "text/plain": [
       "Training: |          | 0/? [00:00<?, ?it/s]"
      ]
     },
     "metadata": {},
     "output_type": "display_data"
    },
    {
     "name": "stderr",
     "output_type": "stream",
     "text": [
      "`Trainer.fit` stopped: `max_epochs=10` reached.\n",
      "GPU available: True (cuda), used: True\n",
      "TPU available: False, using: 0 TPU cores\n",
      "HPU available: False, using: 0 HPUs\n",
      "LOCAL_RANK: 0 - CUDA_VISIBLE_DEVICES: [MIG-a78a595d-726f-52d3-9ad4-538866ef7a4f]\n",
      "\n",
      "  | Name                   | Type       | Params | Mode \n",
      "--------------------------------------------------------------\n",
      "0 | background_input_layer | Sequential | 130 K  | train\n",
      "1 | fc                     | Sequential | 1.3 M  | train\n",
      "2 | loss_fn                | MSELoss    | 0      | train\n",
      "  | other params           | n/a        | 1.0 K  | n/a  \n",
      "--------------------------------------------------------------\n",
      "1.4 M     Trainable params\n",
      "0         Non-trainable params\n",
      "1.4 M     Total params\n",
      "5.720     Total estimated model params size (MB)\n",
      "11        Modules in train mode\n",
      "0         Modules in eval mode\n",
      "SLURM auto-requeueing enabled. Setting signal handlers.\n"
     ]
    },
    {
     "data": {
      "application/vnd.jupyter.widget-view+json": {
       "model_id": "7da1eeceb6ec43c9a2cb13c7aa3b8fa2",
       "version_major": 2,
       "version_minor": 0
      },
      "text/plain": [
       "Training: |          | 0/? [00:00<?, ?it/s]"
      ]
     },
     "metadata": {},
     "output_type": "display_data"
    },
    {
     "name": "stderr",
     "output_type": "stream",
     "text": [
      "`Trainer.fit` stopped: `max_epochs=10` reached.\n",
      "GPU available: True (cuda), used: True\n",
      "TPU available: False, using: 0 TPU cores\n",
      "HPU available: False, using: 0 HPUs\n",
      "LOCAL_RANK: 0 - CUDA_VISIBLE_DEVICES: [MIG-a78a595d-726f-52d3-9ad4-538866ef7a4f]\n",
      "\n",
      "  | Name                   | Type       | Params | Mode \n",
      "--------------------------------------------------------------\n",
      "0 | background_input_layer | Sequential | 130 K  | train\n",
      "1 | fc                     | Sequential | 1.3 M  | train\n",
      "2 | loss_fn                | MSELoss    | 0      | train\n",
      "  | other params           | n/a        | 1.0 K  | n/a  \n",
      "--------------------------------------------------------------\n",
      "1.4 M     Trainable params\n",
      "0         Non-trainable params\n",
      "1.4 M     Total params\n",
      "5.720     Total estimated model params size (MB)\n",
      "11        Modules in train mode\n",
      "0         Modules in eval mode\n",
      "SLURM auto-requeueing enabled. Setting signal handlers.\n"
     ]
    },
    {
     "data": {
      "application/vnd.jupyter.widget-view+json": {
       "model_id": "11441336958a490ca124ec68cac34842",
       "version_major": 2,
       "version_minor": 0
      },
      "text/plain": [
       "Training: |          | 0/? [00:00<?, ?it/s]"
      ]
     },
     "metadata": {},
     "output_type": "display_data"
    },
    {
     "name": "stderr",
     "output_type": "stream",
     "text": [
      "`Trainer.fit` stopped: `max_epochs=10` reached.\n",
      "GPU available: True (cuda), used: True\n",
      "TPU available: False, using: 0 TPU cores\n",
      "HPU available: False, using: 0 HPUs\n",
      "LOCAL_RANK: 0 - CUDA_VISIBLE_DEVICES: [MIG-a78a595d-726f-52d3-9ad4-538866ef7a4f]\n",
      "\n",
      "  | Name                   | Type       | Params | Mode \n",
      "--------------------------------------------------------------\n",
      "0 | background_input_layer | Sequential | 130 K  | train\n",
      "1 | fc                     | Sequential | 1.3 M  | train\n",
      "2 | loss_fn                | MSELoss    | 0      | train\n",
      "  | other params           | n/a        | 1.0 K  | n/a  \n",
      "--------------------------------------------------------------\n",
      "1.4 M     Trainable params\n",
      "0         Non-trainable params\n",
      "1.4 M     Total params\n",
      "5.720     Total estimated model params size (MB)\n",
      "11        Modules in train mode\n",
      "0         Modules in eval mode\n",
      "SLURM auto-requeueing enabled. Setting signal handlers.\n"
     ]
    },
    {
     "data": {
      "application/vnd.jupyter.widget-view+json": {
       "model_id": "299e3670ebad45a2b848f66cb284e8fd",
       "version_major": 2,
       "version_minor": 0
      },
      "text/plain": [
       "Training: |          | 0/? [00:00<?, ?it/s]"
      ]
     },
     "metadata": {},
     "output_type": "display_data"
    },
    {
     "name": "stderr",
     "output_type": "stream",
     "text": [
      "`Trainer.fit` stopped: `max_epochs=10` reached.\n",
      "GPU available: True (cuda), used: True\n",
      "TPU available: False, using: 0 TPU cores\n",
      "HPU available: False, using: 0 HPUs\n",
      "LOCAL_RANK: 0 - CUDA_VISIBLE_DEVICES: [MIG-a78a595d-726f-52d3-9ad4-538866ef7a4f]\n",
      "\n",
      "  | Name                   | Type       | Params | Mode \n",
      "--------------------------------------------------------------\n",
      "0 | background_input_layer | Sequential | 130 K  | train\n",
      "1 | fc                     | Sequential | 1.3 M  | train\n",
      "2 | loss_fn                | MSELoss    | 0      | train\n",
      "  | other params           | n/a        | 1.0 K  | n/a  \n",
      "--------------------------------------------------------------\n",
      "1.4 M     Trainable params\n",
      "0         Non-trainable params\n",
      "1.4 M     Total params\n",
      "5.720     Total estimated model params size (MB)\n",
      "11        Modules in train mode\n",
      "0         Modules in eval mode\n",
      "SLURM auto-requeueing enabled. Setting signal handlers.\n"
     ]
    },
    {
     "data": {
      "application/vnd.jupyter.widget-view+json": {
       "model_id": "007a08168047445fa365f1a8971c22e2",
       "version_major": 2,
       "version_minor": 0
      },
      "text/plain": [
       "Training: |          | 0/? [00:00<?, ?it/s]"
      ]
     },
     "metadata": {},
     "output_type": "display_data"
    },
    {
     "name": "stderr",
     "output_type": "stream",
     "text": [
      "`Trainer.fit` stopped: `max_epochs=10` reached.\n",
      "GPU available: True (cuda), used: True\n",
      "TPU available: False, using: 0 TPU cores\n",
      "HPU available: False, using: 0 HPUs\n",
      "LOCAL_RANK: 0 - CUDA_VISIBLE_DEVICES: [MIG-a78a595d-726f-52d3-9ad4-538866ef7a4f]\n",
      "\n",
      "  | Name                   | Type       | Params | Mode \n",
      "--------------------------------------------------------------\n",
      "0 | background_input_layer | Sequential | 130 K  | train\n",
      "1 | fc                     | Sequential | 1.3 M  | train\n",
      "2 | loss_fn                | MSELoss    | 0      | train\n",
      "  | other params           | n/a        | 1.0 K  | n/a  \n",
      "--------------------------------------------------------------\n",
      "1.4 M     Trainable params\n",
      "0         Non-trainable params\n",
      "1.4 M     Total params\n",
      "5.720     Total estimated model params size (MB)\n",
      "11        Modules in train mode\n",
      "0         Modules in eval mode\n",
      "SLURM auto-requeueing enabled. Setting signal handlers.\n"
     ]
    },
    {
     "data": {
      "application/vnd.jupyter.widget-view+json": {
       "model_id": "45511c5645c7496ab9374301576b9a05",
       "version_major": 2,
       "version_minor": 0
      },
      "text/plain": [
       "Training: |          | 0/? [00:00<?, ?it/s]"
      ]
     },
     "metadata": {},
     "output_type": "display_data"
    },
    {
     "name": "stderr",
     "output_type": "stream",
     "text": [
      "`Trainer.fit` stopped: `max_epochs=10` reached.\n",
      "GPU available: True (cuda), used: True\n",
      "TPU available: False, using: 0 TPU cores\n",
      "HPU available: False, using: 0 HPUs\n",
      "LOCAL_RANK: 0 - CUDA_VISIBLE_DEVICES: [MIG-a78a595d-726f-52d3-9ad4-538866ef7a4f]\n",
      "\n",
      "  | Name                   | Type       | Params | Mode \n",
      "--------------------------------------------------------------\n",
      "0 | background_input_layer | Sequential | 130 K  | train\n",
      "1 | fc                     | Sequential | 1.3 M  | train\n",
      "2 | loss_fn                | MSELoss    | 0      | train\n",
      "  | other params           | n/a        | 1.0 K  | n/a  \n",
      "--------------------------------------------------------------\n",
      "1.4 M     Trainable params\n",
      "0         Non-trainable params\n",
      "1.4 M     Total params\n",
      "5.720     Total estimated model params size (MB)\n",
      "11        Modules in train mode\n",
      "0         Modules in eval mode\n",
      "SLURM auto-requeueing enabled. Setting signal handlers.\n"
     ]
    },
    {
     "data": {
      "application/vnd.jupyter.widget-view+json": {
       "model_id": "7fe9fdd28c9f46cbaa3383b8e075e7b6",
       "version_major": 2,
       "version_minor": 0
      },
      "text/plain": [
       "Training: |          | 0/? [00:00<?, ?it/s]"
      ]
     },
     "metadata": {},
     "output_type": "display_data"
    },
    {
     "name": "stderr",
     "output_type": "stream",
     "text": [
      "`Trainer.fit` stopped: `max_epochs=10` reached.\n",
      "GPU available: True (cuda), used: True\n",
      "TPU available: False, using: 0 TPU cores\n",
      "HPU available: False, using: 0 HPUs\n",
      "LOCAL_RANK: 0 - CUDA_VISIBLE_DEVICES: [MIG-a78a595d-726f-52d3-9ad4-538866ef7a4f]\n",
      "\n",
      "  | Name                   | Type       | Params | Mode \n",
      "--------------------------------------------------------------\n",
      "0 | background_input_layer | Sequential | 130 K  | train\n",
      "1 | fc                     | Sequential | 1.3 M  | train\n",
      "2 | loss_fn                | MSELoss    | 0      | train\n",
      "  | other params           | n/a        | 1.0 K  | n/a  \n",
      "--------------------------------------------------------------\n",
      "1.4 M     Trainable params\n",
      "0         Non-trainable params\n",
      "1.4 M     Total params\n",
      "5.720     Total estimated model params size (MB)\n",
      "11        Modules in train mode\n",
      "0         Modules in eval mode\n",
      "SLURM auto-requeueing enabled. Setting signal handlers.\n"
     ]
    },
    {
     "data": {
      "application/vnd.jupyter.widget-view+json": {
       "model_id": "f8b768bf923c42b886d4131083a1572f",
       "version_major": 2,
       "version_minor": 0
      },
      "text/plain": [
       "Training: |          | 0/? [00:00<?, ?it/s]"
      ]
     },
     "metadata": {},
     "output_type": "display_data"
    },
    {
     "name": "stderr",
     "output_type": "stream",
     "text": [
      "`Trainer.fit` stopped: `max_epochs=10` reached.\n",
      "GPU available: True (cuda), used: True\n",
      "TPU available: False, using: 0 TPU cores\n",
      "HPU available: False, using: 0 HPUs\n",
      "LOCAL_RANK: 0 - CUDA_VISIBLE_DEVICES: [MIG-a78a595d-726f-52d3-9ad4-538866ef7a4f]\n",
      "\n",
      "  | Name                   | Type       | Params | Mode \n",
      "--------------------------------------------------------------\n",
      "0 | background_input_layer | Sequential | 130 K  | train\n",
      "1 | fc                     | Sequential | 1.3 M  | train\n",
      "2 | loss_fn                | MSELoss    | 0      | train\n",
      "  | other params           | n/a        | 1.0 K  | n/a  \n",
      "--------------------------------------------------------------\n",
      "1.4 M     Trainable params\n",
      "0         Non-trainable params\n",
      "1.4 M     Total params\n",
      "5.720     Total estimated model params size (MB)\n",
      "11        Modules in train mode\n",
      "0         Modules in eval mode\n",
      "SLURM auto-requeueing enabled. Setting signal handlers.\n"
     ]
    },
    {
     "data": {
      "application/vnd.jupyter.widget-view+json": {
       "model_id": "380ae5aa2cc34426bfaad10961360832",
       "version_major": 2,
       "version_minor": 0
      },
      "text/plain": [
       "Training: |          | 0/? [00:00<?, ?it/s]"
      ]
     },
     "metadata": {},
     "output_type": "display_data"
    },
    {
     "name": "stderr",
     "output_type": "stream",
     "text": [
      "`Trainer.fit` stopped: `max_epochs=10` reached.\n",
      "GPU available: True (cuda), used: True\n",
      "TPU available: False, using: 0 TPU cores\n",
      "HPU available: False, using: 0 HPUs\n",
      "LOCAL_RANK: 0 - CUDA_VISIBLE_DEVICES: [MIG-a78a595d-726f-52d3-9ad4-538866ef7a4f]\n",
      "\n",
      "  | Name                   | Type       | Params | Mode \n",
      "--------------------------------------------------------------\n",
      "0 | background_input_layer | Sequential | 130 K  | train\n",
      "1 | fc                     | Sequential | 1.3 M  | train\n",
      "2 | loss_fn                | MSELoss    | 0      | train\n",
      "  | other params           | n/a        | 1.0 K  | n/a  \n",
      "--------------------------------------------------------------\n",
      "1.4 M     Trainable params\n",
      "0         Non-trainable params\n",
      "1.4 M     Total params\n",
      "5.720     Total estimated model params size (MB)\n",
      "11        Modules in train mode\n",
      "0         Modules in eval mode\n",
      "SLURM auto-requeueing enabled. Setting signal handlers.\n"
     ]
    },
    {
     "data": {
      "application/vnd.jupyter.widget-view+json": {
       "model_id": "d50346c8918f4dbdabcfd54bcbac751a",
       "version_major": 2,
       "version_minor": 0
      },
      "text/plain": [
       "Training: |          | 0/? [00:00<?, ?it/s]"
      ]
     },
     "metadata": {},
     "output_type": "display_data"
    },
    {
     "name": "stderr",
     "output_type": "stream",
     "text": [
      "`Trainer.fit` stopped: `max_epochs=10` reached.\n",
      "GPU available: True (cuda), used: True\n",
      "TPU available: False, using: 0 TPU cores\n",
      "HPU available: False, using: 0 HPUs\n",
      "LOCAL_RANK: 0 - CUDA_VISIBLE_DEVICES: [MIG-a78a595d-726f-52d3-9ad4-538866ef7a4f]\n",
      "\n",
      "  | Name                   | Type       | Params | Mode \n",
      "--------------------------------------------------------------\n",
      "0 | background_input_layer | Sequential | 130 K  | train\n",
      "1 | fc                     | Sequential | 1.3 M  | train\n",
      "2 | loss_fn                | MSELoss    | 0      | train\n",
      "  | other params           | n/a        | 1.0 K  | n/a  \n",
      "--------------------------------------------------------------\n",
      "1.4 M     Trainable params\n",
      "0         Non-trainable params\n",
      "1.4 M     Total params\n",
      "5.720     Total estimated model params size (MB)\n",
      "11        Modules in train mode\n",
      "0         Modules in eval mode\n",
      "SLURM auto-requeueing enabled. Setting signal handlers.\n"
     ]
    },
    {
     "data": {
      "application/vnd.jupyter.widget-view+json": {
       "model_id": "4a204bb4c2944d01863ec9137e289a8c",
       "version_major": 2,
       "version_minor": 0
      },
      "text/plain": [
       "Training: |          | 0/? [00:00<?, ?it/s]"
      ]
     },
     "metadata": {},
     "output_type": "display_data"
    },
    {
     "name": "stderr",
     "output_type": "stream",
     "text": [
      "`Trainer.fit` stopped: `max_epochs=10` reached.\n",
      "GPU available: True (cuda), used: True\n",
      "TPU available: False, using: 0 TPU cores\n",
      "HPU available: False, using: 0 HPUs\n",
      "LOCAL_RANK: 0 - CUDA_VISIBLE_DEVICES: [MIG-a78a595d-726f-52d3-9ad4-538866ef7a4f]\n",
      "\n",
      "  | Name                   | Type       | Params | Mode \n",
      "--------------------------------------------------------------\n",
      "0 | background_input_layer | Sequential | 130 K  | train\n",
      "1 | fc                     | Sequential | 1.3 M  | train\n",
      "2 | loss_fn                | MSELoss    | 0      | train\n",
      "  | other params           | n/a        | 1.0 K  | n/a  \n",
      "--------------------------------------------------------------\n",
      "1.4 M     Trainable params\n",
      "0         Non-trainable params\n",
      "1.4 M     Total params\n",
      "5.720     Total estimated model params size (MB)\n",
      "11        Modules in train mode\n",
      "0         Modules in eval mode\n",
      "SLURM auto-requeueing enabled. Setting signal handlers.\n"
     ]
    },
    {
     "data": {
      "application/vnd.jupyter.widget-view+json": {
       "model_id": "aeb96e5fafb547cfb2fb73290d8a9b6b",
       "version_major": 2,
       "version_minor": 0
      },
      "text/plain": [
       "Training: |          | 0/? [00:00<?, ?it/s]"
      ]
     },
     "metadata": {},
     "output_type": "display_data"
    },
    {
     "name": "stderr",
     "output_type": "stream",
     "text": [
      "`Trainer.fit` stopped: `max_epochs=10` reached.\n",
      "GPU available: True (cuda), used: True\n",
      "TPU available: False, using: 0 TPU cores\n",
      "HPU available: False, using: 0 HPUs\n",
      "LOCAL_RANK: 0 - CUDA_VISIBLE_DEVICES: [MIG-a78a595d-726f-52d3-9ad4-538866ef7a4f]\n",
      "\n",
      "  | Name                   | Type       | Params | Mode \n",
      "--------------------------------------------------------------\n",
      "0 | background_input_layer | Sequential | 130 K  | train\n",
      "1 | fc                     | Sequential | 1.3 M  | train\n",
      "2 | loss_fn                | MSELoss    | 0      | train\n",
      "  | other params           | n/a        | 1.0 K  | n/a  \n",
      "--------------------------------------------------------------\n",
      "1.4 M     Trainable params\n",
      "0         Non-trainable params\n",
      "1.4 M     Total params\n",
      "5.720     Total estimated model params size (MB)\n",
      "11        Modules in train mode\n",
      "0         Modules in eval mode\n",
      "SLURM auto-requeueing enabled. Setting signal handlers.\n"
     ]
    },
    {
     "data": {
      "application/vnd.jupyter.widget-view+json": {
       "model_id": "245ee47ee78141db996612c00440e5dd",
       "version_major": 2,
       "version_minor": 0
      },
      "text/plain": [
       "Training: |          | 0/? [00:00<?, ?it/s]"
      ]
     },
     "metadata": {},
     "output_type": "display_data"
    },
    {
     "name": "stderr",
     "output_type": "stream",
     "text": [
      "`Trainer.fit` stopped: `max_epochs=10` reached.\n",
      "GPU available: True (cuda), used: True\n",
      "TPU available: False, using: 0 TPU cores\n",
      "HPU available: False, using: 0 HPUs\n",
      "LOCAL_RANK: 0 - CUDA_VISIBLE_DEVICES: [MIG-a78a595d-726f-52d3-9ad4-538866ef7a4f]\n",
      "\n",
      "  | Name                   | Type       | Params | Mode \n",
      "--------------------------------------------------------------\n",
      "0 | background_input_layer | Sequential | 130 K  | train\n",
      "1 | fc                     | Sequential | 1.3 M  | train\n",
      "2 | loss_fn                | MSELoss    | 0      | train\n",
      "  | other params           | n/a        | 1.0 K  | n/a  \n",
      "--------------------------------------------------------------\n",
      "1.4 M     Trainable params\n",
      "0         Non-trainable params\n",
      "1.4 M     Total params\n",
      "5.720     Total estimated model params size (MB)\n",
      "11        Modules in train mode\n",
      "0         Modules in eval mode\n",
      "SLURM auto-requeueing enabled. Setting signal handlers.\n"
     ]
    },
    {
     "data": {
      "application/vnd.jupyter.widget-view+json": {
       "model_id": "8a4fdcb0dc594ea3bace6de737032bed",
       "version_major": 2,
       "version_minor": 0
      },
      "text/plain": [
       "Training: |          | 0/? [00:00<?, ?it/s]"
      ]
     },
     "metadata": {},
     "output_type": "display_data"
    },
    {
     "name": "stderr",
     "output_type": "stream",
     "text": [
      "`Trainer.fit` stopped: `max_epochs=10` reached.\n",
      "GPU available: True (cuda), used: True\n",
      "TPU available: False, using: 0 TPU cores\n",
      "HPU available: False, using: 0 HPUs\n",
      "LOCAL_RANK: 0 - CUDA_VISIBLE_DEVICES: [MIG-a78a595d-726f-52d3-9ad4-538866ef7a4f]\n",
      "\n",
      "  | Name                   | Type       | Params | Mode \n",
      "--------------------------------------------------------------\n",
      "0 | background_input_layer | Sequential | 130 K  | train\n",
      "1 | fc                     | Sequential | 1.3 M  | train\n",
      "2 | loss_fn                | MSELoss    | 0      | train\n",
      "  | other params           | n/a        | 1.0 K  | n/a  \n",
      "--------------------------------------------------------------\n",
      "1.4 M     Trainable params\n",
      "0         Non-trainable params\n",
      "1.4 M     Total params\n",
      "5.720     Total estimated model params size (MB)\n",
      "11        Modules in train mode\n",
      "0         Modules in eval mode\n",
      "SLURM auto-requeueing enabled. Setting signal handlers.\n"
     ]
    },
    {
     "data": {
      "application/vnd.jupyter.widget-view+json": {
       "model_id": "8cf22d9af9e349d6a3a8836329eba879",
       "version_major": 2,
       "version_minor": 0
      },
      "text/plain": [
       "Training: |          | 0/? [00:00<?, ?it/s]"
      ]
     },
     "metadata": {},
     "output_type": "display_data"
    },
    {
     "name": "stderr",
     "output_type": "stream",
     "text": [
      "`Trainer.fit` stopped: `max_epochs=10` reached.\n",
      "GPU available: True (cuda), used: True\n",
      "TPU available: False, using: 0 TPU cores\n",
      "HPU available: False, using: 0 HPUs\n",
      "LOCAL_RANK: 0 - CUDA_VISIBLE_DEVICES: [MIG-a78a595d-726f-52d3-9ad4-538866ef7a4f]\n",
      "\n",
      "  | Name                   | Type       | Params | Mode \n",
      "--------------------------------------------------------------\n",
      "0 | background_input_layer | Sequential | 130 K  | train\n",
      "1 | fc                     | Sequential | 1.3 M  | train\n",
      "2 | loss_fn                | MSELoss    | 0      | train\n",
      "  | other params           | n/a        | 1.0 K  | n/a  \n",
      "--------------------------------------------------------------\n",
      "1.4 M     Trainable params\n",
      "0         Non-trainable params\n",
      "1.4 M     Total params\n",
      "5.720     Total estimated model params size (MB)\n",
      "11        Modules in train mode\n",
      "0         Modules in eval mode\n",
      "SLURM auto-requeueing enabled. Setting signal handlers.\n"
     ]
    },
    {
     "data": {
      "application/vnd.jupyter.widget-view+json": {
       "model_id": "c09c1f388f464709b366bb78cf6adb6b",
       "version_major": 2,
       "version_minor": 0
      },
      "text/plain": [
       "Training: |          | 0/? [00:00<?, ?it/s]"
      ]
     },
     "metadata": {},
     "output_type": "display_data"
    },
    {
     "name": "stderr",
     "output_type": "stream",
     "text": [
      "`Trainer.fit` stopped: `max_epochs=10` reached.\n",
      "GPU available: True (cuda), used: True\n",
      "TPU available: False, using: 0 TPU cores\n",
      "HPU available: False, using: 0 HPUs\n",
      "LOCAL_RANK: 0 - CUDA_VISIBLE_DEVICES: [MIG-a78a595d-726f-52d3-9ad4-538866ef7a4f]\n",
      "\n",
      "  | Name                   | Type       | Params | Mode \n",
      "--------------------------------------------------------------\n",
      "0 | background_input_layer | Sequential | 130 K  | train\n",
      "1 | fc                     | Sequential | 1.3 M  | train\n",
      "2 | loss_fn                | MSELoss    | 0      | train\n",
      "  | other params           | n/a        | 1.0 K  | n/a  \n",
      "--------------------------------------------------------------\n",
      "1.4 M     Trainable params\n",
      "0         Non-trainable params\n",
      "1.4 M     Total params\n",
      "5.720     Total estimated model params size (MB)\n",
      "11        Modules in train mode\n",
      "0         Modules in eval mode\n",
      "SLURM auto-requeueing enabled. Setting signal handlers.\n"
     ]
    },
    {
     "data": {
      "application/vnd.jupyter.widget-view+json": {
       "model_id": "5b6ff4840c2248b1a35edb0a7275566e",
       "version_major": 2,
       "version_minor": 0
      },
      "text/plain": [
       "Training: |          | 0/? [00:00<?, ?it/s]"
      ]
     },
     "metadata": {},
     "output_type": "display_data"
    },
    {
     "name": "stderr",
     "output_type": "stream",
     "text": [
      "`Trainer.fit` stopped: `max_epochs=10` reached.\n",
      "GPU available: True (cuda), used: True\n",
      "TPU available: False, using: 0 TPU cores\n",
      "HPU available: False, using: 0 HPUs\n",
      "LOCAL_RANK: 0 - CUDA_VISIBLE_DEVICES: [MIG-a78a595d-726f-52d3-9ad4-538866ef7a4f]\n",
      "\n",
      "  | Name                   | Type       | Params | Mode \n",
      "--------------------------------------------------------------\n",
      "0 | background_input_layer | Sequential | 130 K  | train\n",
      "1 | fc                     | Sequential | 1.3 M  | train\n",
      "2 | loss_fn                | MSELoss    | 0      | train\n",
      "  | other params           | n/a        | 1.0 K  | n/a  \n",
      "--------------------------------------------------------------\n",
      "1.4 M     Trainable params\n",
      "0         Non-trainable params\n",
      "1.4 M     Total params\n",
      "5.720     Total estimated model params size (MB)\n",
      "11        Modules in train mode\n",
      "0         Modules in eval mode\n",
      "SLURM auto-requeueing enabled. Setting signal handlers.\n"
     ]
    },
    {
     "data": {
      "application/vnd.jupyter.widget-view+json": {
       "model_id": "22a463e85c9643f38d7dad62a74dc0e6",
       "version_major": 2,
       "version_minor": 0
      },
      "text/plain": [
       "Training: |          | 0/? [00:00<?, ?it/s]"
      ]
     },
     "metadata": {},
     "output_type": "display_data"
    },
    {
     "name": "stderr",
     "output_type": "stream",
     "text": [
      "`Trainer.fit` stopped: `max_epochs=10` reached.\n",
      "GPU available: True (cuda), used: True\n",
      "TPU available: False, using: 0 TPU cores\n",
      "HPU available: False, using: 0 HPUs\n",
      "LOCAL_RANK: 0 - CUDA_VISIBLE_DEVICES: [MIG-a78a595d-726f-52d3-9ad4-538866ef7a4f]\n",
      "\n",
      "  | Name                   | Type       | Params | Mode \n",
      "--------------------------------------------------------------\n",
      "0 | background_input_layer | Sequential | 130 K  | train\n",
      "1 | fc                     | Sequential | 1.3 M  | train\n",
      "2 | loss_fn                | MSELoss    | 0      | train\n",
      "  | other params           | n/a        | 1.0 K  | n/a  \n",
      "--------------------------------------------------------------\n",
      "1.4 M     Trainable params\n",
      "0         Non-trainable params\n",
      "1.4 M     Total params\n",
      "5.720     Total estimated model params size (MB)\n",
      "11        Modules in train mode\n",
      "0         Modules in eval mode\n",
      "SLURM auto-requeueing enabled. Setting signal handlers.\n"
     ]
    },
    {
     "data": {
      "application/vnd.jupyter.widget-view+json": {
       "model_id": "ca1acba686e4486e84e06aa719229d4b",
       "version_major": 2,
       "version_minor": 0
      },
      "text/plain": [
       "Training: |          | 0/? [00:00<?, ?it/s]"
      ]
     },
     "metadata": {},
     "output_type": "display_data"
    },
    {
     "name": "stderr",
     "output_type": "stream",
     "text": [
      "`Trainer.fit` stopped: `max_epochs=10` reached.\n",
      "GPU available: True (cuda), used: True\n",
      "TPU available: False, using: 0 TPU cores\n",
      "HPU available: False, using: 0 HPUs\n",
      "LOCAL_RANK: 0 - CUDA_VISIBLE_DEVICES: [MIG-a78a595d-726f-52d3-9ad4-538866ef7a4f]\n",
      "\n",
      "  | Name                   | Type       | Params | Mode \n",
      "--------------------------------------------------------------\n",
      "0 | background_input_layer | Sequential | 130 K  | train\n",
      "1 | fc                     | Sequential | 1.3 M  | train\n",
      "2 | loss_fn                | MSELoss    | 0      | train\n",
      "  | other params           | n/a        | 1.0 K  | n/a  \n",
      "--------------------------------------------------------------\n",
      "1.4 M     Trainable params\n",
      "0         Non-trainable params\n",
      "1.4 M     Total params\n",
      "5.720     Total estimated model params size (MB)\n",
      "11        Modules in train mode\n",
      "0         Modules in eval mode\n",
      "SLURM auto-requeueing enabled. Setting signal handlers.\n"
     ]
    },
    {
     "data": {
      "application/vnd.jupyter.widget-view+json": {
       "model_id": "a2feee4a4c0046e1b230025f1f16e0c0",
       "version_major": 2,
       "version_minor": 0
      },
      "text/plain": [
       "Training: |          | 0/? [00:00<?, ?it/s]"
      ]
     },
     "metadata": {},
     "output_type": "display_data"
    },
    {
     "name": "stderr",
     "output_type": "stream",
     "text": [
      "`Trainer.fit` stopped: `max_epochs=10` reached.\n",
      "GPU available: True (cuda), used: True\n",
      "TPU available: False, using: 0 TPU cores\n",
      "HPU available: False, using: 0 HPUs\n",
      "LOCAL_RANK: 0 - CUDA_VISIBLE_DEVICES: [MIG-a78a595d-726f-52d3-9ad4-538866ef7a4f]\n",
      "\n",
      "  | Name                   | Type       | Params | Mode \n",
      "--------------------------------------------------------------\n",
      "0 | background_input_layer | Sequential | 130 K  | train\n",
      "1 | fc                     | Sequential | 1.3 M  | train\n",
      "2 | loss_fn                | MSELoss    | 0      | train\n",
      "  | other params           | n/a        | 1.0 K  | n/a  \n",
      "--------------------------------------------------------------\n",
      "1.4 M     Trainable params\n",
      "0         Non-trainable params\n",
      "1.4 M     Total params\n",
      "5.720     Total estimated model params size (MB)\n",
      "11        Modules in train mode\n",
      "0         Modules in eval mode\n",
      "SLURM auto-requeueing enabled. Setting signal handlers.\n"
     ]
    },
    {
     "data": {
      "application/vnd.jupyter.widget-view+json": {
       "model_id": "b5c8794e92eb4f4c8572cac1ecb6ed47",
       "version_major": 2,
       "version_minor": 0
      },
      "text/plain": [
       "Training: |          | 0/? [00:00<?, ?it/s]"
      ]
     },
     "metadata": {},
     "output_type": "display_data"
    },
    {
     "name": "stderr",
     "output_type": "stream",
     "text": [
      "`Trainer.fit` stopped: `max_epochs=10` reached.\n",
      "GPU available: True (cuda), used: True\n",
      "TPU available: False, using: 0 TPU cores\n",
      "HPU available: False, using: 0 HPUs\n",
      "LOCAL_RANK: 0 - CUDA_VISIBLE_DEVICES: [MIG-a78a595d-726f-52d3-9ad4-538866ef7a4f]\n",
      "\n",
      "  | Name                   | Type       | Params | Mode \n",
      "--------------------------------------------------------------\n",
      "0 | background_input_layer | Sequential | 130 K  | train\n",
      "1 | fc                     | Sequential | 1.3 M  | train\n",
      "2 | loss_fn                | MSELoss    | 0      | train\n",
      "  | other params           | n/a        | 1.0 K  | n/a  \n",
      "--------------------------------------------------------------\n",
      "1.4 M     Trainable params\n",
      "0         Non-trainable params\n",
      "1.4 M     Total params\n",
      "5.720     Total estimated model params size (MB)\n",
      "11        Modules in train mode\n",
      "0         Modules in eval mode\n",
      "SLURM auto-requeueing enabled. Setting signal handlers.\n"
     ]
    },
    {
     "data": {
      "application/vnd.jupyter.widget-view+json": {
       "model_id": "6f84068c62584992b08334384ed9c2d5",
       "version_major": 2,
       "version_minor": 0
      },
      "text/plain": [
       "Training: |          | 0/? [00:00<?, ?it/s]"
      ]
     },
     "metadata": {},
     "output_type": "display_data"
    },
    {
     "name": "stderr",
     "output_type": "stream",
     "text": [
      "`Trainer.fit` stopped: `max_epochs=10` reached.\n",
      "GPU available: True (cuda), used: True\n",
      "TPU available: False, using: 0 TPU cores\n",
      "HPU available: False, using: 0 HPUs\n",
      "LOCAL_RANK: 0 - CUDA_VISIBLE_DEVICES: [MIG-a78a595d-726f-52d3-9ad4-538866ef7a4f]\n",
      "\n",
      "  | Name                   | Type       | Params | Mode \n",
      "--------------------------------------------------------------\n",
      "0 | background_input_layer | Sequential | 130 K  | train\n",
      "1 | fc                     | Sequential | 1.3 M  | train\n",
      "2 | loss_fn                | MSELoss    | 0      | train\n",
      "  | other params           | n/a        | 1.0 K  | n/a  \n",
      "--------------------------------------------------------------\n",
      "1.4 M     Trainable params\n",
      "0         Non-trainable params\n",
      "1.4 M     Total params\n",
      "5.720     Total estimated model params size (MB)\n",
      "11        Modules in train mode\n",
      "0         Modules in eval mode\n",
      "SLURM auto-requeueing enabled. Setting signal handlers.\n"
     ]
    },
    {
     "data": {
      "application/vnd.jupyter.widget-view+json": {
       "model_id": "47afeea14a5040679888a5af19dea6e3",
       "version_major": 2,
       "version_minor": 0
      },
      "text/plain": [
       "Training: |          | 0/? [00:00<?, ?it/s]"
      ]
     },
     "metadata": {},
     "output_type": "display_data"
    },
    {
     "name": "stderr",
     "output_type": "stream",
     "text": [
      "`Trainer.fit` stopped: `max_epochs=10` reached.\n",
      "GPU available: True (cuda), used: True\n",
      "TPU available: False, using: 0 TPU cores\n",
      "HPU available: False, using: 0 HPUs\n",
      "LOCAL_RANK: 0 - CUDA_VISIBLE_DEVICES: [MIG-a78a595d-726f-52d3-9ad4-538866ef7a4f]\n",
      "\n",
      "  | Name                   | Type       | Params | Mode \n",
      "--------------------------------------------------------------\n",
      "0 | background_input_layer | Sequential | 130 K  | train\n",
      "1 | fc                     | Sequential | 1.3 M  | train\n",
      "2 | loss_fn                | MSELoss    | 0      | train\n",
      "  | other params           | n/a        | 1.0 K  | n/a  \n",
      "--------------------------------------------------------------\n",
      "1.4 M     Trainable params\n",
      "0         Non-trainable params\n",
      "1.4 M     Total params\n",
      "5.720     Total estimated model params size (MB)\n",
      "11        Modules in train mode\n",
      "0         Modules in eval mode\n",
      "SLURM auto-requeueing enabled. Setting signal handlers.\n"
     ]
    },
    {
     "data": {
      "application/vnd.jupyter.widget-view+json": {
       "model_id": "cbe53409dba146599a620ad65fbcf0cb",
       "version_major": 2,
       "version_minor": 0
      },
      "text/plain": [
       "Training: |          | 0/? [00:00<?, ?it/s]"
      ]
     },
     "metadata": {},
     "output_type": "display_data"
    },
    {
     "name": "stderr",
     "output_type": "stream",
     "text": [
      "`Trainer.fit` stopped: `max_epochs=10` reached.\n",
      "GPU available: True (cuda), used: True\n",
      "TPU available: False, using: 0 TPU cores\n",
      "HPU available: False, using: 0 HPUs\n",
      "LOCAL_RANK: 0 - CUDA_VISIBLE_DEVICES: [MIG-a78a595d-726f-52d3-9ad4-538866ef7a4f]\n",
      "\n",
      "  | Name                   | Type       | Params | Mode \n",
      "--------------------------------------------------------------\n",
      "0 | background_input_layer | Sequential | 130 K  | train\n",
      "1 | fc                     | Sequential | 1.3 M  | train\n",
      "2 | loss_fn                | MSELoss    | 0      | train\n",
      "  | other params           | n/a        | 1.0 K  | n/a  \n",
      "--------------------------------------------------------------\n",
      "1.4 M     Trainable params\n",
      "0         Non-trainable params\n",
      "1.4 M     Total params\n",
      "5.720     Total estimated model params size (MB)\n",
      "11        Modules in train mode\n",
      "0         Modules in eval mode\n",
      "SLURM auto-requeueing enabled. Setting signal handlers.\n"
     ]
    },
    {
     "data": {
      "application/vnd.jupyter.widget-view+json": {
       "model_id": "2fcf3d6934d6460c942948a0bf1d9815",
       "version_major": 2,
       "version_minor": 0
      },
      "text/plain": [
       "Training: |          | 0/? [00:00<?, ?it/s]"
      ]
     },
     "metadata": {},
     "output_type": "display_data"
    },
    {
     "name": "stderr",
     "output_type": "stream",
     "text": [
      "`Trainer.fit` stopped: `max_epochs=10` reached.\n",
      "GPU available: True (cuda), used: True\n",
      "TPU available: False, using: 0 TPU cores\n",
      "HPU available: False, using: 0 HPUs\n",
      "LOCAL_RANK: 0 - CUDA_VISIBLE_DEVICES: [MIG-a78a595d-726f-52d3-9ad4-538866ef7a4f]\n",
      "\n",
      "  | Name                   | Type       | Params | Mode \n",
      "--------------------------------------------------------------\n",
      "0 | background_input_layer | Sequential | 130 K  | train\n",
      "1 | fc                     | Sequential | 1.3 M  | train\n",
      "2 | loss_fn                | MSELoss    | 0      | train\n",
      "  | other params           | n/a        | 1.0 K  | n/a  \n",
      "--------------------------------------------------------------\n",
      "1.4 M     Trainable params\n",
      "0         Non-trainable params\n",
      "1.4 M     Total params\n",
      "5.720     Total estimated model params size (MB)\n",
      "11        Modules in train mode\n",
      "0         Modules in eval mode\n",
      "SLURM auto-requeueing enabled. Setting signal handlers.\n"
     ]
    },
    {
     "data": {
      "application/vnd.jupyter.widget-view+json": {
       "model_id": "db0ce5e524aa4b219e3b3e47c6098518",
       "version_major": 2,
       "version_minor": 0
      },
      "text/plain": [
       "Training: |          | 0/? [00:00<?, ?it/s]"
      ]
     },
     "metadata": {},
     "output_type": "display_data"
    },
    {
     "name": "stderr",
     "output_type": "stream",
     "text": [
      "`Trainer.fit` stopped: `max_epochs=10` reached.\n",
      "GPU available: True (cuda), used: True\n",
      "TPU available: False, using: 0 TPU cores\n",
      "HPU available: False, using: 0 HPUs\n",
      "LOCAL_RANK: 0 - CUDA_VISIBLE_DEVICES: [MIG-a78a595d-726f-52d3-9ad4-538866ef7a4f]\n",
      "\n",
      "  | Name                   | Type       | Params | Mode \n",
      "--------------------------------------------------------------\n",
      "0 | background_input_layer | Sequential | 130 K  | train\n",
      "1 | fc                     | Sequential | 1.3 M  | train\n",
      "2 | loss_fn                | MSELoss    | 0      | train\n",
      "  | other params           | n/a        | 1.0 K  | n/a  \n",
      "--------------------------------------------------------------\n",
      "1.4 M     Trainable params\n",
      "0         Non-trainable params\n",
      "1.4 M     Total params\n",
      "5.720     Total estimated model params size (MB)\n",
      "11        Modules in train mode\n",
      "0         Modules in eval mode\n",
      "SLURM auto-requeueing enabled. Setting signal handlers.\n"
     ]
    },
    {
     "data": {
      "application/vnd.jupyter.widget-view+json": {
       "model_id": "ed0d9e130d0a47e9929c78258ec942d0",
       "version_major": 2,
       "version_minor": 0
      },
      "text/plain": [
       "Training: |          | 0/? [00:00<?, ?it/s]"
      ]
     },
     "metadata": {},
     "output_type": "display_data"
    },
    {
     "name": "stderr",
     "output_type": "stream",
     "text": [
      "`Trainer.fit` stopped: `max_epochs=10` reached.\n",
      "GPU available: True (cuda), used: True\n",
      "TPU available: False, using: 0 TPU cores\n",
      "HPU available: False, using: 0 HPUs\n",
      "LOCAL_RANK: 0 - CUDA_VISIBLE_DEVICES: [MIG-a78a595d-726f-52d3-9ad4-538866ef7a4f]\n",
      "\n",
      "  | Name                   | Type       | Params | Mode \n",
      "--------------------------------------------------------------\n",
      "0 | background_input_layer | Sequential | 130 K  | train\n",
      "1 | fc                     | Sequential | 1.3 M  | train\n",
      "2 | loss_fn                | MSELoss    | 0      | train\n",
      "  | other params           | n/a        | 1.0 K  | n/a  \n",
      "--------------------------------------------------------------\n",
      "1.4 M     Trainable params\n",
      "0         Non-trainable params\n",
      "1.4 M     Total params\n",
      "5.720     Total estimated model params size (MB)\n",
      "11        Modules in train mode\n",
      "0         Modules in eval mode\n",
      "SLURM auto-requeueing enabled. Setting signal handlers.\n"
     ]
    },
    {
     "data": {
      "application/vnd.jupyter.widget-view+json": {
       "model_id": "fbbc6b55085048f9a4096b2234b7f74b",
       "version_major": 2,
       "version_minor": 0
      },
      "text/plain": [
       "Training: |          | 0/? [00:00<?, ?it/s]"
      ]
     },
     "metadata": {},
     "output_type": "display_data"
    },
    {
     "name": "stderr",
     "output_type": "stream",
     "text": [
      "`Trainer.fit` stopped: `max_epochs=10` reached.\n",
      "GPU available: True (cuda), used: True\n",
      "TPU available: False, using: 0 TPU cores\n",
      "HPU available: False, using: 0 HPUs\n",
      "LOCAL_RANK: 0 - CUDA_VISIBLE_DEVICES: [MIG-a78a595d-726f-52d3-9ad4-538866ef7a4f]\n",
      "\n",
      "  | Name                   | Type       | Params | Mode \n",
      "--------------------------------------------------------------\n",
      "0 | background_input_layer | Sequential | 130 K  | train\n",
      "1 | fc                     | Sequential | 1.3 M  | train\n",
      "2 | loss_fn                | MSELoss    | 0      | train\n",
      "  | other params           | n/a        | 1.0 K  | n/a  \n",
      "--------------------------------------------------------------\n",
      "1.4 M     Trainable params\n",
      "0         Non-trainable params\n",
      "1.4 M     Total params\n",
      "5.720     Total estimated model params size (MB)\n",
      "11        Modules in train mode\n",
      "0         Modules in eval mode\n",
      "SLURM auto-requeueing enabled. Setting signal handlers.\n"
     ]
    },
    {
     "data": {
      "application/vnd.jupyter.widget-view+json": {
       "model_id": "552cc0da7a9f47ef8d653dd8b18f73fd",
       "version_major": 2,
       "version_minor": 0
      },
      "text/plain": [
       "Training: |          | 0/? [00:00<?, ?it/s]"
      ]
     },
     "metadata": {},
     "output_type": "display_data"
    },
    {
     "name": "stderr",
     "output_type": "stream",
     "text": [
      "`Trainer.fit` stopped: `max_epochs=10` reached.\n",
      "GPU available: True (cuda), used: True\n",
      "TPU available: False, using: 0 TPU cores\n",
      "HPU available: False, using: 0 HPUs\n",
      "LOCAL_RANK: 0 - CUDA_VISIBLE_DEVICES: [MIG-a78a595d-726f-52d3-9ad4-538866ef7a4f]\n",
      "\n",
      "  | Name                   | Type       | Params | Mode \n",
      "--------------------------------------------------------------\n",
      "0 | background_input_layer | Sequential | 130 K  | train\n",
      "1 | fc                     | Sequential | 1.3 M  | train\n",
      "2 | loss_fn                | MSELoss    | 0      | train\n",
      "  | other params           | n/a        | 1.0 K  | n/a  \n",
      "--------------------------------------------------------------\n",
      "1.4 M     Trainable params\n",
      "0         Non-trainable params\n",
      "1.4 M     Total params\n",
      "5.720     Total estimated model params size (MB)\n",
      "11        Modules in train mode\n",
      "0         Modules in eval mode\n",
      "SLURM auto-requeueing enabled. Setting signal handlers.\n"
     ]
    },
    {
     "data": {
      "application/vnd.jupyter.widget-view+json": {
       "model_id": "56b55615eeae42e88c05613d37b4a0a8",
       "version_major": 2,
       "version_minor": 0
      },
      "text/plain": [
       "Training: |          | 0/? [00:00<?, ?it/s]"
      ]
     },
     "metadata": {},
     "output_type": "display_data"
    },
    {
     "name": "stderr",
     "output_type": "stream",
     "text": [
      "`Trainer.fit` stopped: `max_epochs=10` reached.\n",
      "GPU available: True (cuda), used: True\n",
      "TPU available: False, using: 0 TPU cores\n",
      "HPU available: False, using: 0 HPUs\n",
      "LOCAL_RANK: 0 - CUDA_VISIBLE_DEVICES: [MIG-a78a595d-726f-52d3-9ad4-538866ef7a4f]\n",
      "\n",
      "  | Name                   | Type       | Params | Mode \n",
      "--------------------------------------------------------------\n",
      "0 | background_input_layer | Sequential | 130 K  | train\n",
      "1 | fc                     | Sequential | 1.3 M  | train\n",
      "2 | loss_fn                | MSELoss    | 0      | train\n",
      "  | other params           | n/a        | 1.0 K  | n/a  \n",
      "--------------------------------------------------------------\n",
      "1.4 M     Trainable params\n",
      "0         Non-trainable params\n",
      "1.4 M     Total params\n",
      "5.720     Total estimated model params size (MB)\n",
      "11        Modules in train mode\n",
      "0         Modules in eval mode\n",
      "SLURM auto-requeueing enabled. Setting signal handlers.\n"
     ]
    },
    {
     "data": {
      "application/vnd.jupyter.widget-view+json": {
       "model_id": "0a88fcfab85e49b58268599639398581",
       "version_major": 2,
       "version_minor": 0
      },
      "text/plain": [
       "Training: |          | 0/? [00:00<?, ?it/s]"
      ]
     },
     "metadata": {},
     "output_type": "display_data"
    },
    {
     "name": "stderr",
     "output_type": "stream",
     "text": [
      "`Trainer.fit` stopped: `max_epochs=10` reached.\n",
      "GPU available: True (cuda), used: True\n",
      "TPU available: False, using: 0 TPU cores\n",
      "HPU available: False, using: 0 HPUs\n",
      "LOCAL_RANK: 0 - CUDA_VISIBLE_DEVICES: [MIG-a78a595d-726f-52d3-9ad4-538866ef7a4f]\n",
      "\n",
      "  | Name                   | Type       | Params | Mode \n",
      "--------------------------------------------------------------\n",
      "0 | background_input_layer | Sequential | 130 K  | train\n",
      "1 | fc                     | Sequential | 1.3 M  | train\n",
      "2 | loss_fn                | MSELoss    | 0      | train\n",
      "  | other params           | n/a        | 1.0 K  | n/a  \n",
      "--------------------------------------------------------------\n",
      "1.4 M     Trainable params\n",
      "0         Non-trainable params\n",
      "1.4 M     Total params\n",
      "5.720     Total estimated model params size (MB)\n",
      "11        Modules in train mode\n",
      "0         Modules in eval mode\n",
      "SLURM auto-requeueing enabled. Setting signal handlers.\n"
     ]
    },
    {
     "data": {
      "application/vnd.jupyter.widget-view+json": {
       "model_id": "74c24e64f87c4c79ac795c5627808112",
       "version_major": 2,
       "version_minor": 0
      },
      "text/plain": [
       "Training: |          | 0/? [00:00<?, ?it/s]"
      ]
     },
     "metadata": {},
     "output_type": "display_data"
    },
    {
     "name": "stderr",
     "output_type": "stream",
     "text": [
      "`Trainer.fit` stopped: `max_epochs=10` reached.\n",
      "GPU available: True (cuda), used: True\n",
      "TPU available: False, using: 0 TPU cores\n",
      "HPU available: False, using: 0 HPUs\n",
      "LOCAL_RANK: 0 - CUDA_VISIBLE_DEVICES: [MIG-a78a595d-726f-52d3-9ad4-538866ef7a4f]\n",
      "\n",
      "  | Name                   | Type       | Params | Mode \n",
      "--------------------------------------------------------------\n",
      "0 | background_input_layer | Sequential | 130 K  | train\n",
      "1 | fc                     | Sequential | 1.3 M  | train\n",
      "2 | loss_fn                | MSELoss    | 0      | train\n",
      "  | other params           | n/a        | 1.0 K  | n/a  \n",
      "--------------------------------------------------------------\n",
      "1.4 M     Trainable params\n",
      "0         Non-trainable params\n",
      "1.4 M     Total params\n",
      "5.720     Total estimated model params size (MB)\n",
      "11        Modules in train mode\n",
      "0         Modules in eval mode\n",
      "SLURM auto-requeueing enabled. Setting signal handlers.\n"
     ]
    },
    {
     "data": {
      "application/vnd.jupyter.widget-view+json": {
       "model_id": "89cb78d9fdff44b2a5e65b2dc398d35a",
       "version_major": 2,
       "version_minor": 0
      },
      "text/plain": [
       "Training: |          | 0/? [00:00<?, ?it/s]"
      ]
     },
     "metadata": {},
     "output_type": "display_data"
    },
    {
     "name": "stderr",
     "output_type": "stream",
     "text": [
      "`Trainer.fit` stopped: `max_epochs=10` reached.\n",
      "GPU available: True (cuda), used: True\n",
      "TPU available: False, using: 0 TPU cores\n",
      "HPU available: False, using: 0 HPUs\n",
      "LOCAL_RANK: 0 - CUDA_VISIBLE_DEVICES: [MIG-a78a595d-726f-52d3-9ad4-538866ef7a4f]\n",
      "\n",
      "  | Name                   | Type       | Params | Mode \n",
      "--------------------------------------------------------------\n",
      "0 | background_input_layer | Sequential | 130 K  | train\n",
      "1 | fc                     | Sequential | 1.3 M  | train\n",
      "2 | loss_fn                | MSELoss    | 0      | train\n",
      "  | other params           | n/a        | 1.0 K  | n/a  \n",
      "--------------------------------------------------------------\n",
      "1.4 M     Trainable params\n",
      "0         Non-trainable params\n",
      "1.4 M     Total params\n",
      "5.720     Total estimated model params size (MB)\n",
      "11        Modules in train mode\n",
      "0         Modules in eval mode\n",
      "SLURM auto-requeueing enabled. Setting signal handlers.\n"
     ]
    },
    {
     "data": {
      "application/vnd.jupyter.widget-view+json": {
       "model_id": "a2a936a7f99d4ea190a9c05838ba3d86",
       "version_major": 2,
       "version_minor": 0
      },
      "text/plain": [
       "Training: |          | 0/? [00:00<?, ?it/s]"
      ]
     },
     "metadata": {},
     "output_type": "display_data"
    },
    {
     "name": "stderr",
     "output_type": "stream",
     "text": [
      "`Trainer.fit` stopped: `max_epochs=10` reached.\n",
      "GPU available: True (cuda), used: True\n",
      "TPU available: False, using: 0 TPU cores\n",
      "HPU available: False, using: 0 HPUs\n",
      "LOCAL_RANK: 0 - CUDA_VISIBLE_DEVICES: [MIG-a78a595d-726f-52d3-9ad4-538866ef7a4f]\n",
      "\n",
      "  | Name                   | Type       | Params | Mode \n",
      "--------------------------------------------------------------\n",
      "0 | background_input_layer | Sequential | 130 K  | train\n",
      "1 | fc                     | Sequential | 1.3 M  | train\n",
      "2 | loss_fn                | MSELoss    | 0      | train\n",
      "  | other params           | n/a        | 1.0 K  | n/a  \n",
      "--------------------------------------------------------------\n",
      "1.4 M     Trainable params\n",
      "0         Non-trainable params\n",
      "1.4 M     Total params\n",
      "5.720     Total estimated model params size (MB)\n",
      "11        Modules in train mode\n",
      "0         Modules in eval mode\n",
      "SLURM auto-requeueing enabled. Setting signal handlers.\n"
     ]
    },
    {
     "data": {
      "application/vnd.jupyter.widget-view+json": {
       "model_id": "c9ba475c28bb47ac92871f9cb6d9d92d",
       "version_major": 2,
       "version_minor": 0
      },
      "text/plain": [
       "Training: |          | 0/? [00:00<?, ?it/s]"
      ]
     },
     "metadata": {},
     "output_type": "display_data"
    },
    {
     "name": "stderr",
     "output_type": "stream",
     "text": [
      "`Trainer.fit` stopped: `max_epochs=10` reached.\n",
      "GPU available: True (cuda), used: True\n",
      "TPU available: False, using: 0 TPU cores\n",
      "HPU available: False, using: 0 HPUs\n",
      "LOCAL_RANK: 0 - CUDA_VISIBLE_DEVICES: [MIG-a78a595d-726f-52d3-9ad4-538866ef7a4f]\n",
      "\n",
      "  | Name                   | Type       | Params | Mode \n",
      "--------------------------------------------------------------\n",
      "0 | background_input_layer | Sequential | 130 K  | train\n",
      "1 | fc                     | Sequential | 1.3 M  | train\n",
      "2 | loss_fn                | MSELoss    | 0      | train\n",
      "  | other params           | n/a        | 1.0 K  | n/a  \n",
      "--------------------------------------------------------------\n",
      "1.4 M     Trainable params\n",
      "0         Non-trainable params\n",
      "1.4 M     Total params\n",
      "5.720     Total estimated model params size (MB)\n",
      "11        Modules in train mode\n",
      "0         Modules in eval mode\n",
      "SLURM auto-requeueing enabled. Setting signal handlers.\n"
     ]
    },
    {
     "data": {
      "application/vnd.jupyter.widget-view+json": {
       "model_id": "c18d54383c284a50bbcc438235139e8f",
       "version_major": 2,
       "version_minor": 0
      },
      "text/plain": [
       "Training: |          | 0/? [00:00<?, ?it/s]"
      ]
     },
     "metadata": {},
     "output_type": "display_data"
    },
    {
     "name": "stderr",
     "output_type": "stream",
     "text": [
      "`Trainer.fit` stopped: `max_epochs=10` reached.\n",
      "GPU available: True (cuda), used: True\n",
      "TPU available: False, using: 0 TPU cores\n",
      "HPU available: False, using: 0 HPUs\n",
      "LOCAL_RANK: 0 - CUDA_VISIBLE_DEVICES: [MIG-a78a595d-726f-52d3-9ad4-538866ef7a4f]\n",
      "\n",
      "  | Name                   | Type       | Params | Mode \n",
      "--------------------------------------------------------------\n",
      "0 | background_input_layer | Sequential | 130 K  | train\n",
      "1 | fc                     | Sequential | 1.3 M  | train\n",
      "2 | loss_fn                | MSELoss    | 0      | train\n",
      "  | other params           | n/a        | 1.0 K  | n/a  \n",
      "--------------------------------------------------------------\n",
      "1.4 M     Trainable params\n",
      "0         Non-trainable params\n",
      "1.4 M     Total params\n",
      "5.720     Total estimated model params size (MB)\n",
      "11        Modules in train mode\n",
      "0         Modules in eval mode\n",
      "SLURM auto-requeueing enabled. Setting signal handlers.\n"
     ]
    },
    {
     "data": {
      "application/vnd.jupyter.widget-view+json": {
       "model_id": "18fc18c04bef46cdb6d03b90c8b34e1a",
       "version_major": 2,
       "version_minor": 0
      },
      "text/plain": [
       "Training: |          | 0/? [00:00<?, ?it/s]"
      ]
     },
     "metadata": {},
     "output_type": "display_data"
    },
    {
     "name": "stderr",
     "output_type": "stream",
     "text": [
      "`Trainer.fit` stopped: `max_epochs=10` reached.\n",
      "GPU available: True (cuda), used: True\n",
      "TPU available: False, using: 0 TPU cores\n",
      "HPU available: False, using: 0 HPUs\n",
      "LOCAL_RANK: 0 - CUDA_VISIBLE_DEVICES: [MIG-a78a595d-726f-52d3-9ad4-538866ef7a4f]\n",
      "\n",
      "  | Name                   | Type       | Params | Mode \n",
      "--------------------------------------------------------------\n",
      "0 | background_input_layer | Sequential | 130 K  | train\n",
      "1 | fc                     | Sequential | 1.3 M  | train\n",
      "2 | loss_fn                | MSELoss    | 0      | train\n",
      "  | other params           | n/a        | 1.0 K  | n/a  \n",
      "--------------------------------------------------------------\n",
      "1.4 M     Trainable params\n",
      "0         Non-trainable params\n",
      "1.4 M     Total params\n",
      "5.720     Total estimated model params size (MB)\n",
      "11        Modules in train mode\n",
      "0         Modules in eval mode\n",
      "SLURM auto-requeueing enabled. Setting signal handlers.\n"
     ]
    },
    {
     "data": {
      "application/vnd.jupyter.widget-view+json": {
       "model_id": "45127126ad7c4fd39f1c167e547e8c6f",
       "version_major": 2,
       "version_minor": 0
      },
      "text/plain": [
       "Training: |          | 0/? [00:00<?, ?it/s]"
      ]
     },
     "metadata": {},
     "output_type": "display_data"
    },
    {
     "name": "stderr",
     "output_type": "stream",
     "text": [
      "`Trainer.fit` stopped: `max_epochs=10` reached.\n",
      "GPU available: True (cuda), used: True\n",
      "TPU available: False, using: 0 TPU cores\n",
      "HPU available: False, using: 0 HPUs\n",
      "LOCAL_RANK: 0 - CUDA_VISIBLE_DEVICES: [MIG-a78a595d-726f-52d3-9ad4-538866ef7a4f]\n",
      "\n",
      "  | Name                   | Type       | Params | Mode \n",
      "--------------------------------------------------------------\n",
      "0 | background_input_layer | Sequential | 130 K  | train\n",
      "1 | fc                     | Sequential | 1.3 M  | train\n",
      "2 | loss_fn                | MSELoss    | 0      | train\n",
      "  | other params           | n/a        | 1.0 K  | n/a  \n",
      "--------------------------------------------------------------\n",
      "1.4 M     Trainable params\n",
      "0         Non-trainable params\n",
      "1.4 M     Total params\n",
      "5.720     Total estimated model params size (MB)\n",
      "11        Modules in train mode\n",
      "0         Modules in eval mode\n",
      "SLURM auto-requeueing enabled. Setting signal handlers.\n"
     ]
    },
    {
     "data": {
      "application/vnd.jupyter.widget-view+json": {
       "model_id": "acfae03fa31a4a2f99ec4674e904b91a",
       "version_major": 2,
       "version_minor": 0
      },
      "text/plain": [
       "Training: |          | 0/? [00:00<?, ?it/s]"
      ]
     },
     "metadata": {},
     "output_type": "display_data"
    },
    {
     "name": "stderr",
     "output_type": "stream",
     "text": [
      "`Trainer.fit` stopped: `max_epochs=10` reached.\n",
      "GPU available: True (cuda), used: True\n",
      "TPU available: False, using: 0 TPU cores\n",
      "HPU available: False, using: 0 HPUs\n",
      "LOCAL_RANK: 0 - CUDA_VISIBLE_DEVICES: [MIG-a78a595d-726f-52d3-9ad4-538866ef7a4f]\n",
      "\n",
      "  | Name                   | Type       | Params | Mode \n",
      "--------------------------------------------------------------\n",
      "0 | background_input_layer | Sequential | 130 K  | train\n",
      "1 | fc                     | Sequential | 1.3 M  | train\n",
      "2 | loss_fn                | MSELoss    | 0      | train\n",
      "  | other params           | n/a        | 1.0 K  | n/a  \n",
      "--------------------------------------------------------------\n",
      "1.4 M     Trainable params\n",
      "0         Non-trainable params\n",
      "1.4 M     Total params\n",
      "5.720     Total estimated model params size (MB)\n",
      "11        Modules in train mode\n",
      "0         Modules in eval mode\n",
      "SLURM auto-requeueing enabled. Setting signal handlers.\n"
     ]
    },
    {
     "data": {
      "application/vnd.jupyter.widget-view+json": {
       "model_id": "f6bb5f8525344a909fc8ef9a85068e12",
       "version_major": 2,
       "version_minor": 0
      },
      "text/plain": [
       "Training: |          | 0/? [00:00<?, ?it/s]"
      ]
     },
     "metadata": {},
     "output_type": "display_data"
    },
    {
     "name": "stderr",
     "output_type": "stream",
     "text": [
      "`Trainer.fit` stopped: `max_epochs=10` reached.\n",
      "GPU available: True (cuda), used: True\n",
      "TPU available: False, using: 0 TPU cores\n",
      "HPU available: False, using: 0 HPUs\n",
      "LOCAL_RANK: 0 - CUDA_VISIBLE_DEVICES: [MIG-a78a595d-726f-52d3-9ad4-538866ef7a4f]\n",
      "\n",
      "  | Name                   | Type       | Params | Mode \n",
      "--------------------------------------------------------------\n",
      "0 | background_input_layer | Sequential | 130 K  | train\n",
      "1 | fc                     | Sequential | 1.3 M  | train\n",
      "2 | loss_fn                | MSELoss    | 0      | train\n",
      "  | other params           | n/a        | 1.0 K  | n/a  \n",
      "--------------------------------------------------------------\n",
      "1.4 M     Trainable params\n",
      "0         Non-trainable params\n",
      "1.4 M     Total params\n",
      "5.720     Total estimated model params size (MB)\n",
      "11        Modules in train mode\n",
      "0         Modules in eval mode\n",
      "SLURM auto-requeueing enabled. Setting signal handlers.\n"
     ]
    },
    {
     "data": {
      "application/vnd.jupyter.widget-view+json": {
       "model_id": "e291703eee364520bf7dccd1588950f5",
       "version_major": 2,
       "version_minor": 0
      },
      "text/plain": [
       "Training: |          | 0/? [00:00<?, ?it/s]"
      ]
     },
     "metadata": {},
     "output_type": "display_data"
    },
    {
     "name": "stderr",
     "output_type": "stream",
     "text": [
      "`Trainer.fit` stopped: `max_epochs=10` reached.\n",
      "GPU available: True (cuda), used: True\n",
      "TPU available: False, using: 0 TPU cores\n",
      "HPU available: False, using: 0 HPUs\n",
      "LOCAL_RANK: 0 - CUDA_VISIBLE_DEVICES: [MIG-a78a595d-726f-52d3-9ad4-538866ef7a4f]\n",
      "\n",
      "  | Name                   | Type       | Params | Mode \n",
      "--------------------------------------------------------------\n",
      "0 | background_input_layer | Sequential | 130 K  | train\n",
      "1 | fc                     | Sequential | 1.3 M  | train\n",
      "2 | loss_fn                | MSELoss    | 0      | train\n",
      "  | other params           | n/a        | 1.0 K  | n/a  \n",
      "--------------------------------------------------------------\n",
      "1.4 M     Trainable params\n",
      "0         Non-trainable params\n",
      "1.4 M     Total params\n",
      "5.720     Total estimated model params size (MB)\n",
      "11        Modules in train mode\n",
      "0         Modules in eval mode\n",
      "SLURM auto-requeueing enabled. Setting signal handlers.\n"
     ]
    },
    {
     "data": {
      "application/vnd.jupyter.widget-view+json": {
       "model_id": "d581f6e6bae043e995aca0e2620f1563",
       "version_major": 2,
       "version_minor": 0
      },
      "text/plain": [
       "Training: |          | 0/? [00:00<?, ?it/s]"
      ]
     },
     "metadata": {},
     "output_type": "display_data"
    },
    {
     "name": "stderr",
     "output_type": "stream",
     "text": [
      "`Trainer.fit` stopped: `max_epochs=10` reached.\n",
      "GPU available: True (cuda), used: True\n",
      "TPU available: False, using: 0 TPU cores\n",
      "HPU available: False, using: 0 HPUs\n",
      "LOCAL_RANK: 0 - CUDA_VISIBLE_DEVICES: [MIG-a78a595d-726f-52d3-9ad4-538866ef7a4f]\n",
      "\n",
      "  | Name                   | Type       | Params | Mode \n",
      "--------------------------------------------------------------\n",
      "0 | background_input_layer | Sequential | 130 K  | train\n",
      "1 | fc                     | Sequential | 1.3 M  | train\n",
      "2 | loss_fn                | MSELoss    | 0      | train\n",
      "  | other params           | n/a        | 1.0 K  | n/a  \n",
      "--------------------------------------------------------------\n",
      "1.4 M     Trainable params\n",
      "0         Non-trainable params\n",
      "1.4 M     Total params\n",
      "5.720     Total estimated model params size (MB)\n",
      "11        Modules in train mode\n",
      "0         Modules in eval mode\n",
      "SLURM auto-requeueing enabled. Setting signal handlers.\n"
     ]
    },
    {
     "data": {
      "application/vnd.jupyter.widget-view+json": {
       "model_id": "7706c6605e1943c8922e090e2035bbed",
       "version_major": 2,
       "version_minor": 0
      },
      "text/plain": [
       "Training: |          | 0/? [00:00<?, ?it/s]"
      ]
     },
     "metadata": {},
     "output_type": "display_data"
    },
    {
     "name": "stderr",
     "output_type": "stream",
     "text": [
      "`Trainer.fit` stopped: `max_epochs=10` reached.\n",
      "GPU available: True (cuda), used: True\n",
      "TPU available: False, using: 0 TPU cores\n",
      "HPU available: False, using: 0 HPUs\n",
      "LOCAL_RANK: 0 - CUDA_VISIBLE_DEVICES: [MIG-a78a595d-726f-52d3-9ad4-538866ef7a4f]\n",
      "\n",
      "  | Name                   | Type       | Params | Mode \n",
      "--------------------------------------------------------------\n",
      "0 | background_input_layer | Sequential | 130 K  | train\n",
      "1 | fc                     | Sequential | 1.3 M  | train\n",
      "2 | loss_fn                | MSELoss    | 0      | train\n",
      "  | other params           | n/a        | 1.0 K  | n/a  \n",
      "--------------------------------------------------------------\n",
      "1.4 M     Trainable params\n",
      "0         Non-trainable params\n",
      "1.4 M     Total params\n",
      "5.720     Total estimated model params size (MB)\n",
      "11        Modules in train mode\n",
      "0         Modules in eval mode\n",
      "SLURM auto-requeueing enabled. Setting signal handlers.\n"
     ]
    },
    {
     "data": {
      "application/vnd.jupyter.widget-view+json": {
       "model_id": "ac0e592272fa4ac0b9e5ba4eca50051e",
       "version_major": 2,
       "version_minor": 0
      },
      "text/plain": [
       "Training: |          | 0/? [00:00<?, ?it/s]"
      ]
     },
     "metadata": {},
     "output_type": "display_data"
    },
    {
     "name": "stderr",
     "output_type": "stream",
     "text": [
      "`Trainer.fit` stopped: `max_epochs=10` reached.\n",
      "GPU available: True (cuda), used: True\n",
      "TPU available: False, using: 0 TPU cores\n",
      "HPU available: False, using: 0 HPUs\n",
      "LOCAL_RANK: 0 - CUDA_VISIBLE_DEVICES: [MIG-a78a595d-726f-52d3-9ad4-538866ef7a4f]\n",
      "\n",
      "  | Name                   | Type       | Params | Mode \n",
      "--------------------------------------------------------------\n",
      "0 | background_input_layer | Sequential | 130 K  | train\n",
      "1 | fc                     | Sequential | 1.3 M  | train\n",
      "2 | loss_fn                | MSELoss    | 0      | train\n",
      "  | other params           | n/a        | 1.0 K  | n/a  \n",
      "--------------------------------------------------------------\n",
      "1.4 M     Trainable params\n",
      "0         Non-trainable params\n",
      "1.4 M     Total params\n",
      "5.720     Total estimated model params size (MB)\n",
      "11        Modules in train mode\n",
      "0         Modules in eval mode\n",
      "SLURM auto-requeueing enabled. Setting signal handlers.\n"
     ]
    },
    {
     "data": {
      "application/vnd.jupyter.widget-view+json": {
       "model_id": "4949ee06afde4cf08a88a43988912b76",
       "version_major": 2,
       "version_minor": 0
      },
      "text/plain": [
       "Training: |          | 0/? [00:00<?, ?it/s]"
      ]
     },
     "metadata": {},
     "output_type": "display_data"
    },
    {
     "name": "stderr",
     "output_type": "stream",
     "text": [
      "`Trainer.fit` stopped: `max_epochs=10` reached.\n",
      "GPU available: True (cuda), used: True\n",
      "TPU available: False, using: 0 TPU cores\n",
      "HPU available: False, using: 0 HPUs\n",
      "LOCAL_RANK: 0 - CUDA_VISIBLE_DEVICES: [MIG-a78a595d-726f-52d3-9ad4-538866ef7a4f]\n",
      "\n",
      "  | Name                   | Type       | Params | Mode \n",
      "--------------------------------------------------------------\n",
      "0 | background_input_layer | Sequential | 130 K  | train\n",
      "1 | fc                     | Sequential | 1.3 M  | train\n",
      "2 | loss_fn                | MSELoss    | 0      | train\n",
      "  | other params           | n/a        | 1.0 K  | n/a  \n",
      "--------------------------------------------------------------\n",
      "1.4 M     Trainable params\n",
      "0         Non-trainable params\n",
      "1.4 M     Total params\n",
      "5.720     Total estimated model params size (MB)\n",
      "11        Modules in train mode\n",
      "0         Modules in eval mode\n",
      "SLURM auto-requeueing enabled. Setting signal handlers.\n"
     ]
    },
    {
     "data": {
      "application/vnd.jupyter.widget-view+json": {
       "model_id": "a8f8ff4f19224a71b0c217a450660a20",
       "version_major": 2,
       "version_minor": 0
      },
      "text/plain": [
       "Training: |          | 0/? [00:00<?, ?it/s]"
      ]
     },
     "metadata": {},
     "output_type": "display_data"
    },
    {
     "name": "stderr",
     "output_type": "stream",
     "text": [
      "`Trainer.fit` stopped: `max_epochs=10` reached.\n",
      "GPU available: True (cuda), used: True\n",
      "TPU available: False, using: 0 TPU cores\n",
      "HPU available: False, using: 0 HPUs\n",
      "LOCAL_RANK: 0 - CUDA_VISIBLE_DEVICES: [MIG-a78a595d-726f-52d3-9ad4-538866ef7a4f]\n",
      "\n",
      "  | Name                   | Type       | Params | Mode \n",
      "--------------------------------------------------------------\n",
      "0 | background_input_layer | Sequential | 130 K  | train\n",
      "1 | fc                     | Sequential | 1.3 M  | train\n",
      "2 | loss_fn                | MSELoss    | 0      | train\n",
      "  | other params           | n/a        | 1.0 K  | n/a  \n",
      "--------------------------------------------------------------\n",
      "1.4 M     Trainable params\n",
      "0         Non-trainable params\n",
      "1.4 M     Total params\n",
      "5.720     Total estimated model params size (MB)\n",
      "11        Modules in train mode\n",
      "0         Modules in eval mode\n",
      "SLURM auto-requeueing enabled. Setting signal handlers.\n"
     ]
    },
    {
     "data": {
      "application/vnd.jupyter.widget-view+json": {
       "model_id": "2289178247ab4e3e9cb3b316539a05d3",
       "version_major": 2,
       "version_minor": 0
      },
      "text/plain": [
       "Training: |          | 0/? [00:00<?, ?it/s]"
      ]
     },
     "metadata": {},
     "output_type": "display_data"
    },
    {
     "name": "stderr",
     "output_type": "stream",
     "text": [
      "`Trainer.fit` stopped: `max_epochs=10` reached.\n",
      "GPU available: True (cuda), used: True\n",
      "TPU available: False, using: 0 TPU cores\n",
      "HPU available: False, using: 0 HPUs\n",
      "LOCAL_RANK: 0 - CUDA_VISIBLE_DEVICES: [MIG-a78a595d-726f-52d3-9ad4-538866ef7a4f]\n",
      "\n",
      "  | Name                   | Type       | Params | Mode \n",
      "--------------------------------------------------------------\n",
      "0 | background_input_layer | Sequential | 130 K  | train\n",
      "1 | fc                     | Sequential | 1.3 M  | train\n",
      "2 | loss_fn                | MSELoss    | 0      | train\n",
      "  | other params           | n/a        | 1.0 K  | n/a  \n",
      "--------------------------------------------------------------\n",
      "1.4 M     Trainable params\n",
      "0         Non-trainable params\n",
      "1.4 M     Total params\n",
      "5.720     Total estimated model params size (MB)\n",
      "11        Modules in train mode\n",
      "0         Modules in eval mode\n",
      "SLURM auto-requeueing enabled. Setting signal handlers.\n"
     ]
    },
    {
     "data": {
      "application/vnd.jupyter.widget-view+json": {
       "model_id": "d2092925cd4c48ec885ee60ea6790330",
       "version_major": 2,
       "version_minor": 0
      },
      "text/plain": [
       "Training: |          | 0/? [00:00<?, ?it/s]"
      ]
     },
     "metadata": {},
     "output_type": "display_data"
    },
    {
     "name": "stderr",
     "output_type": "stream",
     "text": [
      "`Trainer.fit` stopped: `max_epochs=10` reached.\n",
      "GPU available: True (cuda), used: True\n",
      "TPU available: False, using: 0 TPU cores\n",
      "HPU available: False, using: 0 HPUs\n",
      "LOCAL_RANK: 0 - CUDA_VISIBLE_DEVICES: [MIG-a78a595d-726f-52d3-9ad4-538866ef7a4f]\n",
      "\n",
      "  | Name                   | Type       | Params | Mode \n",
      "--------------------------------------------------------------\n",
      "0 | background_input_layer | Sequential | 130 K  | train\n",
      "1 | fc                     | Sequential | 1.3 M  | train\n",
      "2 | loss_fn                | MSELoss    | 0      | train\n",
      "  | other params           | n/a        | 1.0 K  | n/a  \n",
      "--------------------------------------------------------------\n",
      "1.4 M     Trainable params\n",
      "0         Non-trainable params\n",
      "1.4 M     Total params\n",
      "5.720     Total estimated model params size (MB)\n",
      "11        Modules in train mode\n",
      "0         Modules in eval mode\n",
      "SLURM auto-requeueing enabled. Setting signal handlers.\n"
     ]
    },
    {
     "data": {
      "application/vnd.jupyter.widget-view+json": {
       "model_id": "f6d7113ba302481191a10f7dc7e766e5",
       "version_major": 2,
       "version_minor": 0
      },
      "text/plain": [
       "Training: |          | 0/? [00:00<?, ?it/s]"
      ]
     },
     "metadata": {},
     "output_type": "display_data"
    },
    {
     "name": "stderr",
     "output_type": "stream",
     "text": [
      "`Trainer.fit` stopped: `max_epochs=10` reached.\n",
      "GPU available: True (cuda), used: True\n",
      "TPU available: False, using: 0 TPU cores\n",
      "HPU available: False, using: 0 HPUs\n",
      "LOCAL_RANK: 0 - CUDA_VISIBLE_DEVICES: [MIG-a78a595d-726f-52d3-9ad4-538866ef7a4f]\n",
      "\n",
      "  | Name                   | Type       | Params | Mode \n",
      "--------------------------------------------------------------\n",
      "0 | background_input_layer | Sequential | 130 K  | train\n",
      "1 | fc                     | Sequential | 1.3 M  | train\n",
      "2 | loss_fn                | MSELoss    | 0      | train\n",
      "  | other params           | n/a        | 1.0 K  | n/a  \n",
      "--------------------------------------------------------------\n",
      "1.4 M     Trainable params\n",
      "0         Non-trainable params\n",
      "1.4 M     Total params\n",
      "5.720     Total estimated model params size (MB)\n",
      "11        Modules in train mode\n",
      "0         Modules in eval mode\n",
      "SLURM auto-requeueing enabled. Setting signal handlers.\n"
     ]
    },
    {
     "data": {
      "application/vnd.jupyter.widget-view+json": {
       "model_id": "4d84caafafa54891bd2da8d44df52840",
       "version_major": 2,
       "version_minor": 0
      },
      "text/plain": [
       "Training: |          | 0/? [00:00<?, ?it/s]"
      ]
     },
     "metadata": {},
     "output_type": "display_data"
    },
    {
     "name": "stderr",
     "output_type": "stream",
     "text": [
      "`Trainer.fit` stopped: `max_epochs=10` reached.\n",
      "GPU available: True (cuda), used: True\n",
      "TPU available: False, using: 0 TPU cores\n",
      "HPU available: False, using: 0 HPUs\n",
      "LOCAL_RANK: 0 - CUDA_VISIBLE_DEVICES: [MIG-a78a595d-726f-52d3-9ad4-538866ef7a4f]\n",
      "\n",
      "  | Name                   | Type       | Params | Mode \n",
      "--------------------------------------------------------------\n",
      "0 | background_input_layer | Sequential | 130 K  | train\n",
      "1 | fc                     | Sequential | 1.3 M  | train\n",
      "2 | loss_fn                | MSELoss    | 0      | train\n",
      "  | other params           | n/a        | 1.0 K  | n/a  \n",
      "--------------------------------------------------------------\n",
      "1.4 M     Trainable params\n",
      "0         Non-trainable params\n",
      "1.4 M     Total params\n",
      "5.720     Total estimated model params size (MB)\n",
      "11        Modules in train mode\n",
      "0         Modules in eval mode\n",
      "SLURM auto-requeueing enabled. Setting signal handlers.\n"
     ]
    },
    {
     "data": {
      "application/vnd.jupyter.widget-view+json": {
       "model_id": "b5bf01e8870145f695ffeaca95344bbe",
       "version_major": 2,
       "version_minor": 0
      },
      "text/plain": [
       "Training: |          | 0/? [00:00<?, ?it/s]"
      ]
     },
     "metadata": {},
     "output_type": "display_data"
    },
    {
     "name": "stderr",
     "output_type": "stream",
     "text": [
      "`Trainer.fit` stopped: `max_epochs=10` reached.\n",
      "GPU available: True (cuda), used: True\n",
      "TPU available: False, using: 0 TPU cores\n",
      "HPU available: False, using: 0 HPUs\n",
      "LOCAL_RANK: 0 - CUDA_VISIBLE_DEVICES: [MIG-a78a595d-726f-52d3-9ad4-538866ef7a4f]\n",
      "\n",
      "  | Name                   | Type       | Params | Mode \n",
      "--------------------------------------------------------------\n",
      "0 | background_input_layer | Sequential | 130 K  | train\n",
      "1 | fc                     | Sequential | 1.3 M  | train\n",
      "2 | loss_fn                | MSELoss    | 0      | train\n",
      "  | other params           | n/a        | 1.0 K  | n/a  \n",
      "--------------------------------------------------------------\n",
      "1.4 M     Trainable params\n",
      "0         Non-trainable params\n",
      "1.4 M     Total params\n",
      "5.720     Total estimated model params size (MB)\n",
      "11        Modules in train mode\n",
      "0         Modules in eval mode\n",
      "SLURM auto-requeueing enabled. Setting signal handlers.\n"
     ]
    },
    {
     "data": {
      "application/vnd.jupyter.widget-view+json": {
       "model_id": "bdb1a93af0dc4a4ebbd9f6e8572d13ca",
       "version_major": 2,
       "version_minor": 0
      },
      "text/plain": [
       "Training: |          | 0/? [00:00<?, ?it/s]"
      ]
     },
     "metadata": {},
     "output_type": "display_data"
    },
    {
     "name": "stderr",
     "output_type": "stream",
     "text": [
      "`Trainer.fit` stopped: `max_epochs=10` reached.\n",
      "GPU available: True (cuda), used: True\n",
      "TPU available: False, using: 0 TPU cores\n",
      "HPU available: False, using: 0 HPUs\n",
      "LOCAL_RANK: 0 - CUDA_VISIBLE_DEVICES: [MIG-a78a595d-726f-52d3-9ad4-538866ef7a4f]\n",
      "\n",
      "  | Name                   | Type       | Params | Mode \n",
      "--------------------------------------------------------------\n",
      "0 | background_input_layer | Sequential | 130 K  | train\n",
      "1 | fc                     | Sequential | 1.3 M  | train\n",
      "2 | loss_fn                | MSELoss    | 0      | train\n",
      "  | other params           | n/a        | 1.0 K  | n/a  \n",
      "--------------------------------------------------------------\n",
      "1.4 M     Trainable params\n",
      "0         Non-trainable params\n",
      "1.4 M     Total params\n",
      "5.720     Total estimated model params size (MB)\n",
      "11        Modules in train mode\n",
      "0         Modules in eval mode\n",
      "SLURM auto-requeueing enabled. Setting signal handlers.\n"
     ]
    },
    {
     "data": {
      "application/vnd.jupyter.widget-view+json": {
       "model_id": "fda66ac2ef2843e2af8757502237744c",
       "version_major": 2,
       "version_minor": 0
      },
      "text/plain": [
       "Training: |          | 0/? [00:00<?, ?it/s]"
      ]
     },
     "metadata": {},
     "output_type": "display_data"
    },
    {
     "name": "stderr",
     "output_type": "stream",
     "text": [
      "`Trainer.fit` stopped: `max_epochs=10` reached.\n",
      "GPU available: True (cuda), used: True\n",
      "TPU available: False, using: 0 TPU cores\n",
      "HPU available: False, using: 0 HPUs\n",
      "LOCAL_RANK: 0 - CUDA_VISIBLE_DEVICES: [MIG-a78a595d-726f-52d3-9ad4-538866ef7a4f]\n",
      "\n",
      "  | Name                   | Type       | Params | Mode \n",
      "--------------------------------------------------------------\n",
      "0 | background_input_layer | Sequential | 130 K  | train\n",
      "1 | fc                     | Sequential | 1.3 M  | train\n",
      "2 | loss_fn                | MSELoss    | 0      | train\n",
      "  | other params           | n/a        | 1.0 K  | n/a  \n",
      "--------------------------------------------------------------\n",
      "1.4 M     Trainable params\n",
      "0         Non-trainable params\n",
      "1.4 M     Total params\n",
      "5.720     Total estimated model params size (MB)\n",
      "11        Modules in train mode\n",
      "0         Modules in eval mode\n",
      "SLURM auto-requeueing enabled. Setting signal handlers.\n"
     ]
    },
    {
     "data": {
      "application/vnd.jupyter.widget-view+json": {
       "model_id": "c77b1fbe155c41c1bd8fc58068107563",
       "version_major": 2,
       "version_minor": 0
      },
      "text/plain": [
       "Training: |          | 0/? [00:00<?, ?it/s]"
      ]
     },
     "metadata": {},
     "output_type": "display_data"
    },
    {
     "name": "stderr",
     "output_type": "stream",
     "text": [
      "`Trainer.fit` stopped: `max_epochs=10` reached.\n",
      "GPU available: True (cuda), used: True\n",
      "TPU available: False, using: 0 TPU cores\n",
      "HPU available: False, using: 0 HPUs\n",
      "LOCAL_RANK: 0 - CUDA_VISIBLE_DEVICES: [MIG-a78a595d-726f-52d3-9ad4-538866ef7a4f]\n",
      "\n",
      "  | Name                   | Type       | Params | Mode \n",
      "--------------------------------------------------------------\n",
      "0 | background_input_layer | Sequential | 130 K  | train\n",
      "1 | fc                     | Sequential | 1.3 M  | train\n",
      "2 | loss_fn                | MSELoss    | 0      | train\n",
      "  | other params           | n/a        | 1.0 K  | n/a  \n",
      "--------------------------------------------------------------\n",
      "1.4 M     Trainable params\n",
      "0         Non-trainable params\n",
      "1.4 M     Total params\n",
      "5.720     Total estimated model params size (MB)\n",
      "11        Modules in train mode\n",
      "0         Modules in eval mode\n",
      "SLURM auto-requeueing enabled. Setting signal handlers.\n"
     ]
    },
    {
     "data": {
      "application/vnd.jupyter.widget-view+json": {
       "model_id": "4c479e3168604f4bbfda2d041fcb562b",
       "version_major": 2,
       "version_minor": 0
      },
      "text/plain": [
       "Training: |          | 0/? [00:00<?, ?it/s]"
      ]
     },
     "metadata": {},
     "output_type": "display_data"
    },
    {
     "name": "stderr",
     "output_type": "stream",
     "text": [
      "`Trainer.fit` stopped: `max_epochs=10` reached.\n",
      "GPU available: True (cuda), used: True\n",
      "TPU available: False, using: 0 TPU cores\n",
      "HPU available: False, using: 0 HPUs\n",
      "LOCAL_RANK: 0 - CUDA_VISIBLE_DEVICES: [MIG-a78a595d-726f-52d3-9ad4-538866ef7a4f]\n",
      "\n",
      "  | Name                   | Type       | Params | Mode \n",
      "--------------------------------------------------------------\n",
      "0 | background_input_layer | Sequential | 130 K  | train\n",
      "1 | fc                     | Sequential | 1.3 M  | train\n",
      "2 | loss_fn                | MSELoss    | 0      | train\n",
      "  | other params           | n/a        | 1.0 K  | n/a  \n",
      "--------------------------------------------------------------\n",
      "1.4 M     Trainable params\n",
      "0         Non-trainable params\n",
      "1.4 M     Total params\n",
      "5.720     Total estimated model params size (MB)\n",
      "11        Modules in train mode\n",
      "0         Modules in eval mode\n",
      "SLURM auto-requeueing enabled. Setting signal handlers.\n"
     ]
    },
    {
     "data": {
      "application/vnd.jupyter.widget-view+json": {
       "model_id": "76b98f858c8b46d095a6f5a6e40e968e",
       "version_major": 2,
       "version_minor": 0
      },
      "text/plain": [
       "Training: |          | 0/? [00:00<?, ?it/s]"
      ]
     },
     "metadata": {},
     "output_type": "display_data"
    },
    {
     "name": "stderr",
     "output_type": "stream",
     "text": [
      "`Trainer.fit` stopped: `max_epochs=10` reached.\n",
      "GPU available: True (cuda), used: True\n",
      "TPU available: False, using: 0 TPU cores\n",
      "HPU available: False, using: 0 HPUs\n",
      "LOCAL_RANK: 0 - CUDA_VISIBLE_DEVICES: [MIG-a78a595d-726f-52d3-9ad4-538866ef7a4f]\n",
      "\n",
      "  | Name                   | Type       | Params | Mode \n",
      "--------------------------------------------------------------\n",
      "0 | background_input_layer | Sequential | 130 K  | train\n",
      "1 | fc                     | Sequential | 1.3 M  | train\n",
      "2 | loss_fn                | MSELoss    | 0      | train\n",
      "  | other params           | n/a        | 1.0 K  | n/a  \n",
      "--------------------------------------------------------------\n",
      "1.4 M     Trainable params\n",
      "0         Non-trainable params\n",
      "1.4 M     Total params\n",
      "5.720     Total estimated model params size (MB)\n",
      "11        Modules in train mode\n",
      "0         Modules in eval mode\n",
      "SLURM auto-requeueing enabled. Setting signal handlers.\n"
     ]
    },
    {
     "data": {
      "application/vnd.jupyter.widget-view+json": {
       "model_id": "f65e4d8a12c94bfe8138e80fae291c3d",
       "version_major": 2,
       "version_minor": 0
      },
      "text/plain": [
       "Training: |          | 0/? [00:00<?, ?it/s]"
      ]
     },
     "metadata": {},
     "output_type": "display_data"
    },
    {
     "name": "stderr",
     "output_type": "stream",
     "text": [
      "`Trainer.fit` stopped: `max_epochs=10` reached.\n",
      "GPU available: True (cuda), used: True\n",
      "TPU available: False, using: 0 TPU cores\n",
      "HPU available: False, using: 0 HPUs\n",
      "LOCAL_RANK: 0 - CUDA_VISIBLE_DEVICES: [MIG-a78a595d-726f-52d3-9ad4-538866ef7a4f]\n",
      "\n",
      "  | Name                   | Type       | Params | Mode \n",
      "--------------------------------------------------------------\n",
      "0 | background_input_layer | Sequential | 130 K  | train\n",
      "1 | fc                     | Sequential | 1.3 M  | train\n",
      "2 | loss_fn                | MSELoss    | 0      | train\n",
      "  | other params           | n/a        | 1.0 K  | n/a  \n",
      "--------------------------------------------------------------\n",
      "1.4 M     Trainable params\n",
      "0         Non-trainable params\n",
      "1.4 M     Total params\n",
      "5.720     Total estimated model params size (MB)\n",
      "11        Modules in train mode\n",
      "0         Modules in eval mode\n",
      "SLURM auto-requeueing enabled. Setting signal handlers.\n"
     ]
    },
    {
     "data": {
      "application/vnd.jupyter.widget-view+json": {
       "model_id": "d6bcf14bfce94f02b144b359cf8731e9",
       "version_major": 2,
       "version_minor": 0
      },
      "text/plain": [
       "Training: |          | 0/? [00:00<?, ?it/s]"
      ]
     },
     "metadata": {},
     "output_type": "display_data"
    },
    {
     "name": "stderr",
     "output_type": "stream",
     "text": [
      "`Trainer.fit` stopped: `max_epochs=10` reached.\n",
      "GPU available: True (cuda), used: True\n",
      "TPU available: False, using: 0 TPU cores\n",
      "HPU available: False, using: 0 HPUs\n",
      "LOCAL_RANK: 0 - CUDA_VISIBLE_DEVICES: [MIG-a78a595d-726f-52d3-9ad4-538866ef7a4f]\n",
      "\n",
      "  | Name                   | Type       | Params | Mode \n",
      "--------------------------------------------------------------\n",
      "0 | background_input_layer | Sequential | 130 K  | train\n",
      "1 | fc                     | Sequential | 1.3 M  | train\n",
      "2 | loss_fn                | MSELoss    | 0      | train\n",
      "  | other params           | n/a        | 1.0 K  | n/a  \n",
      "--------------------------------------------------------------\n",
      "1.4 M     Trainable params\n",
      "0         Non-trainable params\n",
      "1.4 M     Total params\n",
      "5.720     Total estimated model params size (MB)\n",
      "11        Modules in train mode\n",
      "0         Modules in eval mode\n",
      "SLURM auto-requeueing enabled. Setting signal handlers.\n"
     ]
    },
    {
     "data": {
      "application/vnd.jupyter.widget-view+json": {
       "model_id": "b716d951cdc446ffb031052b22e619e8",
       "version_major": 2,
       "version_minor": 0
      },
      "text/plain": [
       "Training: |          | 0/? [00:00<?, ?it/s]"
      ]
     },
     "metadata": {},
     "output_type": "display_data"
    },
    {
     "name": "stderr",
     "output_type": "stream",
     "text": [
      "`Trainer.fit` stopped: `max_epochs=10` reached.\n",
      "GPU available: True (cuda), used: True\n",
      "TPU available: False, using: 0 TPU cores\n",
      "HPU available: False, using: 0 HPUs\n",
      "LOCAL_RANK: 0 - CUDA_VISIBLE_DEVICES: [MIG-a78a595d-726f-52d3-9ad4-538866ef7a4f]\n",
      "\n",
      "  | Name                   | Type       | Params | Mode \n",
      "--------------------------------------------------------------\n",
      "0 | background_input_layer | Sequential | 130 K  | train\n",
      "1 | fc                     | Sequential | 1.3 M  | train\n",
      "2 | loss_fn                | MSELoss    | 0      | train\n",
      "  | other params           | n/a        | 1.0 K  | n/a  \n",
      "--------------------------------------------------------------\n",
      "1.4 M     Trainable params\n",
      "0         Non-trainable params\n",
      "1.4 M     Total params\n",
      "5.720     Total estimated model params size (MB)\n",
      "11        Modules in train mode\n",
      "0         Modules in eval mode\n",
      "SLURM auto-requeueing enabled. Setting signal handlers.\n"
     ]
    },
    {
     "data": {
      "application/vnd.jupyter.widget-view+json": {
       "model_id": "f1877916376a46f4b4f91ac7f79c9ed9",
       "version_major": 2,
       "version_minor": 0
      },
      "text/plain": [
       "Training: |          | 0/? [00:00<?, ?it/s]"
      ]
     },
     "metadata": {},
     "output_type": "display_data"
    },
    {
     "name": "stderr",
     "output_type": "stream",
     "text": [
      "`Trainer.fit` stopped: `max_epochs=10` reached.\n",
      "GPU available: True (cuda), used: True\n",
      "TPU available: False, using: 0 TPU cores\n",
      "HPU available: False, using: 0 HPUs\n",
      "LOCAL_RANK: 0 - CUDA_VISIBLE_DEVICES: [MIG-a78a595d-726f-52d3-9ad4-538866ef7a4f]\n",
      "\n",
      "  | Name                   | Type       | Params | Mode \n",
      "--------------------------------------------------------------\n",
      "0 | background_input_layer | Sequential | 130 K  | train\n",
      "1 | fc                     | Sequential | 1.3 M  | train\n",
      "2 | loss_fn                | MSELoss    | 0      | train\n",
      "  | other params           | n/a        | 1.0 K  | n/a  \n",
      "--------------------------------------------------------------\n",
      "1.4 M     Trainable params\n",
      "0         Non-trainable params\n",
      "1.4 M     Total params\n",
      "5.720     Total estimated model params size (MB)\n",
      "11        Modules in train mode\n",
      "0         Modules in eval mode\n",
      "SLURM auto-requeueing enabled. Setting signal handlers.\n"
     ]
    },
    {
     "data": {
      "application/vnd.jupyter.widget-view+json": {
       "model_id": "dd4b0da5df2b4c33b652754a3b5e6646",
       "version_major": 2,
       "version_minor": 0
      },
      "text/plain": [
       "Training: |          | 0/? [00:00<?, ?it/s]"
      ]
     },
     "metadata": {},
     "output_type": "display_data"
    },
    {
     "name": "stderr",
     "output_type": "stream",
     "text": [
      "`Trainer.fit` stopped: `max_epochs=10` reached.\n",
      "GPU available: True (cuda), used: True\n",
      "TPU available: False, using: 0 TPU cores\n",
      "HPU available: False, using: 0 HPUs\n",
      "LOCAL_RANK: 0 - CUDA_VISIBLE_DEVICES: [MIG-a78a595d-726f-52d3-9ad4-538866ef7a4f]\n",
      "\n",
      "  | Name                   | Type       | Params | Mode \n",
      "--------------------------------------------------------------\n",
      "0 | background_input_layer | Sequential | 130 K  | train\n",
      "1 | fc                     | Sequential | 1.3 M  | train\n",
      "2 | loss_fn                | MSELoss    | 0      | train\n",
      "  | other params           | n/a        | 1.0 K  | n/a  \n",
      "--------------------------------------------------------------\n",
      "1.4 M     Trainable params\n",
      "0         Non-trainable params\n",
      "1.4 M     Total params\n",
      "5.720     Total estimated model params size (MB)\n",
      "11        Modules in train mode\n",
      "0         Modules in eval mode\n",
      "SLURM auto-requeueing enabled. Setting signal handlers.\n"
     ]
    },
    {
     "data": {
      "application/vnd.jupyter.widget-view+json": {
       "model_id": "b5c1e612a0754f9cb177246d2aa2996a",
       "version_major": 2,
       "version_minor": 0
      },
      "text/plain": [
       "Training: |          | 0/? [00:00<?, ?it/s]"
      ]
     },
     "metadata": {},
     "output_type": "display_data"
    },
    {
     "name": "stderr",
     "output_type": "stream",
     "text": [
      "`Trainer.fit` stopped: `max_epochs=10` reached.\n",
      "GPU available: True (cuda), used: True\n",
      "TPU available: False, using: 0 TPU cores\n",
      "HPU available: False, using: 0 HPUs\n",
      "LOCAL_RANK: 0 - CUDA_VISIBLE_DEVICES: [MIG-a78a595d-726f-52d3-9ad4-538866ef7a4f]\n",
      "\n",
      "  | Name                   | Type       | Params | Mode \n",
      "--------------------------------------------------------------\n",
      "0 | background_input_layer | Sequential | 130 K  | train\n",
      "1 | fc                     | Sequential | 1.3 M  | train\n",
      "2 | loss_fn                | MSELoss    | 0      | train\n",
      "  | other params           | n/a        | 1.0 K  | n/a  \n",
      "--------------------------------------------------------------\n",
      "1.4 M     Trainable params\n",
      "0         Non-trainable params\n",
      "1.4 M     Total params\n",
      "5.720     Total estimated model params size (MB)\n",
      "11        Modules in train mode\n",
      "0         Modules in eval mode\n",
      "SLURM auto-requeueing enabled. Setting signal handlers.\n"
     ]
    },
    {
     "data": {
      "application/vnd.jupyter.widget-view+json": {
       "model_id": "e80efcf2fb2e41dbab612918c6f5214f",
       "version_major": 2,
       "version_minor": 0
      },
      "text/plain": [
       "Training: |          | 0/? [00:00<?, ?it/s]"
      ]
     },
     "metadata": {},
     "output_type": "display_data"
    },
    {
     "name": "stderr",
     "output_type": "stream",
     "text": [
      "`Trainer.fit` stopped: `max_epochs=10` reached.\n",
      "GPU available: True (cuda), used: True\n",
      "TPU available: False, using: 0 TPU cores\n",
      "HPU available: False, using: 0 HPUs\n",
      "LOCAL_RANK: 0 - CUDA_VISIBLE_DEVICES: [MIG-a78a595d-726f-52d3-9ad4-538866ef7a4f]\n",
      "\n",
      "  | Name                   | Type       | Params | Mode \n",
      "--------------------------------------------------------------\n",
      "0 | background_input_layer | Sequential | 130 K  | train\n",
      "1 | fc                     | Sequential | 1.3 M  | train\n",
      "2 | loss_fn                | MSELoss    | 0      | train\n",
      "  | other params           | n/a        | 1.0 K  | n/a  \n",
      "--------------------------------------------------------------\n",
      "1.4 M     Trainable params\n",
      "0         Non-trainable params\n",
      "1.4 M     Total params\n",
      "5.720     Total estimated model params size (MB)\n",
      "11        Modules in train mode\n",
      "0         Modules in eval mode\n",
      "SLURM auto-requeueing enabled. Setting signal handlers.\n"
     ]
    },
    {
     "data": {
      "application/vnd.jupyter.widget-view+json": {
       "model_id": "be6574984780455f80a221e456c750d0",
       "version_major": 2,
       "version_minor": 0
      },
      "text/plain": [
       "Training: |          | 0/? [00:00<?, ?it/s]"
      ]
     },
     "metadata": {},
     "output_type": "display_data"
    },
    {
     "name": "stderr",
     "output_type": "stream",
     "text": [
      "`Trainer.fit` stopped: `max_epochs=10` reached.\n",
      "GPU available: True (cuda), used: True\n",
      "TPU available: False, using: 0 TPU cores\n",
      "HPU available: False, using: 0 HPUs\n",
      "LOCAL_RANK: 0 - CUDA_VISIBLE_DEVICES: [MIG-a78a595d-726f-52d3-9ad4-538866ef7a4f]\n",
      "\n",
      "  | Name                   | Type       | Params | Mode \n",
      "--------------------------------------------------------------\n",
      "0 | background_input_layer | Sequential | 130 K  | train\n",
      "1 | fc                     | Sequential | 1.3 M  | train\n",
      "2 | loss_fn                | MSELoss    | 0      | train\n",
      "  | other params           | n/a        | 1.0 K  | n/a  \n",
      "--------------------------------------------------------------\n",
      "1.4 M     Trainable params\n",
      "0         Non-trainable params\n",
      "1.4 M     Total params\n",
      "5.720     Total estimated model params size (MB)\n",
      "11        Modules in train mode\n",
      "0         Modules in eval mode\n",
      "SLURM auto-requeueing enabled. Setting signal handlers.\n"
     ]
    },
    {
     "data": {
      "application/vnd.jupyter.widget-view+json": {
       "model_id": "eb901043fcd944d58af167fb5d220777",
       "version_major": 2,
       "version_minor": 0
      },
      "text/plain": [
       "Training: |          | 0/? [00:00<?, ?it/s]"
      ]
     },
     "metadata": {},
     "output_type": "display_data"
    },
    {
     "name": "stderr",
     "output_type": "stream",
     "text": [
      "`Trainer.fit` stopped: `max_epochs=10` reached.\n",
      "GPU available: True (cuda), used: True\n",
      "TPU available: False, using: 0 TPU cores\n",
      "HPU available: False, using: 0 HPUs\n",
      "LOCAL_RANK: 0 - CUDA_VISIBLE_DEVICES: [MIG-a78a595d-726f-52d3-9ad4-538866ef7a4f]\n",
      "\n",
      "  | Name                   | Type       | Params | Mode \n",
      "--------------------------------------------------------------\n",
      "0 | background_input_layer | Sequential | 130 K  | train\n",
      "1 | fc                     | Sequential | 1.3 M  | train\n",
      "2 | loss_fn                | MSELoss    | 0      | train\n",
      "  | other params           | n/a        | 1.0 K  | n/a  \n",
      "--------------------------------------------------------------\n",
      "1.4 M     Trainable params\n",
      "0         Non-trainable params\n",
      "1.4 M     Total params\n",
      "5.720     Total estimated model params size (MB)\n",
      "11        Modules in train mode\n",
      "0         Modules in eval mode\n",
      "SLURM auto-requeueing enabled. Setting signal handlers.\n"
     ]
    },
    {
     "data": {
      "application/vnd.jupyter.widget-view+json": {
       "model_id": "eb6ed6bac26d40409ea93a51f4ad60fd",
       "version_major": 2,
       "version_minor": 0
      },
      "text/plain": [
       "Training: |          | 0/? [00:00<?, ?it/s]"
      ]
     },
     "metadata": {},
     "output_type": "display_data"
    },
    {
     "name": "stderr",
     "output_type": "stream",
     "text": [
      "`Trainer.fit` stopped: `max_epochs=10` reached.\n",
      "GPU available: True (cuda), used: True\n",
      "TPU available: False, using: 0 TPU cores\n",
      "HPU available: False, using: 0 HPUs\n",
      "LOCAL_RANK: 0 - CUDA_VISIBLE_DEVICES: [MIG-a78a595d-726f-52d3-9ad4-538866ef7a4f]\n",
      "\n",
      "  | Name                   | Type       | Params | Mode \n",
      "--------------------------------------------------------------\n",
      "0 | background_input_layer | Sequential | 130 K  | train\n",
      "1 | fc                     | Sequential | 1.3 M  | train\n",
      "2 | loss_fn                | MSELoss    | 0      | train\n",
      "  | other params           | n/a        | 1.0 K  | n/a  \n",
      "--------------------------------------------------------------\n",
      "1.4 M     Trainable params\n",
      "0         Non-trainable params\n",
      "1.4 M     Total params\n",
      "5.720     Total estimated model params size (MB)\n",
      "11        Modules in train mode\n",
      "0         Modules in eval mode\n",
      "SLURM auto-requeueing enabled. Setting signal handlers.\n"
     ]
    },
    {
     "data": {
      "application/vnd.jupyter.widget-view+json": {
       "model_id": "8ec7a879c2f2469d8a94607c3615d0cc",
       "version_major": 2,
       "version_minor": 0
      },
      "text/plain": [
       "Training: |          | 0/? [00:00<?, ?it/s]"
      ]
     },
     "metadata": {},
     "output_type": "display_data"
    },
    {
     "name": "stderr",
     "output_type": "stream",
     "text": [
      "`Trainer.fit` stopped: `max_epochs=10` reached.\n",
      "GPU available: True (cuda), used: True\n",
      "TPU available: False, using: 0 TPU cores\n",
      "HPU available: False, using: 0 HPUs\n",
      "LOCAL_RANK: 0 - CUDA_VISIBLE_DEVICES: [MIG-a78a595d-726f-52d3-9ad4-538866ef7a4f]\n",
      "\n",
      "  | Name                   | Type       | Params | Mode \n",
      "--------------------------------------------------------------\n",
      "0 | background_input_layer | Sequential | 130 K  | train\n",
      "1 | fc                     | Sequential | 1.3 M  | train\n",
      "2 | loss_fn                | MSELoss    | 0      | train\n",
      "  | other params           | n/a        | 1.0 K  | n/a  \n",
      "--------------------------------------------------------------\n",
      "1.4 M     Trainable params\n",
      "0         Non-trainable params\n",
      "1.4 M     Total params\n",
      "5.720     Total estimated model params size (MB)\n",
      "11        Modules in train mode\n",
      "0         Modules in eval mode\n",
      "SLURM auto-requeueing enabled. Setting signal handlers.\n"
     ]
    },
    {
     "data": {
      "application/vnd.jupyter.widget-view+json": {
       "model_id": "92c58a7098b44edaac95ce6cfe443e4c",
       "version_major": 2,
       "version_minor": 0
      },
      "text/plain": [
       "Training: |          | 0/? [00:00<?, ?it/s]"
      ]
     },
     "metadata": {},
     "output_type": "display_data"
    },
    {
     "name": "stderr",
     "output_type": "stream",
     "text": [
      "`Trainer.fit` stopped: `max_epochs=10` reached.\n",
      "GPU available: True (cuda), used: True\n",
      "TPU available: False, using: 0 TPU cores\n",
      "HPU available: False, using: 0 HPUs\n",
      "LOCAL_RANK: 0 - CUDA_VISIBLE_DEVICES: [MIG-a78a595d-726f-52d3-9ad4-538866ef7a4f]\n",
      "\n",
      "  | Name                   | Type       | Params | Mode \n",
      "--------------------------------------------------------------\n",
      "0 | background_input_layer | Sequential | 130 K  | train\n",
      "1 | fc                     | Sequential | 1.3 M  | train\n",
      "2 | loss_fn                | MSELoss    | 0      | train\n",
      "  | other params           | n/a        | 1.0 K  | n/a  \n",
      "--------------------------------------------------------------\n",
      "1.4 M     Trainable params\n",
      "0         Non-trainable params\n",
      "1.4 M     Total params\n",
      "5.720     Total estimated model params size (MB)\n",
      "11        Modules in train mode\n",
      "0         Modules in eval mode\n",
      "SLURM auto-requeueing enabled. Setting signal handlers.\n"
     ]
    },
    {
     "data": {
      "application/vnd.jupyter.widget-view+json": {
       "model_id": "3d5d5a63885a4cae9d52818be819615a",
       "version_major": 2,
       "version_minor": 0
      },
      "text/plain": [
       "Training: |          | 0/? [00:00<?, ?it/s]"
      ]
     },
     "metadata": {},
     "output_type": "display_data"
    },
    {
     "name": "stderr",
     "output_type": "stream",
     "text": [
      "`Trainer.fit` stopped: `max_epochs=10` reached.\n",
      "GPU available: True (cuda), used: True\n",
      "TPU available: False, using: 0 TPU cores\n",
      "HPU available: False, using: 0 HPUs\n",
      "LOCAL_RANK: 0 - CUDA_VISIBLE_DEVICES: [MIG-a78a595d-726f-52d3-9ad4-538866ef7a4f]\n",
      "\n",
      "  | Name                   | Type       | Params | Mode \n",
      "--------------------------------------------------------------\n",
      "0 | background_input_layer | Sequential | 130 K  | train\n",
      "1 | fc                     | Sequential | 1.3 M  | train\n",
      "2 | loss_fn                | MSELoss    | 0      | train\n",
      "  | other params           | n/a        | 1.0 K  | n/a  \n",
      "--------------------------------------------------------------\n",
      "1.4 M     Trainable params\n",
      "0         Non-trainable params\n",
      "1.4 M     Total params\n",
      "5.720     Total estimated model params size (MB)\n",
      "11        Modules in train mode\n",
      "0         Modules in eval mode\n",
      "SLURM auto-requeueing enabled. Setting signal handlers.\n"
     ]
    },
    {
     "data": {
      "application/vnd.jupyter.widget-view+json": {
       "model_id": "5d4300d97e4c4ae9bb9f661d43912f78",
       "version_major": 2,
       "version_minor": 0
      },
      "text/plain": [
       "Training: |          | 0/? [00:00<?, ?it/s]"
      ]
     },
     "metadata": {},
     "output_type": "display_data"
    },
    {
     "name": "stderr",
     "output_type": "stream",
     "text": [
      "`Trainer.fit` stopped: `max_epochs=10` reached.\n",
      "GPU available: True (cuda), used: True\n",
      "TPU available: False, using: 0 TPU cores\n",
      "HPU available: False, using: 0 HPUs\n",
      "LOCAL_RANK: 0 - CUDA_VISIBLE_DEVICES: [MIG-a78a595d-726f-52d3-9ad4-538866ef7a4f]\n",
      "\n",
      "  | Name                   | Type       | Params | Mode \n",
      "--------------------------------------------------------------\n",
      "0 | background_input_layer | Sequential | 130 K  | train\n",
      "1 | fc                     | Sequential | 1.3 M  | train\n",
      "2 | loss_fn                | MSELoss    | 0      | train\n",
      "  | other params           | n/a        | 1.0 K  | n/a  \n",
      "--------------------------------------------------------------\n",
      "1.4 M     Trainable params\n",
      "0         Non-trainable params\n",
      "1.4 M     Total params\n",
      "5.720     Total estimated model params size (MB)\n",
      "11        Modules in train mode\n",
      "0         Modules in eval mode\n",
      "SLURM auto-requeueing enabled. Setting signal handlers.\n"
     ]
    },
    {
     "data": {
      "application/vnd.jupyter.widget-view+json": {
       "model_id": "6a256f55512f4ba28779f05004fff37d",
       "version_major": 2,
       "version_minor": 0
      },
      "text/plain": [
       "Training: |          | 0/? [00:00<?, ?it/s]"
      ]
     },
     "metadata": {},
     "output_type": "display_data"
    },
    {
     "name": "stderr",
     "output_type": "stream",
     "text": [
      "`Trainer.fit` stopped: `max_epochs=10` reached.\n",
      "GPU available: True (cuda), used: True\n",
      "TPU available: False, using: 0 TPU cores\n",
      "HPU available: False, using: 0 HPUs\n",
      "LOCAL_RANK: 0 - CUDA_VISIBLE_DEVICES: [MIG-a78a595d-726f-52d3-9ad4-538866ef7a4f]\n",
      "\n",
      "  | Name                   | Type       | Params | Mode \n",
      "--------------------------------------------------------------\n",
      "0 | background_input_layer | Sequential | 130 K  | train\n",
      "1 | fc                     | Sequential | 1.3 M  | train\n",
      "2 | loss_fn                | MSELoss    | 0      | train\n",
      "  | other params           | n/a        | 1.0 K  | n/a  \n",
      "--------------------------------------------------------------\n",
      "1.4 M     Trainable params\n",
      "0         Non-trainable params\n",
      "1.4 M     Total params\n",
      "5.720     Total estimated model params size (MB)\n",
      "11        Modules in train mode\n",
      "0         Modules in eval mode\n",
      "SLURM auto-requeueing enabled. Setting signal handlers.\n"
     ]
    },
    {
     "data": {
      "application/vnd.jupyter.widget-view+json": {
       "model_id": "2bd30a7e16854b23817e64d36a3c97aa",
       "version_major": 2,
       "version_minor": 0
      },
      "text/plain": [
       "Training: |          | 0/? [00:00<?, ?it/s]"
      ]
     },
     "metadata": {},
     "output_type": "display_data"
    },
    {
     "name": "stderr",
     "output_type": "stream",
     "text": [
      "`Trainer.fit` stopped: `max_epochs=10` reached.\n",
      "GPU available: True (cuda), used: True\n",
      "TPU available: False, using: 0 TPU cores\n",
      "HPU available: False, using: 0 HPUs\n",
      "LOCAL_RANK: 0 - CUDA_VISIBLE_DEVICES: [MIG-a78a595d-726f-52d3-9ad4-538866ef7a4f]\n",
      "\n",
      "  | Name                   | Type       | Params | Mode \n",
      "--------------------------------------------------------------\n",
      "0 | background_input_layer | Sequential | 130 K  | train\n",
      "1 | fc                     | Sequential | 1.3 M  | train\n",
      "2 | loss_fn                | MSELoss    | 0      | train\n",
      "  | other params           | n/a        | 1.0 K  | n/a  \n",
      "--------------------------------------------------------------\n",
      "1.4 M     Trainable params\n",
      "0         Non-trainable params\n",
      "1.4 M     Total params\n",
      "5.720     Total estimated model params size (MB)\n",
      "11        Modules in train mode\n",
      "0         Modules in eval mode\n",
      "SLURM auto-requeueing enabled. Setting signal handlers.\n"
     ]
    },
    {
     "data": {
      "application/vnd.jupyter.widget-view+json": {
       "model_id": "bad0a224028a4f25bc1b9ae0245cbdc6",
       "version_major": 2,
       "version_minor": 0
      },
      "text/plain": [
       "Training: |          | 0/? [00:00<?, ?it/s]"
      ]
     },
     "metadata": {},
     "output_type": "display_data"
    },
    {
     "name": "stderr",
     "output_type": "stream",
     "text": [
      "`Trainer.fit` stopped: `max_epochs=10` reached.\n",
      "GPU available: True (cuda), used: True\n",
      "TPU available: False, using: 0 TPU cores\n",
      "HPU available: False, using: 0 HPUs\n",
      "LOCAL_RANK: 0 - CUDA_VISIBLE_DEVICES: [MIG-a78a595d-726f-52d3-9ad4-538866ef7a4f]\n",
      "\n",
      "  | Name                   | Type       | Params | Mode \n",
      "--------------------------------------------------------------\n",
      "0 | background_input_layer | Sequential | 130 K  | train\n",
      "1 | fc                     | Sequential | 1.3 M  | train\n",
      "2 | loss_fn                | MSELoss    | 0      | train\n",
      "  | other params           | n/a        | 1.0 K  | n/a  \n",
      "--------------------------------------------------------------\n",
      "1.4 M     Trainable params\n",
      "0         Non-trainable params\n",
      "1.4 M     Total params\n",
      "5.720     Total estimated model params size (MB)\n",
      "11        Modules in train mode\n",
      "0         Modules in eval mode\n",
      "SLURM auto-requeueing enabled. Setting signal handlers.\n"
     ]
    },
    {
     "data": {
      "application/vnd.jupyter.widget-view+json": {
       "model_id": "1f89f70600ad461c99122b2852a32038",
       "version_major": 2,
       "version_minor": 0
      },
      "text/plain": [
       "Training: |          | 0/? [00:00<?, ?it/s]"
      ]
     },
     "metadata": {},
     "output_type": "display_data"
    },
    {
     "name": "stderr",
     "output_type": "stream",
     "text": [
      "`Trainer.fit` stopped: `max_epochs=10` reached.\n",
      "GPU available: True (cuda), used: True\n",
      "TPU available: False, using: 0 TPU cores\n",
      "HPU available: False, using: 0 HPUs\n",
      "LOCAL_RANK: 0 - CUDA_VISIBLE_DEVICES: [MIG-a78a595d-726f-52d3-9ad4-538866ef7a4f]\n",
      "\n",
      "  | Name                   | Type       | Params | Mode \n",
      "--------------------------------------------------------------\n",
      "0 | background_input_layer | Sequential | 130 K  | train\n",
      "1 | fc                     | Sequential | 1.3 M  | train\n",
      "2 | loss_fn                | MSELoss    | 0      | train\n",
      "  | other params           | n/a        | 1.0 K  | n/a  \n",
      "--------------------------------------------------------------\n",
      "1.4 M     Trainable params\n",
      "0         Non-trainable params\n",
      "1.4 M     Total params\n",
      "5.720     Total estimated model params size (MB)\n",
      "11        Modules in train mode\n",
      "0         Modules in eval mode\n",
      "SLURM auto-requeueing enabled. Setting signal handlers.\n"
     ]
    },
    {
     "data": {
      "application/vnd.jupyter.widget-view+json": {
       "model_id": "564a9e5357b944b8a63de18dcfed0030",
       "version_major": 2,
       "version_minor": 0
      },
      "text/plain": [
       "Training: |          | 0/? [00:00<?, ?it/s]"
      ]
     },
     "metadata": {},
     "output_type": "display_data"
    },
    {
     "name": "stderr",
     "output_type": "stream",
     "text": [
      "`Trainer.fit` stopped: `max_epochs=10` reached.\n",
      "GPU available: True (cuda), used: True\n",
      "TPU available: False, using: 0 TPU cores\n",
      "HPU available: False, using: 0 HPUs\n",
      "LOCAL_RANK: 0 - CUDA_VISIBLE_DEVICES: [MIG-a78a595d-726f-52d3-9ad4-538866ef7a4f]\n",
      "\n",
      "  | Name                   | Type       | Params | Mode \n",
      "--------------------------------------------------------------\n",
      "0 | background_input_layer | Sequential | 130 K  | train\n",
      "1 | fc                     | Sequential | 1.3 M  | train\n",
      "2 | loss_fn                | MSELoss    | 0      | train\n",
      "  | other params           | n/a        | 1.0 K  | n/a  \n",
      "--------------------------------------------------------------\n",
      "1.4 M     Trainable params\n",
      "0         Non-trainable params\n",
      "1.4 M     Total params\n",
      "5.720     Total estimated model params size (MB)\n",
      "11        Modules in train mode\n",
      "0         Modules in eval mode\n",
      "SLURM auto-requeueing enabled. Setting signal handlers.\n"
     ]
    },
    {
     "data": {
      "application/vnd.jupyter.widget-view+json": {
       "model_id": "a9d08b35527b43f5bc0ebb2ba554fe02",
       "version_major": 2,
       "version_minor": 0
      },
      "text/plain": [
       "Training: |          | 0/? [00:00<?, ?it/s]"
      ]
     },
     "metadata": {},
     "output_type": "display_data"
    },
    {
     "name": "stderr",
     "output_type": "stream",
     "text": [
      "`Trainer.fit` stopped: `max_epochs=10` reached.\n",
      "GPU available: True (cuda), used: True\n",
      "TPU available: False, using: 0 TPU cores\n",
      "HPU available: False, using: 0 HPUs\n",
      "LOCAL_RANK: 0 - CUDA_VISIBLE_DEVICES: [MIG-a78a595d-726f-52d3-9ad4-538866ef7a4f]\n",
      "\n",
      "  | Name                   | Type       | Params | Mode \n",
      "--------------------------------------------------------------\n",
      "0 | background_input_layer | Sequential | 130 K  | train\n",
      "1 | fc                     | Sequential | 1.3 M  | train\n",
      "2 | loss_fn                | MSELoss    | 0      | train\n",
      "  | other params           | n/a        | 1.0 K  | n/a  \n",
      "--------------------------------------------------------------\n",
      "1.4 M     Trainable params\n",
      "0         Non-trainable params\n",
      "1.4 M     Total params\n",
      "5.720     Total estimated model params size (MB)\n",
      "11        Modules in train mode\n",
      "0         Modules in eval mode\n",
      "SLURM auto-requeueing enabled. Setting signal handlers.\n"
     ]
    },
    {
     "data": {
      "application/vnd.jupyter.widget-view+json": {
       "model_id": "53d53dd0f7474ac391bccdce16afa277",
       "version_major": 2,
       "version_minor": 0
      },
      "text/plain": [
       "Training: |          | 0/? [00:00<?, ?it/s]"
      ]
     },
     "metadata": {},
     "output_type": "display_data"
    },
    {
     "name": "stderr",
     "output_type": "stream",
     "text": [
      "`Trainer.fit` stopped: `max_epochs=10` reached.\n",
      "GPU available: True (cuda), used: True\n",
      "TPU available: False, using: 0 TPU cores\n",
      "HPU available: False, using: 0 HPUs\n",
      "LOCAL_RANK: 0 - CUDA_VISIBLE_DEVICES: [MIG-a78a595d-726f-52d3-9ad4-538866ef7a4f]\n",
      "\n",
      "  | Name                   | Type       | Params | Mode \n",
      "--------------------------------------------------------------\n",
      "0 | background_input_layer | Sequential | 130 K  | train\n",
      "1 | fc                     | Sequential | 1.3 M  | train\n",
      "2 | loss_fn                | MSELoss    | 0      | train\n",
      "  | other params           | n/a        | 1.0 K  | n/a  \n",
      "--------------------------------------------------------------\n",
      "1.4 M     Trainable params\n",
      "0         Non-trainable params\n",
      "1.4 M     Total params\n",
      "5.720     Total estimated model params size (MB)\n",
      "11        Modules in train mode\n",
      "0         Modules in eval mode\n",
      "SLURM auto-requeueing enabled. Setting signal handlers.\n"
     ]
    },
    {
     "data": {
      "application/vnd.jupyter.widget-view+json": {
       "model_id": "63791b6b30ed414bb293e33726a1d6fe",
       "version_major": 2,
       "version_minor": 0
      },
      "text/plain": [
       "Training: |          | 0/? [00:00<?, ?it/s]"
      ]
     },
     "metadata": {},
     "output_type": "display_data"
    },
    {
     "name": "stderr",
     "output_type": "stream",
     "text": [
      "`Trainer.fit` stopped: `max_epochs=10` reached.\n",
      "GPU available: True (cuda), used: True\n",
      "TPU available: False, using: 0 TPU cores\n",
      "HPU available: False, using: 0 HPUs\n",
      "LOCAL_RANK: 0 - CUDA_VISIBLE_DEVICES: [MIG-a78a595d-726f-52d3-9ad4-538866ef7a4f]\n",
      "\n",
      "  | Name                   | Type       | Params | Mode \n",
      "--------------------------------------------------------------\n",
      "0 | background_input_layer | Sequential | 130 K  | train\n",
      "1 | fc                     | Sequential | 1.3 M  | train\n",
      "2 | loss_fn                | MSELoss    | 0      | train\n",
      "  | other params           | n/a        | 1.0 K  | n/a  \n",
      "--------------------------------------------------------------\n",
      "1.4 M     Trainable params\n",
      "0         Non-trainable params\n",
      "1.4 M     Total params\n",
      "5.720     Total estimated model params size (MB)\n",
      "11        Modules in train mode\n",
      "0         Modules in eval mode\n",
      "SLURM auto-requeueing enabled. Setting signal handlers.\n"
     ]
    },
    {
     "data": {
      "application/vnd.jupyter.widget-view+json": {
       "model_id": "a9d8d2c0eb224d0eb3fe0d3c3a9cc7ae",
       "version_major": 2,
       "version_minor": 0
      },
      "text/plain": [
       "Training: |          | 0/? [00:00<?, ?it/s]"
      ]
     },
     "metadata": {},
     "output_type": "display_data"
    },
    {
     "name": "stderr",
     "output_type": "stream",
     "text": [
      "`Trainer.fit` stopped: `max_epochs=10` reached.\n",
      "GPU available: True (cuda), used: True\n",
      "TPU available: False, using: 0 TPU cores\n",
      "HPU available: False, using: 0 HPUs\n",
      "LOCAL_RANK: 0 - CUDA_VISIBLE_DEVICES: [MIG-a78a595d-726f-52d3-9ad4-538866ef7a4f]\n",
      "\n",
      "  | Name                   | Type       | Params | Mode \n",
      "--------------------------------------------------------------\n",
      "0 | background_input_layer | Sequential | 130 K  | train\n",
      "1 | fc                     | Sequential | 1.3 M  | train\n",
      "2 | loss_fn                | MSELoss    | 0      | train\n",
      "  | other params           | n/a        | 1.0 K  | n/a  \n",
      "--------------------------------------------------------------\n",
      "1.4 M     Trainable params\n",
      "0         Non-trainable params\n",
      "1.4 M     Total params\n",
      "5.720     Total estimated model params size (MB)\n",
      "11        Modules in train mode\n",
      "0         Modules in eval mode\n",
      "SLURM auto-requeueing enabled. Setting signal handlers.\n"
     ]
    },
    {
     "data": {
      "application/vnd.jupyter.widget-view+json": {
       "model_id": "27303e083a384070bd1d02be84c6bd15",
       "version_major": 2,
       "version_minor": 0
      },
      "text/plain": [
       "Training: |          | 0/? [00:00<?, ?it/s]"
      ]
     },
     "metadata": {},
     "output_type": "display_data"
    },
    {
     "name": "stderr",
     "output_type": "stream",
     "text": [
      "`Trainer.fit` stopped: `max_epochs=10` reached.\n",
      "GPU available: True (cuda), used: True\n",
      "TPU available: False, using: 0 TPU cores\n",
      "HPU available: False, using: 0 HPUs\n",
      "LOCAL_RANK: 0 - CUDA_VISIBLE_DEVICES: [MIG-a78a595d-726f-52d3-9ad4-538866ef7a4f]\n",
      "\n",
      "  | Name                   | Type       | Params | Mode \n",
      "--------------------------------------------------------------\n",
      "0 | background_input_layer | Sequential | 130 K  | train\n",
      "1 | fc                     | Sequential | 1.3 M  | train\n",
      "2 | loss_fn                | MSELoss    | 0      | train\n",
      "  | other params           | n/a        | 1.0 K  | n/a  \n",
      "--------------------------------------------------------------\n",
      "1.4 M     Trainable params\n",
      "0         Non-trainable params\n",
      "1.4 M     Total params\n",
      "5.720     Total estimated model params size (MB)\n",
      "11        Modules in train mode\n",
      "0         Modules in eval mode\n",
      "SLURM auto-requeueing enabled. Setting signal handlers.\n"
     ]
    },
    {
     "data": {
      "application/vnd.jupyter.widget-view+json": {
       "model_id": "edb754ecd18d4fcf84e767eadbe02241",
       "version_major": 2,
       "version_minor": 0
      },
      "text/plain": [
       "Training: |          | 0/? [00:00<?, ?it/s]"
      ]
     },
     "metadata": {},
     "output_type": "display_data"
    },
    {
     "name": "stderr",
     "output_type": "stream",
     "text": [
      "`Trainer.fit` stopped: `max_epochs=10` reached.\n",
      "GPU available: True (cuda), used: True\n",
      "TPU available: False, using: 0 TPU cores\n",
      "HPU available: False, using: 0 HPUs\n",
      "LOCAL_RANK: 0 - CUDA_VISIBLE_DEVICES: [MIG-a78a595d-726f-52d3-9ad4-538866ef7a4f]\n",
      "\n",
      "  | Name                   | Type       | Params | Mode \n",
      "--------------------------------------------------------------\n",
      "0 | background_input_layer | Sequential | 130 K  | train\n",
      "1 | fc                     | Sequential | 1.3 M  | train\n",
      "2 | loss_fn                | MSELoss    | 0      | train\n",
      "  | other params           | n/a        | 1.0 K  | n/a  \n",
      "--------------------------------------------------------------\n",
      "1.4 M     Trainable params\n",
      "0         Non-trainable params\n",
      "1.4 M     Total params\n",
      "5.720     Total estimated model params size (MB)\n",
      "11        Modules in train mode\n",
      "0         Modules in eval mode\n",
      "SLURM auto-requeueing enabled. Setting signal handlers.\n"
     ]
    },
    {
     "data": {
      "application/vnd.jupyter.widget-view+json": {
       "model_id": "d6053078d236457c994dfd4c08066fd5",
       "version_major": 2,
       "version_minor": 0
      },
      "text/plain": [
       "Training: |          | 0/? [00:00<?, ?it/s]"
      ]
     },
     "metadata": {},
     "output_type": "display_data"
    },
    {
     "name": "stderr",
     "output_type": "stream",
     "text": [
      "`Trainer.fit` stopped: `max_epochs=10` reached.\n",
      "GPU available: True (cuda), used: True\n",
      "TPU available: False, using: 0 TPU cores\n",
      "HPU available: False, using: 0 HPUs\n",
      "LOCAL_RANK: 0 - CUDA_VISIBLE_DEVICES: [MIG-a78a595d-726f-52d3-9ad4-538866ef7a4f]\n",
      "\n",
      "  | Name                   | Type       | Params | Mode \n",
      "--------------------------------------------------------------\n",
      "0 | background_input_layer | Sequential | 130 K  | train\n",
      "1 | fc                     | Sequential | 1.3 M  | train\n",
      "2 | loss_fn                | MSELoss    | 0      | train\n",
      "  | other params           | n/a        | 1.0 K  | n/a  \n",
      "--------------------------------------------------------------\n",
      "1.4 M     Trainable params\n",
      "0         Non-trainable params\n",
      "1.4 M     Total params\n",
      "5.720     Total estimated model params size (MB)\n",
      "11        Modules in train mode\n",
      "0         Modules in eval mode\n",
      "SLURM auto-requeueing enabled. Setting signal handlers.\n"
     ]
    },
    {
     "data": {
      "application/vnd.jupyter.widget-view+json": {
       "model_id": "f4976d90783c44df9bdb5f9763a0dff2",
       "version_major": 2,
       "version_minor": 0
      },
      "text/plain": [
       "Training: |          | 0/? [00:00<?, ?it/s]"
      ]
     },
     "metadata": {},
     "output_type": "display_data"
    },
    {
     "name": "stderr",
     "output_type": "stream",
     "text": [
      "`Trainer.fit` stopped: `max_epochs=10` reached.\n",
      "GPU available: True (cuda), used: True\n",
      "TPU available: False, using: 0 TPU cores\n",
      "HPU available: False, using: 0 HPUs\n",
      "LOCAL_RANK: 0 - CUDA_VISIBLE_DEVICES: [MIG-a78a595d-726f-52d3-9ad4-538866ef7a4f]\n",
      "\n",
      "  | Name                   | Type       | Params | Mode \n",
      "--------------------------------------------------------------\n",
      "0 | background_input_layer | Sequential | 130 K  | train\n",
      "1 | fc                     | Sequential | 1.3 M  | train\n",
      "2 | loss_fn                | MSELoss    | 0      | train\n",
      "  | other params           | n/a        | 1.0 K  | n/a  \n",
      "--------------------------------------------------------------\n",
      "1.4 M     Trainable params\n",
      "0         Non-trainable params\n",
      "1.4 M     Total params\n",
      "5.720     Total estimated model params size (MB)\n",
      "11        Modules in train mode\n",
      "0         Modules in eval mode\n",
      "SLURM auto-requeueing enabled. Setting signal handlers.\n"
     ]
    },
    {
     "data": {
      "application/vnd.jupyter.widget-view+json": {
       "model_id": "ca4b64996864487bb05abef2d653088c",
       "version_major": 2,
       "version_minor": 0
      },
      "text/plain": [
       "Training: |          | 0/? [00:00<?, ?it/s]"
      ]
     },
     "metadata": {},
     "output_type": "display_data"
    },
    {
     "name": "stderr",
     "output_type": "stream",
     "text": [
      "`Trainer.fit` stopped: `max_epochs=10` reached.\n",
      "GPU available: True (cuda), used: True\n",
      "TPU available: False, using: 0 TPU cores\n",
      "HPU available: False, using: 0 HPUs\n",
      "LOCAL_RANK: 0 - CUDA_VISIBLE_DEVICES: [MIG-a78a595d-726f-52d3-9ad4-538866ef7a4f]\n",
      "\n",
      "  | Name                   | Type       | Params | Mode \n",
      "--------------------------------------------------------------\n",
      "0 | background_input_layer | Sequential | 130 K  | train\n",
      "1 | fc                     | Sequential | 1.3 M  | train\n",
      "2 | loss_fn                | MSELoss    | 0      | train\n",
      "  | other params           | n/a        | 1.0 K  | n/a  \n",
      "--------------------------------------------------------------\n",
      "1.4 M     Trainable params\n",
      "0         Non-trainable params\n",
      "1.4 M     Total params\n",
      "5.720     Total estimated model params size (MB)\n",
      "11        Modules in train mode\n",
      "0         Modules in eval mode\n",
      "SLURM auto-requeueing enabled. Setting signal handlers.\n"
     ]
    },
    {
     "data": {
      "application/vnd.jupyter.widget-view+json": {
       "model_id": "166816317a4849c68dd653c66edde0a2",
       "version_major": 2,
       "version_minor": 0
      },
      "text/plain": [
       "Training: |          | 0/? [00:00<?, ?it/s]"
      ]
     },
     "metadata": {},
     "output_type": "display_data"
    },
    {
     "name": "stderr",
     "output_type": "stream",
     "text": [
      "`Trainer.fit` stopped: `max_epochs=10` reached.\n",
      "GPU available: True (cuda), used: True\n",
      "TPU available: False, using: 0 TPU cores\n",
      "HPU available: False, using: 0 HPUs\n",
      "LOCAL_RANK: 0 - CUDA_VISIBLE_DEVICES: [MIG-a78a595d-726f-52d3-9ad4-538866ef7a4f]\n",
      "\n",
      "  | Name                   | Type       | Params | Mode \n",
      "--------------------------------------------------------------\n",
      "0 | background_input_layer | Sequential | 130 K  | train\n",
      "1 | fc                     | Sequential | 1.3 M  | train\n",
      "2 | loss_fn                | MSELoss    | 0      | train\n",
      "  | other params           | n/a        | 1.0 K  | n/a  \n",
      "--------------------------------------------------------------\n",
      "1.4 M     Trainable params\n",
      "0         Non-trainable params\n",
      "1.4 M     Total params\n",
      "5.720     Total estimated model params size (MB)\n",
      "11        Modules in train mode\n",
      "0         Modules in eval mode\n",
      "SLURM auto-requeueing enabled. Setting signal handlers.\n"
     ]
    },
    {
     "data": {
      "application/vnd.jupyter.widget-view+json": {
       "model_id": "b896a82a3864466c8fc4d71fb31cc9cc",
       "version_major": 2,
       "version_minor": 0
      },
      "text/plain": [
       "Training: |          | 0/? [00:00<?, ?it/s]"
      ]
     },
     "metadata": {},
     "output_type": "display_data"
    },
    {
     "name": "stderr",
     "output_type": "stream",
     "text": [
      "`Trainer.fit` stopped: `max_epochs=10` reached.\n",
      "GPU available: True (cuda), used: True\n",
      "TPU available: False, using: 0 TPU cores\n",
      "HPU available: False, using: 0 HPUs\n",
      "LOCAL_RANK: 0 - CUDA_VISIBLE_DEVICES: [MIG-a78a595d-726f-52d3-9ad4-538866ef7a4f]\n",
      "\n",
      "  | Name                   | Type       | Params | Mode \n",
      "--------------------------------------------------------------\n",
      "0 | background_input_layer | Sequential | 130 K  | train\n",
      "1 | fc                     | Sequential | 1.3 M  | train\n",
      "2 | loss_fn                | MSELoss    | 0      | train\n",
      "  | other params           | n/a        | 1.0 K  | n/a  \n",
      "--------------------------------------------------------------\n",
      "1.4 M     Trainable params\n",
      "0         Non-trainable params\n",
      "1.4 M     Total params\n",
      "5.720     Total estimated model params size (MB)\n",
      "11        Modules in train mode\n",
      "0         Modules in eval mode\n",
      "SLURM auto-requeueing enabled. Setting signal handlers.\n"
     ]
    },
    {
     "data": {
      "application/vnd.jupyter.widget-view+json": {
       "model_id": "6a59ede192b6434fac7512766efe30a8",
       "version_major": 2,
       "version_minor": 0
      },
      "text/plain": [
       "Training: |          | 0/? [00:00<?, ?it/s]"
      ]
     },
     "metadata": {},
     "output_type": "display_data"
    },
    {
     "name": "stderr",
     "output_type": "stream",
     "text": [
      "`Trainer.fit` stopped: `max_epochs=10` reached.\n",
      "GPU available: True (cuda), used: True\n",
      "TPU available: False, using: 0 TPU cores\n",
      "HPU available: False, using: 0 HPUs\n",
      "LOCAL_RANK: 0 - CUDA_VISIBLE_DEVICES: [MIG-a78a595d-726f-52d3-9ad4-538866ef7a4f]\n",
      "\n",
      "  | Name                   | Type       | Params | Mode \n",
      "--------------------------------------------------------------\n",
      "0 | background_input_layer | Sequential | 130 K  | train\n",
      "1 | fc                     | Sequential | 1.3 M  | train\n",
      "2 | loss_fn                | MSELoss    | 0      | train\n",
      "  | other params           | n/a        | 1.0 K  | n/a  \n",
      "--------------------------------------------------------------\n",
      "1.4 M     Trainable params\n",
      "0         Non-trainable params\n",
      "1.4 M     Total params\n",
      "5.720     Total estimated model params size (MB)\n",
      "11        Modules in train mode\n",
      "0         Modules in eval mode\n",
      "SLURM auto-requeueing enabled. Setting signal handlers.\n"
     ]
    },
    {
     "data": {
      "application/vnd.jupyter.widget-view+json": {
       "model_id": "9687677f86bb4adea983a37838552adf",
       "version_major": 2,
       "version_minor": 0
      },
      "text/plain": [
       "Training: |          | 0/? [00:00<?, ?it/s]"
      ]
     },
     "metadata": {},
     "output_type": "display_data"
    },
    {
     "name": "stderr",
     "output_type": "stream",
     "text": [
      "`Trainer.fit` stopped: `max_epochs=10` reached.\n",
      "GPU available: True (cuda), used: True\n",
      "TPU available: False, using: 0 TPU cores\n",
      "HPU available: False, using: 0 HPUs\n",
      "LOCAL_RANK: 0 - CUDA_VISIBLE_DEVICES: [MIG-a78a595d-726f-52d3-9ad4-538866ef7a4f]\n",
      "\n",
      "  | Name                   | Type       | Params | Mode \n",
      "--------------------------------------------------------------\n",
      "0 | background_input_layer | Sequential | 130 K  | train\n",
      "1 | fc                     | Sequential | 1.3 M  | train\n",
      "2 | loss_fn                | MSELoss    | 0      | train\n",
      "  | other params           | n/a        | 1.0 K  | n/a  \n",
      "--------------------------------------------------------------\n",
      "1.4 M     Trainable params\n",
      "0         Non-trainable params\n",
      "1.4 M     Total params\n",
      "5.720     Total estimated model params size (MB)\n",
      "11        Modules in train mode\n",
      "0         Modules in eval mode\n",
      "SLURM auto-requeueing enabled. Setting signal handlers.\n"
     ]
    },
    {
     "data": {
      "application/vnd.jupyter.widget-view+json": {
       "model_id": "1b7836f74bae4e149bf66a81ccf6440f",
       "version_major": 2,
       "version_minor": 0
      },
      "text/plain": [
       "Training: |          | 0/? [00:00<?, ?it/s]"
      ]
     },
     "metadata": {},
     "output_type": "display_data"
    },
    {
     "name": "stderr",
     "output_type": "stream",
     "text": [
      "`Trainer.fit` stopped: `max_epochs=10` reached.\n",
      "GPU available: True (cuda), used: True\n",
      "TPU available: False, using: 0 TPU cores\n",
      "HPU available: False, using: 0 HPUs\n",
      "LOCAL_RANK: 0 - CUDA_VISIBLE_DEVICES: [MIG-a78a595d-726f-52d3-9ad4-538866ef7a4f]\n",
      "\n",
      "  | Name                   | Type       | Params | Mode \n",
      "--------------------------------------------------------------\n",
      "0 | background_input_layer | Sequential | 130 K  | train\n",
      "1 | fc                     | Sequential | 1.3 M  | train\n",
      "2 | loss_fn                | MSELoss    | 0      | train\n",
      "  | other params           | n/a        | 1.0 K  | n/a  \n",
      "--------------------------------------------------------------\n",
      "1.4 M     Trainable params\n",
      "0         Non-trainable params\n",
      "1.4 M     Total params\n",
      "5.720     Total estimated model params size (MB)\n",
      "11        Modules in train mode\n",
      "0         Modules in eval mode\n",
      "SLURM auto-requeueing enabled. Setting signal handlers.\n"
     ]
    },
    {
     "data": {
      "application/vnd.jupyter.widget-view+json": {
       "model_id": "54b94b1fa1864dc39b239c03f82f943c",
       "version_major": 2,
       "version_minor": 0
      },
      "text/plain": [
       "Training: |          | 0/? [00:00<?, ?it/s]"
      ]
     },
     "metadata": {},
     "output_type": "display_data"
    },
    {
     "name": "stderr",
     "output_type": "stream",
     "text": [
      "`Trainer.fit` stopped: `max_epochs=10` reached.\n",
      "GPU available: True (cuda), used: True\n",
      "TPU available: False, using: 0 TPU cores\n",
      "HPU available: False, using: 0 HPUs\n",
      "LOCAL_RANK: 0 - CUDA_VISIBLE_DEVICES: [MIG-a78a595d-726f-52d3-9ad4-538866ef7a4f]\n",
      "\n",
      "  | Name                   | Type       | Params | Mode \n",
      "--------------------------------------------------------------\n",
      "0 | background_input_layer | Sequential | 130 K  | train\n",
      "1 | fc                     | Sequential | 1.3 M  | train\n",
      "2 | loss_fn                | MSELoss    | 0      | train\n",
      "  | other params           | n/a        | 1.0 K  | n/a  \n",
      "--------------------------------------------------------------\n",
      "1.4 M     Trainable params\n",
      "0         Non-trainable params\n",
      "1.4 M     Total params\n",
      "5.720     Total estimated model params size (MB)\n",
      "11        Modules in train mode\n",
      "0         Modules in eval mode\n",
      "SLURM auto-requeueing enabled. Setting signal handlers.\n"
     ]
    },
    {
     "data": {
      "application/vnd.jupyter.widget-view+json": {
       "model_id": "36e847ba12364cd4b9498c82f04e713a",
       "version_major": 2,
       "version_minor": 0
      },
      "text/plain": [
       "Training: |          | 0/? [00:00<?, ?it/s]"
      ]
     },
     "metadata": {},
     "output_type": "display_data"
    },
    {
     "name": "stderr",
     "output_type": "stream",
     "text": [
      "`Trainer.fit` stopped: `max_epochs=10` reached.\n",
      "GPU available: True (cuda), used: True\n",
      "TPU available: False, using: 0 TPU cores\n",
      "HPU available: False, using: 0 HPUs\n",
      "LOCAL_RANK: 0 - CUDA_VISIBLE_DEVICES: [MIG-a78a595d-726f-52d3-9ad4-538866ef7a4f]\n",
      "\n",
      "  | Name                   | Type       | Params | Mode \n",
      "--------------------------------------------------------------\n",
      "0 | background_input_layer | Sequential | 130 K  | train\n",
      "1 | fc                     | Sequential | 1.3 M  | train\n",
      "2 | loss_fn                | MSELoss    | 0      | train\n",
      "  | other params           | n/a        | 1.0 K  | n/a  \n",
      "--------------------------------------------------------------\n",
      "1.4 M     Trainable params\n",
      "0         Non-trainable params\n",
      "1.4 M     Total params\n",
      "5.720     Total estimated model params size (MB)\n",
      "11        Modules in train mode\n",
      "0         Modules in eval mode\n",
      "SLURM auto-requeueing enabled. Setting signal handlers.\n"
     ]
    },
    {
     "data": {
      "application/vnd.jupyter.widget-view+json": {
       "model_id": "4284a4d7b4bf4659ab2a53fbe48332b0",
       "version_major": 2,
       "version_minor": 0
      },
      "text/plain": [
       "Training: |          | 0/? [00:00<?, ?it/s]"
      ]
     },
     "metadata": {},
     "output_type": "display_data"
    },
    {
     "name": "stderr",
     "output_type": "stream",
     "text": [
      "`Trainer.fit` stopped: `max_epochs=10` reached.\n",
      "GPU available: True (cuda), used: True\n",
      "TPU available: False, using: 0 TPU cores\n",
      "HPU available: False, using: 0 HPUs\n",
      "LOCAL_RANK: 0 - CUDA_VISIBLE_DEVICES: [MIG-a78a595d-726f-52d3-9ad4-538866ef7a4f]\n",
      "\n",
      "  | Name                   | Type       | Params | Mode \n",
      "--------------------------------------------------------------\n",
      "0 | background_input_layer | Sequential | 130 K  | train\n",
      "1 | fc                     | Sequential | 1.3 M  | train\n",
      "2 | loss_fn                | MSELoss    | 0      | train\n",
      "  | other params           | n/a        | 1.0 K  | n/a  \n",
      "--------------------------------------------------------------\n",
      "1.4 M     Trainable params\n",
      "0         Non-trainable params\n",
      "1.4 M     Total params\n",
      "5.720     Total estimated model params size (MB)\n",
      "11        Modules in train mode\n",
      "0         Modules in eval mode\n",
      "SLURM auto-requeueing enabled. Setting signal handlers.\n"
     ]
    },
    {
     "data": {
      "application/vnd.jupyter.widget-view+json": {
       "model_id": "bd5c5f19d5c64e12bc35510ac9e27e70",
       "version_major": 2,
       "version_minor": 0
      },
      "text/plain": [
       "Training: |          | 0/? [00:00<?, ?it/s]"
      ]
     },
     "metadata": {},
     "output_type": "display_data"
    },
    {
     "name": "stderr",
     "output_type": "stream",
     "text": [
      "`Trainer.fit` stopped: `max_epochs=10` reached.\n",
      "GPU available: True (cuda), used: True\n",
      "TPU available: False, using: 0 TPU cores\n",
      "HPU available: False, using: 0 HPUs\n",
      "LOCAL_RANK: 0 - CUDA_VISIBLE_DEVICES: [MIG-a78a595d-726f-52d3-9ad4-538866ef7a4f]\n",
      "\n",
      "  | Name                   | Type       | Params | Mode \n",
      "--------------------------------------------------------------\n",
      "0 | background_input_layer | Sequential | 130 K  | train\n",
      "1 | fc                     | Sequential | 1.3 M  | train\n",
      "2 | loss_fn                | MSELoss    | 0      | train\n",
      "  | other params           | n/a        | 1.0 K  | n/a  \n",
      "--------------------------------------------------------------\n",
      "1.4 M     Trainable params\n",
      "0         Non-trainable params\n",
      "1.4 M     Total params\n",
      "5.720     Total estimated model params size (MB)\n",
      "11        Modules in train mode\n",
      "0         Modules in eval mode\n",
      "SLURM auto-requeueing enabled. Setting signal handlers.\n"
     ]
    },
    {
     "data": {
      "application/vnd.jupyter.widget-view+json": {
       "model_id": "e78fd5ae416546d78efa868630d7834d",
       "version_major": 2,
       "version_minor": 0
      },
      "text/plain": [
       "Training: |          | 0/? [00:00<?, ?it/s]"
      ]
     },
     "metadata": {},
     "output_type": "display_data"
    },
    {
     "name": "stderr",
     "output_type": "stream",
     "text": [
      "`Trainer.fit` stopped: `max_epochs=10` reached.\n",
      "GPU available: True (cuda), used: True\n",
      "TPU available: False, using: 0 TPU cores\n",
      "HPU available: False, using: 0 HPUs\n",
      "LOCAL_RANK: 0 - CUDA_VISIBLE_DEVICES: [MIG-a78a595d-726f-52d3-9ad4-538866ef7a4f]\n",
      "\n",
      "  | Name                   | Type       | Params | Mode \n",
      "--------------------------------------------------------------\n",
      "0 | background_input_layer | Sequential | 130 K  | train\n",
      "1 | fc                     | Sequential | 1.3 M  | train\n",
      "2 | loss_fn                | MSELoss    | 0      | train\n",
      "  | other params           | n/a        | 1.0 K  | n/a  \n",
      "--------------------------------------------------------------\n",
      "1.4 M     Trainable params\n",
      "0         Non-trainable params\n",
      "1.4 M     Total params\n",
      "5.720     Total estimated model params size (MB)\n",
      "11        Modules in train mode\n",
      "0         Modules in eval mode\n",
      "SLURM auto-requeueing enabled. Setting signal handlers.\n"
     ]
    },
    {
     "data": {
      "application/vnd.jupyter.widget-view+json": {
       "model_id": "de5c9e9ad7a8442a8a25c326d157cc8f",
       "version_major": 2,
       "version_minor": 0
      },
      "text/plain": [
       "Training: |          | 0/? [00:00<?, ?it/s]"
      ]
     },
     "metadata": {},
     "output_type": "display_data"
    },
    {
     "name": "stderr",
     "output_type": "stream",
     "text": [
      "`Trainer.fit` stopped: `max_epochs=10` reached.\n",
      "GPU available: True (cuda), used: True\n",
      "TPU available: False, using: 0 TPU cores\n",
      "HPU available: False, using: 0 HPUs\n",
      "LOCAL_RANK: 0 - CUDA_VISIBLE_DEVICES: [MIG-a78a595d-726f-52d3-9ad4-538866ef7a4f]\n",
      "\n",
      "  | Name                   | Type       | Params | Mode \n",
      "--------------------------------------------------------------\n",
      "0 | background_input_layer | Sequential | 130 K  | train\n",
      "1 | fc                     | Sequential | 1.3 M  | train\n",
      "2 | loss_fn                | MSELoss    | 0      | train\n",
      "  | other params           | n/a        | 1.0 K  | n/a  \n",
      "--------------------------------------------------------------\n",
      "1.4 M     Trainable params\n",
      "0         Non-trainable params\n",
      "1.4 M     Total params\n",
      "5.720     Total estimated model params size (MB)\n",
      "11        Modules in train mode\n",
      "0         Modules in eval mode\n",
      "SLURM auto-requeueing enabled. Setting signal handlers.\n"
     ]
    },
    {
     "data": {
      "application/vnd.jupyter.widget-view+json": {
       "model_id": "b7c6c64cd0c94c47805355bcbc808038",
       "version_major": 2,
       "version_minor": 0
      },
      "text/plain": [
       "Training: |          | 0/? [00:00<?, ?it/s]"
      ]
     },
     "metadata": {},
     "output_type": "display_data"
    },
    {
     "name": "stderr",
     "output_type": "stream",
     "text": [
      "`Trainer.fit` stopped: `max_epochs=10` reached.\n",
      "GPU available: True (cuda), used: True\n",
      "TPU available: False, using: 0 TPU cores\n",
      "HPU available: False, using: 0 HPUs\n",
      "LOCAL_RANK: 0 - CUDA_VISIBLE_DEVICES: [MIG-a78a595d-726f-52d3-9ad4-538866ef7a4f]\n",
      "\n",
      "  | Name                   | Type       | Params | Mode \n",
      "--------------------------------------------------------------\n",
      "0 | background_input_layer | Sequential | 130 K  | train\n",
      "1 | fc                     | Sequential | 1.3 M  | train\n",
      "2 | loss_fn                | MSELoss    | 0      | train\n",
      "  | other params           | n/a        | 1.0 K  | n/a  \n",
      "--------------------------------------------------------------\n",
      "1.4 M     Trainable params\n",
      "0         Non-trainable params\n",
      "1.4 M     Total params\n",
      "5.720     Total estimated model params size (MB)\n",
      "11        Modules in train mode\n",
      "0         Modules in eval mode\n",
      "SLURM auto-requeueing enabled. Setting signal handlers.\n"
     ]
    },
    {
     "data": {
      "application/vnd.jupyter.widget-view+json": {
       "model_id": "18643202ebe244bda0e6eeff8cfba255",
       "version_major": 2,
       "version_minor": 0
      },
      "text/plain": [
       "Training: |          | 0/? [00:00<?, ?it/s]"
      ]
     },
     "metadata": {},
     "output_type": "display_data"
    },
    {
     "name": "stderr",
     "output_type": "stream",
     "text": [
      "`Trainer.fit` stopped: `max_epochs=10` reached.\n",
      "GPU available: True (cuda), used: True\n",
      "TPU available: False, using: 0 TPU cores\n",
      "HPU available: False, using: 0 HPUs\n",
      "LOCAL_RANK: 0 - CUDA_VISIBLE_DEVICES: [MIG-a78a595d-726f-52d3-9ad4-538866ef7a4f]\n",
      "\n",
      "  | Name                   | Type       | Params | Mode \n",
      "--------------------------------------------------------------\n",
      "0 | background_input_layer | Sequential | 130 K  | train\n",
      "1 | fc                     | Sequential | 1.3 M  | train\n",
      "2 | loss_fn                | MSELoss    | 0      | train\n",
      "  | other params           | n/a        | 1.0 K  | n/a  \n",
      "--------------------------------------------------------------\n",
      "1.4 M     Trainable params\n",
      "0         Non-trainable params\n",
      "1.4 M     Total params\n",
      "5.720     Total estimated model params size (MB)\n",
      "11        Modules in train mode\n",
      "0         Modules in eval mode\n",
      "SLURM auto-requeueing enabled. Setting signal handlers.\n"
     ]
    },
    {
     "data": {
      "application/vnd.jupyter.widget-view+json": {
       "model_id": "7cd51649f55745bdaa4b9a2d348115c3",
       "version_major": 2,
       "version_minor": 0
      },
      "text/plain": [
       "Training: |          | 0/? [00:00<?, ?it/s]"
      ]
     },
     "metadata": {},
     "output_type": "display_data"
    },
    {
     "name": "stderr",
     "output_type": "stream",
     "text": [
      "`Trainer.fit` stopped: `max_epochs=10` reached.\n",
      "GPU available: True (cuda), used: True\n",
      "TPU available: False, using: 0 TPU cores\n",
      "HPU available: False, using: 0 HPUs\n",
      "LOCAL_RANK: 0 - CUDA_VISIBLE_DEVICES: [MIG-a78a595d-726f-52d3-9ad4-538866ef7a4f]\n",
      "\n",
      "  | Name                   | Type       | Params | Mode \n",
      "--------------------------------------------------------------\n",
      "0 | background_input_layer | Sequential | 130 K  | train\n",
      "1 | fc                     | Sequential | 1.3 M  | train\n",
      "2 | loss_fn                | MSELoss    | 0      | train\n",
      "  | other params           | n/a        | 1.0 K  | n/a  \n",
      "--------------------------------------------------------------\n",
      "1.4 M     Trainable params\n",
      "0         Non-trainable params\n",
      "1.4 M     Total params\n",
      "5.720     Total estimated model params size (MB)\n",
      "11        Modules in train mode\n",
      "0         Modules in eval mode\n",
      "SLURM auto-requeueing enabled. Setting signal handlers.\n"
     ]
    },
    {
     "data": {
      "application/vnd.jupyter.widget-view+json": {
       "model_id": "95f69f1da77c46eb8c81c5b3d33a6834",
       "version_major": 2,
       "version_minor": 0
      },
      "text/plain": [
       "Training: |          | 0/? [00:00<?, ?it/s]"
      ]
     },
     "metadata": {},
     "output_type": "display_data"
    },
    {
     "name": "stderr",
     "output_type": "stream",
     "text": [
      "`Trainer.fit` stopped: `max_epochs=10` reached.\n",
      "GPU available: True (cuda), used: True\n",
      "TPU available: False, using: 0 TPU cores\n",
      "HPU available: False, using: 0 HPUs\n",
      "LOCAL_RANK: 0 - CUDA_VISIBLE_DEVICES: [MIG-a78a595d-726f-52d3-9ad4-538866ef7a4f]\n",
      "\n",
      "  | Name                   | Type       | Params | Mode \n",
      "--------------------------------------------------------------\n",
      "0 | background_input_layer | Sequential | 130 K  | train\n",
      "1 | fc                     | Sequential | 1.3 M  | train\n",
      "2 | loss_fn                | MSELoss    | 0      | train\n",
      "  | other params           | n/a        | 1.0 K  | n/a  \n",
      "--------------------------------------------------------------\n",
      "1.4 M     Trainable params\n",
      "0         Non-trainable params\n",
      "1.4 M     Total params\n",
      "5.720     Total estimated model params size (MB)\n",
      "11        Modules in train mode\n",
      "0         Modules in eval mode\n",
      "SLURM auto-requeueing enabled. Setting signal handlers.\n"
     ]
    },
    {
     "data": {
      "application/vnd.jupyter.widget-view+json": {
       "model_id": "f94cdd152d2f467aaadf853ecd3ddc5e",
       "version_major": 2,
       "version_minor": 0
      },
      "text/plain": [
       "Training: |          | 0/? [00:00<?, ?it/s]"
      ]
     },
     "metadata": {},
     "output_type": "display_data"
    },
    {
     "name": "stderr",
     "output_type": "stream",
     "text": [
      "`Trainer.fit` stopped: `max_epochs=10` reached.\n",
      "GPU available: True (cuda), used: True\n",
      "TPU available: False, using: 0 TPU cores\n",
      "HPU available: False, using: 0 HPUs\n",
      "LOCAL_RANK: 0 - CUDA_VISIBLE_DEVICES: [MIG-a78a595d-726f-52d3-9ad4-538866ef7a4f]\n",
      "\n",
      "  | Name                   | Type       | Params | Mode \n",
      "--------------------------------------------------------------\n",
      "0 | background_input_layer | Sequential | 130 K  | train\n",
      "1 | fc                     | Sequential | 1.3 M  | train\n",
      "2 | loss_fn                | MSELoss    | 0      | train\n",
      "  | other params           | n/a        | 1.0 K  | n/a  \n",
      "--------------------------------------------------------------\n",
      "1.4 M     Trainable params\n",
      "0         Non-trainable params\n",
      "1.4 M     Total params\n",
      "5.720     Total estimated model params size (MB)\n",
      "11        Modules in train mode\n",
      "0         Modules in eval mode\n",
      "SLURM auto-requeueing enabled. Setting signal handlers.\n"
     ]
    },
    {
     "data": {
      "application/vnd.jupyter.widget-view+json": {
       "model_id": "9bb4d7b8ce134aa1bc9298a2c369773d",
       "version_major": 2,
       "version_minor": 0
      },
      "text/plain": [
       "Training: |          | 0/? [00:00<?, ?it/s]"
      ]
     },
     "metadata": {},
     "output_type": "display_data"
    },
    {
     "name": "stderr",
     "output_type": "stream",
     "text": [
      "`Trainer.fit` stopped: `max_epochs=10` reached.\n",
      "GPU available: True (cuda), used: True\n",
      "TPU available: False, using: 0 TPU cores\n",
      "HPU available: False, using: 0 HPUs\n",
      "LOCAL_RANK: 0 - CUDA_VISIBLE_DEVICES: [MIG-a78a595d-726f-52d3-9ad4-538866ef7a4f]\n",
      "\n",
      "  | Name                   | Type       | Params | Mode \n",
      "--------------------------------------------------------------\n",
      "0 | background_input_layer | Sequential | 130 K  | train\n",
      "1 | fc                     | Sequential | 1.3 M  | train\n",
      "2 | loss_fn                | MSELoss    | 0      | train\n",
      "  | other params           | n/a        | 1.0 K  | n/a  \n",
      "--------------------------------------------------------------\n",
      "1.4 M     Trainable params\n",
      "0         Non-trainable params\n",
      "1.4 M     Total params\n",
      "5.720     Total estimated model params size (MB)\n",
      "11        Modules in train mode\n",
      "0         Modules in eval mode\n",
      "SLURM auto-requeueing enabled. Setting signal handlers.\n"
     ]
    },
    {
     "data": {
      "application/vnd.jupyter.widget-view+json": {
       "model_id": "f9d7d5bc424a4d26a388a0cfa25dbb2e",
       "version_major": 2,
       "version_minor": 0
      },
      "text/plain": [
       "Training: |          | 0/? [00:00<?, ?it/s]"
      ]
     },
     "metadata": {},
     "output_type": "display_data"
    },
    {
     "name": "stderr",
     "output_type": "stream",
     "text": [
      "`Trainer.fit` stopped: `max_epochs=10` reached.\n",
      "GPU available: True (cuda), used: True\n",
      "TPU available: False, using: 0 TPU cores\n",
      "HPU available: False, using: 0 HPUs\n",
      "LOCAL_RANK: 0 - CUDA_VISIBLE_DEVICES: [MIG-a78a595d-726f-52d3-9ad4-538866ef7a4f]\n",
      "\n",
      "  | Name                   | Type       | Params | Mode \n",
      "--------------------------------------------------------------\n",
      "0 | background_input_layer | Sequential | 130 K  | train\n",
      "1 | fc                     | Sequential | 1.3 M  | train\n",
      "2 | loss_fn                | MSELoss    | 0      | train\n",
      "  | other params           | n/a        | 1.0 K  | n/a  \n",
      "--------------------------------------------------------------\n",
      "1.4 M     Trainable params\n",
      "0         Non-trainable params\n",
      "1.4 M     Total params\n",
      "5.720     Total estimated model params size (MB)\n",
      "11        Modules in train mode\n",
      "0         Modules in eval mode\n",
      "SLURM auto-requeueing enabled. Setting signal handlers.\n"
     ]
    },
    {
     "data": {
      "application/vnd.jupyter.widget-view+json": {
       "model_id": "5267abb913e344b4b4f4044933b627f2",
       "version_major": 2,
       "version_minor": 0
      },
      "text/plain": [
       "Training: |          | 0/? [00:00<?, ?it/s]"
      ]
     },
     "metadata": {},
     "output_type": "display_data"
    },
    {
     "name": "stderr",
     "output_type": "stream",
     "text": [
      "`Trainer.fit` stopped: `max_epochs=10` reached.\n",
      "GPU available: True (cuda), used: True\n",
      "TPU available: False, using: 0 TPU cores\n",
      "HPU available: False, using: 0 HPUs\n",
      "LOCAL_RANK: 0 - CUDA_VISIBLE_DEVICES: [MIG-a78a595d-726f-52d3-9ad4-538866ef7a4f]\n",
      "\n",
      "  | Name                   | Type       | Params | Mode \n",
      "--------------------------------------------------------------\n",
      "0 | background_input_layer | Sequential | 130 K  | train\n",
      "1 | fc                     | Sequential | 1.3 M  | train\n",
      "2 | loss_fn                | MSELoss    | 0      | train\n",
      "  | other params           | n/a        | 1.0 K  | n/a  \n",
      "--------------------------------------------------------------\n",
      "1.4 M     Trainable params\n",
      "0         Non-trainable params\n",
      "1.4 M     Total params\n",
      "5.720     Total estimated model params size (MB)\n",
      "11        Modules in train mode\n",
      "0         Modules in eval mode\n",
      "SLURM auto-requeueing enabled. Setting signal handlers.\n"
     ]
    },
    {
     "data": {
      "application/vnd.jupyter.widget-view+json": {
       "model_id": "a528b175825e45fa82ad9889e920e720",
       "version_major": 2,
       "version_minor": 0
      },
      "text/plain": [
       "Training: |          | 0/? [00:00<?, ?it/s]"
      ]
     },
     "metadata": {},
     "output_type": "display_data"
    },
    {
     "name": "stderr",
     "output_type": "stream",
     "text": [
      "`Trainer.fit` stopped: `max_epochs=10` reached.\n",
      "GPU available: True (cuda), used: True\n",
      "TPU available: False, using: 0 TPU cores\n",
      "HPU available: False, using: 0 HPUs\n",
      "LOCAL_RANK: 0 - CUDA_VISIBLE_DEVICES: [MIG-a78a595d-726f-52d3-9ad4-538866ef7a4f]\n",
      "\n",
      "  | Name                   | Type       | Params | Mode \n",
      "--------------------------------------------------------------\n",
      "0 | background_input_layer | Sequential | 130 K  | train\n",
      "1 | fc                     | Sequential | 1.3 M  | train\n",
      "2 | loss_fn                | MSELoss    | 0      | train\n",
      "  | other params           | n/a        | 1.0 K  | n/a  \n",
      "--------------------------------------------------------------\n",
      "1.4 M     Trainable params\n",
      "0         Non-trainable params\n",
      "1.4 M     Total params\n",
      "5.720     Total estimated model params size (MB)\n",
      "11        Modules in train mode\n",
      "0         Modules in eval mode\n",
      "SLURM auto-requeueing enabled. Setting signal handlers.\n"
     ]
    },
    {
     "data": {
      "application/vnd.jupyter.widget-view+json": {
       "model_id": "9e1cd0a9eff14c11be20eb82f9484d72",
       "version_major": 2,
       "version_minor": 0
      },
      "text/plain": [
       "Training: |          | 0/? [00:00<?, ?it/s]"
      ]
     },
     "metadata": {},
     "output_type": "display_data"
    },
    {
     "name": "stderr",
     "output_type": "stream",
     "text": [
      "`Trainer.fit` stopped: `max_epochs=10` reached.\n",
      "GPU available: True (cuda), used: True\n",
      "TPU available: False, using: 0 TPU cores\n",
      "HPU available: False, using: 0 HPUs\n",
      "LOCAL_RANK: 0 - CUDA_VISIBLE_DEVICES: [MIG-a78a595d-726f-52d3-9ad4-538866ef7a4f]\n",
      "\n",
      "  | Name                   | Type       | Params | Mode \n",
      "--------------------------------------------------------------\n",
      "0 | background_input_layer | Sequential | 130 K  | train\n",
      "1 | fc                     | Sequential | 1.3 M  | train\n",
      "2 | loss_fn                | MSELoss    | 0      | train\n",
      "  | other params           | n/a        | 1.0 K  | n/a  \n",
      "--------------------------------------------------------------\n",
      "1.4 M     Trainable params\n",
      "0         Non-trainable params\n",
      "1.4 M     Total params\n",
      "5.720     Total estimated model params size (MB)\n",
      "11        Modules in train mode\n",
      "0         Modules in eval mode\n",
      "SLURM auto-requeueing enabled. Setting signal handlers.\n"
     ]
    },
    {
     "data": {
      "application/vnd.jupyter.widget-view+json": {
       "model_id": "12763fd719e742268a7a6c08249ccaf7",
       "version_major": 2,
       "version_minor": 0
      },
      "text/plain": [
       "Training: |          | 0/? [00:00<?, ?it/s]"
      ]
     },
     "metadata": {},
     "output_type": "display_data"
    },
    {
     "name": "stderr",
     "output_type": "stream",
     "text": [
      "`Trainer.fit` stopped: `max_epochs=10` reached.\n",
      "GPU available: True (cuda), used: True\n",
      "TPU available: False, using: 0 TPU cores\n",
      "HPU available: False, using: 0 HPUs\n",
      "LOCAL_RANK: 0 - CUDA_VISIBLE_DEVICES: [MIG-a78a595d-726f-52d3-9ad4-538866ef7a4f]\n",
      "\n",
      "  | Name                   | Type       | Params | Mode \n",
      "--------------------------------------------------------------\n",
      "0 | background_input_layer | Sequential | 130 K  | train\n",
      "1 | fc                     | Sequential | 1.3 M  | train\n",
      "2 | loss_fn                | MSELoss    | 0      | train\n",
      "  | other params           | n/a        | 1.0 K  | n/a  \n",
      "--------------------------------------------------------------\n",
      "1.4 M     Trainable params\n",
      "0         Non-trainable params\n",
      "1.4 M     Total params\n",
      "5.720     Total estimated model params size (MB)\n",
      "11        Modules in train mode\n",
      "0         Modules in eval mode\n",
      "SLURM auto-requeueing enabled. Setting signal handlers.\n"
     ]
    },
    {
     "data": {
      "application/vnd.jupyter.widget-view+json": {
       "model_id": "b2a5d466f77345df8f2df635a7966a48",
       "version_major": 2,
       "version_minor": 0
      },
      "text/plain": [
       "Training: |          | 0/? [00:00<?, ?it/s]"
      ]
     },
     "metadata": {},
     "output_type": "display_data"
    },
    {
     "name": "stderr",
     "output_type": "stream",
     "text": [
      "`Trainer.fit` stopped: `max_epochs=10` reached.\n",
      "GPU available: True (cuda), used: True\n",
      "TPU available: False, using: 0 TPU cores\n",
      "HPU available: False, using: 0 HPUs\n",
      "LOCAL_RANK: 0 - CUDA_VISIBLE_DEVICES: [MIG-a78a595d-726f-52d3-9ad4-538866ef7a4f]\n",
      "\n",
      "  | Name                   | Type       | Params | Mode \n",
      "--------------------------------------------------------------\n",
      "0 | background_input_layer | Sequential | 130 K  | train\n",
      "1 | fc                     | Sequential | 1.3 M  | train\n",
      "2 | loss_fn                | MSELoss    | 0      | train\n",
      "  | other params           | n/a        | 1.0 K  | n/a  \n",
      "--------------------------------------------------------------\n",
      "1.4 M     Trainable params\n",
      "0         Non-trainable params\n",
      "1.4 M     Total params\n",
      "5.720     Total estimated model params size (MB)\n",
      "11        Modules in train mode\n",
      "0         Modules in eval mode\n",
      "SLURM auto-requeueing enabled. Setting signal handlers.\n"
     ]
    },
    {
     "data": {
      "application/vnd.jupyter.widget-view+json": {
       "model_id": "c1950a2a0b574e6b8a9d9aebdab07dbd",
       "version_major": 2,
       "version_minor": 0
      },
      "text/plain": [
       "Training: |          | 0/? [00:00<?, ?it/s]"
      ]
     },
     "metadata": {},
     "output_type": "display_data"
    },
    {
     "name": "stderr",
     "output_type": "stream",
     "text": [
      "`Trainer.fit` stopped: `max_epochs=10` reached.\n",
      "GPU available: True (cuda), used: True\n",
      "TPU available: False, using: 0 TPU cores\n",
      "HPU available: False, using: 0 HPUs\n",
      "LOCAL_RANK: 0 - CUDA_VISIBLE_DEVICES: [MIG-a78a595d-726f-52d3-9ad4-538866ef7a4f]\n",
      "\n",
      "  | Name                   | Type       | Params | Mode \n",
      "--------------------------------------------------------------\n",
      "0 | background_input_layer | Sequential | 130 K  | train\n",
      "1 | fc                     | Sequential | 1.3 M  | train\n",
      "2 | loss_fn                | MSELoss    | 0      | train\n",
      "  | other params           | n/a        | 1.0 K  | n/a  \n",
      "--------------------------------------------------------------\n",
      "1.4 M     Trainable params\n",
      "0         Non-trainable params\n",
      "1.4 M     Total params\n",
      "5.720     Total estimated model params size (MB)\n",
      "11        Modules in train mode\n",
      "0         Modules in eval mode\n",
      "SLURM auto-requeueing enabled. Setting signal handlers.\n"
     ]
    },
    {
     "data": {
      "application/vnd.jupyter.widget-view+json": {
       "model_id": "66dd735437374c54adf4c9b12e4bd29e",
       "version_major": 2,
       "version_minor": 0
      },
      "text/plain": [
       "Training: |          | 0/? [00:00<?, ?it/s]"
      ]
     },
     "metadata": {},
     "output_type": "display_data"
    },
    {
     "name": "stderr",
     "output_type": "stream",
     "text": [
      "`Trainer.fit` stopped: `max_epochs=10` reached.\n",
      "GPU available: True (cuda), used: True\n",
      "TPU available: False, using: 0 TPU cores\n",
      "HPU available: False, using: 0 HPUs\n",
      "LOCAL_RANK: 0 - CUDA_VISIBLE_DEVICES: [MIG-a78a595d-726f-52d3-9ad4-538866ef7a4f]\n",
      "\n",
      "  | Name                   | Type       | Params | Mode \n",
      "--------------------------------------------------------------\n",
      "0 | background_input_layer | Sequential | 130 K  | train\n",
      "1 | fc                     | Sequential | 1.3 M  | train\n",
      "2 | loss_fn                | MSELoss    | 0      | train\n",
      "  | other params           | n/a        | 1.0 K  | n/a  \n",
      "--------------------------------------------------------------\n",
      "1.4 M     Trainable params\n",
      "0         Non-trainable params\n",
      "1.4 M     Total params\n",
      "5.720     Total estimated model params size (MB)\n",
      "11        Modules in train mode\n",
      "0         Modules in eval mode\n",
      "SLURM auto-requeueing enabled. Setting signal handlers.\n"
     ]
    },
    {
     "data": {
      "application/vnd.jupyter.widget-view+json": {
       "model_id": "68d128af794d4a24a5ffbbc865e255b4",
       "version_major": 2,
       "version_minor": 0
      },
      "text/plain": [
       "Training: |          | 0/? [00:00<?, ?it/s]"
      ]
     },
     "metadata": {},
     "output_type": "display_data"
    },
    {
     "name": "stderr",
     "output_type": "stream",
     "text": [
      "`Trainer.fit` stopped: `max_epochs=10` reached.\n",
      "GPU available: True (cuda), used: True\n",
      "TPU available: False, using: 0 TPU cores\n",
      "HPU available: False, using: 0 HPUs\n",
      "LOCAL_RANK: 0 - CUDA_VISIBLE_DEVICES: [MIG-a78a595d-726f-52d3-9ad4-538866ef7a4f]\n",
      "\n",
      "  | Name                   | Type       | Params | Mode \n",
      "--------------------------------------------------------------\n",
      "0 | background_input_layer | Sequential | 130 K  | train\n",
      "1 | fc                     | Sequential | 1.3 M  | train\n",
      "2 | loss_fn                | MSELoss    | 0      | train\n",
      "  | other params           | n/a        | 1.0 K  | n/a  \n",
      "--------------------------------------------------------------\n",
      "1.4 M     Trainable params\n",
      "0         Non-trainable params\n",
      "1.4 M     Total params\n",
      "5.720     Total estimated model params size (MB)\n",
      "11        Modules in train mode\n",
      "0         Modules in eval mode\n",
      "SLURM auto-requeueing enabled. Setting signal handlers.\n"
     ]
    },
    {
     "data": {
      "application/vnd.jupyter.widget-view+json": {
       "model_id": "bb1bf0d9f57f4ae9b467d536d7dcf8f9",
       "version_major": 2,
       "version_minor": 0
      },
      "text/plain": [
       "Training: |          | 0/? [00:00<?, ?it/s]"
      ]
     },
     "metadata": {},
     "output_type": "display_data"
    },
    {
     "name": "stderr",
     "output_type": "stream",
     "text": [
      "`Trainer.fit` stopped: `max_epochs=10` reached.\n",
      "GPU available: True (cuda), used: True\n",
      "TPU available: False, using: 0 TPU cores\n",
      "HPU available: False, using: 0 HPUs\n",
      "LOCAL_RANK: 0 - CUDA_VISIBLE_DEVICES: [MIG-a78a595d-726f-52d3-9ad4-538866ef7a4f]\n",
      "\n",
      "  | Name                   | Type       | Params | Mode \n",
      "--------------------------------------------------------------\n",
      "0 | background_input_layer | Sequential | 130 K  | train\n",
      "1 | fc                     | Sequential | 1.3 M  | train\n",
      "2 | loss_fn                | MSELoss    | 0      | train\n",
      "  | other params           | n/a        | 1.0 K  | n/a  \n",
      "--------------------------------------------------------------\n",
      "1.4 M     Trainable params\n",
      "0         Non-trainable params\n",
      "1.4 M     Total params\n",
      "5.720     Total estimated model params size (MB)\n",
      "11        Modules in train mode\n",
      "0         Modules in eval mode\n",
      "SLURM auto-requeueing enabled. Setting signal handlers.\n"
     ]
    },
    {
     "data": {
      "application/vnd.jupyter.widget-view+json": {
       "model_id": "cff898e7fbab44a6a4c447f5cd308c1f",
       "version_major": 2,
       "version_minor": 0
      },
      "text/plain": [
       "Training: |          | 0/? [00:00<?, ?it/s]"
      ]
     },
     "metadata": {},
     "output_type": "display_data"
    },
    {
     "name": "stderr",
     "output_type": "stream",
     "text": [
      "`Trainer.fit` stopped: `max_epochs=10` reached.\n",
      "GPU available: True (cuda), used: True\n",
      "TPU available: False, using: 0 TPU cores\n",
      "HPU available: False, using: 0 HPUs\n",
      "LOCAL_RANK: 0 - CUDA_VISIBLE_DEVICES: [MIG-a78a595d-726f-52d3-9ad4-538866ef7a4f]\n",
      "\n",
      "  | Name                   | Type       | Params | Mode \n",
      "--------------------------------------------------------------\n",
      "0 | background_input_layer | Sequential | 130 K  | train\n",
      "1 | fc                     | Sequential | 1.3 M  | train\n",
      "2 | loss_fn                | MSELoss    | 0      | train\n",
      "  | other params           | n/a        | 1.0 K  | n/a  \n",
      "--------------------------------------------------------------\n",
      "1.4 M     Trainable params\n",
      "0         Non-trainable params\n",
      "1.4 M     Total params\n",
      "5.720     Total estimated model params size (MB)\n",
      "11        Modules in train mode\n",
      "0         Modules in eval mode\n",
      "SLURM auto-requeueing enabled. Setting signal handlers.\n"
     ]
    },
    {
     "data": {
      "application/vnd.jupyter.widget-view+json": {
       "model_id": "bd75cda94e744c46aacff650580c419a",
       "version_major": 2,
       "version_minor": 0
      },
      "text/plain": [
       "Training: |          | 0/? [00:00<?, ?it/s]"
      ]
     },
     "metadata": {},
     "output_type": "display_data"
    },
    {
     "name": "stderr",
     "output_type": "stream",
     "text": [
      "`Trainer.fit` stopped: `max_epochs=10` reached.\n",
      "GPU available: True (cuda), used: True\n",
      "TPU available: False, using: 0 TPU cores\n",
      "HPU available: False, using: 0 HPUs\n",
      "LOCAL_RANK: 0 - CUDA_VISIBLE_DEVICES: [MIG-a78a595d-726f-52d3-9ad4-538866ef7a4f]\n",
      "\n",
      "  | Name                   | Type       | Params | Mode \n",
      "--------------------------------------------------------------\n",
      "0 | background_input_layer | Sequential | 130 K  | train\n",
      "1 | fc                     | Sequential | 1.3 M  | train\n",
      "2 | loss_fn                | MSELoss    | 0      | train\n",
      "  | other params           | n/a        | 1.0 K  | n/a  \n",
      "--------------------------------------------------------------\n",
      "1.4 M     Trainable params\n",
      "0         Non-trainable params\n",
      "1.4 M     Total params\n",
      "5.720     Total estimated model params size (MB)\n",
      "11        Modules in train mode\n",
      "0         Modules in eval mode\n",
      "SLURM auto-requeueing enabled. Setting signal handlers.\n"
     ]
    },
    {
     "data": {
      "application/vnd.jupyter.widget-view+json": {
       "model_id": "c4865d019137460495b2faee1d7247ce",
       "version_major": 2,
       "version_minor": 0
      },
      "text/plain": [
       "Training: |          | 0/? [00:00<?, ?it/s]"
      ]
     },
     "metadata": {},
     "output_type": "display_data"
    },
    {
     "name": "stderr",
     "output_type": "stream",
     "text": [
      "`Trainer.fit` stopped: `max_epochs=10` reached.\n"
     ]
    }
   ],
   "source": [
    "import torch\n",
    "from torch.utils.data import DataLoader\n",
    "import torch.nn as nn\n",
    "import pytorch_lightning as pl\n",
    "import numpy as np\n",
    "\n",
    "\n",
    "np.random.seed(42) \n",
    "\n",
    "def run_simulation(n=500, p=1000, f=3, k=10, top_selected_list=[10, 20], num_simulations=50):\n",
    "    results = {factor: {\"CUR\": {ts: [] for ts in top_selected_list}, \"CCUR\": {ts: [] for ts in top_selected_list}, \"CPCA\": {ts: [] for ts in top_selected_list}, \"CFS\": {ts: [] for ts in top_selected_list}} for factor in range(f)}\n",
    "\n",
    "    for _ in range(num_simulations):\n",
    "        # Generate data\n",
    "        background, foreground, beta, alpha, W, V = generate_data(n, p, f)\n",
    "\n",
    "        for factor in range(f):\n",
    "            # True disease-specific indices\n",
    "            true_disease_indices = np.where(beta[factor, :] != 0)[0]\n",
    "\n",
    "            # Train CFS model\n",
    "            input_size = foreground.shape[1]\n",
    "            output_size = background.shape[1]\n",
    "            batch_size = 128\n",
    "\n",
    "            labels_train = np.concatenate([np.zeros(background.shape[0]), np.ones(foreground.shape[0])])\n",
    "            data_train = np.concatenate([background, foreground])\n",
    "\n",
    "            data_train = torch.from_numpy(data_train).float()\n",
    "            labels_train = torch.from_numpy(labels_train).float()\n",
    "\n",
    "            dataset = LabeledDataset(data_train.numpy(), labels_train.numpy())\n",
    "\n",
    "            model = CFS_SG(\n",
    "                input_size=input_size,\n",
    "                output_size=output_size,\n",
    "                hidden=[512, 512],\n",
    "                k_prime=20,\n",
    "                lam=0.15,\n",
    "                lr=1e-3,\n",
    "                loss_fn=nn.MSELoss()\n",
    "            )\n",
    "\n",
    "            loader = DataLoader(dataset, batch_size=batch_size, shuffle=True)\n",
    "\n",
    "            trainer = pl.Trainer(max_epochs=10, accelerator='gpu', devices=1)\n",
    "            trainer.fit(model, loader)\n",
    "\n",
    "            for top_selected in top_selected_list:\n",
    "                cfs_cols = model.get_inds(top_selected)\n",
    "                cfs_intersection = len(set(cfs_cols).intersection(true_disease_indices))\n",
    "                results[factor][\"CFS\"][top_selected].append(cfs_intersection / top_selected)\n",
    "\n",
    "                # 1. CUR Method\n",
    "                cur_cols = deterministic_cur(foreground, k, top_selected)[3]\n",
    "                cur_intersection = len(set(cur_cols).intersection(true_disease_indices))\n",
    "                results[factor][\"CUR\"][top_selected].append(cur_intersection / top_selected)\n",
    "\n",
    "                # 2. Relative Importance Method\n",
    "                rel_cols = relative_importance(foreground, background, k, top_selected)[0]\n",
    "                rel_intersection = len(set(rel_cols).intersection(true_disease_indices))\n",
    "                results[factor][\"CCUR\"][top_selected].append(rel_intersection / top_selected)\n",
    "\n",
    "                # 3. CPCA Method\n",
    "                constrastive_cov = np.cov(foreground, rowvar=False) - np.cov(background, rowvar=False)\n",
    "                eigenvalues, eigenvectors = np.linalg.eig(constrastive_cov)\n",
    "                first_pc = eigenvectors[:, np.argmax(eigenvalues)]\n",
    "                cpca_cols = np.argsort(np.abs(first_pc))[-top_selected:]\n",
    "                cpca_intersection = len(set(cpca_cols).intersection(true_disease_indices))\n",
    "                results[factor][\"CPCA\"][top_selected].append(cpca_intersection / top_selected)\n",
    "\n",
    "    # Compute averages\n",
    "    averages = {\n",
    "        factor: {\n",
    "            method: {top_selected: np.mean(results[factor][method][top_selected]) for top_selected in top_selected_list}\n",
    "            for method in results[factor]\n",
    "        }\n",
    "        for factor in range(f)\n",
    "    }\n",
    "\n",
    "    return averages\n",
    "\n",
    "# Run the simulation\n",
    "averages = run_simulation()\n"
   ]
  },
  {
   "cell_type": "code",
   "execution_count": null,
   "id": "7e1ccdee-8ed7-499a-877e-945bf351fa33",
   "metadata": {},
   "outputs": [],
   "source": []
  },
  {
   "cell_type": "code",
   "execution_count": 9,
   "id": "5ded70fe-6550-4d7b-ac30-c741c596c04c",
   "metadata": {},
   "outputs": [
    {
     "data": {
      "image/png": "[encoded data removed]",
      "text/plain": [
       "<Figure size 800x600 with 1 Axes>"
      ]
     },
     "metadata": {},
     "output_type": "display_data"
    }
   ],
   "source": [
    "import matplotlib.pyplot as plt\n",
    "factor = 0\n",
    "\n",
    "top_selected_list = [10, 20]\n",
    "methods = [\"CUR\", \"CCUR\", \"CPCA\", \"CFS\"]\n",
    "x = np.arange(len(top_selected_list))  \n",
    "width = 0.2  \n",
    "\n",
    "plt.figure(figsize=(8, 6))  \n",
    "for i, method in enumerate(methods):\n",
    "    y = [averages[factor][method][ts] for ts in top_selected_list]\n",
    "    plt.bar(x + i * width, y, width, label=method)\n",
    "\n",
    "plt.xticks(x + width, [f\"{ts} genes\" for ts in top_selected_list], fontsize=14)\n",
    "plt.yticks(fontsize=14)\n",
    "plt.ylabel(\"Proportion\", fontsize=16)\n",
    "plt.xlabel(\"Number of Selected Genes\", fontsize=16)\n",
    "plt.title(f\"Non-Zero Entries Recovered for Factor {factor} in Beta\", fontsize=18)\n",
    "plt.legend(fontsize=14)\n",
    "plt.grid(axis=\"y\", linestyle=\"--\", alpha=0.7)\n",
    "\n",
    "plt.show()\n"
   ]
  },
  {
   "cell_type": "code",
   "execution_count": null,
   "id": "06fca493-2057-4e70-bef6-fbaaffa39615",
   "metadata": {},
   "outputs": [],
   "source": []
  },
  {
   "cell_type": "code",
   "execution_count": 11,
   "id": "2a4a0bdb-eccd-4aa9-acb5-857768a5865f",
   "metadata": {},
   "outputs": [],
   "source": [
    "def run_simulation(n_values, p=1000, f=3, k=10, top_selected=10, num_simulations=100):\n",
    "    results = {\"CUR\": [], \"CCUR\": []}\n",
    "\n",
    "    for n in n_values:\n",
    "        cur_averages = []\n",
    "        ccur_averages = []\n",
    "\n",
    "        for _ in range(num_simulations):\n",
    "            # Generate data\n",
    "            background, foreground, beta, alpha, W, V = generate_data(n, p, f)\n",
    "\n",
    "            ccur_cols = relative_importance(foreground, background, k, top_selected)[0]\n",
    "            ccur_rows = deterministic_cur(foreground[:, ccur_cols], k, top_selected)[4]\n",
    "            row_means = np.mean(np.abs(W[ccur_rows, 0]))  # Mean of each selected row\n",
    "            ccur_averages.append(row_means)\n",
    "\n",
    "            cur_rows = deterministic_cur(foreground, k, top_selected)[4]\n",
    "            row_means = np.mean(np.abs(W[cur_rows, 0]))  # Mean of each selected row\n",
    "            cur_averages.append(row_means)\n",
    "\n",
    "        # Store averages for this n\n",
    "        results[\"CUR\"].append(np.mean(cur_averages))\n",
    "        results[\"CCUR\"].append(np.mean(ccur_averages))\n",
    "\n",
    "    return results\n",
    "\n"
   ]
  },
  {
   "cell_type": "code",
   "execution_count": null,
   "id": "7fe2efd1-064e-43b1-a17c-b22c922fe20d",
   "metadata": {},
   "outputs": [],
   "source": [
    "np.random.seed(42) \n",
    "\n",
    "n_values = [100,250,500,1000]\n",
    "\n",
    "results = run_simulation(n_values)\n",
    "\n"
   ]
  },
  {
   "cell_type": "code",
   "execution_count": null,
   "id": "717af3de-e669-4fe7-b619-4ca3e7d3d932",
   "metadata": {},
   "outputs": [],
   "source": [
    "plt.figure(figsize=(8, 6))  \n",
    "plt.plot(n_values, results[\"CUR\"], label=\"CUR\", marker=\"o\", markersize=8)\n",
    "plt.plot(n_values, results[\"CCUR\"], label=\"CCUR\", marker=\"s\", markersize=8)\n",
    "plt.xlabel(\"Foreground and Background Size (n = m)\", fontsize=16)\n",
    "plt.ylabel(\"Value\", fontsize=16)\n",
    "plt.title(\"Average Value for Selected Rows in Factor 0 in W\", fontsize=18)\n",
    "plt.legend(fontsize=14)\n",
    "plt.xticks(fontsize=14)\n",
    "plt.yticks(fontsize=14)\n",
    "plt.grid(axis=\"both\", linestyle=\"--\", alpha=0.7)\n",
    "plt.tight_layout()\n",
    "plt.show()\n"
   ]
  },
  {
   "cell_type": "code",
   "execution_count": null,
   "id": "c7d317ed-76b2-4775-93a0-242b662be30f",
   "metadata": {},
   "outputs": [],
   "source": []
  }
 ],
 "metadata": {
  "kernelspec": {
   "display_name": "Python 3 (ipykernel)",
   "language": "python",
   "name": "python3"
  },
  "language_info": {
   "codemirror_mode": {
    "name": "ipython",
    "version": 3
   },
   "file_extension": ".py",
   "mimetype": "text/x-python",
   "name": "python",
   "nbconvert_exporter": "python",
   "pygments_lexer": "ipython3",
   "version": "3.10.9"
  }
 },
 "nbformat": 4,
 "nbformat_minor": 5
}
