{
 "cells": [
  {
   "cell_type": "code",
   "execution_count": 1,
   "id": "21ea4f50-4e3f-4238-b95e-afbefc27a830",
   "metadata": {},
   "outputs": [],
   "source": [
    "import os\n",
    "import numpy as np\n",
    "import pytorch_lightning as pl\n",
    "import torch.nn as nn\n",
    "import torch\n",
    "from data import LabeledDataset\n",
    "from torch.utils.data import DataLoader\n",
    "from CFS_SG import CFS_SG"
   ]
  },
  {
   "cell_type": "code",
   "execution_count": 2,
   "id": "c2585f0e-75e9-4481-a870-2810f36e31c4",
   "metadata": {},
   "outputs": [
    {
     "name": "stderr",
     "output_type": "stream",
     "text": [
      "/tmp/ipykernel_2379909/1128385069.py:12: VisibleDeprecationWarning: Reading unicode strings without specifying the encoding argument is deprecated. Set the encoding, use None for the system default.\n",
      "  classes = np.genfromtxt('Data_Cortex_Nuclear.csv',delimiter=',',\n"
     ]
    }
   ],
   "source": [
    "import matplotlib\n",
    "import os\n",
    "import pandas as pd\n",
    "import matplotlib.pyplot as plt\n",
    "import numpy as np\n",
    "from scipy.linalg import svd\n",
    "from scipy.linalg import pinv\n",
    "from itertools import product\n",
    "\n",
    "data = np.genfromtxt('Data_Cortex_Nuclear.csv',delimiter=',',\n",
    "                     skip_header=1,usecols=range(1,78),filling_values=0)\n",
    "classes = np.genfromtxt('Data_Cortex_Nuclear.csv',delimiter=',',\n",
    "                        skip_header=1,usecols=range(78,81),dtype=None)\n",
    "\n",
    "data_pd = pd.read_csv(\"Data_Cortex_Nuclear.csv\")\n",
    "\n",
    "target_idx_A = np.where((classes[:,-1]==b'S/C') & (classes[:,-2]==b'Saline') & (classes[:,-3]==b'Control'))[0]\n",
    "target_idx_B = np.where((classes[:,-1]==b'S/C') & (classes[:,-2]==b'Saline') & (classes[:,-3]==b'Ts65Dn'))[0]\n",
    "\n",
    "labels = len(target_idx_A)*[0] + len(target_idx_B)*[1]\n",
    "target_idx = np.concatenate((target_idx_A,target_idx_B))                                                                          \n",
    "\n",
    "target = data[target_idx]\n",
    "\n",
    "background_idx = np.where((classes[:,-1]==b'C/S') & (classes[:,-2]==b'Saline') & (classes[:,-3]==b'Control'))\n",
    "background = data[background_idx]\n",
    "\n",
    "foreground_gene_names = data_pd.columns.values[1:-4]\n"
   ]
  },
  {
   "cell_type": "code",
   "execution_count": 3,
   "id": "8c89742f-16da-40ca-bb83-308c0c1fe410",
   "metadata": {},
   "outputs": [],
   "source": [
    "labels_train = np.concatenate([np.zeros(background.shape[0]), np.ones(target.shape[0])])\n",
    "data_train = np.concatenate([background, target])\n",
    "\n",
    "data_train = torch.from_numpy(data_train).float()  \n",
    "labels_train = torch.from_numpy(labels_train).float()  \n",
    "\n",
    "# Create the dataset as before\n",
    "dataset = LabeledDataset(data_train.numpy(), labels_train.numpy())\n"
   ]
  },
  {
   "cell_type": "code",
   "execution_count": 4,
   "id": "70691b75-d798-4498-a39c-6eb4fcaedced",
   "metadata": {},
   "outputs": [],
   "source": [
    "input_size = target.shape[1]\n",
    "output_size = background.shape[1]\n",
    "batch_size = 128"
   ]
  },
  {
   "cell_type": "code",
   "execution_count": 5,
   "id": "8f2e2e32-b2e7-4097-a5df-4df12793b5ca",
   "metadata": {},
   "outputs": [],
   "source": [
    "model = CFS_SG(\n",
    "    input_size=input_size,\n",
    "    output_size=output_size,\n",
    "    hidden=[512, 512], # Number of units in each hidden layer\n",
    "    k_prime=20, # Background dimension size\n",
    "    lam=0.15, # Tuned to select about 10 features\n",
    "    lr=1e-3,\n",
    "    loss_fn=nn.MSELoss()\n",
    ")\n"
   ]
  },
  {
   "cell_type": "code",
   "execution_count": 6,
   "id": "54a29048-10e9-4d63-a686-a560e3bec18f",
   "metadata": {},
   "outputs": [
    {
     "name": "stderr",
     "output_type": "stream",
     "text": [
      "GPU available: True (cuda), used: True\n",
      "TPU available: False, using: 0 TPU cores\n",
      "HPU available: False, using: 0 HPUs\n",
      "/nas/longleaf/home/eyzhang/.local/lib/python3.10/site-packages/pytorch_lightning/trainer/connectors/logger_connector/logger_connector.py:75: Starting from v1.9.0, `tensorboardX` has been removed as a dependency of the `pytorch_lightning` package, due to potential conflicts with other packages in the ML ecosystem. For this reason, `logger=True` will use `CSVLogger` as the default logger, unless the `tensorboard` or `tensorboardX` packages are found. Please `pip install lightning[extra]` or one of them to enable TensorBoard support by default\n",
      "You are using a CUDA device ('NVIDIA A100-PCIE-40GB MIG 2g.10gb') that has Tensor Cores. To properly utilize them, you should set `torch.set_float32_matmul_precision('medium' | 'high')` which will trade-off precision for performance. For more details, read https://pytorch.org/docs/stable/generated/torch.set_float32_matmul_precision.html#torch.set_float32_matmul_precision\n",
      "LOCAL_RANK: 0 - CUDA_VISIBLE_DEVICES: [MIG-f431a4cc-e3b9-502a-a0e9-8bb3d21b4074]\n",
      "\n",
      "  | Name                   | Type       | Params | Mode \n",
      "--------------------------------------------------------------\n",
      "0 | background_input_layer | Sequential | 12.6 K | train\n",
      "1 | fc                     | Sequential | 352 K  | train\n",
      "2 | loss_fn                | MSELoss    | 0      | train\n",
      "  | other params           | n/a        | 77     | n/a  \n",
      "--------------------------------------------------------------\n",
      "364 K     Trainable params\n",
      "0         Non-trainable params\n",
      "364 K     Total params\n",
      "1.460     Total estimated model params size (MB)\n",
      "11        Modules in train mode\n",
      "0         Modules in eval mode\n",
      "SLURM auto-requeueing enabled. Setting signal handlers.\n",
      "/nas/longleaf/home/eyzhang/.local/lib/python3.10/site-packages/pytorch_lightning/loops/fit_loop.py:298: The number of training batches (4) is smaller than the logging interval Trainer(log_every_n_steps=50). Set a lower value for log_every_n_steps if you want to see logs for the training epoch.\n"
     ]
    },
    {
     "data": {
      "application/vnd.jupyter.widget-view+json": {
       "model_id": "cea04e17b9f54a16b6142e7add7e2f1e",
       "version_major": 2,
       "version_minor": 0
      },
      "text/plain": [
       "Training: |          | 0/? [00:00<?, ?it/s]"
      ]
     },
     "metadata": {},
     "output_type": "display_data"
    },
    {
     "name": "stderr",
     "output_type": "stream",
     "text": [
      "/nas/longleaf/home/eyzhang/.local/lib/python3.10/site-packages/pytorch_lightning/trainer/connectors/logger_connector/result.py:212: You called `self.log('num_selected_gates', ...)` in your `training_step` but the value needs to be floating to be reduced. Converting it to torch.float32. You can silence this warning by converting the value to floating point yourself. If you don't intend to reduce the value (for instance when logging the global step or epoch) then you can use `self.logger.log_metrics({'num_selected_gates': ...})` instead.\n",
      "`Trainer.fit` stopped: `max_epochs=10` reached.\n"
     ]
    }
   ],
   "source": [
    "loader = DataLoader(dataset, batch_size=batch_size, shuffle=True)\n",
    "\n",
    "trainer = pl.Trainer(max_epochs=10, accelerator='gpu', devices=1)\n",
    "trainer.fit(model, loader)"
   ]
  },
  {
   "cell_type": "code",
   "execution_count": 7,
   "id": "60b5bbf3-77e0-42b8-a650-3d6bde047174",
   "metadata": {},
   "outputs": [],
   "source": [
    "indices = model.get_inds(10) "
   ]
  },
  {
   "cell_type": "code",
   "execution_count": 8,
   "id": "2396c077-2618-4844-9cf1-28fce99a8f71",
   "metadata": {},
   "outputs": [
    {
     "data": {
      "text/plain": [
       "array(['DYRK1A_N', 'MEK_N', 'pERK_N', 'TRKA_N', 'NR2A_N', 'pPKCG_N',\n",
       "       'pNR2B_N', 'pMTOR_N', 'BAD_N', 'pP70S6_N'], dtype=object)"
      ]
     },
     "execution_count": 8,
     "metadata": {},
     "output_type": "execute_result"
    }
   ],
   "source": [
    "foreground_gene_names[indices]"
   ]
  },
  {
   "cell_type": "code",
   "execution_count": null,
   "id": "fd9fe461-9289-466f-b3dc-ccb6ae0b2d6a",
   "metadata": {},
   "outputs": [],
   "source": []
  }
 ],
 "metadata": {
  "kernelspec": {
   "display_name": "Python 3 (ipykernel)",
   "language": "python",
   "name": "python3"
  },
  "language_info": {
   "codemirror_mode": {
    "name": "ipython",
    "version": 3
   },
   "file_extension": ".py",
   "mimetype": "text/x-python",
   "name": "python",
   "nbconvert_exporter": "python",
   "pygments_lexer": "ipython3",
   "version": "3.10.9"
  }
 },
 "nbformat": 4,
 "nbformat_minor": 5
}
