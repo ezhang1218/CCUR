{
 "cells": [
  {
   "cell_type": "code",
   "execution_count": 10,
   "id": "19119aca-4570-491d-b0fb-6b4c43fb5105",
   "metadata": {},
   "outputs": [],
   "source": [
    "import os\n",
    "import numpy as np\n",
    "import pytorch_lightning as pl\n",
    "import torch.nn as nn\n",
    "import torch\n",
    "from data import LabeledDataset\n",
    "from torch.utils.data import DataLoader\n",
    "from CFS_SG import CFS_SG\n",
    "import numpy as np\n",
    "from numpy.linalg import svd, pinv\n",
    "import matplotlib.pyplot as plt"
   ]
  },
  {
   "cell_type": "code",
   "execution_count": 2,
   "id": "41d2bafb-06ae-47c9-8bf4-59480cb88129",
   "metadata": {},
   "outputs": [],
   "source": [
    "def compute_leverage_scores(V, k):\n",
    "    leverage_scores = np.sum(V[:k, :]**2, axis=0)\n",
    "    return leverage_scores\n",
    "\n",
    "def scores(A, k):\n",
    "    U, S, Vt = svd(A, full_matrices=False)\n",
    "    column_scores = compute_leverage_scores(Vt, k)\n",
    "    row_scores = compute_leverage_scores(U.T, k)\n",
    "    \n",
    "    return column_scores, row_scores\n",
    "\n",
    "def ccur(X, Y, k, top_selected, epsilon = 1e-6):\n",
    "    leverage_scores_X, _ = scores(X, k)\n",
    "    leverage_scores_Y, _ = scores(Y, k)\n",
    "    \n",
    "    ratios =(leverage_scores_X) / (leverage_scores_Y)\n",
    "    \n",
    "    top_k_indices = np.argsort(-ratios)[:top_selected]\n",
    "    \n",
    "    return top_k_indices, ratios[top_k_indices], ratios\n"
   ]
  },
  {
   "cell_type": "code",
   "execution_count": 13,
   "id": "1ef06486-84c0-4615-af76-67ace23a5931",
   "metadata": {},
   "outputs": [],
   "source": [
    "def generate_data(n, m, p, k):\n",
    "    Z_shared = np.random.normal(size=(n, k))\n",
    "    Z_shared[np.abs(Z_shared) < 1.8] = 0\n",
    "\n",
    "    Z_unique = np.random.normal(size=(n, k))\n",
    "    Z_unique[np.abs(Z_unique) < 1.8] = 0\n",
    "\n",
    "    Z_bg = np.random.normal(size=(m, k))\n",
    "    Z_bg[np.abs(Z_bg) < 1.8] = 0\n",
    "\n",
    "    V = np.random.normal(size=(k, p))  # shared loadings\n",
    "    V[np.abs(V) < 1.8] = 0\n",
    "\n",
    "    W = np.random.normal(size=(k, p))  # foreground-specific loadings\n",
    "    W[np.abs(W) < 1.8] = 0\n",
    "\n",
    "    background = Z_bg @ V + np.random.normal(0, 1, size=(m, p))\n",
    "    foreground = Z_shared @ V + Z_unique @ W + np.random.normal(0, 1, size=(n, p))\n",
    "\n",
    "    return background, foreground, W, V, Z_unique, Z_shared, Z_bg\n"
   ]
  },
  {
   "cell_type": "code",
   "execution_count": 14,
   "id": "17cc0ac2-3ebb-4612-857c-cb4e75d09507",
   "metadata": {},
   "outputs": [],
   "source": [
    "def compute_leverage_scores(V, k):\n",
    "    return np.sum(V[:k, :] ** 2, axis=0)\n",
    "\n",
    "def scores(A, k):\n",
    "    U, S, Vt = svd(A, full_matrices=False)\n",
    "    return compute_leverage_scores(Vt, k), compute_leverage_scores(U.T, k)\n",
    "\n",
    "def cols_ranking_cur(F, k):\n",
    "    col_scores, _ = scores(F, k)\n",
    "    return np.argsort(-col_scores)          # descending order\n",
    "\n",
    "def cols_ranking_ccur(F, B, k, eps=1e-12):\n",
    "    col_F, _ = scores(F, k)\n",
    "    col_B, _ = scores(B, k)\n",
    "    ratio = col_F / (col_B+eps)\n",
    "    return np.argsort(-ratio)               # descending order\n",
    "\n",
    "def cols_ranking_cpca(F, B):\n",
    "    constrastive_cov = np.cov(F, rowvar=False) - np.cov(B, rowvar=False)\n",
    "    eigenvalues, eigenvectors = np.linalg.eig(constrastive_cov)\n",
    "    first_pc = eigenvectors[:, np.argmax(eigenvalues)]\n",
    "    return np.argsort(-np.abs(first_pc))\n",
    "    \n",
    "def cumulative_hits(order, target_set):\n",
    "    return np.cumsum(np.isin(order, target_set).astype(int))"
   ]
  },
  {
   "cell_type": "code",
   "execution_count": 15,
   "id": "ee7c4e77-db3b-4e90-ac1a-06652ae1ff94",
   "metadata": {},
   "outputs": [],
   "source": [
    "def compare_column_accumulation(n=500, m=500, p=100, f=5, k=10, n_sim=100):\n",
    "\n",
    "    cum_W = {method: np.zeros((n_sim, p)) for method in ['CUR', 'CCUR', 'CPCA', 'CFS']}\n",
    "    cum_V = {method: np.zeros((n_sim, p)) for method in ['CUR', 'CCUR', 'CPCA', 'CFS']}\n",
    "\n",
    "    for s in range(n_sim):\n",
    "        B, F, W, V, Z_unique, Z_shared, Z_bg = generate_data(n, m, p, f)\n",
    "        W_set = np.where(np.any(W != 0, axis=0))[0]\n",
    "        V_set = np.where(np.any(V != 0, axis=0))[0]\n",
    "\n",
    "        # ---- CUR ----\n",
    "        rank_cur = cols_ranking_cur(F, k)\n",
    "        cum_W['CUR'][s] = cumulative_hits(rank_cur, W_set)\n",
    "        cum_V['CUR'][s] = cumulative_hits(rank_cur, V_set)\n",
    "\n",
    "        # ---- CCUR ----\n",
    "        rank_ccur = cols_ranking_ccur(F, B, k)\n",
    "        cum_W['CCUR'][s] = cumulative_hits(rank_ccur, W_set)\n",
    "        cum_V['CCUR'][s] = cumulative_hits(rank_ccur, V_set)\n",
    "\n",
    "        # ---- CPCA ----\n",
    "        rank_cpca = cols_ranking_cpca(F, B)\n",
    "        cum_W['CPCA'][s] = cumulative_hits(rank_cpca, W_set)\n",
    "        cum_V['CPCA'][s] = cumulative_hits(rank_cpca, V_set)\n",
    "\n",
    "        # ---- CFS ----\n",
    "        input_size = F.shape[1]\n",
    "        output_size = B.shape[1]\n",
    "        batch_size = 128\n",
    "\n",
    "        labels_train = np.concatenate([np.zeros(B.shape[0]), np.ones(F.shape[0])])\n",
    "        data_train = np.concatenate([B, F])\n",
    "        data_tensor = torch.from_numpy(data_train).float()\n",
    "        label_tensor = torch.from_numpy(labels_train).float()\n",
    "\n",
    "        dataset = LabeledDataset(data_tensor.numpy(), label_tensor.numpy())\n",
    "        loader = DataLoader(dataset, batch_size=batch_size, shuffle=True)\n",
    "\n",
    "        model = CFS_SG(\n",
    "            input_size=input_size,\n",
    "            output_size=output_size,\n",
    "            hidden=[512, 512],\n",
    "            k_prime=20,\n",
    "            lam=0.15,\n",
    "            lr=1e-3,\n",
    "            loss_fn=nn.MSELoss()\n",
    "        )\n",
    "\n",
    "        trainer = pl.Trainer(max_epochs=10, accelerator='gpu', devices=1,\n",
    "                             enable_checkpointing=False, logger=False)\n",
    "        trainer.fit(model, loader)\n",
    "\n",
    "        cfs_cols = model.get_inds(p)\n",
    "        cum_W['CFS'][s] = cumulative_hits(cfs_cols, W_set)\n",
    "        cum_V['CFS'][s] = cumulative_hits(cfs_cols, V_set)\n",
    "\n",
    "    # ---- Mean curves ----\n",
    "    mean_W = {method: cum_W[method].mean(axis=0) for method in cum_W}\n",
    "    mean_S = {method: cum_V[method].mean(axis=0) for method in cum_V}\n",
    "\n",
    "    return (\n",
    "        mean_W['CCUR'], mean_W['CUR'], mean_S['CUR'], mean_S['CCUR'],\n",
    "        cum_W['CCUR'], cum_W['CUR'], cum_V['CUR'], cum_V['CCUR'],\n",
    "        mean_W['CPCA'], mean_S['CPCA'],\n",
    "        cum_W['CPCA'], cum_V['CPCA'],\n",
    "        mean_W['CFS'], mean_S['CFS'],\n",
    "        cum_W['CFS'], cum_V['CFS']\n",
    "    )\n"
   ]
  },
  {
   "cell_type": "code",
   "execution_count": 16,
   "id": "f8974207-9deb-4e8a-bfb1-b1d3dc84f332",
   "metadata": {},
   "outputs": [
    {
     "name": "stderr",
     "output_type": "stream",
     "text": [
      "GPU available: True (cuda), used: True\n",
      "TPU available: False, using: 0 TPU cores\n",
      "HPU available: False, using: 0 HPUs\n",
      "LOCAL_RANK: 0 - CUDA_VISIBLE_DEVICES: [0]\n",
      "\n",
      "  | Name                   | Type       | Params | Mode \n",
      "--------------------------------------------------------------\n",
      "0 | background_input_layer | Sequential | 15.5 K | train\n",
      "1 | fc                     | Sequential | 375 K  | train\n",
      "2 | loss_fn                | MSELoss    | 0      | train\n",
      "  | other params           | n/a        | 100    | n/a  \n",
      "--------------------------------------------------------------\n",
      "391 K     Trainable params\n",
      "0         Non-trainable params\n",
      "391 K     Total params\n",
      "1.566     Total estimated model params size (MB)\n",
      "11        Modules in train mode\n",
      "0         Modules in eval mode\n",
      "SLURM auto-requeueing enabled. Setting signal handlers.\n"
     ]
    },
    {
     "data": {
      "application/vnd.jupyter.widget-view+json": {
       "model_id": "ef9df3479e0443c7a3a5eeeead04a363",
       "version_major": 2,
       "version_minor": 0
      },
      "text/plain": [
       "Training: |          | 0/? [00:00<?, ?it/s]"
      ]
     },
     "metadata": {},
     "output_type": "display_data"
    },
    {
     "name": "stderr",
     "output_type": "stream",
     "text": [
      "`Trainer.fit` stopped: `max_epochs=10` reached.\n",
      "GPU available: True (cuda), used: True\n",
      "TPU available: False, using: 0 TPU cores\n",
      "HPU available: False, using: 0 HPUs\n",
      "LOCAL_RANK: 0 - CUDA_VISIBLE_DEVICES: [0]\n",
      "\n",
      "  | Name                   | Type       | Params | Mode \n",
      "--------------------------------------------------------------\n",
      "0 | background_input_layer | Sequential | 15.5 K | train\n",
      "1 | fc                     | Sequential | 375 K  | train\n",
      "2 | loss_fn                | MSELoss    | 0      | train\n",
      "  | other params           | n/a        | 100    | n/a  \n",
      "--------------------------------------------------------------\n",
      "391 K     Trainable params\n",
      "0         Non-trainable params\n",
      "391 K     Total params\n",
      "1.566     Total estimated model params size (MB)\n",
      "11        Modules in train mode\n",
      "0         Modules in eval mode\n",
      "SLURM auto-requeueing enabled. Setting signal handlers.\n"
     ]
    },
    {
     "data": {
      "application/vnd.jupyter.widget-view+json": {
       "model_id": "8aad2a991f0f4809abe0a85ab249839a",
       "version_major": 2,
       "version_minor": 0
      },
      "text/plain": [
       "Training: |          | 0/? [00:00<?, ?it/s]"
      ]
     },
     "metadata": {},
     "output_type": "display_data"
    },
    {
     "name": "stderr",
     "output_type": "stream",
     "text": [
      "`Trainer.fit` stopped: `max_epochs=10` reached.\n",
      "GPU available: True (cuda), used: True\n",
      "TPU available: False, using: 0 TPU cores\n",
      "HPU available: False, using: 0 HPUs\n",
      "LOCAL_RANK: 0 - CUDA_VISIBLE_DEVICES: [0]\n",
      "\n",
      "  | Name                   | Type       | Params | Mode \n",
      "--------------------------------------------------------------\n",
      "0 | background_input_layer | Sequential | 15.5 K | train\n",
      "1 | fc                     | Sequential | 375 K  | train\n",
      "2 | loss_fn                | MSELoss    | 0      | train\n",
      "  | other params           | n/a        | 100    | n/a  \n",
      "--------------------------------------------------------------\n",
      "391 K     Trainable params\n",
      "0         Non-trainable params\n",
      "391 K     Total params\n",
      "1.566     Total estimated model params size (MB)\n",
      "11        Modules in train mode\n",
      "0         Modules in eval mode\n",
      "SLURM auto-requeueing enabled. Setting signal handlers.\n"
     ]
    },
    {
     "data": {
      "application/vnd.jupyter.widget-view+json": {
       "model_id": "09ee0a5c59da4d518b616ad3de411f27",
       "version_major": 2,
       "version_minor": 0
      },
      "text/plain": [
       "Training: |          | 0/? [00:00<?, ?it/s]"
      ]
     },
     "metadata": {},
     "output_type": "display_data"
    },
    {
     "name": "stderr",
     "output_type": "stream",
     "text": [
      "`Trainer.fit` stopped: `max_epochs=10` reached.\n",
      "GPU available: True (cuda), used: True\n",
      "TPU available: False, using: 0 TPU cores\n",
      "HPU available: False, using: 0 HPUs\n",
      "LOCAL_RANK: 0 - CUDA_VISIBLE_DEVICES: [0]\n",
      "\n",
      "  | Name                   | Type       | Params | Mode \n",
      "--------------------------------------------------------------\n",
      "0 | background_input_layer | Sequential | 15.5 K | train\n",
      "1 | fc                     | Sequential | 375 K  | train\n",
      "2 | loss_fn                | MSELoss    | 0      | train\n",
      "  | other params           | n/a        | 100    | n/a  \n",
      "--------------------------------------------------------------\n",
      "391 K     Trainable params\n",
      "0         Non-trainable params\n",
      "391 K     Total params\n",
      "1.566     Total estimated model params size (MB)\n",
      "11        Modules in train mode\n",
      "0         Modules in eval mode\n",
      "SLURM auto-requeueing enabled. Setting signal handlers.\n"
     ]
    },
    {
     "data": {
      "application/vnd.jupyter.widget-view+json": {
       "model_id": "951e9a6134e54f7d9e8ec259adb28257",
       "version_major": 2,
       "version_minor": 0
      },
      "text/plain": [
       "Training: |          | 0/? [00:00<?, ?it/s]"
      ]
     },
     "metadata": {},
     "output_type": "display_data"
    },
    {
     "name": "stderr",
     "output_type": "stream",
     "text": [
      "`Trainer.fit` stopped: `max_epochs=10` reached.\n",
      "GPU available: True (cuda), used: True\n",
      "TPU available: False, using: 0 TPU cores\n",
      "HPU available: False, using: 0 HPUs\n",
      "LOCAL_RANK: 0 - CUDA_VISIBLE_DEVICES: [0]\n",
      "\n",
      "  | Name                   | Type       | Params | Mode \n",
      "--------------------------------------------------------------\n",
      "0 | background_input_layer | Sequential | 15.5 K | train\n",
      "1 | fc                     | Sequential | 375 K  | train\n",
      "2 | loss_fn                | MSELoss    | 0      | train\n",
      "  | other params           | n/a        | 100    | n/a  \n",
      "--------------------------------------------------------------\n",
      "391 K     Trainable params\n",
      "0         Non-trainable params\n",
      "391 K     Total params\n",
      "1.566     Total estimated model params size (MB)\n",
      "11        Modules in train mode\n",
      "0         Modules in eval mode\n",
      "SLURM auto-requeueing enabled. Setting signal handlers.\n"
     ]
    },
    {
     "data": {
      "application/vnd.jupyter.widget-view+json": {
       "model_id": "89242877cf6b437785f5af94385b82c7",
       "version_major": 2,
       "version_minor": 0
      },
      "text/plain": [
       "Training: |          | 0/? [00:00<?, ?it/s]"
      ]
     },
     "metadata": {},
     "output_type": "display_data"
    },
    {
     "name": "stderr",
     "output_type": "stream",
     "text": [
      "`Trainer.fit` stopped: `max_epochs=10` reached.\n",
      "GPU available: True (cuda), used: True\n",
      "TPU available: False, using: 0 TPU cores\n",
      "HPU available: False, using: 0 HPUs\n",
      "LOCAL_RANK: 0 - CUDA_VISIBLE_DEVICES: [0]\n",
      "\n",
      "  | Name                   | Type       | Params | Mode \n",
      "--------------------------------------------------------------\n",
      "0 | background_input_layer | Sequential | 15.5 K | train\n",
      "1 | fc                     | Sequential | 375 K  | train\n",
      "2 | loss_fn                | MSELoss    | 0      | train\n",
      "  | other params           | n/a        | 100    | n/a  \n",
      "--------------------------------------------------------------\n",
      "391 K     Trainable params\n",
      "0         Non-trainable params\n",
      "391 K     Total params\n",
      "1.566     Total estimated model params size (MB)\n",
      "11        Modules in train mode\n",
      "0         Modules in eval mode\n",
      "SLURM auto-requeueing enabled. Setting signal handlers.\n"
     ]
    },
    {
     "data": {
      "application/vnd.jupyter.widget-view+json": {
       "model_id": "758df516ab39484b9a71d0b07e9b1d9b",
       "version_major": 2,
       "version_minor": 0
      },
      "text/plain": [
       "Training: |          | 0/? [00:00<?, ?it/s]"
      ]
     },
     "metadata": {},
     "output_type": "display_data"
    },
    {
     "name": "stderr",
     "output_type": "stream",
     "text": [
      "`Trainer.fit` stopped: `max_epochs=10` reached.\n",
      "GPU available: True (cuda), used: True\n",
      "TPU available: False, using: 0 TPU cores\n",
      "HPU available: False, using: 0 HPUs\n",
      "LOCAL_RANK: 0 - CUDA_VISIBLE_DEVICES: [0]\n",
      "\n",
      "  | Name                   | Type       | Params | Mode \n",
      "--------------------------------------------------------------\n",
      "0 | background_input_layer | Sequential | 15.5 K | train\n",
      "1 | fc                     | Sequential | 375 K  | train\n",
      "2 | loss_fn                | MSELoss    | 0      | train\n",
      "  | other params           | n/a        | 100    | n/a  \n",
      "--------------------------------------------------------------\n",
      "391 K     Trainable params\n",
      "0         Non-trainable params\n",
      "391 K     Total params\n",
      "1.566     Total estimated model params size (MB)\n",
      "11        Modules in train mode\n",
      "0         Modules in eval mode\n",
      "SLURM auto-requeueing enabled. Setting signal handlers.\n"
     ]
    },
    {
     "data": {
      "application/vnd.jupyter.widget-view+json": {
       "model_id": "0e8a2da8da354a2ab4d7bdf0882b4eb0",
       "version_major": 2,
       "version_minor": 0
      },
      "text/plain": [
       "Training: |          | 0/? [00:00<?, ?it/s]"
      ]
     },
     "metadata": {},
     "output_type": "display_data"
    },
    {
     "name": "stderr",
     "output_type": "stream",
     "text": [
      "`Trainer.fit` stopped: `max_epochs=10` reached.\n",
      "GPU available: True (cuda), used: True\n",
      "TPU available: False, using: 0 TPU cores\n",
      "HPU available: False, using: 0 HPUs\n",
      "LOCAL_RANK: 0 - CUDA_VISIBLE_DEVICES: [0]\n",
      "\n",
      "  | Name                   | Type       | Params | Mode \n",
      "--------------------------------------------------------------\n",
      "0 | background_input_layer | Sequential | 15.5 K | train\n",
      "1 | fc                     | Sequential | 375 K  | train\n",
      "2 | loss_fn                | MSELoss    | 0      | train\n",
      "  | other params           | n/a        | 100    | n/a  \n",
      "--------------------------------------------------------------\n",
      "391 K     Trainable params\n",
      "0         Non-trainable params\n",
      "391 K     Total params\n",
      "1.566     Total estimated model params size (MB)\n",
      "11        Modules in train mode\n",
      "0         Modules in eval mode\n",
      "SLURM auto-requeueing enabled. Setting signal handlers.\n"
     ]
    },
    {
     "data": {
      "application/vnd.jupyter.widget-view+json": {
       "model_id": "6728253385b04a359c8aee08859f68a7",
       "version_major": 2,
       "version_minor": 0
      },
      "text/plain": [
       "Training: |          | 0/? [00:00<?, ?it/s]"
      ]
     },
     "metadata": {},
     "output_type": "display_data"
    },
    {
     "name": "stderr",
     "output_type": "stream",
     "text": [
      "`Trainer.fit` stopped: `max_epochs=10` reached.\n",
      "GPU available: True (cuda), used: True\n",
      "TPU available: False, using: 0 TPU cores\n",
      "HPU available: False, using: 0 HPUs\n",
      "LOCAL_RANK: 0 - CUDA_VISIBLE_DEVICES: [0]\n",
      "\n",
      "  | Name                   | Type       | Params | Mode \n",
      "--------------------------------------------------------------\n",
      "0 | background_input_layer | Sequential | 15.5 K | train\n",
      "1 | fc                     | Sequential | 375 K  | train\n",
      "2 | loss_fn                | MSELoss    | 0      | train\n",
      "  | other params           | n/a        | 100    | n/a  \n",
      "--------------------------------------------------------------\n",
      "391 K     Trainable params\n",
      "0         Non-trainable params\n",
      "391 K     Total params\n",
      "1.566     Total estimated model params size (MB)\n",
      "11        Modules in train mode\n",
      "0         Modules in eval mode\n",
      "SLURM auto-requeueing enabled. Setting signal handlers.\n"
     ]
    },
    {
     "data": {
      "application/vnd.jupyter.widget-view+json": {
       "model_id": "52b7ef0edd44455cb8b80e363b72dae6",
       "version_major": 2,
       "version_minor": 0
      },
      "text/plain": [
       "Training: |          | 0/? [00:00<?, ?it/s]"
      ]
     },
     "metadata": {},
     "output_type": "display_data"
    },
    {
     "name": "stderr",
     "output_type": "stream",
     "text": [
      "`Trainer.fit` stopped: `max_epochs=10` reached.\n",
      "GPU available: True (cuda), used: True\n",
      "TPU available: False, using: 0 TPU cores\n",
      "HPU available: False, using: 0 HPUs\n",
      "LOCAL_RANK: 0 - CUDA_VISIBLE_DEVICES: [0]\n",
      "\n",
      "  | Name                   | Type       | Params | Mode \n",
      "--------------------------------------------------------------\n",
      "0 | background_input_layer | Sequential | 15.5 K | train\n",
      "1 | fc                     | Sequential | 375 K  | train\n",
      "2 | loss_fn                | MSELoss    | 0      | train\n",
      "  | other params           | n/a        | 100    | n/a  \n",
      "--------------------------------------------------------------\n",
      "391 K     Trainable params\n",
      "0         Non-trainable params\n",
      "391 K     Total params\n",
      "1.566     Total estimated model params size (MB)\n",
      "11        Modules in train mode\n",
      "0         Modules in eval mode\n",
      "SLURM auto-requeueing enabled. Setting signal handlers.\n"
     ]
    },
    {
     "data": {
      "application/vnd.jupyter.widget-view+json": {
       "model_id": "784d9d24291f46278cd89c269e028c3f",
       "version_major": 2,
       "version_minor": 0
      },
      "text/plain": [
       "Training: |          | 0/? [00:00<?, ?it/s]"
      ]
     },
     "metadata": {},
     "output_type": "display_data"
    },
    {
     "name": "stderr",
     "output_type": "stream",
     "text": [
      "`Trainer.fit` stopped: `max_epochs=10` reached.\n",
      "GPU available: True (cuda), used: True\n",
      "TPU available: False, using: 0 TPU cores\n",
      "HPU available: False, using: 0 HPUs\n",
      "LOCAL_RANK: 0 - CUDA_VISIBLE_DEVICES: [0]\n",
      "\n",
      "  | Name                   | Type       | Params | Mode \n",
      "--------------------------------------------------------------\n",
      "0 | background_input_layer | Sequential | 15.5 K | train\n",
      "1 | fc                     | Sequential | 375 K  | train\n",
      "2 | loss_fn                | MSELoss    | 0      | train\n",
      "  | other params           | n/a        | 100    | n/a  \n",
      "--------------------------------------------------------------\n",
      "391 K     Trainable params\n",
      "0         Non-trainable params\n",
      "391 K     Total params\n",
      "1.566     Total estimated model params size (MB)\n",
      "11        Modules in train mode\n",
      "0         Modules in eval mode\n",
      "SLURM auto-requeueing enabled. Setting signal handlers.\n"
     ]
    },
    {
     "data": {
      "application/vnd.jupyter.widget-view+json": {
       "model_id": "24ad26a6b34b4ac0a28fe1eee7601bd4",
       "version_major": 2,
       "version_minor": 0
      },
      "text/plain": [
       "Training: |          | 0/? [00:00<?, ?it/s]"
      ]
     },
     "metadata": {},
     "output_type": "display_data"
    },
    {
     "name": "stderr",
     "output_type": "stream",
     "text": [
      "`Trainer.fit` stopped: `max_epochs=10` reached.\n",
      "GPU available: True (cuda), used: True\n",
      "TPU available: False, using: 0 TPU cores\n",
      "HPU available: False, using: 0 HPUs\n",
      "LOCAL_RANK: 0 - CUDA_VISIBLE_DEVICES: [0]\n",
      "\n",
      "  | Name                   | Type       | Params | Mode \n",
      "--------------------------------------------------------------\n",
      "0 | background_input_layer | Sequential | 15.5 K | train\n",
      "1 | fc                     | Sequential | 375 K  | train\n",
      "2 | loss_fn                | MSELoss    | 0      | train\n",
      "  | other params           | n/a        | 100    | n/a  \n",
      "--------------------------------------------------------------\n",
      "391 K     Trainable params\n",
      "0         Non-trainable params\n",
      "391 K     Total params\n",
      "1.566     Total estimated model params size (MB)\n",
      "11        Modules in train mode\n",
      "0         Modules in eval mode\n",
      "SLURM auto-requeueing enabled. Setting signal handlers.\n"
     ]
    },
    {
     "data": {
      "application/vnd.jupyter.widget-view+json": {
       "model_id": "25193a9b296b4f62b85b123de99661d7",
       "version_major": 2,
       "version_minor": 0
      },
      "text/plain": [
       "Training: |          | 0/? [00:00<?, ?it/s]"
      ]
     },
     "metadata": {},
     "output_type": "display_data"
    },
    {
     "name": "stderr",
     "output_type": "stream",
     "text": [
      "`Trainer.fit` stopped: `max_epochs=10` reached.\n",
      "GPU available: True (cuda), used: True\n",
      "TPU available: False, using: 0 TPU cores\n",
      "HPU available: False, using: 0 HPUs\n",
      "LOCAL_RANK: 0 - CUDA_VISIBLE_DEVICES: [0]\n",
      "\n",
      "  | Name                   | Type       | Params | Mode \n",
      "--------------------------------------------------------------\n",
      "0 | background_input_layer | Sequential | 15.5 K | train\n",
      "1 | fc                     | Sequential | 375 K  | train\n",
      "2 | loss_fn                | MSELoss    | 0      | train\n",
      "  | other params           | n/a        | 100    | n/a  \n",
      "--------------------------------------------------------------\n",
      "391 K     Trainable params\n",
      "0         Non-trainable params\n",
      "391 K     Total params\n",
      "1.566     Total estimated model params size (MB)\n",
      "11        Modules in train mode\n",
      "0         Modules in eval mode\n",
      "SLURM auto-requeueing enabled. Setting signal handlers.\n"
     ]
    },
    {
     "data": {
      "application/vnd.jupyter.widget-view+json": {
       "model_id": "ee8c7a63bccd4c938c0f6b13c730bb52",
       "version_major": 2,
       "version_minor": 0
      },
      "text/plain": [
       "Training: |          | 0/? [00:00<?, ?it/s]"
      ]
     },
     "metadata": {},
     "output_type": "display_data"
    },
    {
     "name": "stderr",
     "output_type": "stream",
     "text": [
      "`Trainer.fit` stopped: `max_epochs=10` reached.\n",
      "GPU available: True (cuda), used: True\n",
      "TPU available: False, using: 0 TPU cores\n",
      "HPU available: False, using: 0 HPUs\n",
      "LOCAL_RANK: 0 - CUDA_VISIBLE_DEVICES: [0]\n",
      "\n",
      "  | Name                   | Type       | Params | Mode \n",
      "--------------------------------------------------------------\n",
      "0 | background_input_layer | Sequential | 15.5 K | train\n",
      "1 | fc                     | Sequential | 375 K  | train\n",
      "2 | loss_fn                | MSELoss    | 0      | train\n",
      "  | other params           | n/a        | 100    | n/a  \n",
      "--------------------------------------------------------------\n",
      "391 K     Trainable params\n",
      "0         Non-trainable params\n",
      "391 K     Total params\n",
      "1.566     Total estimated model params size (MB)\n",
      "11        Modules in train mode\n",
      "0         Modules in eval mode\n",
      "SLURM auto-requeueing enabled. Setting signal handlers.\n"
     ]
    },
    {
     "data": {
      "application/vnd.jupyter.widget-view+json": {
       "model_id": "159fa739867c42fcbdc06e77e1241288",
       "version_major": 2,
       "version_minor": 0
      },
      "text/plain": [
       "Training: |          | 0/? [00:00<?, ?it/s]"
      ]
     },
     "metadata": {},
     "output_type": "display_data"
    },
    {
     "name": "stderr",
     "output_type": "stream",
     "text": [
      "`Trainer.fit` stopped: `max_epochs=10` reached.\n",
      "GPU available: True (cuda), used: True\n",
      "TPU available: False, using: 0 TPU cores\n",
      "HPU available: False, using: 0 HPUs\n",
      "LOCAL_RANK: 0 - CUDA_VISIBLE_DEVICES: [0]\n",
      "\n",
      "  | Name                   | Type       | Params | Mode \n",
      "--------------------------------------------------------------\n",
      "0 | background_input_layer | Sequential | 15.5 K | train\n",
      "1 | fc                     | Sequential | 375 K  | train\n",
      "2 | loss_fn                | MSELoss    | 0      | train\n",
      "  | other params           | n/a        | 100    | n/a  \n",
      "--------------------------------------------------------------\n",
      "391 K     Trainable params\n",
      "0         Non-trainable params\n",
      "391 K     Total params\n",
      "1.566     Total estimated model params size (MB)\n",
      "11        Modules in train mode\n",
      "0         Modules in eval mode\n",
      "SLURM auto-requeueing enabled. Setting signal handlers.\n"
     ]
    },
    {
     "data": {
      "application/vnd.jupyter.widget-view+json": {
       "model_id": "ae36bafd550b40f2b40dbd0e8cffdde0",
       "version_major": 2,
       "version_minor": 0
      },
      "text/plain": [
       "Training: |          | 0/? [00:00<?, ?it/s]"
      ]
     },
     "metadata": {},
     "output_type": "display_data"
    },
    {
     "name": "stderr",
     "output_type": "stream",
     "text": [
      "`Trainer.fit` stopped: `max_epochs=10` reached.\n",
      "GPU available: True (cuda), used: True\n",
      "TPU available: False, using: 0 TPU cores\n",
      "HPU available: False, using: 0 HPUs\n",
      "LOCAL_RANK: 0 - CUDA_VISIBLE_DEVICES: [0]\n",
      "\n",
      "  | Name                   | Type       | Params | Mode \n",
      "--------------------------------------------------------------\n",
      "0 | background_input_layer | Sequential | 15.5 K | train\n",
      "1 | fc                     | Sequential | 375 K  | train\n",
      "2 | loss_fn                | MSELoss    | 0      | train\n",
      "  | other params           | n/a        | 100    | n/a  \n",
      "--------------------------------------------------------------\n",
      "391 K     Trainable params\n",
      "0         Non-trainable params\n",
      "391 K     Total params\n",
      "1.566     Total estimated model params size (MB)\n",
      "11        Modules in train mode\n",
      "0         Modules in eval mode\n",
      "SLURM auto-requeueing enabled. Setting signal handlers.\n"
     ]
    },
    {
     "data": {
      "application/vnd.jupyter.widget-view+json": {
       "model_id": "ddd8331a3b5f4354a36ce8e6bd1a51d9",
       "version_major": 2,
       "version_minor": 0
      },
      "text/plain": [
       "Training: |          | 0/? [00:00<?, ?it/s]"
      ]
     },
     "metadata": {},
     "output_type": "display_data"
    },
    {
     "name": "stderr",
     "output_type": "stream",
     "text": [
      "`Trainer.fit` stopped: `max_epochs=10` reached.\n",
      "GPU available: True (cuda), used: True\n",
      "TPU available: False, using: 0 TPU cores\n",
      "HPU available: False, using: 0 HPUs\n",
      "LOCAL_RANK: 0 - CUDA_VISIBLE_DEVICES: [0]\n",
      "\n",
      "  | Name                   | Type       | Params | Mode \n",
      "--------------------------------------------------------------\n",
      "0 | background_input_layer | Sequential | 15.5 K | train\n",
      "1 | fc                     | Sequential | 375 K  | train\n",
      "2 | loss_fn                | MSELoss    | 0      | train\n",
      "  | other params           | n/a        | 100    | n/a  \n",
      "--------------------------------------------------------------\n",
      "391 K     Trainable params\n",
      "0         Non-trainable params\n",
      "391 K     Total params\n",
      "1.566     Total estimated model params size (MB)\n",
      "11        Modules in train mode\n",
      "0         Modules in eval mode\n",
      "SLURM auto-requeueing enabled. Setting signal handlers.\n"
     ]
    },
    {
     "data": {
      "application/vnd.jupyter.widget-view+json": {
       "model_id": "669190db3c4044db8f4241e52e881b61",
       "version_major": 2,
       "version_minor": 0
      },
      "text/plain": [
       "Training: |          | 0/? [00:00<?, ?it/s]"
      ]
     },
     "metadata": {},
     "output_type": "display_data"
    },
    {
     "name": "stderr",
     "output_type": "stream",
     "text": [
      "`Trainer.fit` stopped: `max_epochs=10` reached.\n",
      "GPU available: True (cuda), used: True\n",
      "TPU available: False, using: 0 TPU cores\n",
      "HPU available: False, using: 0 HPUs\n",
      "LOCAL_RANK: 0 - CUDA_VISIBLE_DEVICES: [0]\n",
      "\n",
      "  | Name                   | Type       | Params | Mode \n",
      "--------------------------------------------------------------\n",
      "0 | background_input_layer | Sequential | 15.5 K | train\n",
      "1 | fc                     | Sequential | 375 K  | train\n",
      "2 | loss_fn                | MSELoss    | 0      | train\n",
      "  | other params           | n/a        | 100    | n/a  \n",
      "--------------------------------------------------------------\n",
      "391 K     Trainable params\n",
      "0         Non-trainable params\n",
      "391 K     Total params\n",
      "1.566     Total estimated model params size (MB)\n",
      "11        Modules in train mode\n",
      "0         Modules in eval mode\n",
      "SLURM auto-requeueing enabled. Setting signal handlers.\n"
     ]
    },
    {
     "data": {
      "application/vnd.jupyter.widget-view+json": {
       "model_id": "36c9ebe138fc4225bffe2623ca824eb8",
       "version_major": 2,
       "version_minor": 0
      },
      "text/plain": [
       "Training: |          | 0/? [00:00<?, ?it/s]"
      ]
     },
     "metadata": {},
     "output_type": "display_data"
    },
    {
     "name": "stderr",
     "output_type": "stream",
     "text": [
      "`Trainer.fit` stopped: `max_epochs=10` reached.\n",
      "GPU available: True (cuda), used: True\n",
      "TPU available: False, using: 0 TPU cores\n",
      "HPU available: False, using: 0 HPUs\n",
      "LOCAL_RANK: 0 - CUDA_VISIBLE_DEVICES: [0]\n",
      "\n",
      "  | Name                   | Type       | Params | Mode \n",
      "--------------------------------------------------------------\n",
      "0 | background_input_layer | Sequential | 15.5 K | train\n",
      "1 | fc                     | Sequential | 375 K  | train\n",
      "2 | loss_fn                | MSELoss    | 0      | train\n",
      "  | other params           | n/a        | 100    | n/a  \n",
      "--------------------------------------------------------------\n",
      "391 K     Trainable params\n",
      "0         Non-trainable params\n",
      "391 K     Total params\n",
      "1.566     Total estimated model params size (MB)\n",
      "11        Modules in train mode\n",
      "0         Modules in eval mode\n",
      "SLURM auto-requeueing enabled. Setting signal handlers.\n"
     ]
    },
    {
     "data": {
      "application/vnd.jupyter.widget-view+json": {
       "model_id": "962deb59d5864431abc79156d6d0170d",
       "version_major": 2,
       "version_minor": 0
      },
      "text/plain": [
       "Training: |          | 0/? [00:00<?, ?it/s]"
      ]
     },
     "metadata": {},
     "output_type": "display_data"
    },
    {
     "name": "stderr",
     "output_type": "stream",
     "text": [
      "`Trainer.fit` stopped: `max_epochs=10` reached.\n",
      "GPU available: True (cuda), used: True\n",
      "TPU available: False, using: 0 TPU cores\n",
      "HPU available: False, using: 0 HPUs\n",
      "LOCAL_RANK: 0 - CUDA_VISIBLE_DEVICES: [0]\n",
      "\n",
      "  | Name                   | Type       | Params | Mode \n",
      "--------------------------------------------------------------\n",
      "0 | background_input_layer | Sequential | 15.5 K | train\n",
      "1 | fc                     | Sequential | 375 K  | train\n",
      "2 | loss_fn                | MSELoss    | 0      | train\n",
      "  | other params           | n/a        | 100    | n/a  \n",
      "--------------------------------------------------------------\n",
      "391 K     Trainable params\n",
      "0         Non-trainable params\n",
      "391 K     Total params\n",
      "1.566     Total estimated model params size (MB)\n",
      "11        Modules in train mode\n",
      "0         Modules in eval mode\n",
      "SLURM auto-requeueing enabled. Setting signal handlers.\n"
     ]
    },
    {
     "data": {
      "application/vnd.jupyter.widget-view+json": {
       "model_id": "b64c43a8659c428b8d6f48f27e988b45",
       "version_major": 2,
       "version_minor": 0
      },
      "text/plain": [
       "Training: |          | 0/? [00:00<?, ?it/s]"
      ]
     },
     "metadata": {},
     "output_type": "display_data"
    },
    {
     "name": "stderr",
     "output_type": "stream",
     "text": [
      "`Trainer.fit` stopped: `max_epochs=10` reached.\n",
      "GPU available: True (cuda), used: True\n",
      "TPU available: False, using: 0 TPU cores\n",
      "HPU available: False, using: 0 HPUs\n",
      "LOCAL_RANK: 0 - CUDA_VISIBLE_DEVICES: [0]\n",
      "\n",
      "  | Name                   | Type       | Params | Mode \n",
      "--------------------------------------------------------------\n",
      "0 | background_input_layer | Sequential | 15.5 K | train\n",
      "1 | fc                     | Sequential | 375 K  | train\n",
      "2 | loss_fn                | MSELoss    | 0      | train\n",
      "  | other params           | n/a        | 100    | n/a  \n",
      "--------------------------------------------------------------\n",
      "391 K     Trainable params\n",
      "0         Non-trainable params\n",
      "391 K     Total params\n",
      "1.566     Total estimated model params size (MB)\n",
      "11        Modules in train mode\n",
      "0         Modules in eval mode\n",
      "SLURM auto-requeueing enabled. Setting signal handlers.\n"
     ]
    },
    {
     "data": {
      "application/vnd.jupyter.widget-view+json": {
       "model_id": "90e51aa4525a4f2e805f8964465d927c",
       "version_major": 2,
       "version_minor": 0
      },
      "text/plain": [
       "Training: |          | 0/? [00:00<?, ?it/s]"
      ]
     },
     "metadata": {},
     "output_type": "display_data"
    },
    {
     "name": "stderr",
     "output_type": "stream",
     "text": [
      "`Trainer.fit` stopped: `max_epochs=10` reached.\n",
      "GPU available: True (cuda), used: True\n",
      "TPU available: False, using: 0 TPU cores\n",
      "HPU available: False, using: 0 HPUs\n",
      "LOCAL_RANK: 0 - CUDA_VISIBLE_DEVICES: [0]\n",
      "\n",
      "  | Name                   | Type       | Params | Mode \n",
      "--------------------------------------------------------------\n",
      "0 | background_input_layer | Sequential | 15.5 K | train\n",
      "1 | fc                     | Sequential | 375 K  | train\n",
      "2 | loss_fn                | MSELoss    | 0      | train\n",
      "  | other params           | n/a        | 100    | n/a  \n",
      "--------------------------------------------------------------\n",
      "391 K     Trainable params\n",
      "0         Non-trainable params\n",
      "391 K     Total params\n",
      "1.566     Total estimated model params size (MB)\n",
      "11        Modules in train mode\n",
      "0         Modules in eval mode\n",
      "SLURM auto-requeueing enabled. Setting signal handlers.\n"
     ]
    },
    {
     "data": {
      "application/vnd.jupyter.widget-view+json": {
       "model_id": "5f91b1ba12a2454fafde1af5b91b3a7b",
       "version_major": 2,
       "version_minor": 0
      },
      "text/plain": [
       "Training: |          | 0/? [00:00<?, ?it/s]"
      ]
     },
     "metadata": {},
     "output_type": "display_data"
    },
    {
     "name": "stderr",
     "output_type": "stream",
     "text": [
      "`Trainer.fit` stopped: `max_epochs=10` reached.\n",
      "GPU available: True (cuda), used: True\n",
      "TPU available: False, using: 0 TPU cores\n",
      "HPU available: False, using: 0 HPUs\n",
      "LOCAL_RANK: 0 - CUDA_VISIBLE_DEVICES: [0]\n",
      "\n",
      "  | Name                   | Type       | Params | Mode \n",
      "--------------------------------------------------------------\n",
      "0 | background_input_layer | Sequential | 15.5 K | train\n",
      "1 | fc                     | Sequential | 375 K  | train\n",
      "2 | loss_fn                | MSELoss    | 0      | train\n",
      "  | other params           | n/a        | 100    | n/a  \n",
      "--------------------------------------------------------------\n",
      "391 K     Trainable params\n",
      "0         Non-trainable params\n",
      "391 K     Total params\n",
      "1.566     Total estimated model params size (MB)\n",
      "11        Modules in train mode\n",
      "0         Modules in eval mode\n",
      "SLURM auto-requeueing enabled. Setting signal handlers.\n"
     ]
    },
    {
     "data": {
      "application/vnd.jupyter.widget-view+json": {
       "model_id": "1bad2f27a0f34cc7a22eb63dcaf530b1",
       "version_major": 2,
       "version_minor": 0
      },
      "text/plain": [
       "Training: |          | 0/? [00:00<?, ?it/s]"
      ]
     },
     "metadata": {},
     "output_type": "display_data"
    },
    {
     "name": "stderr",
     "output_type": "stream",
     "text": [
      "`Trainer.fit` stopped: `max_epochs=10` reached.\n",
      "GPU available: True (cuda), used: True\n",
      "TPU available: False, using: 0 TPU cores\n",
      "HPU available: False, using: 0 HPUs\n",
      "LOCAL_RANK: 0 - CUDA_VISIBLE_DEVICES: [0]\n",
      "\n",
      "  | Name                   | Type       | Params | Mode \n",
      "--------------------------------------------------------------\n",
      "0 | background_input_layer | Sequential | 15.5 K | train\n",
      "1 | fc                     | Sequential | 375 K  | train\n",
      "2 | loss_fn                | MSELoss    | 0      | train\n",
      "  | other params           | n/a        | 100    | n/a  \n",
      "--------------------------------------------------------------\n",
      "391 K     Trainable params\n",
      "0         Non-trainable params\n",
      "391 K     Total params\n",
      "1.566     Total estimated model params size (MB)\n",
      "11        Modules in train mode\n",
      "0         Modules in eval mode\n",
      "SLURM auto-requeueing enabled. Setting signal handlers.\n"
     ]
    },
    {
     "data": {
      "application/vnd.jupyter.widget-view+json": {
       "model_id": "862a90a1eee649989a78e40646026446",
       "version_major": 2,
       "version_minor": 0
      },
      "text/plain": [
       "Training: |          | 0/? [00:00<?, ?it/s]"
      ]
     },
     "metadata": {},
     "output_type": "display_data"
    },
    {
     "name": "stderr",
     "output_type": "stream",
     "text": [
      "`Trainer.fit` stopped: `max_epochs=10` reached.\n",
      "GPU available: True (cuda), used: True\n",
      "TPU available: False, using: 0 TPU cores\n",
      "HPU available: False, using: 0 HPUs\n",
      "LOCAL_RANK: 0 - CUDA_VISIBLE_DEVICES: [0]\n",
      "\n",
      "  | Name                   | Type       | Params | Mode \n",
      "--------------------------------------------------------------\n",
      "0 | background_input_layer | Sequential | 15.5 K | train\n",
      "1 | fc                     | Sequential | 375 K  | train\n",
      "2 | loss_fn                | MSELoss    | 0      | train\n",
      "  | other params           | n/a        | 100    | n/a  \n",
      "--------------------------------------------------------------\n",
      "391 K     Trainable params\n",
      "0         Non-trainable params\n",
      "391 K     Total params\n",
      "1.566     Total estimated model params size (MB)\n",
      "11        Modules in train mode\n",
      "0         Modules in eval mode\n",
      "SLURM auto-requeueing enabled. Setting signal handlers.\n"
     ]
    },
    {
     "data": {
      "application/vnd.jupyter.widget-view+json": {
       "model_id": "8cf0413f786c423f8587ace7deb1f103",
       "version_major": 2,
       "version_minor": 0
      },
      "text/plain": [
       "Training: |          | 0/? [00:00<?, ?it/s]"
      ]
     },
     "metadata": {},
     "output_type": "display_data"
    },
    {
     "name": "stderr",
     "output_type": "stream",
     "text": [
      "`Trainer.fit` stopped: `max_epochs=10` reached.\n",
      "GPU available: True (cuda), used: True\n",
      "TPU available: False, using: 0 TPU cores\n",
      "HPU available: False, using: 0 HPUs\n",
      "LOCAL_RANK: 0 - CUDA_VISIBLE_DEVICES: [0]\n",
      "\n",
      "  | Name                   | Type       | Params | Mode \n",
      "--------------------------------------------------------------\n",
      "0 | background_input_layer | Sequential | 15.5 K | train\n",
      "1 | fc                     | Sequential | 375 K  | train\n",
      "2 | loss_fn                | MSELoss    | 0      | train\n",
      "  | other params           | n/a        | 100    | n/a  \n",
      "--------------------------------------------------------------\n",
      "391 K     Trainable params\n",
      "0         Non-trainable params\n",
      "391 K     Total params\n",
      "1.566     Total estimated model params size (MB)\n",
      "11        Modules in train mode\n",
      "0         Modules in eval mode\n",
      "SLURM auto-requeueing enabled. Setting signal handlers.\n"
     ]
    },
    {
     "data": {
      "application/vnd.jupyter.widget-view+json": {
       "model_id": "ae2a3d99e62043d38fd32cc73b217c91",
       "version_major": 2,
       "version_minor": 0
      },
      "text/plain": [
       "Training: |          | 0/? [00:00<?, ?it/s]"
      ]
     },
     "metadata": {},
     "output_type": "display_data"
    },
    {
     "name": "stderr",
     "output_type": "stream",
     "text": [
      "`Trainer.fit` stopped: `max_epochs=10` reached.\n",
      "GPU available: True (cuda), used: True\n",
      "TPU available: False, using: 0 TPU cores\n",
      "HPU available: False, using: 0 HPUs\n",
      "LOCAL_RANK: 0 - CUDA_VISIBLE_DEVICES: [0]\n",
      "\n",
      "  | Name                   | Type       | Params | Mode \n",
      "--------------------------------------------------------------\n",
      "0 | background_input_layer | Sequential | 15.5 K | train\n",
      "1 | fc                     | Sequential | 375 K  | train\n",
      "2 | loss_fn                | MSELoss    | 0      | train\n",
      "  | other params           | n/a        | 100    | n/a  \n",
      "--------------------------------------------------------------\n",
      "391 K     Trainable params\n",
      "0         Non-trainable params\n",
      "391 K     Total params\n",
      "1.566     Total estimated model params size (MB)\n",
      "11        Modules in train mode\n",
      "0         Modules in eval mode\n",
      "SLURM auto-requeueing enabled. Setting signal handlers.\n"
     ]
    },
    {
     "data": {
      "application/vnd.jupyter.widget-view+json": {
       "model_id": "6beefc37a4784396ae25d9d3a9379731",
       "version_major": 2,
       "version_minor": 0
      },
      "text/plain": [
       "Training: |          | 0/? [00:00<?, ?it/s]"
      ]
     },
     "metadata": {},
     "output_type": "display_data"
    },
    {
     "name": "stderr",
     "output_type": "stream",
     "text": [
      "`Trainer.fit` stopped: `max_epochs=10` reached.\n",
      "GPU available: True (cuda), used: True\n",
      "TPU available: False, using: 0 TPU cores\n",
      "HPU available: False, using: 0 HPUs\n",
      "LOCAL_RANK: 0 - CUDA_VISIBLE_DEVICES: [0]\n",
      "\n",
      "  | Name                   | Type       | Params | Mode \n",
      "--------------------------------------------------------------\n",
      "0 | background_input_layer | Sequential | 15.5 K | train\n",
      "1 | fc                     | Sequential | 375 K  | train\n",
      "2 | loss_fn                | MSELoss    | 0      | train\n",
      "  | other params           | n/a        | 100    | n/a  \n",
      "--------------------------------------------------------------\n",
      "391 K     Trainable params\n",
      "0         Non-trainable params\n",
      "391 K     Total params\n",
      "1.566     Total estimated model params size (MB)\n",
      "11        Modules in train mode\n",
      "0         Modules in eval mode\n",
      "SLURM auto-requeueing enabled. Setting signal handlers.\n"
     ]
    },
    {
     "data": {
      "application/vnd.jupyter.widget-view+json": {
       "model_id": "bfd0a8bdfb084f259457c853c788a6d4",
       "version_major": 2,
       "version_minor": 0
      },
      "text/plain": [
       "Training: |          | 0/? [00:00<?, ?it/s]"
      ]
     },
     "metadata": {},
     "output_type": "display_data"
    },
    {
     "name": "stderr",
     "output_type": "stream",
     "text": [
      "`Trainer.fit` stopped: `max_epochs=10` reached.\n",
      "GPU available: True (cuda), used: True\n",
      "TPU available: False, using: 0 TPU cores\n",
      "HPU available: False, using: 0 HPUs\n",
      "LOCAL_RANK: 0 - CUDA_VISIBLE_DEVICES: [0]\n",
      "\n",
      "  | Name                   | Type       | Params | Mode \n",
      "--------------------------------------------------------------\n",
      "0 | background_input_layer | Sequential | 15.5 K | train\n",
      "1 | fc                     | Sequential | 375 K  | train\n",
      "2 | loss_fn                | MSELoss    | 0      | train\n",
      "  | other params           | n/a        | 100    | n/a  \n",
      "--------------------------------------------------------------\n",
      "391 K     Trainable params\n",
      "0         Non-trainable params\n",
      "391 K     Total params\n",
      "1.566     Total estimated model params size (MB)\n",
      "11        Modules in train mode\n",
      "0         Modules in eval mode\n",
      "SLURM auto-requeueing enabled. Setting signal handlers.\n"
     ]
    },
    {
     "data": {
      "application/vnd.jupyter.widget-view+json": {
       "model_id": "d261e9df7aa6447db8ee7897bdbba1f7",
       "version_major": 2,
       "version_minor": 0
      },
      "text/plain": [
       "Training: |          | 0/? [00:00<?, ?it/s]"
      ]
     },
     "metadata": {},
     "output_type": "display_data"
    },
    {
     "name": "stderr",
     "output_type": "stream",
     "text": [
      "`Trainer.fit` stopped: `max_epochs=10` reached.\n",
      "GPU available: True (cuda), used: True\n",
      "TPU available: False, using: 0 TPU cores\n",
      "HPU available: False, using: 0 HPUs\n",
      "LOCAL_RANK: 0 - CUDA_VISIBLE_DEVICES: [0]\n",
      "\n",
      "  | Name                   | Type       | Params | Mode \n",
      "--------------------------------------------------------------\n",
      "0 | background_input_layer | Sequential | 15.5 K | train\n",
      "1 | fc                     | Sequential | 375 K  | train\n",
      "2 | loss_fn                | MSELoss    | 0      | train\n",
      "  | other params           | n/a        | 100    | n/a  \n",
      "--------------------------------------------------------------\n",
      "391 K     Trainable params\n",
      "0         Non-trainable params\n",
      "391 K     Total params\n",
      "1.566     Total estimated model params size (MB)\n",
      "11        Modules in train mode\n",
      "0         Modules in eval mode\n",
      "SLURM auto-requeueing enabled. Setting signal handlers.\n"
     ]
    },
    {
     "data": {
      "application/vnd.jupyter.widget-view+json": {
       "model_id": "85e24cc0dbaf4ff2ad5b9d6756e83ea5",
       "version_major": 2,
       "version_minor": 0
      },
      "text/plain": [
       "Training: |          | 0/? [00:00<?, ?it/s]"
      ]
     },
     "metadata": {},
     "output_type": "display_data"
    },
    {
     "name": "stderr",
     "output_type": "stream",
     "text": [
      "`Trainer.fit` stopped: `max_epochs=10` reached.\n",
      "GPU available: True (cuda), used: True\n",
      "TPU available: False, using: 0 TPU cores\n",
      "HPU available: False, using: 0 HPUs\n",
      "LOCAL_RANK: 0 - CUDA_VISIBLE_DEVICES: [0]\n",
      "\n",
      "  | Name                   | Type       | Params | Mode \n",
      "--------------------------------------------------------------\n",
      "0 | background_input_layer | Sequential | 15.5 K | train\n",
      "1 | fc                     | Sequential | 375 K  | train\n",
      "2 | loss_fn                | MSELoss    | 0      | train\n",
      "  | other params           | n/a        | 100    | n/a  \n",
      "--------------------------------------------------------------\n",
      "391 K     Trainable params\n",
      "0         Non-trainable params\n",
      "391 K     Total params\n",
      "1.566     Total estimated model params size (MB)\n",
      "11        Modules in train mode\n",
      "0         Modules in eval mode\n",
      "SLURM auto-requeueing enabled. Setting signal handlers.\n"
     ]
    },
    {
     "data": {
      "application/vnd.jupyter.widget-view+json": {
       "model_id": "7ffbd15597f14c06ae7a6d8dcc388f48",
       "version_major": 2,
       "version_minor": 0
      },
      "text/plain": [
       "Training: |          | 0/? [00:00<?, ?it/s]"
      ]
     },
     "metadata": {},
     "output_type": "display_data"
    },
    {
     "name": "stderr",
     "output_type": "stream",
     "text": [
      "`Trainer.fit` stopped: `max_epochs=10` reached.\n",
      "GPU available: True (cuda), used: True\n",
      "TPU available: False, using: 0 TPU cores\n",
      "HPU available: False, using: 0 HPUs\n",
      "LOCAL_RANK: 0 - CUDA_VISIBLE_DEVICES: [0]\n",
      "\n",
      "  | Name                   | Type       | Params | Mode \n",
      "--------------------------------------------------------------\n",
      "0 | background_input_layer | Sequential | 15.5 K | train\n",
      "1 | fc                     | Sequential | 375 K  | train\n",
      "2 | loss_fn                | MSELoss    | 0      | train\n",
      "  | other params           | n/a        | 100    | n/a  \n",
      "--------------------------------------------------------------\n",
      "391 K     Trainable params\n",
      "0         Non-trainable params\n",
      "391 K     Total params\n",
      "1.566     Total estimated model params size (MB)\n",
      "11        Modules in train mode\n",
      "0         Modules in eval mode\n",
      "SLURM auto-requeueing enabled. Setting signal handlers.\n"
     ]
    },
    {
     "data": {
      "application/vnd.jupyter.widget-view+json": {
       "model_id": "f66cb8ef2b3b4b009977b18677a2c880",
       "version_major": 2,
       "version_minor": 0
      },
      "text/plain": [
       "Training: |          | 0/? [00:00<?, ?it/s]"
      ]
     },
     "metadata": {},
     "output_type": "display_data"
    },
    {
     "name": "stderr",
     "output_type": "stream",
     "text": [
      "`Trainer.fit` stopped: `max_epochs=10` reached.\n",
      "GPU available: True (cuda), used: True\n",
      "TPU available: False, using: 0 TPU cores\n",
      "HPU available: False, using: 0 HPUs\n",
      "LOCAL_RANK: 0 - CUDA_VISIBLE_DEVICES: [0]\n",
      "\n",
      "  | Name                   | Type       | Params | Mode \n",
      "--------------------------------------------------------------\n",
      "0 | background_input_layer | Sequential | 15.5 K | train\n",
      "1 | fc                     | Sequential | 375 K  | train\n",
      "2 | loss_fn                | MSELoss    | 0      | train\n",
      "  | other params           | n/a        | 100    | n/a  \n",
      "--------------------------------------------------------------\n",
      "391 K     Trainable params\n",
      "0         Non-trainable params\n",
      "391 K     Total params\n",
      "1.566     Total estimated model params size (MB)\n",
      "11        Modules in train mode\n",
      "0         Modules in eval mode\n",
      "SLURM auto-requeueing enabled. Setting signal handlers.\n"
     ]
    },
    {
     "data": {
      "application/vnd.jupyter.widget-view+json": {
       "model_id": "459fa087f5e749a6b1e9411f47b96076",
       "version_major": 2,
       "version_minor": 0
      },
      "text/plain": [
       "Training: |          | 0/? [00:00<?, ?it/s]"
      ]
     },
     "metadata": {},
     "output_type": "display_data"
    },
    {
     "name": "stderr",
     "output_type": "stream",
     "text": [
      "`Trainer.fit` stopped: `max_epochs=10` reached.\n",
      "GPU available: True (cuda), used: True\n",
      "TPU available: False, using: 0 TPU cores\n",
      "HPU available: False, using: 0 HPUs\n",
      "LOCAL_RANK: 0 - CUDA_VISIBLE_DEVICES: [0]\n",
      "\n",
      "  | Name                   | Type       | Params | Mode \n",
      "--------------------------------------------------------------\n",
      "0 | background_input_layer | Sequential | 15.5 K | train\n",
      "1 | fc                     | Sequential | 375 K  | train\n",
      "2 | loss_fn                | MSELoss    | 0      | train\n",
      "  | other params           | n/a        | 100    | n/a  \n",
      "--------------------------------------------------------------\n",
      "391 K     Trainable params\n",
      "0         Non-trainable params\n",
      "391 K     Total params\n",
      "1.566     Total estimated model params size (MB)\n",
      "11        Modules in train mode\n",
      "0         Modules in eval mode\n",
      "SLURM auto-requeueing enabled. Setting signal handlers.\n"
     ]
    },
    {
     "data": {
      "application/vnd.jupyter.widget-view+json": {
       "model_id": "a69a63617ce442e580420eefae74bf3a",
       "version_major": 2,
       "version_minor": 0
      },
      "text/plain": [
       "Training: |          | 0/? [00:00<?, ?it/s]"
      ]
     },
     "metadata": {},
     "output_type": "display_data"
    },
    {
     "name": "stderr",
     "output_type": "stream",
     "text": [
      "`Trainer.fit` stopped: `max_epochs=10` reached.\n",
      "GPU available: True (cuda), used: True\n",
      "TPU available: False, using: 0 TPU cores\n",
      "HPU available: False, using: 0 HPUs\n",
      "LOCAL_RANK: 0 - CUDA_VISIBLE_DEVICES: [0]\n",
      "\n",
      "  | Name                   | Type       | Params | Mode \n",
      "--------------------------------------------------------------\n",
      "0 | background_input_layer | Sequential | 15.5 K | train\n",
      "1 | fc                     | Sequential | 375 K  | train\n",
      "2 | loss_fn                | MSELoss    | 0      | train\n",
      "  | other params           | n/a        | 100    | n/a  \n",
      "--------------------------------------------------------------\n",
      "391 K     Trainable params\n",
      "0         Non-trainable params\n",
      "391 K     Total params\n",
      "1.566     Total estimated model params size (MB)\n",
      "11        Modules in train mode\n",
      "0         Modules in eval mode\n",
      "SLURM auto-requeueing enabled. Setting signal handlers.\n"
     ]
    },
    {
     "data": {
      "application/vnd.jupyter.widget-view+json": {
       "model_id": "2e491cfd50ca42e4890047f2a3b3ef62",
       "version_major": 2,
       "version_minor": 0
      },
      "text/plain": [
       "Training: |          | 0/? [00:00<?, ?it/s]"
      ]
     },
     "metadata": {},
     "output_type": "display_data"
    },
    {
     "name": "stderr",
     "output_type": "stream",
     "text": [
      "`Trainer.fit` stopped: `max_epochs=10` reached.\n",
      "GPU available: True (cuda), used: True\n",
      "TPU available: False, using: 0 TPU cores\n",
      "HPU available: False, using: 0 HPUs\n",
      "LOCAL_RANK: 0 - CUDA_VISIBLE_DEVICES: [0]\n",
      "\n",
      "  | Name                   | Type       | Params | Mode \n",
      "--------------------------------------------------------------\n",
      "0 | background_input_layer | Sequential | 15.5 K | train\n",
      "1 | fc                     | Sequential | 375 K  | train\n",
      "2 | loss_fn                | MSELoss    | 0      | train\n",
      "  | other params           | n/a        | 100    | n/a  \n",
      "--------------------------------------------------------------\n",
      "391 K     Trainable params\n",
      "0         Non-trainable params\n",
      "391 K     Total params\n",
      "1.566     Total estimated model params size (MB)\n",
      "11        Modules in train mode\n",
      "0         Modules in eval mode\n",
      "SLURM auto-requeueing enabled. Setting signal handlers.\n"
     ]
    },
    {
     "data": {
      "application/vnd.jupyter.widget-view+json": {
       "model_id": "299c9aa68a0143c1b187296d189b846f",
       "version_major": 2,
       "version_minor": 0
      },
      "text/plain": [
       "Training: |          | 0/? [00:00<?, ?it/s]"
      ]
     },
     "metadata": {},
     "output_type": "display_data"
    },
    {
     "name": "stderr",
     "output_type": "stream",
     "text": [
      "`Trainer.fit` stopped: `max_epochs=10` reached.\n",
      "GPU available: True (cuda), used: True\n",
      "TPU available: False, using: 0 TPU cores\n",
      "HPU available: False, using: 0 HPUs\n",
      "LOCAL_RANK: 0 - CUDA_VISIBLE_DEVICES: [0]\n",
      "\n",
      "  | Name                   | Type       | Params | Mode \n",
      "--------------------------------------------------------------\n",
      "0 | background_input_layer | Sequential | 15.5 K | train\n",
      "1 | fc                     | Sequential | 375 K  | train\n",
      "2 | loss_fn                | MSELoss    | 0      | train\n",
      "  | other params           | n/a        | 100    | n/a  \n",
      "--------------------------------------------------------------\n",
      "391 K     Trainable params\n",
      "0         Non-trainable params\n",
      "391 K     Total params\n",
      "1.566     Total estimated model params size (MB)\n",
      "11        Modules in train mode\n",
      "0         Modules in eval mode\n",
      "SLURM auto-requeueing enabled. Setting signal handlers.\n"
     ]
    },
    {
     "data": {
      "application/vnd.jupyter.widget-view+json": {
       "model_id": "cbf7ac46b4b1410bb4c246646d69eab1",
       "version_major": 2,
       "version_minor": 0
      },
      "text/plain": [
       "Training: |          | 0/? [00:00<?, ?it/s]"
      ]
     },
     "metadata": {},
     "output_type": "display_data"
    },
    {
     "name": "stderr",
     "output_type": "stream",
     "text": [
      "`Trainer.fit` stopped: `max_epochs=10` reached.\n",
      "GPU available: True (cuda), used: True\n",
      "TPU available: False, using: 0 TPU cores\n",
      "HPU available: False, using: 0 HPUs\n",
      "LOCAL_RANK: 0 - CUDA_VISIBLE_DEVICES: [0]\n",
      "\n",
      "  | Name                   | Type       | Params | Mode \n",
      "--------------------------------------------------------------\n",
      "0 | background_input_layer | Sequential | 15.5 K | train\n",
      "1 | fc                     | Sequential | 375 K  | train\n",
      "2 | loss_fn                | MSELoss    | 0      | train\n",
      "  | other params           | n/a        | 100    | n/a  \n",
      "--------------------------------------------------------------\n",
      "391 K     Trainable params\n",
      "0         Non-trainable params\n",
      "391 K     Total params\n",
      "1.566     Total estimated model params size (MB)\n",
      "11        Modules in train mode\n",
      "0         Modules in eval mode\n",
      "SLURM auto-requeueing enabled. Setting signal handlers.\n"
     ]
    },
    {
     "data": {
      "application/vnd.jupyter.widget-view+json": {
       "model_id": "fcc876aee37041e3a04b6f84bf32969a",
       "version_major": 2,
       "version_minor": 0
      },
      "text/plain": [
       "Training: |          | 0/? [00:00<?, ?it/s]"
      ]
     },
     "metadata": {},
     "output_type": "display_data"
    },
    {
     "name": "stderr",
     "output_type": "stream",
     "text": [
      "`Trainer.fit` stopped: `max_epochs=10` reached.\n",
      "GPU available: True (cuda), used: True\n",
      "TPU available: False, using: 0 TPU cores\n",
      "HPU available: False, using: 0 HPUs\n",
      "LOCAL_RANK: 0 - CUDA_VISIBLE_DEVICES: [0]\n",
      "\n",
      "  | Name                   | Type       | Params | Mode \n",
      "--------------------------------------------------------------\n",
      "0 | background_input_layer | Sequential | 15.5 K | train\n",
      "1 | fc                     | Sequential | 375 K  | train\n",
      "2 | loss_fn                | MSELoss    | 0      | train\n",
      "  | other params           | n/a        | 100    | n/a  \n",
      "--------------------------------------------------------------\n",
      "391 K     Trainable params\n",
      "0         Non-trainable params\n",
      "391 K     Total params\n",
      "1.566     Total estimated model params size (MB)\n",
      "11        Modules in train mode\n",
      "0         Modules in eval mode\n",
      "SLURM auto-requeueing enabled. Setting signal handlers.\n"
     ]
    },
    {
     "data": {
      "application/vnd.jupyter.widget-view+json": {
       "model_id": "f1939d7c8a68441aa525cddaa5c8bf76",
       "version_major": 2,
       "version_minor": 0
      },
      "text/plain": [
       "Training: |          | 0/? [00:00<?, ?it/s]"
      ]
     },
     "metadata": {},
     "output_type": "display_data"
    },
    {
     "name": "stderr",
     "output_type": "stream",
     "text": [
      "`Trainer.fit` stopped: `max_epochs=10` reached.\n",
      "GPU available: True (cuda), used: True\n",
      "TPU available: False, using: 0 TPU cores\n",
      "HPU available: False, using: 0 HPUs\n",
      "LOCAL_RANK: 0 - CUDA_VISIBLE_DEVICES: [0]\n",
      "\n",
      "  | Name                   | Type       | Params | Mode \n",
      "--------------------------------------------------------------\n",
      "0 | background_input_layer | Sequential | 15.5 K | train\n",
      "1 | fc                     | Sequential | 375 K  | train\n",
      "2 | loss_fn                | MSELoss    | 0      | train\n",
      "  | other params           | n/a        | 100    | n/a  \n",
      "--------------------------------------------------------------\n",
      "391 K     Trainable params\n",
      "0         Non-trainable params\n",
      "391 K     Total params\n",
      "1.566     Total estimated model params size (MB)\n",
      "11        Modules in train mode\n",
      "0         Modules in eval mode\n",
      "SLURM auto-requeueing enabled. Setting signal handlers.\n"
     ]
    },
    {
     "data": {
      "application/vnd.jupyter.widget-view+json": {
       "model_id": "7300fe8698bd4f9ca39b96c8afdb924f",
       "version_major": 2,
       "version_minor": 0
      },
      "text/plain": [
       "Training: |          | 0/? [00:00<?, ?it/s]"
      ]
     },
     "metadata": {},
     "output_type": "display_data"
    },
    {
     "name": "stderr",
     "output_type": "stream",
     "text": [
      "`Trainer.fit` stopped: `max_epochs=10` reached.\n",
      "GPU available: True (cuda), used: True\n",
      "TPU available: False, using: 0 TPU cores\n",
      "HPU available: False, using: 0 HPUs\n",
      "LOCAL_RANK: 0 - CUDA_VISIBLE_DEVICES: [0]\n",
      "\n",
      "  | Name                   | Type       | Params | Mode \n",
      "--------------------------------------------------------------\n",
      "0 | background_input_layer | Sequential | 15.5 K | train\n",
      "1 | fc                     | Sequential | 375 K  | train\n",
      "2 | loss_fn                | MSELoss    | 0      | train\n",
      "  | other params           | n/a        | 100    | n/a  \n",
      "--------------------------------------------------------------\n",
      "391 K     Trainable params\n",
      "0         Non-trainable params\n",
      "391 K     Total params\n",
      "1.566     Total estimated model params size (MB)\n",
      "11        Modules in train mode\n",
      "0         Modules in eval mode\n",
      "SLURM auto-requeueing enabled. Setting signal handlers.\n"
     ]
    },
    {
     "data": {
      "application/vnd.jupyter.widget-view+json": {
       "model_id": "48906dbacd3c427998919846cb0ece09",
       "version_major": 2,
       "version_minor": 0
      },
      "text/plain": [
       "Training: |          | 0/? [00:00<?, ?it/s]"
      ]
     },
     "metadata": {},
     "output_type": "display_data"
    },
    {
     "name": "stderr",
     "output_type": "stream",
     "text": [
      "`Trainer.fit` stopped: `max_epochs=10` reached.\n",
      "GPU available: True (cuda), used: True\n",
      "TPU available: False, using: 0 TPU cores\n",
      "HPU available: False, using: 0 HPUs\n",
      "LOCAL_RANK: 0 - CUDA_VISIBLE_DEVICES: [0]\n",
      "\n",
      "  | Name                   | Type       | Params | Mode \n",
      "--------------------------------------------------------------\n",
      "0 | background_input_layer | Sequential | 15.5 K | train\n",
      "1 | fc                     | Sequential | 375 K  | train\n",
      "2 | loss_fn                | MSELoss    | 0      | train\n",
      "  | other params           | n/a        | 100    | n/a  \n",
      "--------------------------------------------------------------\n",
      "391 K     Trainable params\n",
      "0         Non-trainable params\n",
      "391 K     Total params\n",
      "1.566     Total estimated model params size (MB)\n",
      "11        Modules in train mode\n",
      "0         Modules in eval mode\n",
      "SLURM auto-requeueing enabled. Setting signal handlers.\n"
     ]
    },
    {
     "data": {
      "application/vnd.jupyter.widget-view+json": {
       "model_id": "2e6083b38fb64c09a90c7ccf9fb0b781",
       "version_major": 2,
       "version_minor": 0
      },
      "text/plain": [
       "Training: |          | 0/? [00:00<?, ?it/s]"
      ]
     },
     "metadata": {},
     "output_type": "display_data"
    },
    {
     "name": "stderr",
     "output_type": "stream",
     "text": [
      "`Trainer.fit` stopped: `max_epochs=10` reached.\n",
      "GPU available: True (cuda), used: True\n",
      "TPU available: False, using: 0 TPU cores\n",
      "HPU available: False, using: 0 HPUs\n",
      "LOCAL_RANK: 0 - CUDA_VISIBLE_DEVICES: [0]\n",
      "\n",
      "  | Name                   | Type       | Params | Mode \n",
      "--------------------------------------------------------------\n",
      "0 | background_input_layer | Sequential | 15.5 K | train\n",
      "1 | fc                     | Sequential | 375 K  | train\n",
      "2 | loss_fn                | MSELoss    | 0      | train\n",
      "  | other params           | n/a        | 100    | n/a  \n",
      "--------------------------------------------------------------\n",
      "391 K     Trainable params\n",
      "0         Non-trainable params\n",
      "391 K     Total params\n",
      "1.566     Total estimated model params size (MB)\n",
      "11        Modules in train mode\n",
      "0         Modules in eval mode\n",
      "SLURM auto-requeueing enabled. Setting signal handlers.\n"
     ]
    },
    {
     "data": {
      "application/vnd.jupyter.widget-view+json": {
       "model_id": "64f79e87679b41dc8bf1325f48a4b0a5",
       "version_major": 2,
       "version_minor": 0
      },
      "text/plain": [
       "Training: |          | 0/? [00:00<?, ?it/s]"
      ]
     },
     "metadata": {},
     "output_type": "display_data"
    },
    {
     "name": "stderr",
     "output_type": "stream",
     "text": [
      "`Trainer.fit` stopped: `max_epochs=10` reached.\n",
      "GPU available: True (cuda), used: True\n",
      "TPU available: False, using: 0 TPU cores\n",
      "HPU available: False, using: 0 HPUs\n",
      "LOCAL_RANK: 0 - CUDA_VISIBLE_DEVICES: [0]\n",
      "\n",
      "  | Name                   | Type       | Params | Mode \n",
      "--------------------------------------------------------------\n",
      "0 | background_input_layer | Sequential | 15.5 K | train\n",
      "1 | fc                     | Sequential | 375 K  | train\n",
      "2 | loss_fn                | MSELoss    | 0      | train\n",
      "  | other params           | n/a        | 100    | n/a  \n",
      "--------------------------------------------------------------\n",
      "391 K     Trainable params\n",
      "0         Non-trainable params\n",
      "391 K     Total params\n",
      "1.566     Total estimated model params size (MB)\n",
      "11        Modules in train mode\n",
      "0         Modules in eval mode\n",
      "SLURM auto-requeueing enabled. Setting signal handlers.\n"
     ]
    },
    {
     "data": {
      "application/vnd.jupyter.widget-view+json": {
       "model_id": "da74aff0fea94efcaddc12f2de16623f",
       "version_major": 2,
       "version_minor": 0
      },
      "text/plain": [
       "Training: |          | 0/? [00:00<?, ?it/s]"
      ]
     },
     "metadata": {},
     "output_type": "display_data"
    },
    {
     "name": "stderr",
     "output_type": "stream",
     "text": [
      "`Trainer.fit` stopped: `max_epochs=10` reached.\n",
      "GPU available: True (cuda), used: True\n",
      "TPU available: False, using: 0 TPU cores\n",
      "HPU available: False, using: 0 HPUs\n",
      "LOCAL_RANK: 0 - CUDA_VISIBLE_DEVICES: [0]\n",
      "\n",
      "  | Name                   | Type       | Params | Mode \n",
      "--------------------------------------------------------------\n",
      "0 | background_input_layer | Sequential | 15.5 K | train\n",
      "1 | fc                     | Sequential | 375 K  | train\n",
      "2 | loss_fn                | MSELoss    | 0      | train\n",
      "  | other params           | n/a        | 100    | n/a  \n",
      "--------------------------------------------------------------\n",
      "391 K     Trainable params\n",
      "0         Non-trainable params\n",
      "391 K     Total params\n",
      "1.566     Total estimated model params size (MB)\n",
      "11        Modules in train mode\n",
      "0         Modules in eval mode\n",
      "SLURM auto-requeueing enabled. Setting signal handlers.\n"
     ]
    },
    {
     "data": {
      "application/vnd.jupyter.widget-view+json": {
       "model_id": "fa1b96d65a9648f0834fe803ebc44635",
       "version_major": 2,
       "version_minor": 0
      },
      "text/plain": [
       "Training: |          | 0/? [00:00<?, ?it/s]"
      ]
     },
     "metadata": {},
     "output_type": "display_data"
    },
    {
     "name": "stderr",
     "output_type": "stream",
     "text": [
      "`Trainer.fit` stopped: `max_epochs=10` reached.\n",
      "GPU available: True (cuda), used: True\n",
      "TPU available: False, using: 0 TPU cores\n",
      "HPU available: False, using: 0 HPUs\n",
      "LOCAL_RANK: 0 - CUDA_VISIBLE_DEVICES: [0]\n",
      "\n",
      "  | Name                   | Type       | Params | Mode \n",
      "--------------------------------------------------------------\n",
      "0 | background_input_layer | Sequential | 15.5 K | train\n",
      "1 | fc                     | Sequential | 375 K  | train\n",
      "2 | loss_fn                | MSELoss    | 0      | train\n",
      "  | other params           | n/a        | 100    | n/a  \n",
      "--------------------------------------------------------------\n",
      "391 K     Trainable params\n",
      "0         Non-trainable params\n",
      "391 K     Total params\n",
      "1.566     Total estimated model params size (MB)\n",
      "11        Modules in train mode\n",
      "0         Modules in eval mode\n",
      "SLURM auto-requeueing enabled. Setting signal handlers.\n"
     ]
    },
    {
     "data": {
      "application/vnd.jupyter.widget-view+json": {
       "model_id": "efe5bd845eb0443a82af6828ac74af3f",
       "version_major": 2,
       "version_minor": 0
      },
      "text/plain": [
       "Training: |          | 0/? [00:00<?, ?it/s]"
      ]
     },
     "metadata": {},
     "output_type": "display_data"
    },
    {
     "name": "stderr",
     "output_type": "stream",
     "text": [
      "`Trainer.fit` stopped: `max_epochs=10` reached.\n",
      "GPU available: True (cuda), used: True\n",
      "TPU available: False, using: 0 TPU cores\n",
      "HPU available: False, using: 0 HPUs\n",
      "LOCAL_RANK: 0 - CUDA_VISIBLE_DEVICES: [0]\n",
      "\n",
      "  | Name                   | Type       | Params | Mode \n",
      "--------------------------------------------------------------\n",
      "0 | background_input_layer | Sequential | 15.5 K | train\n",
      "1 | fc                     | Sequential | 375 K  | train\n",
      "2 | loss_fn                | MSELoss    | 0      | train\n",
      "  | other params           | n/a        | 100    | n/a  \n",
      "--------------------------------------------------------------\n",
      "391 K     Trainable params\n",
      "0         Non-trainable params\n",
      "391 K     Total params\n",
      "1.566     Total estimated model params size (MB)\n",
      "11        Modules in train mode\n",
      "0         Modules in eval mode\n",
      "SLURM auto-requeueing enabled. Setting signal handlers.\n"
     ]
    },
    {
     "data": {
      "application/vnd.jupyter.widget-view+json": {
       "model_id": "165bd5bf9a274c719c949b48aa9dc4e6",
       "version_major": 2,
       "version_minor": 0
      },
      "text/plain": [
       "Training: |          | 0/? [00:00<?, ?it/s]"
      ]
     },
     "metadata": {},
     "output_type": "display_data"
    },
    {
     "name": "stderr",
     "output_type": "stream",
     "text": [
      "`Trainer.fit` stopped: `max_epochs=10` reached.\n",
      "GPU available: True (cuda), used: True\n",
      "TPU available: False, using: 0 TPU cores\n",
      "HPU available: False, using: 0 HPUs\n",
      "LOCAL_RANK: 0 - CUDA_VISIBLE_DEVICES: [0]\n",
      "\n",
      "  | Name                   | Type       | Params | Mode \n",
      "--------------------------------------------------------------\n",
      "0 | background_input_layer | Sequential | 15.5 K | train\n",
      "1 | fc                     | Sequential | 375 K  | train\n",
      "2 | loss_fn                | MSELoss    | 0      | train\n",
      "  | other params           | n/a        | 100    | n/a  \n",
      "--------------------------------------------------------------\n",
      "391 K     Trainable params\n",
      "0         Non-trainable params\n",
      "391 K     Total params\n",
      "1.566     Total estimated model params size (MB)\n",
      "11        Modules in train mode\n",
      "0         Modules in eval mode\n",
      "SLURM auto-requeueing enabled. Setting signal handlers.\n"
     ]
    },
    {
     "data": {
      "application/vnd.jupyter.widget-view+json": {
       "model_id": "850ed06f6a114c2697f0e42039ade8b9",
       "version_major": 2,
       "version_minor": 0
      },
      "text/plain": [
       "Training: |          | 0/? [00:00<?, ?it/s]"
      ]
     },
     "metadata": {},
     "output_type": "display_data"
    },
    {
     "name": "stderr",
     "output_type": "stream",
     "text": [
      "`Trainer.fit` stopped: `max_epochs=10` reached.\n",
      "GPU available: True (cuda), used: True\n",
      "TPU available: False, using: 0 TPU cores\n",
      "HPU available: False, using: 0 HPUs\n",
      "LOCAL_RANK: 0 - CUDA_VISIBLE_DEVICES: [0]\n",
      "\n",
      "  | Name                   | Type       | Params | Mode \n",
      "--------------------------------------------------------------\n",
      "0 | background_input_layer | Sequential | 15.5 K | train\n",
      "1 | fc                     | Sequential | 375 K  | train\n",
      "2 | loss_fn                | MSELoss    | 0      | train\n",
      "  | other params           | n/a        | 100    | n/a  \n",
      "--------------------------------------------------------------\n",
      "391 K     Trainable params\n",
      "0         Non-trainable params\n",
      "391 K     Total params\n",
      "1.566     Total estimated model params size (MB)\n",
      "11        Modules in train mode\n",
      "0         Modules in eval mode\n",
      "SLURM auto-requeueing enabled. Setting signal handlers.\n"
     ]
    },
    {
     "data": {
      "application/vnd.jupyter.widget-view+json": {
       "model_id": "10080427d07b43c9ad2f17160b2c1404",
       "version_major": 2,
       "version_minor": 0
      },
      "text/plain": [
       "Training: |          | 0/? [00:00<?, ?it/s]"
      ]
     },
     "metadata": {},
     "output_type": "display_data"
    },
    {
     "name": "stderr",
     "output_type": "stream",
     "text": [
      "`Trainer.fit` stopped: `max_epochs=10` reached.\n",
      "GPU available: True (cuda), used: True\n",
      "TPU available: False, using: 0 TPU cores\n",
      "HPU available: False, using: 0 HPUs\n",
      "LOCAL_RANK: 0 - CUDA_VISIBLE_DEVICES: [0]\n",
      "\n",
      "  | Name                   | Type       | Params | Mode \n",
      "--------------------------------------------------------------\n",
      "0 | background_input_layer | Sequential | 15.5 K | train\n",
      "1 | fc                     | Sequential | 375 K  | train\n",
      "2 | loss_fn                | MSELoss    | 0      | train\n",
      "  | other params           | n/a        | 100    | n/a  \n",
      "--------------------------------------------------------------\n",
      "391 K     Trainable params\n",
      "0         Non-trainable params\n",
      "391 K     Total params\n",
      "1.566     Total estimated model params size (MB)\n",
      "11        Modules in train mode\n",
      "0         Modules in eval mode\n",
      "SLURM auto-requeueing enabled. Setting signal handlers.\n"
     ]
    },
    {
     "data": {
      "application/vnd.jupyter.widget-view+json": {
       "model_id": "2aa6ea7fbea6406d84ab32f26f34ae98",
       "version_major": 2,
       "version_minor": 0
      },
      "text/plain": [
       "Training: |          | 0/? [00:00<?, ?it/s]"
      ]
     },
     "metadata": {},
     "output_type": "display_data"
    },
    {
     "name": "stderr",
     "output_type": "stream",
     "text": [
      "`Trainer.fit` stopped: `max_epochs=10` reached.\n",
      "GPU available: True (cuda), used: True\n",
      "TPU available: False, using: 0 TPU cores\n",
      "HPU available: False, using: 0 HPUs\n",
      "LOCAL_RANK: 0 - CUDA_VISIBLE_DEVICES: [0]\n",
      "\n",
      "  | Name                   | Type       | Params | Mode \n",
      "--------------------------------------------------------------\n",
      "0 | background_input_layer | Sequential | 15.5 K | train\n",
      "1 | fc                     | Sequential | 375 K  | train\n",
      "2 | loss_fn                | MSELoss    | 0      | train\n",
      "  | other params           | n/a        | 100    | n/a  \n",
      "--------------------------------------------------------------\n",
      "391 K     Trainable params\n",
      "0         Non-trainable params\n",
      "391 K     Total params\n",
      "1.566     Total estimated model params size (MB)\n",
      "11        Modules in train mode\n",
      "0         Modules in eval mode\n",
      "SLURM auto-requeueing enabled. Setting signal handlers.\n"
     ]
    },
    {
     "data": {
      "application/vnd.jupyter.widget-view+json": {
       "model_id": "1af9e3ee8b2b4155abc6da77d2c9ef30",
       "version_major": 2,
       "version_minor": 0
      },
      "text/plain": [
       "Training: |          | 0/? [00:00<?, ?it/s]"
      ]
     },
     "metadata": {},
     "output_type": "display_data"
    },
    {
     "name": "stderr",
     "output_type": "stream",
     "text": [
      "`Trainer.fit` stopped: `max_epochs=10` reached.\n",
      "GPU available: True (cuda), used: True\n",
      "TPU available: False, using: 0 TPU cores\n",
      "HPU available: False, using: 0 HPUs\n",
      "LOCAL_RANK: 0 - CUDA_VISIBLE_DEVICES: [0]\n",
      "\n",
      "  | Name                   | Type       | Params | Mode \n",
      "--------------------------------------------------------------\n",
      "0 | background_input_layer | Sequential | 15.5 K | train\n",
      "1 | fc                     | Sequential | 375 K  | train\n",
      "2 | loss_fn                | MSELoss    | 0      | train\n",
      "  | other params           | n/a        | 100    | n/a  \n",
      "--------------------------------------------------------------\n",
      "391 K     Trainable params\n",
      "0         Non-trainable params\n",
      "391 K     Total params\n",
      "1.566     Total estimated model params size (MB)\n",
      "11        Modules in train mode\n",
      "0         Modules in eval mode\n",
      "SLURM auto-requeueing enabled. Setting signal handlers.\n"
     ]
    },
    {
     "data": {
      "application/vnd.jupyter.widget-view+json": {
       "model_id": "e0d9a442bafb4dc4acde282d52f45b93",
       "version_major": 2,
       "version_minor": 0
      },
      "text/plain": [
       "Training: |          | 0/? [00:00<?, ?it/s]"
      ]
     },
     "metadata": {},
     "output_type": "display_data"
    },
    {
     "name": "stderr",
     "output_type": "stream",
     "text": [
      "`Trainer.fit` stopped: `max_epochs=10` reached.\n",
      "GPU available: True (cuda), used: True\n",
      "TPU available: False, using: 0 TPU cores\n",
      "HPU available: False, using: 0 HPUs\n",
      "LOCAL_RANK: 0 - CUDA_VISIBLE_DEVICES: [0]\n",
      "\n",
      "  | Name                   | Type       | Params | Mode \n",
      "--------------------------------------------------------------\n",
      "0 | background_input_layer | Sequential | 15.5 K | train\n",
      "1 | fc                     | Sequential | 375 K  | train\n",
      "2 | loss_fn                | MSELoss    | 0      | train\n",
      "  | other params           | n/a        | 100    | n/a  \n",
      "--------------------------------------------------------------\n",
      "391 K     Trainable params\n",
      "0         Non-trainable params\n",
      "391 K     Total params\n",
      "1.566     Total estimated model params size (MB)\n",
      "11        Modules in train mode\n",
      "0         Modules in eval mode\n",
      "SLURM auto-requeueing enabled. Setting signal handlers.\n"
     ]
    },
    {
     "data": {
      "application/vnd.jupyter.widget-view+json": {
       "model_id": "6f1b706b6b9541d3a98be5ac55f5b3cc",
       "version_major": 2,
       "version_minor": 0
      },
      "text/plain": [
       "Training: |          | 0/? [00:00<?, ?it/s]"
      ]
     },
     "metadata": {},
     "output_type": "display_data"
    },
    {
     "name": "stderr",
     "output_type": "stream",
     "text": [
      "`Trainer.fit` stopped: `max_epochs=10` reached.\n",
      "GPU available: True (cuda), used: True\n",
      "TPU available: False, using: 0 TPU cores\n",
      "HPU available: False, using: 0 HPUs\n",
      "LOCAL_RANK: 0 - CUDA_VISIBLE_DEVICES: [0]\n",
      "\n",
      "  | Name                   | Type       | Params | Mode \n",
      "--------------------------------------------------------------\n",
      "0 | background_input_layer | Sequential | 15.5 K | train\n",
      "1 | fc                     | Sequential | 375 K  | train\n",
      "2 | loss_fn                | MSELoss    | 0      | train\n",
      "  | other params           | n/a        | 100    | n/a  \n",
      "--------------------------------------------------------------\n",
      "391 K     Trainable params\n",
      "0         Non-trainable params\n",
      "391 K     Total params\n",
      "1.566     Total estimated model params size (MB)\n",
      "11        Modules in train mode\n",
      "0         Modules in eval mode\n",
      "SLURM auto-requeueing enabled. Setting signal handlers.\n"
     ]
    },
    {
     "data": {
      "application/vnd.jupyter.widget-view+json": {
       "model_id": "d37b16069f884c3cacc7a4e7807a2dc5",
       "version_major": 2,
       "version_minor": 0
      },
      "text/plain": [
       "Training: |          | 0/? [00:00<?, ?it/s]"
      ]
     },
     "metadata": {},
     "output_type": "display_data"
    },
    {
     "name": "stderr",
     "output_type": "stream",
     "text": [
      "`Trainer.fit` stopped: `max_epochs=10` reached.\n",
      "GPU available: True (cuda), used: True\n",
      "TPU available: False, using: 0 TPU cores\n",
      "HPU available: False, using: 0 HPUs\n",
      "LOCAL_RANK: 0 - CUDA_VISIBLE_DEVICES: [0]\n",
      "\n",
      "  | Name                   | Type       | Params | Mode \n",
      "--------------------------------------------------------------\n",
      "0 | background_input_layer | Sequential | 15.5 K | train\n",
      "1 | fc                     | Sequential | 375 K  | train\n",
      "2 | loss_fn                | MSELoss    | 0      | train\n",
      "  | other params           | n/a        | 100    | n/a  \n",
      "--------------------------------------------------------------\n",
      "391 K     Trainable params\n",
      "0         Non-trainable params\n",
      "391 K     Total params\n",
      "1.566     Total estimated model params size (MB)\n",
      "11        Modules in train mode\n",
      "0         Modules in eval mode\n",
      "SLURM auto-requeueing enabled. Setting signal handlers.\n"
     ]
    },
    {
     "data": {
      "application/vnd.jupyter.widget-view+json": {
       "model_id": "9bed97c0cb49473385658cda1b39aec3",
       "version_major": 2,
       "version_minor": 0
      },
      "text/plain": [
       "Training: |          | 0/? [00:00<?, ?it/s]"
      ]
     },
     "metadata": {},
     "output_type": "display_data"
    },
    {
     "name": "stderr",
     "output_type": "stream",
     "text": [
      "`Trainer.fit` stopped: `max_epochs=10` reached.\n",
      "GPU available: True (cuda), used: True\n",
      "TPU available: False, using: 0 TPU cores\n",
      "HPU available: False, using: 0 HPUs\n",
      "LOCAL_RANK: 0 - CUDA_VISIBLE_DEVICES: [0]\n",
      "\n",
      "  | Name                   | Type       | Params | Mode \n",
      "--------------------------------------------------------------\n",
      "0 | background_input_layer | Sequential | 15.5 K | train\n",
      "1 | fc                     | Sequential | 375 K  | train\n",
      "2 | loss_fn                | MSELoss    | 0      | train\n",
      "  | other params           | n/a        | 100    | n/a  \n",
      "--------------------------------------------------------------\n",
      "391 K     Trainable params\n",
      "0         Non-trainable params\n",
      "391 K     Total params\n",
      "1.566     Total estimated model params size (MB)\n",
      "11        Modules in train mode\n",
      "0         Modules in eval mode\n",
      "SLURM auto-requeueing enabled. Setting signal handlers.\n"
     ]
    },
    {
     "data": {
      "application/vnd.jupyter.widget-view+json": {
       "model_id": "63ce57bbb3694cbab5395dbc5bf204cb",
       "version_major": 2,
       "version_minor": 0
      },
      "text/plain": [
       "Training: |          | 0/? [00:00<?, ?it/s]"
      ]
     },
     "metadata": {},
     "output_type": "display_data"
    },
    {
     "name": "stderr",
     "output_type": "stream",
     "text": [
      "`Trainer.fit` stopped: `max_epochs=10` reached.\n",
      "GPU available: True (cuda), used: True\n",
      "TPU available: False, using: 0 TPU cores\n",
      "HPU available: False, using: 0 HPUs\n",
      "LOCAL_RANK: 0 - CUDA_VISIBLE_DEVICES: [0]\n",
      "\n",
      "  | Name                   | Type       | Params | Mode \n",
      "--------------------------------------------------------------\n",
      "0 | background_input_layer | Sequential | 15.5 K | train\n",
      "1 | fc                     | Sequential | 375 K  | train\n",
      "2 | loss_fn                | MSELoss    | 0      | train\n",
      "  | other params           | n/a        | 100    | n/a  \n",
      "--------------------------------------------------------------\n",
      "391 K     Trainable params\n",
      "0         Non-trainable params\n",
      "391 K     Total params\n",
      "1.566     Total estimated model params size (MB)\n",
      "11        Modules in train mode\n",
      "0         Modules in eval mode\n",
      "SLURM auto-requeueing enabled. Setting signal handlers.\n"
     ]
    },
    {
     "data": {
      "application/vnd.jupyter.widget-view+json": {
       "model_id": "27677a540f104ee280ea57f4b358031a",
       "version_major": 2,
       "version_minor": 0
      },
      "text/plain": [
       "Training: |          | 0/? [00:00<?, ?it/s]"
      ]
     },
     "metadata": {},
     "output_type": "display_data"
    },
    {
     "name": "stderr",
     "output_type": "stream",
     "text": [
      "`Trainer.fit` stopped: `max_epochs=10` reached.\n",
      "GPU available: True (cuda), used: True\n",
      "TPU available: False, using: 0 TPU cores\n",
      "HPU available: False, using: 0 HPUs\n",
      "LOCAL_RANK: 0 - CUDA_VISIBLE_DEVICES: [0]\n",
      "\n",
      "  | Name                   | Type       | Params | Mode \n",
      "--------------------------------------------------------------\n",
      "0 | background_input_layer | Sequential | 15.5 K | train\n",
      "1 | fc                     | Sequential | 375 K  | train\n",
      "2 | loss_fn                | MSELoss    | 0      | train\n",
      "  | other params           | n/a        | 100    | n/a  \n",
      "--------------------------------------------------------------\n",
      "391 K     Trainable params\n",
      "0         Non-trainable params\n",
      "391 K     Total params\n",
      "1.566     Total estimated model params size (MB)\n",
      "11        Modules in train mode\n",
      "0         Modules in eval mode\n",
      "SLURM auto-requeueing enabled. Setting signal handlers.\n"
     ]
    },
    {
     "data": {
      "application/vnd.jupyter.widget-view+json": {
       "model_id": "23f6578254724c7ba09b544fd51c4125",
       "version_major": 2,
       "version_minor": 0
      },
      "text/plain": [
       "Training: |          | 0/? [00:00<?, ?it/s]"
      ]
     },
     "metadata": {},
     "output_type": "display_data"
    },
    {
     "name": "stderr",
     "output_type": "stream",
     "text": [
      "`Trainer.fit` stopped: `max_epochs=10` reached.\n",
      "GPU available: True (cuda), used: True\n",
      "TPU available: False, using: 0 TPU cores\n",
      "HPU available: False, using: 0 HPUs\n",
      "LOCAL_RANK: 0 - CUDA_VISIBLE_DEVICES: [0]\n",
      "\n",
      "  | Name                   | Type       | Params | Mode \n",
      "--------------------------------------------------------------\n",
      "0 | background_input_layer | Sequential | 15.5 K | train\n",
      "1 | fc                     | Sequential | 375 K  | train\n",
      "2 | loss_fn                | MSELoss    | 0      | train\n",
      "  | other params           | n/a        | 100    | n/a  \n",
      "--------------------------------------------------------------\n",
      "391 K     Trainable params\n",
      "0         Non-trainable params\n",
      "391 K     Total params\n",
      "1.566     Total estimated model params size (MB)\n",
      "11        Modules in train mode\n",
      "0         Modules in eval mode\n",
      "SLURM auto-requeueing enabled. Setting signal handlers.\n"
     ]
    },
    {
     "data": {
      "application/vnd.jupyter.widget-view+json": {
       "model_id": "b19a0a6ab6964d24999344d758de1738",
       "version_major": 2,
       "version_minor": 0
      },
      "text/plain": [
       "Training: |          | 0/? [00:00<?, ?it/s]"
      ]
     },
     "metadata": {},
     "output_type": "display_data"
    },
    {
     "name": "stderr",
     "output_type": "stream",
     "text": [
      "`Trainer.fit` stopped: `max_epochs=10` reached.\n",
      "GPU available: True (cuda), used: True\n",
      "TPU available: False, using: 0 TPU cores\n",
      "HPU available: False, using: 0 HPUs\n",
      "LOCAL_RANK: 0 - CUDA_VISIBLE_DEVICES: [0]\n",
      "\n",
      "  | Name                   | Type       | Params | Mode \n",
      "--------------------------------------------------------------\n",
      "0 | background_input_layer | Sequential | 15.5 K | train\n",
      "1 | fc                     | Sequential | 375 K  | train\n",
      "2 | loss_fn                | MSELoss    | 0      | train\n",
      "  | other params           | n/a        | 100    | n/a  \n",
      "--------------------------------------------------------------\n",
      "391 K     Trainable params\n",
      "0         Non-trainable params\n",
      "391 K     Total params\n",
      "1.566     Total estimated model params size (MB)\n",
      "11        Modules in train mode\n",
      "0         Modules in eval mode\n",
      "SLURM auto-requeueing enabled. Setting signal handlers.\n"
     ]
    },
    {
     "data": {
      "application/vnd.jupyter.widget-view+json": {
       "model_id": "4a8e4d06123641ce85001f54717331a0",
       "version_major": 2,
       "version_minor": 0
      },
      "text/plain": [
       "Training: |          | 0/? [00:00<?, ?it/s]"
      ]
     },
     "metadata": {},
     "output_type": "display_data"
    },
    {
     "name": "stderr",
     "output_type": "stream",
     "text": [
      "`Trainer.fit` stopped: `max_epochs=10` reached.\n",
      "GPU available: True (cuda), used: True\n",
      "TPU available: False, using: 0 TPU cores\n",
      "HPU available: False, using: 0 HPUs\n",
      "LOCAL_RANK: 0 - CUDA_VISIBLE_DEVICES: [0]\n",
      "\n",
      "  | Name                   | Type       | Params | Mode \n",
      "--------------------------------------------------------------\n",
      "0 | background_input_layer | Sequential | 15.5 K | train\n",
      "1 | fc                     | Sequential | 375 K  | train\n",
      "2 | loss_fn                | MSELoss    | 0      | train\n",
      "  | other params           | n/a        | 100    | n/a  \n",
      "--------------------------------------------------------------\n",
      "391 K     Trainable params\n",
      "0         Non-trainable params\n",
      "391 K     Total params\n",
      "1.566     Total estimated model params size (MB)\n",
      "11        Modules in train mode\n",
      "0         Modules in eval mode\n",
      "SLURM auto-requeueing enabled. Setting signal handlers.\n"
     ]
    },
    {
     "data": {
      "application/vnd.jupyter.widget-view+json": {
       "model_id": "201ead0a70064ed890c62231e008326c",
       "version_major": 2,
       "version_minor": 0
      },
      "text/plain": [
       "Training: |          | 0/? [00:00<?, ?it/s]"
      ]
     },
     "metadata": {},
     "output_type": "display_data"
    },
    {
     "name": "stderr",
     "output_type": "stream",
     "text": [
      "`Trainer.fit` stopped: `max_epochs=10` reached.\n",
      "GPU available: True (cuda), used: True\n",
      "TPU available: False, using: 0 TPU cores\n",
      "HPU available: False, using: 0 HPUs\n",
      "LOCAL_RANK: 0 - CUDA_VISIBLE_DEVICES: [0]\n",
      "\n",
      "  | Name                   | Type       | Params | Mode \n",
      "--------------------------------------------------------------\n",
      "0 | background_input_layer | Sequential | 15.5 K | train\n",
      "1 | fc                     | Sequential | 375 K  | train\n",
      "2 | loss_fn                | MSELoss    | 0      | train\n",
      "  | other params           | n/a        | 100    | n/a  \n",
      "--------------------------------------------------------------\n",
      "391 K     Trainable params\n",
      "0         Non-trainable params\n",
      "391 K     Total params\n",
      "1.566     Total estimated model params size (MB)\n",
      "11        Modules in train mode\n",
      "0         Modules in eval mode\n",
      "SLURM auto-requeueing enabled. Setting signal handlers.\n"
     ]
    },
    {
     "data": {
      "application/vnd.jupyter.widget-view+json": {
       "model_id": "540ff945adfb45e58a8f54a302621705",
       "version_major": 2,
       "version_minor": 0
      },
      "text/plain": [
       "Training: |          | 0/? [00:00<?, ?it/s]"
      ]
     },
     "metadata": {},
     "output_type": "display_data"
    },
    {
     "name": "stderr",
     "output_type": "stream",
     "text": [
      "`Trainer.fit` stopped: `max_epochs=10` reached.\n",
      "GPU available: True (cuda), used: True\n",
      "TPU available: False, using: 0 TPU cores\n",
      "HPU available: False, using: 0 HPUs\n",
      "LOCAL_RANK: 0 - CUDA_VISIBLE_DEVICES: [0]\n",
      "\n",
      "  | Name                   | Type       | Params | Mode \n",
      "--------------------------------------------------------------\n",
      "0 | background_input_layer | Sequential | 15.5 K | train\n",
      "1 | fc                     | Sequential | 375 K  | train\n",
      "2 | loss_fn                | MSELoss    | 0      | train\n",
      "  | other params           | n/a        | 100    | n/a  \n",
      "--------------------------------------------------------------\n",
      "391 K     Trainable params\n",
      "0         Non-trainable params\n",
      "391 K     Total params\n",
      "1.566     Total estimated model params size (MB)\n",
      "11        Modules in train mode\n",
      "0         Modules in eval mode\n",
      "SLURM auto-requeueing enabled. Setting signal handlers.\n"
     ]
    },
    {
     "data": {
      "application/vnd.jupyter.widget-view+json": {
       "model_id": "d5df973e951d48b69b12403e5c746ddf",
       "version_major": 2,
       "version_minor": 0
      },
      "text/plain": [
       "Training: |          | 0/? [00:00<?, ?it/s]"
      ]
     },
     "metadata": {},
     "output_type": "display_data"
    },
    {
     "name": "stderr",
     "output_type": "stream",
     "text": [
      "`Trainer.fit` stopped: `max_epochs=10` reached.\n",
      "GPU available: True (cuda), used: True\n",
      "TPU available: False, using: 0 TPU cores\n",
      "HPU available: False, using: 0 HPUs\n",
      "LOCAL_RANK: 0 - CUDA_VISIBLE_DEVICES: [0]\n",
      "\n",
      "  | Name                   | Type       | Params | Mode \n",
      "--------------------------------------------------------------\n",
      "0 | background_input_layer | Sequential | 15.5 K | train\n",
      "1 | fc                     | Sequential | 375 K  | train\n",
      "2 | loss_fn                | MSELoss    | 0      | train\n",
      "  | other params           | n/a        | 100    | n/a  \n",
      "--------------------------------------------------------------\n",
      "391 K     Trainable params\n",
      "0         Non-trainable params\n",
      "391 K     Total params\n",
      "1.566     Total estimated model params size (MB)\n",
      "11        Modules in train mode\n",
      "0         Modules in eval mode\n",
      "SLURM auto-requeueing enabled. Setting signal handlers.\n"
     ]
    },
    {
     "data": {
      "application/vnd.jupyter.widget-view+json": {
       "model_id": "be1d96d5604e4bb3941e9d58058f4fb5",
       "version_major": 2,
       "version_minor": 0
      },
      "text/plain": [
       "Training: |          | 0/? [00:00<?, ?it/s]"
      ]
     },
     "metadata": {},
     "output_type": "display_data"
    },
    {
     "name": "stderr",
     "output_type": "stream",
     "text": [
      "`Trainer.fit` stopped: `max_epochs=10` reached.\n",
      "GPU available: True (cuda), used: True\n",
      "TPU available: False, using: 0 TPU cores\n",
      "HPU available: False, using: 0 HPUs\n",
      "LOCAL_RANK: 0 - CUDA_VISIBLE_DEVICES: [0]\n",
      "\n",
      "  | Name                   | Type       | Params | Mode \n",
      "--------------------------------------------------------------\n",
      "0 | background_input_layer | Sequential | 15.5 K | train\n",
      "1 | fc                     | Sequential | 375 K  | train\n",
      "2 | loss_fn                | MSELoss    | 0      | train\n",
      "  | other params           | n/a        | 100    | n/a  \n",
      "--------------------------------------------------------------\n",
      "391 K     Trainable params\n",
      "0         Non-trainable params\n",
      "391 K     Total params\n",
      "1.566     Total estimated model params size (MB)\n",
      "11        Modules in train mode\n",
      "0         Modules in eval mode\n",
      "SLURM auto-requeueing enabled. Setting signal handlers.\n"
     ]
    },
    {
     "data": {
      "application/vnd.jupyter.widget-view+json": {
       "model_id": "518d8918f5914915a4651a68ab844151",
       "version_major": 2,
       "version_minor": 0
      },
      "text/plain": [
       "Training: |          | 0/? [00:00<?, ?it/s]"
      ]
     },
     "metadata": {},
     "output_type": "display_data"
    },
    {
     "name": "stderr",
     "output_type": "stream",
     "text": [
      "`Trainer.fit` stopped: `max_epochs=10` reached.\n",
      "GPU available: True (cuda), used: True\n",
      "TPU available: False, using: 0 TPU cores\n",
      "HPU available: False, using: 0 HPUs\n",
      "LOCAL_RANK: 0 - CUDA_VISIBLE_DEVICES: [0]\n",
      "\n",
      "  | Name                   | Type       | Params | Mode \n",
      "--------------------------------------------------------------\n",
      "0 | background_input_layer | Sequential | 15.5 K | train\n",
      "1 | fc                     | Sequential | 375 K  | train\n",
      "2 | loss_fn                | MSELoss    | 0      | train\n",
      "  | other params           | n/a        | 100    | n/a  \n",
      "--------------------------------------------------------------\n",
      "391 K     Trainable params\n",
      "0         Non-trainable params\n",
      "391 K     Total params\n",
      "1.566     Total estimated model params size (MB)\n",
      "11        Modules in train mode\n",
      "0         Modules in eval mode\n",
      "SLURM auto-requeueing enabled. Setting signal handlers.\n"
     ]
    },
    {
     "data": {
      "application/vnd.jupyter.widget-view+json": {
       "model_id": "317a2f9b6c6a4bab97b093ed6b26cd6e",
       "version_major": 2,
       "version_minor": 0
      },
      "text/plain": [
       "Training: |          | 0/? [00:00<?, ?it/s]"
      ]
     },
     "metadata": {},
     "output_type": "display_data"
    },
    {
     "name": "stderr",
     "output_type": "stream",
     "text": [
      "`Trainer.fit` stopped: `max_epochs=10` reached.\n",
      "GPU available: True (cuda), used: True\n",
      "TPU available: False, using: 0 TPU cores\n",
      "HPU available: False, using: 0 HPUs\n",
      "LOCAL_RANK: 0 - CUDA_VISIBLE_DEVICES: [0]\n",
      "\n",
      "  | Name                   | Type       | Params | Mode \n",
      "--------------------------------------------------------------\n",
      "0 | background_input_layer | Sequential | 15.5 K | train\n",
      "1 | fc                     | Sequential | 375 K  | train\n",
      "2 | loss_fn                | MSELoss    | 0      | train\n",
      "  | other params           | n/a        | 100    | n/a  \n",
      "--------------------------------------------------------------\n",
      "391 K     Trainable params\n",
      "0         Non-trainable params\n",
      "391 K     Total params\n",
      "1.566     Total estimated model params size (MB)\n",
      "11        Modules in train mode\n",
      "0         Modules in eval mode\n",
      "SLURM auto-requeueing enabled. Setting signal handlers.\n"
     ]
    },
    {
     "data": {
      "application/vnd.jupyter.widget-view+json": {
       "model_id": "185ca594f1214580b65c2a2295f36855",
       "version_major": 2,
       "version_minor": 0
      },
      "text/plain": [
       "Training: |          | 0/? [00:00<?, ?it/s]"
      ]
     },
     "metadata": {},
     "output_type": "display_data"
    },
    {
     "name": "stderr",
     "output_type": "stream",
     "text": [
      "`Trainer.fit` stopped: `max_epochs=10` reached.\n",
      "GPU available: True (cuda), used: True\n",
      "TPU available: False, using: 0 TPU cores\n",
      "HPU available: False, using: 0 HPUs\n",
      "LOCAL_RANK: 0 - CUDA_VISIBLE_DEVICES: [0]\n",
      "\n",
      "  | Name                   | Type       | Params | Mode \n",
      "--------------------------------------------------------------\n",
      "0 | background_input_layer | Sequential | 15.5 K | train\n",
      "1 | fc                     | Sequential | 375 K  | train\n",
      "2 | loss_fn                | MSELoss    | 0      | train\n",
      "  | other params           | n/a        | 100    | n/a  \n",
      "--------------------------------------------------------------\n",
      "391 K     Trainable params\n",
      "0         Non-trainable params\n",
      "391 K     Total params\n",
      "1.566     Total estimated model params size (MB)\n",
      "11        Modules in train mode\n",
      "0         Modules in eval mode\n",
      "SLURM auto-requeueing enabled. Setting signal handlers.\n"
     ]
    },
    {
     "data": {
      "application/vnd.jupyter.widget-view+json": {
       "model_id": "828533eba4eb4fbfbe39c191ec19b484",
       "version_major": 2,
       "version_minor": 0
      },
      "text/plain": [
       "Training: |          | 0/? [00:00<?, ?it/s]"
      ]
     },
     "metadata": {},
     "output_type": "display_data"
    },
    {
     "name": "stderr",
     "output_type": "stream",
     "text": [
      "`Trainer.fit` stopped: `max_epochs=10` reached.\n",
      "GPU available: True (cuda), used: True\n",
      "TPU available: False, using: 0 TPU cores\n",
      "HPU available: False, using: 0 HPUs\n",
      "LOCAL_RANK: 0 - CUDA_VISIBLE_DEVICES: [0]\n",
      "\n",
      "  | Name                   | Type       | Params | Mode \n",
      "--------------------------------------------------------------\n",
      "0 | background_input_layer | Sequential | 15.5 K | train\n",
      "1 | fc                     | Sequential | 375 K  | train\n",
      "2 | loss_fn                | MSELoss    | 0      | train\n",
      "  | other params           | n/a        | 100    | n/a  \n",
      "--------------------------------------------------------------\n",
      "391 K     Trainable params\n",
      "0         Non-trainable params\n",
      "391 K     Total params\n",
      "1.566     Total estimated model params size (MB)\n",
      "11        Modules in train mode\n",
      "0         Modules in eval mode\n",
      "SLURM auto-requeueing enabled. Setting signal handlers.\n"
     ]
    },
    {
     "data": {
      "application/vnd.jupyter.widget-view+json": {
       "model_id": "43c0970063504be58c2ed5b2cabdb31a",
       "version_major": 2,
       "version_minor": 0
      },
      "text/plain": [
       "Training: |          | 0/? [00:00<?, ?it/s]"
      ]
     },
     "metadata": {},
     "output_type": "display_data"
    },
    {
     "name": "stderr",
     "output_type": "stream",
     "text": [
      "`Trainer.fit` stopped: `max_epochs=10` reached.\n",
      "GPU available: True (cuda), used: True\n",
      "TPU available: False, using: 0 TPU cores\n",
      "HPU available: False, using: 0 HPUs\n",
      "LOCAL_RANK: 0 - CUDA_VISIBLE_DEVICES: [0]\n",
      "\n",
      "  | Name                   | Type       | Params | Mode \n",
      "--------------------------------------------------------------\n",
      "0 | background_input_layer | Sequential | 15.5 K | train\n",
      "1 | fc                     | Sequential | 375 K  | train\n",
      "2 | loss_fn                | MSELoss    | 0      | train\n",
      "  | other params           | n/a        | 100    | n/a  \n",
      "--------------------------------------------------------------\n",
      "391 K     Trainable params\n",
      "0         Non-trainable params\n",
      "391 K     Total params\n",
      "1.566     Total estimated model params size (MB)\n",
      "11        Modules in train mode\n",
      "0         Modules in eval mode\n",
      "SLURM auto-requeueing enabled. Setting signal handlers.\n"
     ]
    },
    {
     "data": {
      "application/vnd.jupyter.widget-view+json": {
       "model_id": "d281c6f39e9f45089bac8fccfd3bde66",
       "version_major": 2,
       "version_minor": 0
      },
      "text/plain": [
       "Training: |          | 0/? [00:00<?, ?it/s]"
      ]
     },
     "metadata": {},
     "output_type": "display_data"
    },
    {
     "name": "stderr",
     "output_type": "stream",
     "text": [
      "`Trainer.fit` stopped: `max_epochs=10` reached.\n",
      "GPU available: True (cuda), used: True\n",
      "TPU available: False, using: 0 TPU cores\n",
      "HPU available: False, using: 0 HPUs\n",
      "LOCAL_RANK: 0 - CUDA_VISIBLE_DEVICES: [0]\n",
      "\n",
      "  | Name                   | Type       | Params | Mode \n",
      "--------------------------------------------------------------\n",
      "0 | background_input_layer | Sequential | 15.5 K | train\n",
      "1 | fc                     | Sequential | 375 K  | train\n",
      "2 | loss_fn                | MSELoss    | 0      | train\n",
      "  | other params           | n/a        | 100    | n/a  \n",
      "--------------------------------------------------------------\n",
      "391 K     Trainable params\n",
      "0         Non-trainable params\n",
      "391 K     Total params\n",
      "1.566     Total estimated model params size (MB)\n",
      "11        Modules in train mode\n",
      "0         Modules in eval mode\n",
      "SLURM auto-requeueing enabled. Setting signal handlers.\n"
     ]
    },
    {
     "data": {
      "application/vnd.jupyter.widget-view+json": {
       "model_id": "81aaaf34870c476e983431a26fd333ad",
       "version_major": 2,
       "version_minor": 0
      },
      "text/plain": [
       "Training: |          | 0/? [00:00<?, ?it/s]"
      ]
     },
     "metadata": {},
     "output_type": "display_data"
    },
    {
     "name": "stderr",
     "output_type": "stream",
     "text": [
      "`Trainer.fit` stopped: `max_epochs=10` reached.\n",
      "GPU available: True (cuda), used: True\n",
      "TPU available: False, using: 0 TPU cores\n",
      "HPU available: False, using: 0 HPUs\n",
      "LOCAL_RANK: 0 - CUDA_VISIBLE_DEVICES: [0]\n",
      "\n",
      "  | Name                   | Type       | Params | Mode \n",
      "--------------------------------------------------------------\n",
      "0 | background_input_layer | Sequential | 15.5 K | train\n",
      "1 | fc                     | Sequential | 375 K  | train\n",
      "2 | loss_fn                | MSELoss    | 0      | train\n",
      "  | other params           | n/a        | 100    | n/a  \n",
      "--------------------------------------------------------------\n",
      "391 K     Trainable params\n",
      "0         Non-trainable params\n",
      "391 K     Total params\n",
      "1.566     Total estimated model params size (MB)\n",
      "11        Modules in train mode\n",
      "0         Modules in eval mode\n",
      "SLURM auto-requeueing enabled. Setting signal handlers.\n"
     ]
    },
    {
     "data": {
      "application/vnd.jupyter.widget-view+json": {
       "model_id": "402ca87c741e4c809b428d02717b9736",
       "version_major": 2,
       "version_minor": 0
      },
      "text/plain": [
       "Training: |          | 0/? [00:00<?, ?it/s]"
      ]
     },
     "metadata": {},
     "output_type": "display_data"
    },
    {
     "name": "stderr",
     "output_type": "stream",
     "text": [
      "`Trainer.fit` stopped: `max_epochs=10` reached.\n",
      "GPU available: True (cuda), used: True\n",
      "TPU available: False, using: 0 TPU cores\n",
      "HPU available: False, using: 0 HPUs\n",
      "LOCAL_RANK: 0 - CUDA_VISIBLE_DEVICES: [0]\n",
      "\n",
      "  | Name                   | Type       | Params | Mode \n",
      "--------------------------------------------------------------\n",
      "0 | background_input_layer | Sequential | 15.5 K | train\n",
      "1 | fc                     | Sequential | 375 K  | train\n",
      "2 | loss_fn                | MSELoss    | 0      | train\n",
      "  | other params           | n/a        | 100    | n/a  \n",
      "--------------------------------------------------------------\n",
      "391 K     Trainable params\n",
      "0         Non-trainable params\n",
      "391 K     Total params\n",
      "1.566     Total estimated model params size (MB)\n",
      "11        Modules in train mode\n",
      "0         Modules in eval mode\n",
      "SLURM auto-requeueing enabled. Setting signal handlers.\n"
     ]
    },
    {
     "data": {
      "application/vnd.jupyter.widget-view+json": {
       "model_id": "9b416195dfa946dfad64113e78f4f93a",
       "version_major": 2,
       "version_minor": 0
      },
      "text/plain": [
       "Training: |          | 0/? [00:00<?, ?it/s]"
      ]
     },
     "metadata": {},
     "output_type": "display_data"
    },
    {
     "name": "stderr",
     "output_type": "stream",
     "text": [
      "`Trainer.fit` stopped: `max_epochs=10` reached.\n",
      "GPU available: True (cuda), used: True\n",
      "TPU available: False, using: 0 TPU cores\n",
      "HPU available: False, using: 0 HPUs\n",
      "LOCAL_RANK: 0 - CUDA_VISIBLE_DEVICES: [0]\n",
      "\n",
      "  | Name                   | Type       | Params | Mode \n",
      "--------------------------------------------------------------\n",
      "0 | background_input_layer | Sequential | 15.5 K | train\n",
      "1 | fc                     | Sequential | 375 K  | train\n",
      "2 | loss_fn                | MSELoss    | 0      | train\n",
      "  | other params           | n/a        | 100    | n/a  \n",
      "--------------------------------------------------------------\n",
      "391 K     Trainable params\n",
      "0         Non-trainable params\n",
      "391 K     Total params\n",
      "1.566     Total estimated model params size (MB)\n",
      "11        Modules in train mode\n",
      "0         Modules in eval mode\n",
      "SLURM auto-requeueing enabled. Setting signal handlers.\n"
     ]
    },
    {
     "data": {
      "application/vnd.jupyter.widget-view+json": {
       "model_id": "7e0aca36513342938bc68ccbcd350445",
       "version_major": 2,
       "version_minor": 0
      },
      "text/plain": [
       "Training: |          | 0/? [00:00<?, ?it/s]"
      ]
     },
     "metadata": {},
     "output_type": "display_data"
    },
    {
     "name": "stderr",
     "output_type": "stream",
     "text": [
      "`Trainer.fit` stopped: `max_epochs=10` reached.\n",
      "GPU available: True (cuda), used: True\n",
      "TPU available: False, using: 0 TPU cores\n",
      "HPU available: False, using: 0 HPUs\n",
      "LOCAL_RANK: 0 - CUDA_VISIBLE_DEVICES: [0]\n",
      "\n",
      "  | Name                   | Type       | Params | Mode \n",
      "--------------------------------------------------------------\n",
      "0 | background_input_layer | Sequential | 15.5 K | train\n",
      "1 | fc                     | Sequential | 375 K  | train\n",
      "2 | loss_fn                | MSELoss    | 0      | train\n",
      "  | other params           | n/a        | 100    | n/a  \n",
      "--------------------------------------------------------------\n",
      "391 K     Trainable params\n",
      "0         Non-trainable params\n",
      "391 K     Total params\n",
      "1.566     Total estimated model params size (MB)\n",
      "11        Modules in train mode\n",
      "0         Modules in eval mode\n",
      "SLURM auto-requeueing enabled. Setting signal handlers.\n"
     ]
    },
    {
     "data": {
      "application/vnd.jupyter.widget-view+json": {
       "model_id": "da587c2b873344bfbcc60fb5931f51c7",
       "version_major": 2,
       "version_minor": 0
      },
      "text/plain": [
       "Training: |          | 0/? [00:00<?, ?it/s]"
      ]
     },
     "metadata": {},
     "output_type": "display_data"
    },
    {
     "name": "stderr",
     "output_type": "stream",
     "text": [
      "`Trainer.fit` stopped: `max_epochs=10` reached.\n",
      "GPU available: True (cuda), used: True\n",
      "TPU available: False, using: 0 TPU cores\n",
      "HPU available: False, using: 0 HPUs\n",
      "LOCAL_RANK: 0 - CUDA_VISIBLE_DEVICES: [0]\n",
      "\n",
      "  | Name                   | Type       | Params | Mode \n",
      "--------------------------------------------------------------\n",
      "0 | background_input_layer | Sequential | 15.5 K | train\n",
      "1 | fc                     | Sequential | 375 K  | train\n",
      "2 | loss_fn                | MSELoss    | 0      | train\n",
      "  | other params           | n/a        | 100    | n/a  \n",
      "--------------------------------------------------------------\n",
      "391 K     Trainable params\n",
      "0         Non-trainable params\n",
      "391 K     Total params\n",
      "1.566     Total estimated model params size (MB)\n",
      "11        Modules in train mode\n",
      "0         Modules in eval mode\n",
      "SLURM auto-requeueing enabled. Setting signal handlers.\n"
     ]
    },
    {
     "data": {
      "application/vnd.jupyter.widget-view+json": {
       "model_id": "c7ab49ee169840b0bf1ab253bb2adc3f",
       "version_major": 2,
       "version_minor": 0
      },
      "text/plain": [
       "Training: |          | 0/? [00:00<?, ?it/s]"
      ]
     },
     "metadata": {},
     "output_type": "display_data"
    },
    {
     "name": "stderr",
     "output_type": "stream",
     "text": [
      "`Trainer.fit` stopped: `max_epochs=10` reached.\n",
      "GPU available: True (cuda), used: True\n",
      "TPU available: False, using: 0 TPU cores\n",
      "HPU available: False, using: 0 HPUs\n",
      "LOCAL_RANK: 0 - CUDA_VISIBLE_DEVICES: [0]\n",
      "\n",
      "  | Name                   | Type       | Params | Mode \n",
      "--------------------------------------------------------------\n",
      "0 | background_input_layer | Sequential | 15.5 K | train\n",
      "1 | fc                     | Sequential | 375 K  | train\n",
      "2 | loss_fn                | MSELoss    | 0      | train\n",
      "  | other params           | n/a        | 100    | n/a  \n",
      "--------------------------------------------------------------\n",
      "391 K     Trainable params\n",
      "0         Non-trainable params\n",
      "391 K     Total params\n",
      "1.566     Total estimated model params size (MB)\n",
      "11        Modules in train mode\n",
      "0         Modules in eval mode\n",
      "SLURM auto-requeueing enabled. Setting signal handlers.\n"
     ]
    },
    {
     "data": {
      "application/vnd.jupyter.widget-view+json": {
       "model_id": "2ef5132531db406a83e59b202a640310",
       "version_major": 2,
       "version_minor": 0
      },
      "text/plain": [
       "Training: |          | 0/? [00:00<?, ?it/s]"
      ]
     },
     "metadata": {},
     "output_type": "display_data"
    },
    {
     "name": "stderr",
     "output_type": "stream",
     "text": [
      "`Trainer.fit` stopped: `max_epochs=10` reached.\n",
      "GPU available: True (cuda), used: True\n",
      "TPU available: False, using: 0 TPU cores\n",
      "HPU available: False, using: 0 HPUs\n",
      "LOCAL_RANK: 0 - CUDA_VISIBLE_DEVICES: [0]\n",
      "\n",
      "  | Name                   | Type       | Params | Mode \n",
      "--------------------------------------------------------------\n",
      "0 | background_input_layer | Sequential | 15.5 K | train\n",
      "1 | fc                     | Sequential | 375 K  | train\n",
      "2 | loss_fn                | MSELoss    | 0      | train\n",
      "  | other params           | n/a        | 100    | n/a  \n",
      "--------------------------------------------------------------\n",
      "391 K     Trainable params\n",
      "0         Non-trainable params\n",
      "391 K     Total params\n",
      "1.566     Total estimated model params size (MB)\n",
      "11        Modules in train mode\n",
      "0         Modules in eval mode\n",
      "SLURM auto-requeueing enabled. Setting signal handlers.\n"
     ]
    },
    {
     "data": {
      "application/vnd.jupyter.widget-view+json": {
       "model_id": "75f93d85ea334bd3a40d10614a168c6b",
       "version_major": 2,
       "version_minor": 0
      },
      "text/plain": [
       "Training: |          | 0/? [00:00<?, ?it/s]"
      ]
     },
     "metadata": {},
     "output_type": "display_data"
    },
    {
     "name": "stderr",
     "output_type": "stream",
     "text": [
      "`Trainer.fit` stopped: `max_epochs=10` reached.\n",
      "GPU available: True (cuda), used: True\n",
      "TPU available: False, using: 0 TPU cores\n",
      "HPU available: False, using: 0 HPUs\n",
      "LOCAL_RANK: 0 - CUDA_VISIBLE_DEVICES: [0]\n",
      "\n",
      "  | Name                   | Type       | Params | Mode \n",
      "--------------------------------------------------------------\n",
      "0 | background_input_layer | Sequential | 15.5 K | train\n",
      "1 | fc                     | Sequential | 375 K  | train\n",
      "2 | loss_fn                | MSELoss    | 0      | train\n",
      "  | other params           | n/a        | 100    | n/a  \n",
      "--------------------------------------------------------------\n",
      "391 K     Trainable params\n",
      "0         Non-trainable params\n",
      "391 K     Total params\n",
      "1.566     Total estimated model params size (MB)\n",
      "11        Modules in train mode\n",
      "0         Modules in eval mode\n",
      "SLURM auto-requeueing enabled. Setting signal handlers.\n"
     ]
    },
    {
     "data": {
      "application/vnd.jupyter.widget-view+json": {
       "model_id": "ef190b82d05149bbad445cc4407df17f",
       "version_major": 2,
       "version_minor": 0
      },
      "text/plain": [
       "Training: |          | 0/? [00:00<?, ?it/s]"
      ]
     },
     "metadata": {},
     "output_type": "display_data"
    },
    {
     "name": "stderr",
     "output_type": "stream",
     "text": [
      "`Trainer.fit` stopped: `max_epochs=10` reached.\n",
      "GPU available: True (cuda), used: True\n",
      "TPU available: False, using: 0 TPU cores\n",
      "HPU available: False, using: 0 HPUs\n",
      "LOCAL_RANK: 0 - CUDA_VISIBLE_DEVICES: [0]\n",
      "\n",
      "  | Name                   | Type       | Params | Mode \n",
      "--------------------------------------------------------------\n",
      "0 | background_input_layer | Sequential | 15.5 K | train\n",
      "1 | fc                     | Sequential | 375 K  | train\n",
      "2 | loss_fn                | MSELoss    | 0      | train\n",
      "  | other params           | n/a        | 100    | n/a  \n",
      "--------------------------------------------------------------\n",
      "391 K     Trainable params\n",
      "0         Non-trainable params\n",
      "391 K     Total params\n",
      "1.566     Total estimated model params size (MB)\n",
      "11        Modules in train mode\n",
      "0         Modules in eval mode\n",
      "SLURM auto-requeueing enabled. Setting signal handlers.\n"
     ]
    },
    {
     "data": {
      "application/vnd.jupyter.widget-view+json": {
       "model_id": "6091d1b97ece4db7ae3e32fcc6e07ff0",
       "version_major": 2,
       "version_minor": 0
      },
      "text/plain": [
       "Training: |          | 0/? [00:00<?, ?it/s]"
      ]
     },
     "metadata": {},
     "output_type": "display_data"
    },
    {
     "name": "stderr",
     "output_type": "stream",
     "text": [
      "`Trainer.fit` stopped: `max_epochs=10` reached.\n",
      "GPU available: True (cuda), used: True\n",
      "TPU available: False, using: 0 TPU cores\n",
      "HPU available: False, using: 0 HPUs\n",
      "LOCAL_RANK: 0 - CUDA_VISIBLE_DEVICES: [0]\n",
      "\n",
      "  | Name                   | Type       | Params | Mode \n",
      "--------------------------------------------------------------\n",
      "0 | background_input_layer | Sequential | 15.5 K | train\n",
      "1 | fc                     | Sequential | 375 K  | train\n",
      "2 | loss_fn                | MSELoss    | 0      | train\n",
      "  | other params           | n/a        | 100    | n/a  \n",
      "--------------------------------------------------------------\n",
      "391 K     Trainable params\n",
      "0         Non-trainable params\n",
      "391 K     Total params\n",
      "1.566     Total estimated model params size (MB)\n",
      "11        Modules in train mode\n",
      "0         Modules in eval mode\n",
      "SLURM auto-requeueing enabled. Setting signal handlers.\n"
     ]
    },
    {
     "data": {
      "application/vnd.jupyter.widget-view+json": {
       "model_id": "22d87b5172e64927992600c752082a57",
       "version_major": 2,
       "version_minor": 0
      },
      "text/plain": [
       "Training: |          | 0/? [00:00<?, ?it/s]"
      ]
     },
     "metadata": {},
     "output_type": "display_data"
    },
    {
     "name": "stderr",
     "output_type": "stream",
     "text": [
      "`Trainer.fit` stopped: `max_epochs=10` reached.\n",
      "GPU available: True (cuda), used: True\n",
      "TPU available: False, using: 0 TPU cores\n",
      "HPU available: False, using: 0 HPUs\n",
      "LOCAL_RANK: 0 - CUDA_VISIBLE_DEVICES: [0]\n",
      "\n",
      "  | Name                   | Type       | Params | Mode \n",
      "--------------------------------------------------------------\n",
      "0 | background_input_layer | Sequential | 15.5 K | train\n",
      "1 | fc                     | Sequential | 375 K  | train\n",
      "2 | loss_fn                | MSELoss    | 0      | train\n",
      "  | other params           | n/a        | 100    | n/a  \n",
      "--------------------------------------------------------------\n",
      "391 K     Trainable params\n",
      "0         Non-trainable params\n",
      "391 K     Total params\n",
      "1.566     Total estimated model params size (MB)\n",
      "11        Modules in train mode\n",
      "0         Modules in eval mode\n",
      "SLURM auto-requeueing enabled. Setting signal handlers.\n"
     ]
    },
    {
     "data": {
      "application/vnd.jupyter.widget-view+json": {
       "model_id": "1f5f952ff30c42259055697f7375443a",
       "version_major": 2,
       "version_minor": 0
      },
      "text/plain": [
       "Training: |          | 0/? [00:00<?, ?it/s]"
      ]
     },
     "metadata": {},
     "output_type": "display_data"
    },
    {
     "name": "stderr",
     "output_type": "stream",
     "text": [
      "`Trainer.fit` stopped: `max_epochs=10` reached.\n",
      "GPU available: True (cuda), used: True\n",
      "TPU available: False, using: 0 TPU cores\n",
      "HPU available: False, using: 0 HPUs\n",
      "LOCAL_RANK: 0 - CUDA_VISIBLE_DEVICES: [0]\n",
      "\n",
      "  | Name                   | Type       | Params | Mode \n",
      "--------------------------------------------------------------\n",
      "0 | background_input_layer | Sequential | 15.5 K | train\n",
      "1 | fc                     | Sequential | 375 K  | train\n",
      "2 | loss_fn                | MSELoss    | 0      | train\n",
      "  | other params           | n/a        | 100    | n/a  \n",
      "--------------------------------------------------------------\n",
      "391 K     Trainable params\n",
      "0         Non-trainable params\n",
      "391 K     Total params\n",
      "1.566     Total estimated model params size (MB)\n",
      "11        Modules in train mode\n",
      "0         Modules in eval mode\n",
      "SLURM auto-requeueing enabled. Setting signal handlers.\n"
     ]
    },
    {
     "data": {
      "application/vnd.jupyter.widget-view+json": {
       "model_id": "c1067e05c9e243cf94f6f772afda485f",
       "version_major": 2,
       "version_minor": 0
      },
      "text/plain": [
       "Training: |          | 0/? [00:00<?, ?it/s]"
      ]
     },
     "metadata": {},
     "output_type": "display_data"
    },
    {
     "name": "stderr",
     "output_type": "stream",
     "text": [
      "`Trainer.fit` stopped: `max_epochs=10` reached.\n",
      "GPU available: True (cuda), used: True\n",
      "TPU available: False, using: 0 TPU cores\n",
      "HPU available: False, using: 0 HPUs\n",
      "LOCAL_RANK: 0 - CUDA_VISIBLE_DEVICES: [0]\n",
      "\n",
      "  | Name                   | Type       | Params | Mode \n",
      "--------------------------------------------------------------\n",
      "0 | background_input_layer | Sequential | 15.5 K | train\n",
      "1 | fc                     | Sequential | 375 K  | train\n",
      "2 | loss_fn                | MSELoss    | 0      | train\n",
      "  | other params           | n/a        | 100    | n/a  \n",
      "--------------------------------------------------------------\n",
      "391 K     Trainable params\n",
      "0         Non-trainable params\n",
      "391 K     Total params\n",
      "1.566     Total estimated model params size (MB)\n",
      "11        Modules in train mode\n",
      "0         Modules in eval mode\n",
      "SLURM auto-requeueing enabled. Setting signal handlers.\n"
     ]
    },
    {
     "data": {
      "application/vnd.jupyter.widget-view+json": {
       "model_id": "7c02733226cc40ad8f003705ed5a1de1",
       "version_major": 2,
       "version_minor": 0
      },
      "text/plain": [
       "Training: |          | 0/? [00:00<?, ?it/s]"
      ]
     },
     "metadata": {},
     "output_type": "display_data"
    },
    {
     "name": "stderr",
     "output_type": "stream",
     "text": [
      "`Trainer.fit` stopped: `max_epochs=10` reached.\n",
      "GPU available: True (cuda), used: True\n",
      "TPU available: False, using: 0 TPU cores\n",
      "HPU available: False, using: 0 HPUs\n",
      "LOCAL_RANK: 0 - CUDA_VISIBLE_DEVICES: [0]\n",
      "\n",
      "  | Name                   | Type       | Params | Mode \n",
      "--------------------------------------------------------------\n",
      "0 | background_input_layer | Sequential | 15.5 K | train\n",
      "1 | fc                     | Sequential | 375 K  | train\n",
      "2 | loss_fn                | MSELoss    | 0      | train\n",
      "  | other params           | n/a        | 100    | n/a  \n",
      "--------------------------------------------------------------\n",
      "391 K     Trainable params\n",
      "0         Non-trainable params\n",
      "391 K     Total params\n",
      "1.566     Total estimated model params size (MB)\n",
      "11        Modules in train mode\n",
      "0         Modules in eval mode\n",
      "SLURM auto-requeueing enabled. Setting signal handlers.\n"
     ]
    },
    {
     "data": {
      "application/vnd.jupyter.widget-view+json": {
       "model_id": "0efe8e35f0ea40adb635346b5a3292d3",
       "version_major": 2,
       "version_minor": 0
      },
      "text/plain": [
       "Training: |          | 0/? [00:00<?, ?it/s]"
      ]
     },
     "metadata": {},
     "output_type": "display_data"
    },
    {
     "name": "stderr",
     "output_type": "stream",
     "text": [
      "`Trainer.fit` stopped: `max_epochs=10` reached.\n",
      "GPU available: True (cuda), used: True\n",
      "TPU available: False, using: 0 TPU cores\n",
      "HPU available: False, using: 0 HPUs\n",
      "LOCAL_RANK: 0 - CUDA_VISIBLE_DEVICES: [0]\n",
      "\n",
      "  | Name                   | Type       | Params | Mode \n",
      "--------------------------------------------------------------\n",
      "0 | background_input_layer | Sequential | 15.5 K | train\n",
      "1 | fc                     | Sequential | 375 K  | train\n",
      "2 | loss_fn                | MSELoss    | 0      | train\n",
      "  | other params           | n/a        | 100    | n/a  \n",
      "--------------------------------------------------------------\n",
      "391 K     Trainable params\n",
      "0         Non-trainable params\n",
      "391 K     Total params\n",
      "1.566     Total estimated model params size (MB)\n",
      "11        Modules in train mode\n",
      "0         Modules in eval mode\n",
      "SLURM auto-requeueing enabled. Setting signal handlers.\n"
     ]
    },
    {
     "data": {
      "application/vnd.jupyter.widget-view+json": {
       "model_id": "1268209d0a4e4531b82defc59cab053e",
       "version_major": 2,
       "version_minor": 0
      },
      "text/plain": [
       "Training: |          | 0/? [00:00<?, ?it/s]"
      ]
     },
     "metadata": {},
     "output_type": "display_data"
    },
    {
     "name": "stderr",
     "output_type": "stream",
     "text": [
      "`Trainer.fit` stopped: `max_epochs=10` reached.\n",
      "GPU available: True (cuda), used: True\n",
      "TPU available: False, using: 0 TPU cores\n",
      "HPU available: False, using: 0 HPUs\n",
      "LOCAL_RANK: 0 - CUDA_VISIBLE_DEVICES: [0]\n",
      "\n",
      "  | Name                   | Type       | Params | Mode \n",
      "--------------------------------------------------------------\n",
      "0 | background_input_layer | Sequential | 15.5 K | train\n",
      "1 | fc                     | Sequential | 375 K  | train\n",
      "2 | loss_fn                | MSELoss    | 0      | train\n",
      "  | other params           | n/a        | 100    | n/a  \n",
      "--------------------------------------------------------------\n",
      "391 K     Trainable params\n",
      "0         Non-trainable params\n",
      "391 K     Total params\n",
      "1.566     Total estimated model params size (MB)\n",
      "11        Modules in train mode\n",
      "0         Modules in eval mode\n",
      "SLURM auto-requeueing enabled. Setting signal handlers.\n"
     ]
    },
    {
     "data": {
      "application/vnd.jupyter.widget-view+json": {
       "model_id": "cad014bb193f4a8a982d6b836e8d4e20",
       "version_major": 2,
       "version_minor": 0
      },
      "text/plain": [
       "Training: |          | 0/? [00:00<?, ?it/s]"
      ]
     },
     "metadata": {},
     "output_type": "display_data"
    },
    {
     "name": "stderr",
     "output_type": "stream",
     "text": [
      "`Trainer.fit` stopped: `max_epochs=10` reached.\n",
      "GPU available: True (cuda), used: True\n",
      "TPU available: False, using: 0 TPU cores\n",
      "HPU available: False, using: 0 HPUs\n",
      "LOCAL_RANK: 0 - CUDA_VISIBLE_DEVICES: [0]\n",
      "\n",
      "  | Name                   | Type       | Params | Mode \n",
      "--------------------------------------------------------------\n",
      "0 | background_input_layer | Sequential | 15.5 K | train\n",
      "1 | fc                     | Sequential | 375 K  | train\n",
      "2 | loss_fn                | MSELoss    | 0      | train\n",
      "  | other params           | n/a        | 100    | n/a  \n",
      "--------------------------------------------------------------\n",
      "391 K     Trainable params\n",
      "0         Non-trainable params\n",
      "391 K     Total params\n",
      "1.566     Total estimated model params size (MB)\n",
      "11        Modules in train mode\n",
      "0         Modules in eval mode\n",
      "SLURM auto-requeueing enabled. Setting signal handlers.\n"
     ]
    },
    {
     "data": {
      "application/vnd.jupyter.widget-view+json": {
       "model_id": "8692a9ada24542c6812956ab011ef553",
       "version_major": 2,
       "version_minor": 0
      },
      "text/plain": [
       "Training: |          | 0/? [00:00<?, ?it/s]"
      ]
     },
     "metadata": {},
     "output_type": "display_data"
    },
    {
     "name": "stderr",
     "output_type": "stream",
     "text": [
      "`Trainer.fit` stopped: `max_epochs=10` reached.\n",
      "GPU available: True (cuda), used: True\n",
      "TPU available: False, using: 0 TPU cores\n",
      "HPU available: False, using: 0 HPUs\n",
      "LOCAL_RANK: 0 - CUDA_VISIBLE_DEVICES: [0]\n",
      "\n",
      "  | Name                   | Type       | Params | Mode \n",
      "--------------------------------------------------------------\n",
      "0 | background_input_layer | Sequential | 15.5 K | train\n",
      "1 | fc                     | Sequential | 375 K  | train\n",
      "2 | loss_fn                | MSELoss    | 0      | train\n",
      "  | other params           | n/a        | 100    | n/a  \n",
      "--------------------------------------------------------------\n",
      "391 K     Trainable params\n",
      "0         Non-trainable params\n",
      "391 K     Total params\n",
      "1.566     Total estimated model params size (MB)\n",
      "11        Modules in train mode\n",
      "0         Modules in eval mode\n",
      "SLURM auto-requeueing enabled. Setting signal handlers.\n"
     ]
    },
    {
     "data": {
      "application/vnd.jupyter.widget-view+json": {
       "model_id": "5b1f8e5876434d3aa41b50cccacd30a3",
       "version_major": 2,
       "version_minor": 0
      },
      "text/plain": [
       "Training: |          | 0/? [00:00<?, ?it/s]"
      ]
     },
     "metadata": {},
     "output_type": "display_data"
    },
    {
     "name": "stderr",
     "output_type": "stream",
     "text": [
      "`Trainer.fit` stopped: `max_epochs=10` reached.\n",
      "GPU available: True (cuda), used: True\n",
      "TPU available: False, using: 0 TPU cores\n",
      "HPU available: False, using: 0 HPUs\n",
      "LOCAL_RANK: 0 - CUDA_VISIBLE_DEVICES: [0]\n",
      "\n",
      "  | Name                   | Type       | Params | Mode \n",
      "--------------------------------------------------------------\n",
      "0 | background_input_layer | Sequential | 15.5 K | train\n",
      "1 | fc                     | Sequential | 375 K  | train\n",
      "2 | loss_fn                | MSELoss    | 0      | train\n",
      "  | other params           | n/a        | 100    | n/a  \n",
      "--------------------------------------------------------------\n",
      "391 K     Trainable params\n",
      "0         Non-trainable params\n",
      "391 K     Total params\n",
      "1.566     Total estimated model params size (MB)\n",
      "11        Modules in train mode\n",
      "0         Modules in eval mode\n",
      "SLURM auto-requeueing enabled. Setting signal handlers.\n"
     ]
    },
    {
     "data": {
      "application/vnd.jupyter.widget-view+json": {
       "model_id": "1016c893d77845a584d31f420a8e7bef",
       "version_major": 2,
       "version_minor": 0
      },
      "text/plain": [
       "Training: |          | 0/? [00:00<?, ?it/s]"
      ]
     },
     "metadata": {},
     "output_type": "display_data"
    },
    {
     "name": "stderr",
     "output_type": "stream",
     "text": [
      "`Trainer.fit` stopped: `max_epochs=10` reached.\n",
      "GPU available: True (cuda), used: True\n",
      "TPU available: False, using: 0 TPU cores\n",
      "HPU available: False, using: 0 HPUs\n",
      "LOCAL_RANK: 0 - CUDA_VISIBLE_DEVICES: [0]\n",
      "\n",
      "  | Name                   | Type       | Params | Mode \n",
      "--------------------------------------------------------------\n",
      "0 | background_input_layer | Sequential | 15.5 K | train\n",
      "1 | fc                     | Sequential | 375 K  | train\n",
      "2 | loss_fn                | MSELoss    | 0      | train\n",
      "  | other params           | n/a        | 100    | n/a  \n",
      "--------------------------------------------------------------\n",
      "391 K     Trainable params\n",
      "0         Non-trainable params\n",
      "391 K     Total params\n",
      "1.566     Total estimated model params size (MB)\n",
      "11        Modules in train mode\n",
      "0         Modules in eval mode\n",
      "SLURM auto-requeueing enabled. Setting signal handlers.\n"
     ]
    },
    {
     "data": {
      "application/vnd.jupyter.widget-view+json": {
       "model_id": "93699fb9644d446da360236d9d3d7395",
       "version_major": 2,
       "version_minor": 0
      },
      "text/plain": [
       "Training: |          | 0/? [00:00<?, ?it/s]"
      ]
     },
     "metadata": {},
     "output_type": "display_data"
    },
    {
     "name": "stderr",
     "output_type": "stream",
     "text": [
      "`Trainer.fit` stopped: `max_epochs=10` reached.\n",
      "GPU available: True (cuda), used: True\n",
      "TPU available: False, using: 0 TPU cores\n",
      "HPU available: False, using: 0 HPUs\n",
      "LOCAL_RANK: 0 - CUDA_VISIBLE_DEVICES: [0]\n",
      "\n",
      "  | Name                   | Type       | Params | Mode \n",
      "--------------------------------------------------------------\n",
      "0 | background_input_layer | Sequential | 15.5 K | train\n",
      "1 | fc                     | Sequential | 375 K  | train\n",
      "2 | loss_fn                | MSELoss    | 0      | train\n",
      "  | other params           | n/a        | 100    | n/a  \n",
      "--------------------------------------------------------------\n",
      "391 K     Trainable params\n",
      "0         Non-trainable params\n",
      "391 K     Total params\n",
      "1.566     Total estimated model params size (MB)\n",
      "11        Modules in train mode\n",
      "0         Modules in eval mode\n",
      "SLURM auto-requeueing enabled. Setting signal handlers.\n"
     ]
    },
    {
     "data": {
      "application/vnd.jupyter.widget-view+json": {
       "model_id": "6e9d57ca3ebe491199403c5b676065fa",
       "version_major": 2,
       "version_minor": 0
      },
      "text/plain": [
       "Training: |          | 0/? [00:00<?, ?it/s]"
      ]
     },
     "metadata": {},
     "output_type": "display_data"
    },
    {
     "name": "stderr",
     "output_type": "stream",
     "text": [
      "`Trainer.fit` stopped: `max_epochs=10` reached.\n",
      "GPU available: True (cuda), used: True\n",
      "TPU available: False, using: 0 TPU cores\n",
      "HPU available: False, using: 0 HPUs\n",
      "LOCAL_RANK: 0 - CUDA_VISIBLE_DEVICES: [0]\n",
      "\n",
      "  | Name                   | Type       | Params | Mode \n",
      "--------------------------------------------------------------\n",
      "0 | background_input_layer | Sequential | 15.5 K | train\n",
      "1 | fc                     | Sequential | 375 K  | train\n",
      "2 | loss_fn                | MSELoss    | 0      | train\n",
      "  | other params           | n/a        | 100    | n/a  \n",
      "--------------------------------------------------------------\n",
      "391 K     Trainable params\n",
      "0         Non-trainable params\n",
      "391 K     Total params\n",
      "1.566     Total estimated model params size (MB)\n",
      "11        Modules in train mode\n",
      "0         Modules in eval mode\n",
      "SLURM auto-requeueing enabled. Setting signal handlers.\n"
     ]
    },
    {
     "data": {
      "application/vnd.jupyter.widget-view+json": {
       "model_id": "eb87e31664c14fd7aa8b31eab9f39e65",
       "version_major": 2,
       "version_minor": 0
      },
      "text/plain": [
       "Training: |          | 0/? [00:00<?, ?it/s]"
      ]
     },
     "metadata": {},
     "output_type": "display_data"
    },
    {
     "name": "stderr",
     "output_type": "stream",
     "text": [
      "`Trainer.fit` stopped: `max_epochs=10` reached.\n",
      "GPU available: True (cuda), used: True\n",
      "TPU available: False, using: 0 TPU cores\n",
      "HPU available: False, using: 0 HPUs\n",
      "LOCAL_RANK: 0 - CUDA_VISIBLE_DEVICES: [0]\n",
      "\n",
      "  | Name                   | Type       | Params | Mode \n",
      "--------------------------------------------------------------\n",
      "0 | background_input_layer | Sequential | 15.5 K | train\n",
      "1 | fc                     | Sequential | 375 K  | train\n",
      "2 | loss_fn                | MSELoss    | 0      | train\n",
      "  | other params           | n/a        | 100    | n/a  \n",
      "--------------------------------------------------------------\n",
      "391 K     Trainable params\n",
      "0         Non-trainable params\n",
      "391 K     Total params\n",
      "1.566     Total estimated model params size (MB)\n",
      "11        Modules in train mode\n",
      "0         Modules in eval mode\n",
      "SLURM auto-requeueing enabled. Setting signal handlers.\n"
     ]
    },
    {
     "data": {
      "application/vnd.jupyter.widget-view+json": {
       "model_id": "0d021ca9de7641a8b7222a908e22da11",
       "version_major": 2,
       "version_minor": 0
      },
      "text/plain": [
       "Training: |          | 0/? [00:00<?, ?it/s]"
      ]
     },
     "metadata": {},
     "output_type": "display_data"
    },
    {
     "name": "stderr",
     "output_type": "stream",
     "text": [
      "`Trainer.fit` stopped: `max_epochs=10` reached.\n",
      "GPU available: True (cuda), used: True\n",
      "TPU available: False, using: 0 TPU cores\n",
      "HPU available: False, using: 0 HPUs\n",
      "LOCAL_RANK: 0 - CUDA_VISIBLE_DEVICES: [0]\n",
      "\n",
      "  | Name                   | Type       | Params | Mode \n",
      "--------------------------------------------------------------\n",
      "0 | background_input_layer | Sequential | 15.5 K | train\n",
      "1 | fc                     | Sequential | 375 K  | train\n",
      "2 | loss_fn                | MSELoss    | 0      | train\n",
      "  | other params           | n/a        | 100    | n/a  \n",
      "--------------------------------------------------------------\n",
      "391 K     Trainable params\n",
      "0         Non-trainable params\n",
      "391 K     Total params\n",
      "1.566     Total estimated model params size (MB)\n",
      "11        Modules in train mode\n",
      "0         Modules in eval mode\n",
      "SLURM auto-requeueing enabled. Setting signal handlers.\n"
     ]
    },
    {
     "data": {
      "application/vnd.jupyter.widget-view+json": {
       "model_id": "fca9056066f94b2487b581fbb03dcdfd",
       "version_major": 2,
       "version_minor": 0
      },
      "text/plain": [
       "Training: |          | 0/? [00:00<?, ?it/s]"
      ]
     },
     "metadata": {},
     "output_type": "display_data"
    },
    {
     "name": "stderr",
     "output_type": "stream",
     "text": [
      "`Trainer.fit` stopped: `max_epochs=10` reached.\n",
      "GPU available: True (cuda), used: True\n",
      "TPU available: False, using: 0 TPU cores\n",
      "HPU available: False, using: 0 HPUs\n",
      "LOCAL_RANK: 0 - CUDA_VISIBLE_DEVICES: [0]\n",
      "\n",
      "  | Name                   | Type       | Params | Mode \n",
      "--------------------------------------------------------------\n",
      "0 | background_input_layer | Sequential | 15.5 K | train\n",
      "1 | fc                     | Sequential | 375 K  | train\n",
      "2 | loss_fn                | MSELoss    | 0      | train\n",
      "  | other params           | n/a        | 100    | n/a  \n",
      "--------------------------------------------------------------\n",
      "391 K     Trainable params\n",
      "0         Non-trainable params\n",
      "391 K     Total params\n",
      "1.566     Total estimated model params size (MB)\n",
      "11        Modules in train mode\n",
      "0         Modules in eval mode\n",
      "SLURM auto-requeueing enabled. Setting signal handlers.\n"
     ]
    },
    {
     "data": {
      "application/vnd.jupyter.widget-view+json": {
       "model_id": "2adf6b2ac60842369b9335710b00f995",
       "version_major": 2,
       "version_minor": 0
      },
      "text/plain": [
       "Training: |          | 0/? [00:00<?, ?it/s]"
      ]
     },
     "metadata": {},
     "output_type": "display_data"
    },
    {
     "name": "stderr",
     "output_type": "stream",
     "text": [
      "`Trainer.fit` stopped: `max_epochs=10` reached.\n",
      "GPU available: True (cuda), used: True\n",
      "TPU available: False, using: 0 TPU cores\n",
      "HPU available: False, using: 0 HPUs\n",
      "LOCAL_RANK: 0 - CUDA_VISIBLE_DEVICES: [0]\n",
      "\n",
      "  | Name                   | Type       | Params | Mode \n",
      "--------------------------------------------------------------\n",
      "0 | background_input_layer | Sequential | 15.5 K | train\n",
      "1 | fc                     | Sequential | 375 K  | train\n",
      "2 | loss_fn                | MSELoss    | 0      | train\n",
      "  | other params           | n/a        | 100    | n/a  \n",
      "--------------------------------------------------------------\n",
      "391 K     Trainable params\n",
      "0         Non-trainable params\n",
      "391 K     Total params\n",
      "1.566     Total estimated model params size (MB)\n",
      "11        Modules in train mode\n",
      "0         Modules in eval mode\n",
      "SLURM auto-requeueing enabled. Setting signal handlers.\n"
     ]
    },
    {
     "data": {
      "application/vnd.jupyter.widget-view+json": {
       "model_id": "08b2f73b1a2f4d63894f42844554c9c3",
       "version_major": 2,
       "version_minor": 0
      },
      "text/plain": [
       "Training: |          | 0/? [00:00<?, ?it/s]"
      ]
     },
     "metadata": {},
     "output_type": "display_data"
    },
    {
     "name": "stderr",
     "output_type": "stream",
     "text": [
      "`Trainer.fit` stopped: `max_epochs=10` reached.\n",
      "GPU available: True (cuda), used: True\n",
      "TPU available: False, using: 0 TPU cores\n",
      "HPU available: False, using: 0 HPUs\n",
      "LOCAL_RANK: 0 - CUDA_VISIBLE_DEVICES: [0]\n",
      "\n",
      "  | Name                   | Type       | Params | Mode \n",
      "--------------------------------------------------------------\n",
      "0 | background_input_layer | Sequential | 15.5 K | train\n",
      "1 | fc                     | Sequential | 375 K  | train\n",
      "2 | loss_fn                | MSELoss    | 0      | train\n",
      "  | other params           | n/a        | 100    | n/a  \n",
      "--------------------------------------------------------------\n",
      "391 K     Trainable params\n",
      "0         Non-trainable params\n",
      "391 K     Total params\n",
      "1.566     Total estimated model params size (MB)\n",
      "11        Modules in train mode\n",
      "0         Modules in eval mode\n",
      "SLURM auto-requeueing enabled. Setting signal handlers.\n"
     ]
    },
    {
     "data": {
      "application/vnd.jupyter.widget-view+json": {
       "model_id": "ed9a9f98347f4774b0353fc74af42fa9",
       "version_major": 2,
       "version_minor": 0
      },
      "text/plain": [
       "Training: |          | 0/? [00:00<?, ?it/s]"
      ]
     },
     "metadata": {},
     "output_type": "display_data"
    },
    {
     "name": "stderr",
     "output_type": "stream",
     "text": [
      "`Trainer.fit` stopped: `max_epochs=10` reached.\n",
      "GPU available: True (cuda), used: True\n",
      "TPU available: False, using: 0 TPU cores\n",
      "HPU available: False, using: 0 HPUs\n",
      "LOCAL_RANK: 0 - CUDA_VISIBLE_DEVICES: [0]\n",
      "\n",
      "  | Name                   | Type       | Params | Mode \n",
      "--------------------------------------------------------------\n",
      "0 | background_input_layer | Sequential | 15.5 K | train\n",
      "1 | fc                     | Sequential | 375 K  | train\n",
      "2 | loss_fn                | MSELoss    | 0      | train\n",
      "  | other params           | n/a        | 100    | n/a  \n",
      "--------------------------------------------------------------\n",
      "391 K     Trainable params\n",
      "0         Non-trainable params\n",
      "391 K     Total params\n",
      "1.566     Total estimated model params size (MB)\n",
      "11        Modules in train mode\n",
      "0         Modules in eval mode\n",
      "SLURM auto-requeueing enabled. Setting signal handlers.\n"
     ]
    },
    {
     "data": {
      "application/vnd.jupyter.widget-view+json": {
       "model_id": "9000cbb4a8b240ed94b37660188bc1ac",
       "version_major": 2,
       "version_minor": 0
      },
      "text/plain": [
       "Training: |          | 0/? [00:00<?, ?it/s]"
      ]
     },
     "metadata": {},
     "output_type": "display_data"
    },
    {
     "name": "stderr",
     "output_type": "stream",
     "text": [
      "`Trainer.fit` stopped: `max_epochs=10` reached.\n",
      "GPU available: True (cuda), used: True\n",
      "TPU available: False, using: 0 TPU cores\n",
      "HPU available: False, using: 0 HPUs\n",
      "LOCAL_RANK: 0 - CUDA_VISIBLE_DEVICES: [0]\n",
      "\n",
      "  | Name                   | Type       | Params | Mode \n",
      "--------------------------------------------------------------\n",
      "0 | background_input_layer | Sequential | 15.5 K | train\n",
      "1 | fc                     | Sequential | 375 K  | train\n",
      "2 | loss_fn                | MSELoss    | 0      | train\n",
      "  | other params           | n/a        | 100    | n/a  \n",
      "--------------------------------------------------------------\n",
      "391 K     Trainable params\n",
      "0         Non-trainable params\n",
      "391 K     Total params\n",
      "1.566     Total estimated model params size (MB)\n",
      "11        Modules in train mode\n",
      "0         Modules in eval mode\n",
      "SLURM auto-requeueing enabled. Setting signal handlers.\n"
     ]
    },
    {
     "data": {
      "application/vnd.jupyter.widget-view+json": {
       "model_id": "f7c211d20c79449f8f928ef5e7500908",
       "version_major": 2,
       "version_minor": 0
      },
      "text/plain": [
       "Training: |          | 0/? [00:00<?, ?it/s]"
      ]
     },
     "metadata": {},
     "output_type": "display_data"
    },
    {
     "name": "stderr",
     "output_type": "stream",
     "text": [
      "`Trainer.fit` stopped: `max_epochs=10` reached.\n"
     ]
    }
   ],
   "source": [
    "import random\n",
    "random.seed(42)\n",
    "\n",
    "(\n",
    "    mean_W_ccur, mean_W_cur, mean_V_cur, mean_V_ccur,\n",
    "    cum_W_ccur, cum_W_cur, cum_V_cur, cum_V_ccur,\n",
    "    mean_W_cpca, mean_V_cpca,\n",
    "    cum_W_cpca, cum_V_cpca,\n",
    "    mean_W_cfs, mean_V_cfs,\n",
    "    cum_W_cfs, cum_V_cfs\n",
    ") = compare_column_accumulation(n_sim=100)\n"
   ]
  },
  {
   "cell_type": "code",
   "execution_count": 17,
   "id": "4b41cc29-3399-416b-aa3d-1d6a2806aa0b",
   "metadata": {},
   "outputs": [],
   "source": [
    "def stderr_band(data):\n",
    "    stderr = data.std(axis=0, ddof=1) / np.sqrt(data.shape[0])\n",
    "    lower = data.mean(axis=0) - 2 * stderr\n",
    "    upper = data.mean(axis=0) + 2 * stderr\n",
    "    return lower, upper\n",
    "\n",
    "W_bands = {\n",
    "    'CUR':  stderr_band(cum_W_cur),\n",
    "    'CCUR': stderr_band(cum_W_ccur),\n",
    "    'CPCA': stderr_band(cum_W_cpca),\n",
    "    'CFS':  stderr_band(cum_W_cfs),\n",
    "}\n",
    "V_bands = {\n",
    "    'CUR':  stderr_band(cum_V_cur),\n",
    "    'CCUR': stderr_band(cum_V_ccur),\n",
    "    'CPCA': stderr_band(cum_V_cpca),\n",
    "    'CFS':  stderr_band(cum_V_cfs),\n",
    "}\n"
   ]
  },
  {
   "cell_type": "code",
   "execution_count": 18,
   "id": "88ba17ac-7db8-4d4c-b7ff-86578aaf0dbc",
   "metadata": {},
   "outputs": [
    {
     "data": {
      "image/png": "[encoded data removed]",
      "text/plain": [
       "<Figure size 1400x600 with 2 Axes>"
      ]
     },
     "metadata": {},
     "output_type": "display_data"
    }
   ],
   "source": [
    "x = np.arange(1, 61)  \n",
    "\n",
    "colors = {\n",
    "    'CUR':   '#E69F00',\n",
    "    'CCUR':  '#56B4E9',\n",
    "    'CPCA':  '#D55E00',\n",
    "    'CFS':   '#009E73',\n",
    "}\n",
    "\n",
    "methods = ['CUR', 'CCUR', 'CPCA', 'CFS']\n",
    "mean_W = {\n",
    "    'CUR': mean_W_cur,\n",
    "    'CCUR': mean_W_ccur,\n",
    "    'CPCA': mean_W_cpca,\n",
    "    'CFS': mean_W_cfs,\n",
    "}\n",
    "mean_V = {\n",
    "    'CUR': mean_V_cur,\n",
    "    'CCUR': mean_V_ccur,\n",
    "    'CPCA': mean_V_cpca,\n",
    "    'CFS': mean_V_cfs,\n",
    "}\n",
    "\n",
    "for method in methods:\n",
    "    mean_W[method] = mean_W[method][:60]\n",
    "    mean_V[method] = mean_V[method][:60]\n",
    "    W_bands[method] = (W_bands[method][0][:60], W_bands[method][1][:60])\n",
    "    V_bands[method] = (V_bands[method][0][:60], V_bands[method][1][:60])\n",
    "\n",
    "\n",
    "title_fontsize = 18\n",
    "axis_fontsize = 16\n",
    "tick_fontsize = 14\n",
    "legend_fontsize = 14\n",
    "\n",
    "plt.figure(figsize=(14, 6))\n",
    "\n",
    "plt.subplot(1, 2, 1)\n",
    "for method in methods:\n",
    "    plt.plot(x, mean_W[method], label=method, color=colors[method], linewidth=2)\n",
    "    lower, upper = W_bands[method]\n",
    "    plt.fill_between(\n",
    "    x, lower, upper,\n",
    "    color=colors[method],\n",
    "    alpha=0.1,                  \n",
    "    edgecolor=colors[method],  \n",
    "    linewidth=0.5              \n",
    ")\n",
    "\n",
    "plt.title(\"Cumulative W Hits\", fontsize=title_fontsize)\n",
    "plt.xlabel(\"Number of Columns Selected\", fontsize=axis_fontsize)\n",
    "plt.ylabel(\"Cumulative Hits\", fontsize=axis_fontsize)\n",
    "plt.xticks(fontsize=tick_fontsize)\n",
    "plt.yticks(fontsize=tick_fontsize)\n",
    "plt.legend(fontsize=legend_fontsize)\n",
    "\n",
    "plt.subplot(1, 2, 2)\n",
    "for method in methods:\n",
    "    plt.plot(x, mean_V[method], label=method, color=colors[method], linewidth=2)\n",
    "    lower, upper = V_bands[method]\n",
    "    plt.fill_between(x, lower, upper, color=colors[method], alpha=0.2)\n",
    "plt.title(\"Cumulative V Hits\", fontsize=title_fontsize)\n",
    "plt.xlabel(\"Number of Columns Selected\", fontsize=axis_fontsize)\n",
    "plt.ylabel(\"Cumulative Hits\", fontsize=axis_fontsize)\n",
    "plt.xticks(fontsize=tick_fontsize)\n",
    "plt.yticks(fontsize=tick_fontsize)\n",
    "plt.legend(fontsize=legend_fontsize)\n",
    "\n",
    "plt.tight_layout()\n",
    "plt.savefig(\"column_simulation_error_bars.png\", dpi=300, bbox_inches='tight')\n",
    "plt.show()\n"
   ]
  },
  {
   "cell_type": "code",
   "execution_count": null,
   "id": "21057c1f-6852-4b19-8c52-8f8fd0e69650",
   "metadata": {},
   "outputs": [],
   "source": []
  }
 ],
 "metadata": {
  "kernelspec": {
   "display_name": "Python 3 (ipykernel)",
   "language": "python",
   "name": "python3"
  },
  "language_info": {
   "codemirror_mode": {
    "name": "ipython",
    "version": 3
   },
   "file_extension": ".py",
   "mimetype": "text/x-python",
   "name": "python",
   "nbconvert_exporter": "python",
   "pygments_lexer": "ipython3",
   "version": "3.10.9"
  }
 },
 "nbformat": 4,
 "nbformat_minor": 5
}
